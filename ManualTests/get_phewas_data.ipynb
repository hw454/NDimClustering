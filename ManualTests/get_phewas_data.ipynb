{
 "cells": [
  {
   "cell_type": "markdown",
   "id": "156ebdfa",
   "metadata": {},
   "source": [
    "# Get PheWAS data"
   ]
  },
  {
   "cell_type": "code",
   "execution_count": 1,
   "id": "64bd951a",
   "metadata": {},
   "outputs": [],
   "source": [
    "#%pip install ieugwaspy\n",
    "#%pip install icecream"
   ]
  },
  {
   "cell_type": "code",
   "execution_count": 2,
   "id": "7f290a7c",
   "metadata": {},
   "outputs": [],
   "source": [
    "import ieugwaspy as igd\n",
    "import pandas as pd\n",
    "from icecream import ic\n",
    "import logging\n",
    "import requests\n",
    "from scipy.stats import t"
   ]
  },
  {
   "cell_type": "markdown",
   "id": "8c6fbfe9",
   "metadata": {},
   "source": [
    "### Setup logging"
   ]
  },
  {
   "cell_type": "code",
   "execution_count": 3,
   "id": "9139e299",
   "metadata": {},
   "outputs": [],
   "source": [
    "# MAIN SCRIPT\n",
    "logging.basicConfig(filename = \"OpenGwas_DataLoad.log\", \n",
    "                    encoding = \"utf-8\", \n",
    "                    level = logging.DEBUG,\n",
    "                    format = \"%(asctime)s %(levelname)-8s %(message)s \\n\",\n",
    "                    datefmt= \"%Y-%m-%d %H:%M:%S\",\n",
    "                    filemode=\"w\")"
   ]
  },
  {
   "cell_type": "markdown",
   "id": "d286fb1f",
   "metadata": {},
   "source": [
    "### Inputs"
   ]
  },
  {
   "cell_type": "code",
   "execution_count": 23,
   "id": "ab8591dc",
   "metadata": {},
   "outputs": [],
   "source": [
    "# Set the input location and datafile.\n",
    "exposure  = \"BMI\"\n",
    "corr_fname = \"../correlation_all_vs_all.csv\"\n",
    "phe_fname = \"../phewas_catalog.csv\"\n",
    "\n",
    "# Set the column names for the trait dataframe\n",
    "cols = [\"pheno_category\",\"phenotype\",\"n_complete_samples\",\"description\",\n",
    "      \"variable_type\",\"source\",\"n_non_missing\",\"n_missing\",\n",
    "      \"n_controls\",\"n_cases\",\"n_eff\",\"open_gwas_id\",\n",
    "      \"keywords\",\"nsnp\"]\n",
    "trait_info_df=pd.DataFrame(columns=cols)"
   ]
  },
  {
   "cell_type": "code",
   "execution_count": 5,
   "id": "ebcdd63e",
   "metadata": {},
   "outputs": [],
   "source": [
    "# FIND THE STUDY BEST MATCHING THE EXPOSURE LABEL\n",
    "# Load GWAS info\n",
    "ic(\"GWAS info\")\n",
    "gwas_data = igd.gwasinfo()\n",
    "gwas_df = pd.DataFrame.from_dict(gwas_data, orient=\"index\")"
   ]
  },
  {
   "cell_type": "code",
   "execution_count": 6,
   "id": "99995ccd",
   "metadata": {},
   "outputs": [],
   "source": [
    "# Find the exposure study\n",
    "#exposure_studies = gwas_df[gwas_df[\"trait\"].str.contains(exposure, case = False)]\n",
    "#ic(exposure_studies)"
   ]
  },
  {
   "cell_type": "code",
   "execution_count": 7,
   "id": "86749ad7",
   "metadata": {},
   "outputs": [],
   "source": [
    "# Choose the exposure study with the most SNPs\n",
    "#max_samp_e = max(exposure_studies[\"sample_size\"])\n",
    "#exposure_entry_row = exposure_studies[exposure_studies.sample_size == max_samp_e].index[0]\n",
    "#exposure_id = exposure_studies.at[exposure_entry_row,\"id\"]\n",
    "exposure_id = \"ukb-a-248\""
   ]
  },
  {
   "cell_type": "code",
   "execution_count": 36,
   "id": "c80cf1d6",
   "metadata": {},
   "outputs": [
    {
     "name": "stderr",
     "output_type": "stream",
     "text": [
      "ic| 'tophits ', exposure_id: 'ukb-a-248'\n"
     ]
    }
   ],
   "source": [
    "# Define the initial study by the top hits for the exposure\n",
    "ic(\"tophits \", exposure_id)\n",
    "init_study = pd.DataFrame.from_dict(igd.tophits([exposure_id], \n",
    "                                              pval = 1e-18,\n",
    "                                              clump = 0,\n",
    "                                              r2 = 1e-3, \n",
    "                                              pop = \"EUR\",\n",
    "                                              force_server = False, \n",
    "                                              access_token = \"NULL\"))"
   ]
  },
  {
   "cell_type": "code",
   "execution_count": 20,
   "id": "4280d302",
   "metadata": {},
   "outputs": [
    {
     "name": "stderr",
     "output_type": "stream",
     "text": [
      "ic| init_snp_list: 0     rs10938397\n",
      "                   1      rs7132908\n",
      "                   2      rs1412239\n",
      "                   3     rs57636386\n",
      "                   4       rs286818\n",
      "                   5     rs10865612\n",
      "                   6      rs1477290\n",
      "                   7     rs17024393\n",
      "                   8     rs12992672\n",
      "                   9     rs34361149\n",
      "                   10      rs869400\n",
      "                   11     rs9843653\n",
      "                   12      rs539515\n",
      "                   13     rs4790841\n",
      "                   14     rs7116641\n",
      "                   15    rs35626515\n",
      "                   16     rs4402589\n",
      "                   17    rs11515071\n",
      "                   18     rs2384054\n",
      "                   19     rs4671328\n",
      "                   20     rs2678204\n",
      "                   21    rs13135092\n",
      "                   22        rs6265\n",
      "                   23      rs862320\n",
      "                   24    rs11642015\n",
      "                   25    rs62106258\n",
      "                   26     rs9348950\n",
      "                   27    rs34811474\n",
      "                   28     rs2307111\n",
      "                   29     rs1454687\n",
      "                   30     rs2439823\n",
      "                   31     rs6575340\n",
      "                   32    rs34045288\n",
      "                   33     rs4776970\n",
      "                   34    rs11012732\n",
      "                   35     rs3810291\n",
      "                   36     rs6601527\n",
      "                   37     rs7124681\n",
      "                   38    rs58862095\n",
      "                   39      rs879620\n",
      "                   40    rs66922415\n",
      "                   41    rs72892910\n",
      "                   Name: rsid, dtype: object\n",
      "ic| 'Number of snps in initial study', len(init_snp_list): 42\n"
     ]
    },
    {
     "data": {
      "text/plain": [
       "('Number of snps in initial study', 42)"
      ]
     },
     "execution_count": 20,
     "metadata": {},
     "output_type": "execute_result"
    }
   ],
   "source": [
    "# Initial SNP list is the SNPS in exposure study.\n",
    "init_snp_list = init_study.rsid\n",
    "ic(init_snp_list)\n",
    "ic(\"Number of snps in initial study\", len(init_snp_list))"
   ]
  },
  {
   "cell_type": "markdown",
   "id": "a6469b71",
   "metadata": {},
   "source": [
    "## PheWAS"
   ]
  },
  {
   "cell_type": "code",
   "execution_count": 39,
   "id": "74548c2b",
   "metadata": {},
   "outputs": [
    {
     "ename": "AttributeError",
     "evalue": "'Series' object has no attribute 'find'",
     "output_type": "error",
     "traceback": [
      "\u001b[1;31m---------------------------------------------------------------------------\u001b[0m",
      "\u001b[1;31mAttributeError\u001b[0m                            Traceback (most recent call last)",
      "Cell \u001b[1;32mIn[39], line 2\u001b[0m\n\u001b[0;32m      1\u001b[0m \u001b[38;5;66;03m# Run a PheWAS to setup initial trait axis\u001b[39;00m\n\u001b[1;32m----> 2\u001b[0m phe_df \u001b[38;5;241m=\u001b[39m pd\u001b[38;5;241m.\u001b[39mDataFrame\u001b[38;5;241m.\u001b[39mfrom_dict(\u001b[43migd\u001b[49m\u001b[38;5;241;43m.\u001b[39;49m\u001b[43mphewas\u001b[49m\u001b[43m(\u001b[49m\u001b[43m[\u001b[49m\u001b[43minit_snp_list\u001b[49m\u001b[43m]\u001b[49m\u001b[43m)\u001b[49m)\n\u001b[0;32m      3\u001b[0m phe_df \u001b[38;5;241m=\u001b[39m pd\u001b[38;5;241m.\u001b[39mconcat([phe_snp_df, phe_df], ignore_index\u001b[38;5;241m=\u001b[39m \u001b[38;5;28;01mFalse\u001b[39;00m)\n\u001b[0;32m      4\u001b[0m ic(phe_df)\n",
      "File \u001b[1;32m~\\AppData\\Local\\anaconda3\\lib\\site-packages\\ieugwaspy\\query.py:130\u001b[0m, in \u001b[0;36mphewas\u001b[1;34m(variantlist, pval, access_token, batch)\u001b[0m\n\u001b[0;32m    117\u001b[0m \u001b[38;5;28;01mdef\u001b[39;00m \u001b[38;5;21mphewas\u001b[39m(variantlist, pval\u001b[38;5;241m=\u001b[39m\u001b[38;5;241m1e-3\u001b[39m, access_token\u001b[38;5;241m=\u001b[39mcons\u001b[38;5;241m.\u001b[39mapi_token, batch\u001b[38;5;241m=\u001b[39m[]):\n\u001b[0;32m    118\u001b[0m     \u001b[38;5;124;03m\"\"\"Perform phenome-wide association analysis (PheWAS) of variant(s) across all traits in the IEU GWAS database\u001b[39;00m\n\u001b[0;32m    119\u001b[0m \n\u001b[0;32m    120\u001b[0m \u001b[38;5;124;03m    Parameters:\u001b[39;00m\n\u001b[1;32m   (...)\u001b[0m\n\u001b[0;32m    128\u001b[0m \n\u001b[0;32m    129\u001b[0m \u001b[38;5;124;03m    \"\"\"\u001b[39;00m\n\u001b[1;32m--> 130\u001b[0m     rsid \u001b[38;5;241m=\u001b[39m \u001b[38;5;124m\"\u001b[39m\u001b[38;5;124m,\u001b[39m\u001b[38;5;124m\"\u001b[39m\u001b[38;5;241m.\u001b[39mjoin(\u001b[43mvariants\u001b[49m\u001b[38;5;241;43m.\u001b[39;49m\u001b[43mvariants_to_rsid\u001b[49m\u001b[43m(\u001b[49m\u001b[43mvariantlist\u001b[49m\u001b[43m)\u001b[49m)\n\u001b[0;32m    131\u001b[0m     data \u001b[38;5;241m=\u001b[39m {\n\u001b[0;32m    132\u001b[0m         \u001b[38;5;124m\"\u001b[39m\u001b[38;5;124mvariant\u001b[39m\u001b[38;5;124m\"\u001b[39m: rsid,\n\u001b[0;32m    133\u001b[0m         \u001b[38;5;124m\"\u001b[39m\u001b[38;5;124mpval\u001b[39m\u001b[38;5;124m\"\u001b[39m: pval,\n\u001b[0;32m    134\u001b[0m         \u001b[38;5;124m\"\u001b[39m\u001b[38;5;124mX-Api-Token\u001b[39m\u001b[38;5;124m\"\u001b[39m: access_token,\n\u001b[0;32m    135\u001b[0m         \u001b[38;5;124m\"\u001b[39m\u001b[38;5;124mindex_list\u001b[39m\u001b[38;5;124m\"\u001b[39m: batch\n\u001b[0;32m    136\u001b[0m     }\n\u001b[0;32m    137\u001b[0m     data \u001b[38;5;241m=\u001b[39m api_query(\u001b[38;5;124m\"\u001b[39m\u001b[38;5;124mphewas\u001b[39m\u001b[38;5;124m\"\u001b[39m, query \u001b[38;5;241m=\u001b[39m data, method\u001b[38;5;241m=\u001b[39m\u001b[38;5;124m\"\u001b[39m\u001b[38;5;124mPOST\u001b[39m\u001b[38;5;124m\"\u001b[39m)\n",
      "File \u001b[1;32m~\\AppData\\Local\\anaconda3\\lib\\site-packages\\ieugwaspy\\variants.py:16\u001b[0m, in \u001b[0;36mvariants_to_rsid\u001b[1;34m(variants)\u001b[0m\n\u001b[0;32m      6\u001b[0m \u001b[38;5;124;03m\"\"\"This function returns dbSNP rsid for variants provided in chr:pos format, calling the variants_chrpos function for each variant \u001b[39;00m\n\u001b[0;32m      7\u001b[0m \n\u001b[0;32m      8\u001b[0m \u001b[38;5;124;03mParameters:\u001b[39;00m\n\u001b[1;32m   (...)\u001b[0m\n\u001b[0;32m     13\u001b[0m \n\u001b[0;32m     14\u001b[0m \u001b[38;5;124;03m\"\"\"\u001b[39;00m\n\u001b[0;32m     15\u001b[0m \u001b[38;5;28;01mfor\u001b[39;00m pos, variant \u001b[38;5;129;01min\u001b[39;00m \u001b[38;5;28menumerate\u001b[39m(variants):\n\u001b[1;32m---> 16\u001b[0m     \u001b[38;5;28;01mif\u001b[39;00m \u001b[43mvariant\u001b[49m\u001b[38;5;241;43m.\u001b[39;49m\u001b[43mfind\u001b[49m(\u001b[38;5;124m\"\u001b[39m\u001b[38;5;124m:\u001b[39m\u001b[38;5;124m\"\u001b[39m) \u001b[38;5;241m>\u001b[39m \u001b[38;5;241m0\u001b[39m:\n\u001b[0;32m     17\u001b[0m         variants[pos] \u001b[38;5;241m=\u001b[39m variants_chrpos(variant)\n\u001b[0;32m     18\u001b[0m variants \u001b[38;5;241m=\u001b[39m \u001b[38;5;28mlist\u001b[39m(\u001b[38;5;28mdict\u001b[39m\u001b[38;5;241m.\u001b[39mfromkeys(variants))\n",
      "File \u001b[1;32m~\\AppData\\Local\\anaconda3\\lib\\site-packages\\pandas\\core\\generic.py:5902\u001b[0m, in \u001b[0;36mNDFrame.__getattr__\u001b[1;34m(self, name)\u001b[0m\n\u001b[0;32m   5895\u001b[0m \u001b[38;5;28;01mif\u001b[39;00m (\n\u001b[0;32m   5896\u001b[0m     name \u001b[38;5;129;01mnot\u001b[39;00m \u001b[38;5;129;01min\u001b[39;00m \u001b[38;5;28mself\u001b[39m\u001b[38;5;241m.\u001b[39m_internal_names_set\n\u001b[0;32m   5897\u001b[0m     \u001b[38;5;129;01mand\u001b[39;00m name \u001b[38;5;129;01mnot\u001b[39;00m \u001b[38;5;129;01min\u001b[39;00m \u001b[38;5;28mself\u001b[39m\u001b[38;5;241m.\u001b[39m_metadata\n\u001b[0;32m   5898\u001b[0m     \u001b[38;5;129;01mand\u001b[39;00m name \u001b[38;5;129;01mnot\u001b[39;00m \u001b[38;5;129;01min\u001b[39;00m \u001b[38;5;28mself\u001b[39m\u001b[38;5;241m.\u001b[39m_accessors\n\u001b[0;32m   5899\u001b[0m     \u001b[38;5;129;01mand\u001b[39;00m \u001b[38;5;28mself\u001b[39m\u001b[38;5;241m.\u001b[39m_info_axis\u001b[38;5;241m.\u001b[39m_can_hold_identifiers_and_holds_name(name)\n\u001b[0;32m   5900\u001b[0m ):\n\u001b[0;32m   5901\u001b[0m     \u001b[38;5;28;01mreturn\u001b[39;00m \u001b[38;5;28mself\u001b[39m[name]\n\u001b[1;32m-> 5902\u001b[0m \u001b[38;5;28;01mreturn\u001b[39;00m \u001b[38;5;28;43mobject\u001b[39;49m\u001b[38;5;241;43m.\u001b[39;49m\u001b[38;5;21;43m__getattribute__\u001b[39;49m\u001b[43m(\u001b[49m\u001b[38;5;28;43mself\u001b[39;49m\u001b[43m,\u001b[49m\u001b[43m \u001b[49m\u001b[43mname\u001b[49m\u001b[43m)\u001b[49m\n",
      "\u001b[1;31mAttributeError\u001b[0m: 'Series' object has no attribute 'find'"
     ]
    }
   ],
   "source": [
    "# Run a PheWAS to setup initial trait axis\n",
    "phe_df = pd.DataFrame.from_dict(igd.phewas([init_snp_list]))\n",
    "phe_df = pd.concat([phe_snp_df, phe_df], ignore_index= False)\n",
    "ic(phe_df)\n",
    "study_ids = phe_df.id.unique()\n",
    "trait_list = phe_df.trait.unique()\n",
    "ic(study_ids, trait_list)"
   ]
  },
  {
   "cell_type": "markdown",
   "id": "dc624009",
   "metadata": {},
   "source": [
    "### Filtering"
   ]
  },
  {
   "cell_type": "code",
   "execution_count": 33,
   "id": "176d256c",
   "metadata": {},
   "outputs": [
    {
     "ename": "KeyError",
     "evalue": "\"None of [Index(['id', 'trait'], dtype='object')] are in the [columns]\"",
     "output_type": "error",
     "traceback": [
      "\u001b[1;31m---------------------------------------------------------------------------\u001b[0m",
      "\u001b[1;31mKeyError\u001b[0m                                  Traceback (most recent call last)",
      "Cell \u001b[1;32mIn[33], line 3\u001b[0m\n\u001b[0;32m      1\u001b[0m filt_phe_df \u001b[38;5;241m=\u001b[39m phe_df\u001b[38;5;241m.\u001b[39mcopy()\n\u001b[0;32m      2\u001b[0m \u001b[38;5;66;03m# Remove duplicates\u001b[39;00m\n\u001b[1;32m----> 3\u001b[0m id_trait_pairs \u001b[38;5;241m=\u001b[39m \u001b[43mphe_df\u001b[49m\u001b[38;5;241;43m.\u001b[39;49m\u001b[43mloc\u001b[49m\u001b[43m[\u001b[49m\u001b[43m \u001b[49m\u001b[43m:\u001b[49m\u001b[43m \u001b[49m\u001b[43m,\u001b[49m\u001b[43m[\u001b[49m\u001b[38;5;124;43m\"\u001b[39;49m\u001b[38;5;124;43mid\u001b[39;49m\u001b[38;5;124;43m\"\u001b[39;49m\u001b[43m,\u001b[49m\u001b[43m \u001b[49m\u001b[38;5;124;43m\"\u001b[39;49m\u001b[38;5;124;43mtrait\u001b[39;49m\u001b[38;5;124;43m\"\u001b[39;49m\u001b[43m]\u001b[49m\u001b[43m]\u001b[49m\u001b[38;5;241m.\u001b[39munique()\n\u001b[0;32m      4\u001b[0m duplicates \u001b[38;5;241m=\u001b[39m phe_df\u001b[38;5;241m.\u001b[39mloc[id_trait_pairs\u001b[38;5;241m.\u001b[39mtrait\u001b[38;5;241m.\u001b[39mduplicated(keep \u001b[38;5;241m=\u001b[39m \u001b[38;5;28;01mFalse\u001b[39;00m)]\n\u001b[0;32m      5\u001b[0m trait_rem_ids \u001b[38;5;241m=\u001b[39m []\n",
      "File \u001b[1;32m~\\AppData\\Local\\anaconda3\\lib\\site-packages\\pandas\\core\\indexing.py:1067\u001b[0m, in \u001b[0;36m_LocationIndexer.__getitem__\u001b[1;34m(self, key)\u001b[0m\n\u001b[0;32m   1065\u001b[0m     \u001b[38;5;28;01mif\u001b[39;00m \u001b[38;5;28mself\u001b[39m\u001b[38;5;241m.\u001b[39m_is_scalar_access(key):\n\u001b[0;32m   1066\u001b[0m         \u001b[38;5;28;01mreturn\u001b[39;00m \u001b[38;5;28mself\u001b[39m\u001b[38;5;241m.\u001b[39mobj\u001b[38;5;241m.\u001b[39m_get_value(\u001b[38;5;241m*\u001b[39mkey, takeable\u001b[38;5;241m=\u001b[39m\u001b[38;5;28mself\u001b[39m\u001b[38;5;241m.\u001b[39m_takeable)\n\u001b[1;32m-> 1067\u001b[0m     \u001b[38;5;28;01mreturn\u001b[39;00m \u001b[38;5;28;43mself\u001b[39;49m\u001b[38;5;241;43m.\u001b[39;49m\u001b[43m_getitem_tuple\u001b[49m\u001b[43m(\u001b[49m\u001b[43mkey\u001b[49m\u001b[43m)\u001b[49m\n\u001b[0;32m   1068\u001b[0m \u001b[38;5;28;01melse\u001b[39;00m:\n\u001b[0;32m   1069\u001b[0m     \u001b[38;5;66;03m# we by definition only have the 0th axis\u001b[39;00m\n\u001b[0;32m   1070\u001b[0m     axis \u001b[38;5;241m=\u001b[39m \u001b[38;5;28mself\u001b[39m\u001b[38;5;241m.\u001b[39maxis \u001b[38;5;129;01mor\u001b[39;00m \u001b[38;5;241m0\u001b[39m\n",
      "File \u001b[1;32m~\\AppData\\Local\\anaconda3\\lib\\site-packages\\pandas\\core\\indexing.py:1256\u001b[0m, in \u001b[0;36m_LocIndexer._getitem_tuple\u001b[1;34m(self, tup)\u001b[0m\n\u001b[0;32m   1253\u001b[0m \u001b[38;5;28;01mif\u001b[39;00m \u001b[38;5;28mself\u001b[39m\u001b[38;5;241m.\u001b[39m_multi_take_opportunity(tup):\n\u001b[0;32m   1254\u001b[0m     \u001b[38;5;28;01mreturn\u001b[39;00m \u001b[38;5;28mself\u001b[39m\u001b[38;5;241m.\u001b[39m_multi_take(tup)\n\u001b[1;32m-> 1256\u001b[0m \u001b[38;5;28;01mreturn\u001b[39;00m \u001b[38;5;28;43mself\u001b[39;49m\u001b[38;5;241;43m.\u001b[39;49m\u001b[43m_getitem_tuple_same_dim\u001b[49m\u001b[43m(\u001b[49m\u001b[43mtup\u001b[49m\u001b[43m)\u001b[49m\n",
      "File \u001b[1;32m~\\AppData\\Local\\anaconda3\\lib\\site-packages\\pandas\\core\\indexing.py:924\u001b[0m, in \u001b[0;36m_LocationIndexer._getitem_tuple_same_dim\u001b[1;34m(self, tup)\u001b[0m\n\u001b[0;32m    921\u001b[0m \u001b[38;5;28;01mif\u001b[39;00m com\u001b[38;5;241m.\u001b[39mis_null_slice(key):\n\u001b[0;32m    922\u001b[0m     \u001b[38;5;28;01mcontinue\u001b[39;00m\n\u001b[1;32m--> 924\u001b[0m retval \u001b[38;5;241m=\u001b[39m \u001b[38;5;28;43mgetattr\u001b[39;49m\u001b[43m(\u001b[49m\u001b[43mretval\u001b[49m\u001b[43m,\u001b[49m\u001b[43m \u001b[49m\u001b[38;5;28;43mself\u001b[39;49m\u001b[38;5;241;43m.\u001b[39;49m\u001b[43mname\u001b[49m\u001b[43m)\u001b[49m\u001b[38;5;241;43m.\u001b[39;49m\u001b[43m_getitem_axis\u001b[49m\u001b[43m(\u001b[49m\u001b[43mkey\u001b[49m\u001b[43m,\u001b[49m\u001b[43m \u001b[49m\u001b[43maxis\u001b[49m\u001b[38;5;241;43m=\u001b[39;49m\u001b[43mi\u001b[49m\u001b[43m)\u001b[49m\n\u001b[0;32m    925\u001b[0m \u001b[38;5;66;03m# We should never have retval.ndim < self.ndim, as that should\u001b[39;00m\n\u001b[0;32m    926\u001b[0m \u001b[38;5;66;03m#  be handled by the _getitem_lowerdim call above.\u001b[39;00m\n\u001b[0;32m    927\u001b[0m \u001b[38;5;28;01massert\u001b[39;00m retval\u001b[38;5;241m.\u001b[39mndim \u001b[38;5;241m==\u001b[39m \u001b[38;5;28mself\u001b[39m\u001b[38;5;241m.\u001b[39mndim\n",
      "File \u001b[1;32m~\\AppData\\Local\\anaconda3\\lib\\site-packages\\pandas\\core\\indexing.py:1301\u001b[0m, in \u001b[0;36m_LocIndexer._getitem_axis\u001b[1;34m(self, key, axis)\u001b[0m\n\u001b[0;32m   1298\u001b[0m     \u001b[38;5;28;01mif\u001b[39;00m \u001b[38;5;28mhasattr\u001b[39m(key, \u001b[38;5;124m\"\u001b[39m\u001b[38;5;124mndim\u001b[39m\u001b[38;5;124m\"\u001b[39m) \u001b[38;5;129;01mand\u001b[39;00m key\u001b[38;5;241m.\u001b[39mndim \u001b[38;5;241m>\u001b[39m \u001b[38;5;241m1\u001b[39m:\n\u001b[0;32m   1299\u001b[0m         \u001b[38;5;28;01mraise\u001b[39;00m \u001b[38;5;167;01mValueError\u001b[39;00m(\u001b[38;5;124m\"\u001b[39m\u001b[38;5;124mCannot index with multidimensional key\u001b[39m\u001b[38;5;124m\"\u001b[39m)\n\u001b[1;32m-> 1301\u001b[0m     \u001b[38;5;28;01mreturn\u001b[39;00m \u001b[38;5;28;43mself\u001b[39;49m\u001b[38;5;241;43m.\u001b[39;49m\u001b[43m_getitem_iterable\u001b[49m\u001b[43m(\u001b[49m\u001b[43mkey\u001b[49m\u001b[43m,\u001b[49m\u001b[43m \u001b[49m\u001b[43maxis\u001b[49m\u001b[38;5;241;43m=\u001b[39;49m\u001b[43maxis\u001b[49m\u001b[43m)\u001b[49m\n\u001b[0;32m   1303\u001b[0m \u001b[38;5;66;03m# nested tuple slicing\u001b[39;00m\n\u001b[0;32m   1304\u001b[0m \u001b[38;5;28;01mif\u001b[39;00m is_nested_tuple(key, labels):\n",
      "File \u001b[1;32m~\\AppData\\Local\\anaconda3\\lib\\site-packages\\pandas\\core\\indexing.py:1239\u001b[0m, in \u001b[0;36m_LocIndexer._getitem_iterable\u001b[1;34m(self, key, axis)\u001b[0m\n\u001b[0;32m   1236\u001b[0m \u001b[38;5;28mself\u001b[39m\u001b[38;5;241m.\u001b[39m_validate_key(key, axis)\n\u001b[0;32m   1238\u001b[0m \u001b[38;5;66;03m# A collection of keys\u001b[39;00m\n\u001b[1;32m-> 1239\u001b[0m keyarr, indexer \u001b[38;5;241m=\u001b[39m \u001b[38;5;28;43mself\u001b[39;49m\u001b[38;5;241;43m.\u001b[39;49m\u001b[43m_get_listlike_indexer\u001b[49m\u001b[43m(\u001b[49m\u001b[43mkey\u001b[49m\u001b[43m,\u001b[49m\u001b[43m \u001b[49m\u001b[43maxis\u001b[49m\u001b[43m)\u001b[49m\n\u001b[0;32m   1240\u001b[0m \u001b[38;5;28;01mreturn\u001b[39;00m \u001b[38;5;28mself\u001b[39m\u001b[38;5;241m.\u001b[39mobj\u001b[38;5;241m.\u001b[39m_reindex_with_indexers(\n\u001b[0;32m   1241\u001b[0m     {axis: [keyarr, indexer]}, copy\u001b[38;5;241m=\u001b[39m\u001b[38;5;28;01mTrue\u001b[39;00m, allow_dups\u001b[38;5;241m=\u001b[39m\u001b[38;5;28;01mTrue\u001b[39;00m\n\u001b[0;32m   1242\u001b[0m )\n",
      "File \u001b[1;32m~\\AppData\\Local\\anaconda3\\lib\\site-packages\\pandas\\core\\indexing.py:1432\u001b[0m, in \u001b[0;36m_LocIndexer._get_listlike_indexer\u001b[1;34m(self, key, axis)\u001b[0m\n\u001b[0;32m   1429\u001b[0m ax \u001b[38;5;241m=\u001b[39m \u001b[38;5;28mself\u001b[39m\u001b[38;5;241m.\u001b[39mobj\u001b[38;5;241m.\u001b[39m_get_axis(axis)\n\u001b[0;32m   1430\u001b[0m axis_name \u001b[38;5;241m=\u001b[39m \u001b[38;5;28mself\u001b[39m\u001b[38;5;241m.\u001b[39mobj\u001b[38;5;241m.\u001b[39m_get_axis_name(axis)\n\u001b[1;32m-> 1432\u001b[0m keyarr, indexer \u001b[38;5;241m=\u001b[39m \u001b[43max\u001b[49m\u001b[38;5;241;43m.\u001b[39;49m\u001b[43m_get_indexer_strict\u001b[49m\u001b[43m(\u001b[49m\u001b[43mkey\u001b[49m\u001b[43m,\u001b[49m\u001b[43m \u001b[49m\u001b[43maxis_name\u001b[49m\u001b[43m)\u001b[49m\n\u001b[0;32m   1434\u001b[0m \u001b[38;5;28;01mreturn\u001b[39;00m keyarr, indexer\n",
      "File \u001b[1;32m~\\AppData\\Local\\anaconda3\\lib\\site-packages\\pandas\\core\\indexes\\base.py:6070\u001b[0m, in \u001b[0;36mIndex._get_indexer_strict\u001b[1;34m(self, key, axis_name)\u001b[0m\n\u001b[0;32m   6067\u001b[0m \u001b[38;5;28;01melse\u001b[39;00m:\n\u001b[0;32m   6068\u001b[0m     keyarr, indexer, new_indexer \u001b[38;5;241m=\u001b[39m \u001b[38;5;28mself\u001b[39m\u001b[38;5;241m.\u001b[39m_reindex_non_unique(keyarr)\n\u001b[1;32m-> 6070\u001b[0m \u001b[38;5;28;43mself\u001b[39;49m\u001b[38;5;241;43m.\u001b[39;49m\u001b[43m_raise_if_missing\u001b[49m\u001b[43m(\u001b[49m\u001b[43mkeyarr\u001b[49m\u001b[43m,\u001b[49m\u001b[43m \u001b[49m\u001b[43mindexer\u001b[49m\u001b[43m,\u001b[49m\u001b[43m \u001b[49m\u001b[43maxis_name\u001b[49m\u001b[43m)\u001b[49m\n\u001b[0;32m   6072\u001b[0m keyarr \u001b[38;5;241m=\u001b[39m \u001b[38;5;28mself\u001b[39m\u001b[38;5;241m.\u001b[39mtake(indexer)\n\u001b[0;32m   6073\u001b[0m \u001b[38;5;28;01mif\u001b[39;00m \u001b[38;5;28misinstance\u001b[39m(key, Index):\n\u001b[0;32m   6074\u001b[0m     \u001b[38;5;66;03m# GH 42790 - Preserve name from an Index\u001b[39;00m\n",
      "File \u001b[1;32m~\\AppData\\Local\\anaconda3\\lib\\site-packages\\pandas\\core\\indexes\\base.py:6130\u001b[0m, in \u001b[0;36mIndex._raise_if_missing\u001b[1;34m(self, key, indexer, axis_name)\u001b[0m\n\u001b[0;32m   6128\u001b[0m     \u001b[38;5;28;01mif\u001b[39;00m use_interval_msg:\n\u001b[0;32m   6129\u001b[0m         key \u001b[38;5;241m=\u001b[39m \u001b[38;5;28mlist\u001b[39m(key)\n\u001b[1;32m-> 6130\u001b[0m     \u001b[38;5;28;01mraise\u001b[39;00m \u001b[38;5;167;01mKeyError\u001b[39;00m(\u001b[38;5;124mf\u001b[39m\u001b[38;5;124m\"\u001b[39m\u001b[38;5;124mNone of [\u001b[39m\u001b[38;5;132;01m{\u001b[39;00mkey\u001b[38;5;132;01m}\u001b[39;00m\u001b[38;5;124m] are in the [\u001b[39m\u001b[38;5;132;01m{\u001b[39;00maxis_name\u001b[38;5;132;01m}\u001b[39;00m\u001b[38;5;124m]\u001b[39m\u001b[38;5;124m\"\u001b[39m)\n\u001b[0;32m   6132\u001b[0m not_found \u001b[38;5;241m=\u001b[39m \u001b[38;5;28mlist\u001b[39m(ensure_index(key)[missing_mask\u001b[38;5;241m.\u001b[39mnonzero()[\u001b[38;5;241m0\u001b[39m]]\u001b[38;5;241m.\u001b[39munique())\n\u001b[0;32m   6133\u001b[0m \u001b[38;5;28;01mraise\u001b[39;00m \u001b[38;5;167;01mKeyError\u001b[39;00m(\u001b[38;5;124mf\u001b[39m\u001b[38;5;124m\"\u001b[39m\u001b[38;5;132;01m{\u001b[39;00mnot_found\u001b[38;5;132;01m}\u001b[39;00m\u001b[38;5;124m not in index\u001b[39m\u001b[38;5;124m\"\u001b[39m)\n",
      "\u001b[1;31mKeyError\u001b[0m: \"None of [Index(['id', 'trait'], dtype='object')] are in the [columns]\""
     ]
    }
   ],
   "source": [
    "filt_phe_df = phe_df.copy()\n",
    "# Remove duplicates\n",
    "id_trait_pairs = phe_df.loc[ : ,[\"id\", \"trait\"]].unique()\n",
    "duplicates = phe_df.loc[id_trait_pairs.trait.duplicated(keep = False)]\n",
    "trait_rem_ids = []\n",
    "for row in duplicates:\n",
    "    trait         = row.trait\n",
    "    trait_dup     = phe_df.loc[phe_df.trait == trait]\n",
    "    trait_recent   = trait_dup.year.idemax()\n",
    "    # Get the id for the trait from the most recent study\n",
    "    trait_keep_id = trait_dup.id[trait_recent]\n",
    "    # Get the ids for the studys with the same trait and store in removal list\n",
    "    rem_traits    = trait_dup.drop(index = trait_keep_id)\n",
    "    trait_rem_ids = trait_rem_ids + rem_traits.id\n",
    "    \n",
    "# Drop the duplicate studies\n",
    "filt_phe_df = filt_phe_df.drop(\"id\" in trait_rem_ids)\n",
    "study_ids = phe_df.id.unique()\n",
    "trait_list = phe_df.trait.unique()"
   ]
  },
  {
   "cell_type": "code",
   "execution_count": null,
   "id": "628e8dad",
   "metadata": {},
   "outputs": [],
   "source": [
    "# Filter the traits by sample size\n",
    "samp_thresh = 5*1E+4\n",
    "samp_rem_ids = []\n",
    "for s_id in study_ids:\n",
    "    if gwas_df.loc[index == s_id].sample_size < samp_thresh:\n",
    "        samp_rem_ids = samp_rem_ids + [s_id]\n",
    "# Drop the duplicate studies\n",
    "filt_phe_df = filt_phe_df.drop(\"id\" in samp_rem_ids)\n",
    "study_ids = phe_df.id.unique()\n",
    "trait_list = phe_df.trait.unique()"
   ]
  },
  {
   "cell_type": "code",
   "execution_count": null,
   "id": "aa0d8215",
   "metadata": {},
   "outputs": [],
   "source": [
    "# Filter by high correlation to BMI r>0.75\n",
    "corr_df = pd.read_csv(corr_fname)\n",
    "corr_rem_ids = []\n",
    "for trait in trait_list:\n",
    "    row = corr_df[corr_df[\"Phenotype 1\"].str.contains(trait, case = False) & corr_df[\"Phenotype 2\"].str.contains(exposure, case = False)]\n",
    "    if row.rg > 0.75:\n",
    "        # Correlation high so reject\n",
    "        row_id = phe_df.loc[phe_df.trait == trait].id\n",
    "        corr_rem_ids = corr_rem_ids +[row_id]\n",
    "# Drop the duplicate studies\n",
    "corr_phe_df = corr_phe_df.drop(\"id\" in corr_rem_ids)\n",
    "study_ids = phe_df.id.unique()\n",
    "trait_list = phe_df.trait.unique()"
   ]
  },
  {
   "cell_type": "code",
   "execution_count": null,
   "id": "1230eefa",
   "metadata": {},
   "outputs": [],
   "source": [
    "# Steiger-filtering. p-value>0.05/n_traits"
   ]
  }
 ],
 "metadata": {
  "kernelspec": {
   "display_name": "Python 3 (ipykernel)",
   "language": "python",
   "name": "python3"
  },
  "language_info": {
   "codemirror_mode": {
    "name": "ipython",
    "version": 3
   },
   "file_extension": ".py",
   "mimetype": "text/x-python",
   "name": "python",
   "nbconvert_exporter": "python",
   "pygments_lexer": "ipython3",
   "version": "3.10.9"
  }
 },
 "nbformat": 4,
 "nbformat_minor": 5
}
