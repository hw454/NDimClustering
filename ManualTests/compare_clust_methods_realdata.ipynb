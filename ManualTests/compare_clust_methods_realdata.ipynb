{
 "cells": [
  {
   "cell_type": "markdown",
   "metadata": {},
   "source": [
    "# Testing Clustering Methods"
   ]
  },
  {
   "cell_type": "code",
   "execution_count": 1,
   "metadata": {},
   "outputs": [],
   "source": [
    "#%pip install scikit-learn\n",
    "#%pip install scikit-learn-extra\n",
    "#%pip install altair"
   ]
  },
  {
   "cell_type": "code",
   "execution_count": 2,
   "metadata": {},
   "outputs": [],
   "source": [
    "from sklearn.cluster import DBSCAN, SpectralClustering, Birch, KMeans, MiniBatchKMeans\n",
    "from sklearn_extra.cluster import KMedoids\n",
    "from IPython.display import display, Markdown\n",
    "from sklearn.mixture import GaussianMixture\n",
    "from sklearn.metrics.pairwise import cosine_similarity\n",
    "from scipy import sparse\n",
    "import pandas as pd\n",
    "import numpy as np\n",
    "import altair as alt"
   ]
  },
  {
   "cell_type": "markdown",
   "metadata": {},
   "source": [
    "## Get the MRClust data"
   ]
  },
  {
   "cell_type": "code",
   "execution_count": 3,
   "metadata": {},
   "outputs": [
    {
     "name": "stdout",
     "output_type": "stream",
     "text": [
      "                DBP     CAD\n",
      "rsid                       \n",
      "rs17030613  -0.2359  0.0060\n",
      "rs2932538    0.2370  0.0017\n",
      "rs17367504   0.4715  0.0356\n",
      "rs12405515   0.1617  0.0141\n",
      "rs4245739    0.1364  0.0125\n",
      "...             ...     ...\n",
      "rs6557876    0.1966  0.0143\n",
      "rs111245230  0.4000  0.0586\n",
      "rs687621    -0.1327  0.0269\n",
      "rs6271       0.3647  0.0359\n",
      "rs76452347  -0.1691  0.0028\n",
      "\n",
      "[118 rows x 2 columns]\n",
      "DBP CAD\n"
     ]
    }
   ],
   "source": [
    "path = \"../MRClustData/\"\n",
    "data_df     = pd.read_csv(path + \"DBP_CAD.csv\", index_col = 0)\n",
    "# Store the exposure and standard error in separate dataframes\n",
    "beta_df = data_df[[\"bx\", \"by\"]].copy()\n",
    "se_df   = data_df[[\"bxse\", \"byse\"]].copy()\n",
    "# Rename each row by the rsid\n",
    "beta_df.index = data_df[\"rsid\"]\n",
    "se_df.index = data_df[\"rsid\"]\n",
    "# Rename the columns to match the traits\n",
    "traits  = [\"DBP\", \"CAD\"]\n",
    "beta_df.columns = traits\n",
    "se_df.columns = traits\n",
    "# Drop the first row which contains the rsid label only\n",
    "beta_df.drop(index=beta_df.index[0], axis=0, inplace=True)\n",
    "se_df.drop(index=se_df.index[0], axis=0, inplace=True)\n",
    "\n",
    "data_dic = {\"beta\": beta_df,\n",
    "           \"se\": se_df}\n",
    "col1 = beta_df.columns[0]\n",
    "col2 = beta_df.columns[1]\n",
    "beta_crop = beta_df.loc[:,[col1,col2]]\n",
    "print(beta_crop)\n",
    "print(col1, col2)"
   ]
  },
  {
   "cell_type": "markdown",
   "metadata": {},
   "source": [
    "## Transform the data\n",
    "Denote the data points $p=(x,y)$.\n",
    "if $x<0, \\text{transform}(p)\\rightarrow p'=(-x,-y)$"
   ]
  },
  {
   "cell_type": "code",
   "execution_count": 4,
   "metadata": {},
   "outputs": [],
   "source": [
    "neg_rows = beta_crop.loc[beta_crop[col1]<0].index\n",
    "beta_crop.loc[neg_rows,col2]=-beta_crop.loc[neg_rows,col2]\n",
    "beta_crop.loc[neg_rows,col1]=-beta_crop.loc[neg_rows,col1]"
   ]
  },
  {
   "cell_type": "markdown",
   "metadata": {},
   "source": [
    "## Compute the cosine similarities"
   ]
  },
  {
   "cell_type": "code",
   "execution_count": 5,
   "metadata": {},
   "outputs": [
    {
     "name": "stdout",
     "output_type": "stream",
     "text": [
      "pairwise dense output:\n",
      " [[1.         0.99946861 0.99492501 ... 0.98480067 0.9923774  0.99996064]\n",
      " [0.99946861 1.         0.99767611 ... 0.97861578 0.99586707 0.99971847]\n",
      " [0.99492501 0.99767611 1.         ... 0.96232644 0.999741   0.99577856]\n",
      " ...\n",
      " [0.98480067 0.97861578 0.96232644 ... 1.         0.95588929 0.98322092]\n",
      " [0.9923774  0.99586707 0.999741   ... 0.95588929 1.         0.99343172]\n",
      " [0.99996064 0.99971847 0.99577856 ... 0.98322092 0.99343172 1.        ]]\n",
      "\n"
     ]
    }
   ],
   "source": [
    "similarities = cosine_similarity(beta_crop)\n",
    "print('pairwise dense output:\\n {}\\n'.format(similarities))\n",
    "sims = (1 - similarities).clip(min=0)\n",
    "results = beta_crop.copy()"
   ]
  },
  {
   "cell_type": "markdown",
   "metadata": {},
   "source": [
    "## Plotting functions"
   ]
  },
  {
   "cell_type": "code",
   "execution_count": 6,
   "metadata": {},
   "outputs": [],
   "source": [
    "\n",
    "def chartclusters(data,title,colorvar,tooltip):\n",
    "    col1 = data.columns[0]\n",
    "    col2 = data.columns[1]\n",
    "    chart = alt.Chart(data, title=title).mark_circle(size=60).encode(\n",
    "        x = col1,\n",
    "        y = col2,\n",
    "        color = colorvar,\n",
    "        tooltip = tooltip\n",
    "    ).interactive()\n",
    "\n",
    "    return(chart)"
   ]
  },
  {
   "cell_type": "markdown",
   "metadata": {},
   "source": [
    "### Cluster with dbscan"
   ]
  },
  {
   "cell_type": "code",
   "execution_count": 7,
   "metadata": {},
   "outputs": [],
   "source": [
    "# DBSCAN\n",
    "eps_list = [1E-6,1E-5, 1E-4, 1E-3,1E-2, 1E-1]\n",
    "eps_labels = ['dbscan%d'%i for i in range(len(eps_list))]\n",
    "dbscan_charts = {}\n",
    "for i, eps in enumerate(eps_list):\n",
    "    dbscan = DBSCAN(eps = eps, min_samples = 2, metric = \"precomputed\").fit(sims)\n",
    "    collab = 'dbscan%d'%i\n",
    "    results[collab] = dbscan.labels_\n",
    "    tooltip = eps_labels\n",
    "    dbscan_charts[collab] = chartclusters(results,collab,collab+\":N\", tooltip)\n"
   ]
  },
  {
   "cell_type": "code",
   "execution_count": 8,
   "metadata": {},
   "outputs": [
    {
     "data": {
      "text/markdown": [
       "# Plots with increaseing eps"
      ],
      "text/plain": [
       "<IPython.core.display.Markdown object>"
      ]
     },
     "metadata": {},
     "output_type": "display_data"
    },
    {
     "data": {
      "text/html": [
       "\n",
       "<style>\n",
       "  #altair-viz-8eb36cb443d4412999f9b9537c39e5e7.vega-embed {\n",
       "    width: 100%;\n",
       "    display: flex;\n",
       "  }\n",
       "\n",
       "  #altair-viz-8eb36cb443d4412999f9b9537c39e5e7.vega-embed details,\n",
       "  #altair-viz-8eb36cb443d4412999f9b9537c39e5e7.vega-embed details summary {\n",
       "    position: relative;\n",
       "  }\n",
       "</style>\n",
       "<div id=\"altair-viz-8eb36cb443d4412999f9b9537c39e5e7\"></div>\n",
       "<script type=\"text/javascript\">\n",
       "  var VEGA_DEBUG = (typeof VEGA_DEBUG == \"undefined\") ? {} : VEGA_DEBUG;\n",
       "  (function(spec, embedOpt){\n",
       "    let outputDiv = document.currentScript.previousElementSibling;\n",
       "    if (outputDiv.id !== \"altair-viz-8eb36cb443d4412999f9b9537c39e5e7\") {\n",
       "      outputDiv = document.getElementById(\"altair-viz-8eb36cb443d4412999f9b9537c39e5e7\");\n",
       "    }\n",
       "    const paths = {\n",
       "      \"vega\": \"https://cdn.jsdelivr.net/npm/vega@5?noext\",\n",
       "      \"vega-lib\": \"https://cdn.jsdelivr.net/npm/vega-lib?noext\",\n",
       "      \"vega-lite\": \"https://cdn.jsdelivr.net/npm/vega-lite@5.16.3?noext\",\n",
       "      \"vega-embed\": \"https://cdn.jsdelivr.net/npm/vega-embed@6?noext\",\n",
       "    };\n",
       "\n",
       "    function maybeLoadScript(lib, version) {\n",
       "      var key = `${lib.replace(\"-\", \"\")}_version`;\n",
       "      return (VEGA_DEBUG[key] == version) ?\n",
       "        Promise.resolve(paths[lib]) :\n",
       "        new Promise(function(resolve, reject) {\n",
       "          var s = document.createElement('script');\n",
       "          document.getElementsByTagName(\"head\")[0].appendChild(s);\n",
       "          s.async = true;\n",
       "          s.onload = () => {\n",
       "            VEGA_DEBUG[key] = version;\n",
       "            return resolve(paths[lib]);\n",
       "          };\n",
       "          s.onerror = () => reject(`Error loading script: ${paths[lib]}`);\n",
       "          s.src = paths[lib];\n",
       "        });\n",
       "    }\n",
       "\n",
       "    function showError(err) {\n",
       "      outputDiv.innerHTML = `<div class=\"error\" style=\"color:red;\">${err}</div>`;\n",
       "      throw err;\n",
       "    }\n",
       "\n",
       "    function displayChart(vegaEmbed) {\n",
       "      vegaEmbed(outputDiv, spec, embedOpt)\n",
       "        .catch(err => showError(`Javascript Error: ${err.message}<br>This usually means there's a typo in your chart specification. See the javascript console for the full traceback.`));\n",
       "    }\n",
       "\n",
       "    if(typeof define === \"function\" && define.amd) {\n",
       "      requirejs.config({paths});\n",
       "      require([\"vega-embed\"], displayChart, err => showError(`Error loading script: ${err.message}`));\n",
       "    } else {\n",
       "      maybeLoadScript(\"vega\", \"5\")\n",
       "        .then(() => maybeLoadScript(\"vega-lite\", \"5.16.3\"))\n",
       "        .then(() => maybeLoadScript(\"vega-embed\", \"6\"))\n",
       "        .catch(showError)\n",
       "        .then(() => displayChart(vegaEmbed));\n",
       "    }\n",
       "  })({\"config\": {\"view\": {\"continuousWidth\": 300, \"continuousHeight\": 300}}, \"vconcat\": [{\"hconcat\": [{\"mark\": {\"type\": \"circle\", \"size\": 60}, \"encoding\": {\"color\": {\"field\": \"dbscan0\", \"type\": \"nominal\"}, \"tooltip\": [{\"field\": \"dbscan0\", \"type\": \"quantitative\"}, {\"field\": \"dbscan1\", \"type\": \"quantitative\"}, {\"field\": \"dbscan2\", \"type\": \"quantitative\"}, {\"field\": \"dbscan3\", \"type\": \"quantitative\"}, {\"field\": \"dbscan4\", \"type\": \"quantitative\"}, {\"field\": \"dbscan5\", \"type\": \"quantitative\"}], \"x\": {\"field\": \"DBP\", \"type\": \"quantitative\"}, \"y\": {\"field\": \"CAD\", \"type\": \"quantitative\"}}, \"name\": \"view_1\", \"title\": \"dbscan0\"}, {\"mark\": {\"type\": \"circle\", \"size\": 60}, \"encoding\": {\"color\": {\"field\": \"dbscan1\", \"type\": \"nominal\"}, \"tooltip\": [{\"field\": \"dbscan0\", \"type\": \"quantitative\"}, {\"field\": \"dbscan1\", \"type\": \"quantitative\"}, {\"field\": \"dbscan2\", \"type\": \"quantitative\"}, {\"field\": \"dbscan3\", \"type\": \"quantitative\"}, {\"field\": \"dbscan4\", \"type\": \"quantitative\"}, {\"field\": \"dbscan5\", \"type\": \"quantitative\"}], \"x\": {\"field\": \"DBP\", \"type\": \"quantitative\"}, \"y\": {\"field\": \"CAD\", \"type\": \"quantitative\"}}, \"name\": \"view_2\", \"title\": \"dbscan1\"}]}, {\"hconcat\": [{\"mark\": {\"type\": \"circle\", \"size\": 60}, \"encoding\": {\"color\": {\"field\": \"dbscan2\", \"type\": \"nominal\"}, \"tooltip\": [{\"field\": \"dbscan0\", \"type\": \"quantitative\"}, {\"field\": \"dbscan1\", \"type\": \"quantitative\"}, {\"field\": \"dbscan2\", \"type\": \"quantitative\"}, {\"field\": \"dbscan3\", \"type\": \"quantitative\"}, {\"field\": \"dbscan4\", \"type\": \"quantitative\"}, {\"field\": \"dbscan5\", \"type\": \"quantitative\"}], \"x\": {\"field\": \"DBP\", \"type\": \"quantitative\"}, \"y\": {\"field\": \"CAD\", \"type\": \"quantitative\"}}, \"name\": \"view_3\", \"title\": \"dbscan2\"}, {\"mark\": {\"type\": \"circle\", \"size\": 60}, \"encoding\": {\"color\": {\"field\": \"dbscan3\", \"type\": \"nominal\"}, \"tooltip\": [{\"field\": \"dbscan0\", \"type\": \"quantitative\"}, {\"field\": \"dbscan1\", \"type\": \"quantitative\"}, {\"field\": \"dbscan2\", \"type\": \"quantitative\"}, {\"field\": \"dbscan3\", \"type\": \"quantitative\"}, {\"field\": \"dbscan4\", \"type\": \"quantitative\"}, {\"field\": \"dbscan5\", \"type\": \"quantitative\"}], \"x\": {\"field\": \"DBP\", \"type\": \"quantitative\"}, \"y\": {\"field\": \"CAD\", \"type\": \"quantitative\"}}, \"name\": \"view_4\", \"title\": \"dbscan3\"}]}, {\"hconcat\": [{\"mark\": {\"type\": \"circle\", \"size\": 60}, \"encoding\": {\"color\": {\"field\": \"dbscan4\", \"type\": \"nominal\"}, \"tooltip\": [{\"field\": \"dbscan0\", \"type\": \"quantitative\"}, {\"field\": \"dbscan1\", \"type\": \"quantitative\"}, {\"field\": \"dbscan2\", \"type\": \"quantitative\"}, {\"field\": \"dbscan3\", \"type\": \"quantitative\"}, {\"field\": \"dbscan4\", \"type\": \"quantitative\"}, {\"field\": \"dbscan5\", \"type\": \"quantitative\"}], \"x\": {\"field\": \"DBP\", \"type\": \"quantitative\"}, \"y\": {\"field\": \"CAD\", \"type\": \"quantitative\"}}, \"name\": \"view_5\", \"title\": \"dbscan4\"}, {\"mark\": {\"type\": \"circle\", \"size\": 60}, \"encoding\": {\"color\": {\"field\": \"dbscan5\", \"type\": \"nominal\"}, \"tooltip\": [{\"field\": \"dbscan0\", \"type\": \"quantitative\"}, {\"field\": \"dbscan1\", \"type\": \"quantitative\"}, {\"field\": \"dbscan2\", \"type\": \"quantitative\"}, {\"field\": \"dbscan3\", \"type\": \"quantitative\"}, {\"field\": \"dbscan4\", \"type\": \"quantitative\"}, {\"field\": \"dbscan5\", \"type\": \"quantitative\"}], \"x\": {\"field\": \"DBP\", \"type\": \"quantitative\"}, \"y\": {\"field\": \"CAD\", \"type\": \"quantitative\"}}, \"name\": \"view_6\", \"title\": \"dbscan5\"}]}], \"data\": {\"name\": \"data-26265ef168e235cb7ec0f56ea8208f3b\"}, \"params\": [{\"name\": \"param_1\", \"select\": {\"type\": \"interval\", \"encodings\": [\"x\", \"y\"]}, \"bind\": \"scales\", \"views\": [\"view_1\"]}, {\"name\": \"param_2\", \"select\": {\"type\": \"interval\", \"encodings\": [\"x\", \"y\"]}, \"bind\": \"scales\", \"views\": [\"view_2\"]}, {\"name\": \"param_3\", \"select\": {\"type\": \"interval\", \"encodings\": [\"x\", \"y\"]}, \"bind\": \"scales\", \"views\": [\"view_3\"]}, {\"name\": \"param_4\", \"select\": {\"type\": \"interval\", \"encodings\": [\"x\", \"y\"]}, \"bind\": \"scales\", \"views\": [\"view_4\"]}, {\"name\": \"param_5\", \"select\": {\"type\": \"interval\", \"encodings\": [\"x\", \"y\"]}, \"bind\": \"scales\", \"views\": [\"view_5\"]}, {\"name\": \"param_6\", \"select\": {\"type\": \"interval\", \"encodings\": [\"x\", \"y\"]}, \"bind\": \"scales\", \"views\": [\"view_6\"]}], \"$schema\": \"https://vega.github.io/schema/vega-lite/v5.16.3.json\", \"datasets\": {\"data-26265ef168e235cb7ec0f56ea8208f3b\": [{\"DBP\": 0.2359, \"CAD\": -0.006, \"dbscan0\": -1, \"dbscan1\": 0, \"dbscan2\": 0, \"dbscan3\": 0, \"dbscan4\": 0, \"dbscan5\": 0}, {\"DBP\": 0.237, \"CAD\": 0.0017, \"dbscan0\": 0, \"dbscan1\": 1, \"dbscan2\": 0, \"dbscan3\": 0, \"dbscan4\": 0, \"dbscan5\": 0}, {\"DBP\": 0.4715, \"CAD\": 0.0356, \"dbscan0\": 1, \"dbscan1\": 2, \"dbscan2\": 0, \"dbscan3\": 0, \"dbscan4\": 0, \"dbscan5\": 0}, {\"DBP\": 0.1617, \"CAD\": 0.0141, \"dbscan0\": -1, \"dbscan1\": 2, \"dbscan2\": 0, \"dbscan3\": 0, \"dbscan4\": 0, \"dbscan5\": 0}, {\"DBP\": 0.1364, \"CAD\": 0.0125, \"dbscan0\": 2, \"dbscan1\": 2, \"dbscan2\": 0, \"dbscan3\": 0, \"dbscan4\": 0, \"dbscan5\": 0}, {\"DBP\": 0.1486, \"CAD\": 0.0089, \"dbscan0\": 3, \"dbscan1\": 3, \"dbscan2\": 0, \"dbscan3\": 0, \"dbscan4\": 0, \"dbscan5\": 0}, {\"DBP\": 0.2356, \"CAD\": 0.0248, \"dbscan0\": -1, \"dbscan1\": 4, \"dbscan2\": 0, \"dbscan3\": 0, \"dbscan4\": 0, \"dbscan5\": 0}, {\"DBP\": 0.1919, \"CAD\": -0.0034, \"dbscan0\": 4, \"dbscan1\": 0, \"dbscan2\": 0, \"dbscan3\": 0, \"dbscan4\": 0, \"dbscan5\": 0}, {\"DBP\": 0.3003, \"CAD\": -0.015, \"dbscan0\": 5, \"dbscan1\": 5, \"dbscan2\": 0, \"dbscan3\": 0, \"dbscan4\": 0, \"dbscan5\": 0}, {\"DBP\": 0.4546, \"CAD\": 0.064, \"dbscan0\": -1, \"dbscan1\": 6, \"dbscan2\": 0, \"dbscan3\": 0, \"dbscan4\": 0, \"dbscan5\": 0}, {\"DBP\": 0.1671, \"CAD\": -0.033, \"dbscan0\": -1, \"dbscan1\": -1, \"dbscan2\": 1, \"dbscan3\": 1, \"dbscan4\": 0, \"dbscan5\": 0}, {\"DBP\": 0.2424, \"CAD\": 0.0198, \"dbscan0\": -1, \"dbscan1\": 2, \"dbscan2\": 0, \"dbscan3\": 0, \"dbscan4\": 0, \"dbscan5\": 0}, {\"DBP\": 0.1595, \"CAD\": 0.0043, \"dbscan0\": -1, \"dbscan1\": 7, \"dbscan2\": 0, \"dbscan3\": 0, \"dbscan4\": 0, \"dbscan5\": 0}, {\"DBP\": 0.2772, \"CAD\": 0.021, \"dbscan0\": 1, \"dbscan1\": 2, \"dbscan2\": 0, \"dbscan3\": 0, \"dbscan4\": 0, \"dbscan5\": 0}, {\"DBP\": 0.3586, \"CAD\": 0.0243, \"dbscan0\": 3, \"dbscan1\": 3, \"dbscan2\": 0, \"dbscan3\": 0, \"dbscan4\": 0, \"dbscan5\": 0}, {\"DBP\": 0.148, \"CAD\": 0.0016, \"dbscan0\": 6, \"dbscan1\": 1, \"dbscan2\": 0, \"dbscan3\": 0, \"dbscan4\": 0, \"dbscan5\": 0}, {\"DBP\": 0.1767, \"CAD\": -0.0149, \"dbscan0\": -1, \"dbscan1\": 8, \"dbscan2\": 2, \"dbscan3\": 0, \"dbscan4\": 0, \"dbscan5\": 0}, {\"DBP\": 0.2799, \"CAD\": 0.0339, \"dbscan0\": 7, \"dbscan1\": 9, \"dbscan2\": 0, \"dbscan3\": 0, \"dbscan4\": 0, \"dbscan5\": 0}, {\"DBP\": 0.1886, \"CAD\": 0.027, \"dbscan0\": -1, \"dbscan1\": 6, \"dbscan2\": 0, \"dbscan3\": 0, \"dbscan4\": 0, \"dbscan5\": 0}, {\"DBP\": 0.2997, \"CAD\": 0.0104, \"dbscan0\": 8, \"dbscan1\": 7, \"dbscan2\": 0, \"dbscan3\": 0, \"dbscan4\": 0, \"dbscan5\": 0}, {\"DBP\": 0.2043, \"CAD\": 0.0268, \"dbscan0\": 9, \"dbscan1\": 10, \"dbscan2\": 0, \"dbscan3\": 0, \"dbscan4\": 0, \"dbscan5\": 0}, {\"DBP\": 0.1578, \"CAD\": 0.0037, \"dbscan0\": 10, \"dbscan1\": 7, \"dbscan2\": 0, \"dbscan3\": 0, \"dbscan4\": 0, \"dbscan5\": 0}, {\"DBP\": 0.1612, \"CAD\": 0.0075, \"dbscan0\": -1, \"dbscan1\": 7, \"dbscan2\": 0, \"dbscan3\": 0, \"dbscan4\": 0, \"dbscan5\": 0}, {\"DBP\": 0.1332, \"CAD\": -0.0164, \"dbscan0\": -1, \"dbscan1\": 11, \"dbscan2\": 3, \"dbscan3\": 0, \"dbscan4\": 0, \"dbscan5\": 0}, {\"DBP\": 0.1879, \"CAD\": -0.0041, \"dbscan0\": -1, \"dbscan1\": 0, \"dbscan2\": 0, \"dbscan3\": 0, \"dbscan4\": 0, \"dbscan5\": 0}, {\"DBP\": 0.1588, \"CAD\": 0.018, \"dbscan0\": 11, \"dbscan1\": 4, \"dbscan2\": 0, \"dbscan3\": 0, \"dbscan4\": 0, \"dbscan5\": 0}, {\"DBP\": 0.3632, \"CAD\": 0.0305, \"dbscan0\": -1, \"dbscan1\": 2, \"dbscan2\": 0, \"dbscan3\": 0, \"dbscan4\": 0, \"dbscan5\": 0}, {\"DBP\": 0.1823, \"CAD\": 0.0399, \"dbscan0\": -1, \"dbscan1\": -1, \"dbscan2\": 4, \"dbscan3\": 0, \"dbscan4\": 0, \"dbscan5\": 0}, {\"DBP\": 0.441, \"CAD\": 0.0576, \"dbscan0\": 9, \"dbscan1\": 10, \"dbscan2\": 0, \"dbscan3\": 0, \"dbscan4\": 0, \"dbscan5\": 0}, {\"DBP\": 0.1856, \"CAD\": 0.0213, \"dbscan0\": 11, \"dbscan1\": 4, \"dbscan2\": 0, \"dbscan3\": 0, \"dbscan4\": 0, \"dbscan5\": 0}, {\"DBP\": 0.2201, \"CAD\": 0.009, \"dbscan0\": 12, \"dbscan1\": 7, \"dbscan2\": 0, \"dbscan3\": 0, \"dbscan4\": 0, \"dbscan5\": 0}, {\"DBP\": 0.1644, \"CAD\": 0.004, \"dbscan0\": 10, \"dbscan1\": 7, \"dbscan2\": 0, \"dbscan3\": 0, \"dbscan4\": 0, \"dbscan5\": 0}, {\"DBP\": 0.2713, \"CAD\": 0.0359, \"dbscan0\": 9, \"dbscan1\": 10, \"dbscan2\": 0, \"dbscan3\": 0, \"dbscan4\": 0, \"dbscan5\": 0}, {\"DBP\": 0.2306, \"CAD\": -0.0044, \"dbscan0\": 4, \"dbscan1\": 0, \"dbscan2\": 0, \"dbscan3\": 0, \"dbscan4\": 0, \"dbscan5\": 0}, {\"DBP\": 0.4076, \"CAD\": -0.0554, \"dbscan0\": -1, \"dbscan1\": -1, \"dbscan2\": 3, \"dbscan3\": 0, \"dbscan4\": 0, \"dbscan5\": 0}, {\"DBP\": 0.215, \"CAD\": 0.0016, \"dbscan0\": 0, \"dbscan1\": 1, \"dbscan2\": 0, \"dbscan3\": 0, \"dbscan4\": 0, \"dbscan5\": 0}, {\"DBP\": 0.1328, \"CAD\": 0.0056, \"dbscan0\": 12, \"dbscan1\": 7, \"dbscan2\": 0, \"dbscan3\": 0, \"dbscan4\": 0, \"dbscan5\": 0}, {\"DBP\": 0.3725, \"CAD\": 0.0237, \"dbscan0\": 3, \"dbscan1\": 3, \"dbscan2\": 0, \"dbscan3\": 0, \"dbscan4\": 0, \"dbscan5\": 0}, {\"DBP\": 0.3529, \"CAD\": 0.0656, \"dbscan0\": -1, \"dbscan1\": -1, \"dbscan2\": 4, \"dbscan3\": 0, \"dbscan4\": 0, \"dbscan5\": 0}, {\"DBP\": 0.1883, \"CAD\": 0.0103, \"dbscan0\": -1, \"dbscan1\": 3, \"dbscan2\": 0, \"dbscan3\": 0, \"dbscan4\": 0, \"dbscan5\": 0}, {\"DBP\": 0.253, \"CAD\": 0.0058, \"dbscan0\": 10, \"dbscan1\": 7, \"dbscan2\": 0, \"dbscan3\": 0, \"dbscan4\": 0, \"dbscan5\": 0}, {\"DBP\": 0.1572, \"CAD\": -0.006, \"dbscan0\": 13, \"dbscan1\": 12, \"dbscan2\": 0, \"dbscan3\": 0, \"dbscan4\": 0, \"dbscan5\": 0}, {\"DBP\": 0.1561, \"CAD\": 0.0146, \"dbscan0\": 2, \"dbscan1\": 2, \"dbscan2\": 0, \"dbscan3\": 0, \"dbscan4\": 0, \"dbscan5\": 0}, {\"DBP\": 0.2219, \"CAD\": -0.0083, \"dbscan0\": 13, \"dbscan1\": 12, \"dbscan2\": 0, \"dbscan3\": 0, \"dbscan4\": 0, \"dbscan5\": 0}, {\"DBP\": 0.1502, \"CAD\": 0.0049, \"dbscan0\": 8, \"dbscan1\": 7, \"dbscan2\": 0, \"dbscan3\": 0, \"dbscan4\": 0, \"dbscan5\": 0}, {\"DBP\": 0.1889, \"CAD\": 0.0469, \"dbscan0\": -1, \"dbscan1\": -1, \"dbscan2\": 5, \"dbscan3\": 0, \"dbscan4\": 0, \"dbscan5\": 0}, {\"DBP\": 0.2476, \"CAD\": 0.0371, \"dbscan0\": 14, \"dbscan1\": 6, \"dbscan2\": 0, \"dbscan3\": 0, \"dbscan4\": 0, \"dbscan5\": 0}, {\"DBP\": 0.2483, \"CAD\": 0.0245, \"dbscan0\": 15, \"dbscan1\": 4, \"dbscan2\": 0, \"dbscan3\": 0, \"dbscan4\": 0, \"dbscan5\": 0}, {\"DBP\": 0.1832, \"CAD\": 0.0114, \"dbscan0\": 3, \"dbscan1\": 3, \"dbscan2\": 0, \"dbscan3\": 0, \"dbscan4\": 0, \"dbscan5\": 0}, {\"DBP\": 0.6128, \"CAD\": -0.0104, \"dbscan0\": 4, \"dbscan1\": 0, \"dbscan2\": 0, \"dbscan3\": 0, \"dbscan4\": 0, \"dbscan5\": 0}, {\"DBP\": 0.1774, \"CAD\": 0.0003, \"dbscan0\": 16, \"dbscan1\": 13, \"dbscan2\": 0, \"dbscan3\": 0, \"dbscan4\": 0, \"dbscan5\": 0}, {\"DBP\": 0.1411, \"CAD\": 0.013, \"dbscan0\": 2, \"dbscan1\": 2, \"dbscan2\": 0, \"dbscan3\": 0, \"dbscan4\": 0, \"dbscan5\": 0}, {\"DBP\": 0.3415, \"CAD\": 0.0345, \"dbscan0\": 17, \"dbscan1\": 4, \"dbscan2\": 0, \"dbscan3\": 0, \"dbscan4\": 0, \"dbscan5\": 0}, {\"DBP\": 0.2336, \"CAD\": -0.0278, \"dbscan0\": -1, \"dbscan1\": 11, \"dbscan2\": 3, \"dbscan3\": 0, \"dbscan4\": 0, \"dbscan5\": 0}, {\"DBP\": 0.1301, \"CAD\": -0.0164, \"dbscan0\": -1, \"dbscan1\": 11, \"dbscan2\": 3, \"dbscan3\": 0, \"dbscan4\": 0, \"dbscan5\": 0}, {\"DBP\": 0.3389, \"CAD\": 0.0127, \"dbscan0\": 18, \"dbscan1\": 7, \"dbscan2\": 0, \"dbscan3\": 0, \"dbscan4\": 0, \"dbscan5\": 0}, {\"DBP\": 0.1912, \"CAD\": -0.0204, \"dbscan0\": -1, \"dbscan1\": -1, \"dbscan2\": 3, \"dbscan3\": 0, \"dbscan4\": 0, \"dbscan5\": 0}, {\"DBP\": 0.2625, \"CAD\": 0.02, \"dbscan0\": 1, \"dbscan1\": 2, \"dbscan2\": 0, \"dbscan3\": 0, \"dbscan4\": 0, \"dbscan5\": 0}, {\"DBP\": 0.2819, \"CAD\": 0.0095, \"dbscan0\": 8, \"dbscan1\": 7, \"dbscan2\": 0, \"dbscan3\": 0, \"dbscan4\": 0, \"dbscan5\": 0}, {\"DBP\": 0.1804, \"CAD\": 0.0244, \"dbscan0\": -1, \"dbscan1\": 10, \"dbscan2\": 0, \"dbscan3\": 0, \"dbscan4\": 0, \"dbscan5\": 0}, {\"DBP\": 0.1875, \"CAD\": 0.002, \"dbscan0\": 6, \"dbscan1\": 1, \"dbscan2\": 0, \"dbscan3\": 0, \"dbscan4\": 0, \"dbscan5\": 0}, {\"DBP\": 0.1436, \"CAD\": 0.0049, \"dbscan0\": 8, \"dbscan1\": 7, \"dbscan2\": 0, \"dbscan3\": 0, \"dbscan4\": 0, \"dbscan5\": 0}, {\"DBP\": 0.1378, \"CAD\": 0.0327, \"dbscan0\": -1, \"dbscan1\": -1, \"dbscan2\": 5, \"dbscan3\": 0, \"dbscan4\": 0, \"dbscan5\": 0}, {\"DBP\": 0.1395, \"CAD\": 0.0282, \"dbscan0\": -1, \"dbscan1\": -1, \"dbscan2\": 4, \"dbscan3\": 0, \"dbscan4\": 0, \"dbscan5\": 0}, {\"DBP\": 0.2792, \"CAD\": 0.0083, \"dbscan0\": -1, \"dbscan1\": 7, \"dbscan2\": 0, \"dbscan3\": 0, \"dbscan4\": 0, \"dbscan5\": 0}, {\"DBP\": 0.1342, \"CAD\": -0.0022, \"dbscan0\": 4, \"dbscan1\": 0, \"dbscan2\": 0, \"dbscan3\": 0, \"dbscan4\": 0, \"dbscan5\": 0}, {\"DBP\": 0.36, \"CAD\": 0.0237, \"dbscan0\": 3, \"dbscan1\": 3, \"dbscan2\": 0, \"dbscan3\": 0, \"dbscan4\": 0, \"dbscan5\": 0}, {\"DBP\": 0.1737, \"CAD\": 0.0069, \"dbscan0\": 12, \"dbscan1\": 7, \"dbscan2\": 0, \"dbscan3\": 0, \"dbscan4\": 0, \"dbscan5\": 0}, {\"DBP\": 0.1499, \"CAD\": -0.0016, \"dbscan0\": -1, \"dbscan1\": 14, \"dbscan2\": 0, \"dbscan3\": 0, \"dbscan4\": 0, \"dbscan5\": 0}, {\"DBP\": 0.239, \"CAD\": 0.0212, \"dbscan0\": 19, \"dbscan1\": 2, \"dbscan2\": 0, \"dbscan3\": 0, \"dbscan4\": 0, \"dbscan5\": 0}, {\"DBP\": 0.1238, \"CAD\": -0.0101, \"dbscan0\": -1, \"dbscan1\": 8, \"dbscan2\": 2, \"dbscan3\": 0, \"dbscan4\": 0, \"dbscan5\": 0}, {\"DBP\": 0.4801, \"CAD\": 0.0379, \"dbscan0\": -1, \"dbscan1\": 2, \"dbscan2\": 0, \"dbscan3\": 0, \"dbscan4\": 0, \"dbscan5\": 0}, {\"DBP\": 0.1415, \"CAD\": 0.0173, \"dbscan0\": 7, \"dbscan1\": 9, \"dbscan2\": 0, \"dbscan3\": 0, \"dbscan4\": 0, \"dbscan5\": 0}, {\"DBP\": 0.2479, \"CAD\": 0.0161, \"dbscan0\": 3, \"dbscan1\": 3, \"dbscan2\": 0, \"dbscan3\": 0, \"dbscan4\": 0, \"dbscan5\": 0}, {\"DBP\": 0.1687, \"CAD\": 0.0255, \"dbscan0\": 14, \"dbscan1\": 6, \"dbscan2\": 0, \"dbscan3\": 0, \"dbscan4\": 0, \"dbscan5\": 0}, {\"DBP\": 0.1472, \"CAD\": 0.0184, \"dbscan0\": -1, \"dbscan1\": 9, \"dbscan2\": 0, \"dbscan3\": 0, \"dbscan4\": 0, \"dbscan5\": 0}, {\"DBP\": 0.146, \"CAD\": 0.0149, \"dbscan0\": 17, \"dbscan1\": 4, \"dbscan2\": 0, \"dbscan3\": 0, \"dbscan4\": 0, \"dbscan5\": 0}, {\"DBP\": 0.1699, \"CAD\": 0.0593, \"dbscan0\": -1, \"dbscan1\": -1, \"dbscan2\": -1, \"dbscan3\": 2, \"dbscan4\": 0, \"dbscan5\": 0}, {\"DBP\": 0.4, \"CAD\": -0.0012, \"dbscan0\": -1, \"dbscan1\": 13, \"dbscan2\": 0, \"dbscan3\": 0, \"dbscan4\": 0, \"dbscan5\": 0}, {\"DBP\": 0.25, \"CAD\": 0.0059, \"dbscan0\": 10, \"dbscan1\": 7, \"dbscan2\": 0, \"dbscan3\": 0, \"dbscan4\": 0, \"dbscan5\": 0}, {\"DBP\": 0.126, \"CAD\": -0.0011, \"dbscan0\": -1, \"dbscan1\": 14, \"dbscan2\": 0, \"dbscan3\": 0, \"dbscan4\": 0, \"dbscan5\": 0}, {\"DBP\": 0.1835, \"CAD\": 0.0123, \"dbscan0\": 3, \"dbscan1\": 3, \"dbscan2\": 0, \"dbscan3\": 0, \"dbscan4\": 0, \"dbscan5\": 0}, {\"DBP\": 0.3264, \"CAD\": -0.0163, \"dbscan0\": 5, \"dbscan1\": 5, \"dbscan2\": 0, \"dbscan3\": 0, \"dbscan4\": 0, \"dbscan5\": 0}, {\"DBP\": 0.2209, \"CAD\": 0.0346, \"dbscan0\": -1, \"dbscan1\": -1, \"dbscan2\": 0, \"dbscan3\": 0, \"dbscan4\": 0, \"dbscan5\": 0}, {\"DBP\": 0.128, \"CAD\": 0.0048, \"dbscan0\": 18, \"dbscan1\": 7, \"dbscan2\": 0, \"dbscan3\": 0, \"dbscan4\": 0, \"dbscan5\": 0}, {\"DBP\": 0.1426, \"CAD\": 0.0131, \"dbscan0\": 2, \"dbscan1\": 2, \"dbscan2\": 0, \"dbscan3\": 0, \"dbscan4\": 0, \"dbscan5\": 0}, {\"DBP\": 0.1637, \"CAD\": -0.0166, \"dbscan0\": -1, \"dbscan1\": -1, \"dbscan2\": 3, \"dbscan3\": 0, \"dbscan4\": 0, \"dbscan5\": 0}, {\"DBP\": 0.6042, \"CAD\": 0.0003, \"dbscan0\": 16, \"dbscan1\": 13, \"dbscan2\": 0, \"dbscan3\": 0, \"dbscan4\": 0, \"dbscan5\": 0}, {\"DBP\": 0.2144, \"CAD\": 0.0135, \"dbscan0\": 3, \"dbscan1\": 3, \"dbscan2\": 0, \"dbscan3\": 0, \"dbscan4\": 0, \"dbscan5\": 0}, {\"DBP\": 0.1712, \"CAD\": 0.0183, \"dbscan0\": -1, \"dbscan1\": 4, \"dbscan2\": 0, \"dbscan3\": 0, \"dbscan4\": 0, \"dbscan5\": 0}, {\"DBP\": 0.1251, \"CAD\": 0.026, \"dbscan0\": -1, \"dbscan1\": -1, \"dbscan2\": 4, \"dbscan3\": 0, \"dbscan4\": 0, \"dbscan5\": 0}, {\"DBP\": 0.2307, \"CAD\": 0.0595, \"dbscan0\": -1, \"dbscan1\": -1, \"dbscan2\": 5, \"dbscan3\": 0, \"dbscan4\": 0, \"dbscan5\": 0}, {\"DBP\": 0.1349, \"CAD\": 0.0147, \"dbscan0\": -1, \"dbscan1\": 4, \"dbscan2\": 0, \"dbscan3\": 0, \"dbscan4\": 0, \"dbscan5\": 0}, {\"DBP\": 0.4107, \"CAD\": 0.0382, \"dbscan0\": 2, \"dbscan1\": 2, \"dbscan2\": 0, \"dbscan3\": 0, \"dbscan4\": 0, \"dbscan5\": 0}, {\"DBP\": 0.1321, \"CAD\": 0.0017, \"dbscan0\": -1, \"dbscan1\": 1, \"dbscan2\": 0, \"dbscan3\": 0, \"dbscan4\": 0, \"dbscan5\": 0}, {\"DBP\": 0.2182, \"CAD\": 0.0095, \"dbscan0\": 12, \"dbscan1\": 7, \"dbscan2\": 0, \"dbscan3\": 0, \"dbscan4\": 0, \"dbscan5\": 0}, {\"DBP\": 0.1463, \"CAD\": 0.0089, \"dbscan0\": 3, \"dbscan1\": 3, \"dbscan2\": 0, \"dbscan3\": 0, \"dbscan4\": 0, \"dbscan5\": 0}, {\"DBP\": 0.1789, \"CAD\": 0.0165, \"dbscan0\": 2, \"dbscan1\": 2, \"dbscan2\": 0, \"dbscan3\": 0, \"dbscan4\": 0, \"dbscan5\": 0}, {\"DBP\": 0.2582, \"CAD\": 0.0188, \"dbscan0\": 20, \"dbscan1\": 2, \"dbscan2\": 0, \"dbscan3\": 0, \"dbscan4\": 0, \"dbscan5\": 0}, {\"DBP\": 0.2542, \"CAD\": 0.0, \"dbscan0\": 16, \"dbscan1\": 13, \"dbscan2\": 0, \"dbscan3\": 0, \"dbscan4\": 0, \"dbscan5\": 0}, {\"DBP\": 0.5058, \"CAD\": 0.045, \"dbscan0\": 19, \"dbscan1\": 2, \"dbscan2\": 0, \"dbscan3\": 0, \"dbscan4\": 0, \"dbscan5\": 0}, {\"DBP\": 0.2735, \"CAD\": 0.0414, \"dbscan0\": 14, \"dbscan1\": 6, \"dbscan2\": 0, \"dbscan3\": 0, \"dbscan4\": 0, \"dbscan5\": 0}, {\"DBP\": 0.3791, \"CAD\": -0.0131, \"dbscan0\": -1, \"dbscan1\": 12, \"dbscan2\": 0, \"dbscan3\": 0, \"dbscan4\": 0, \"dbscan5\": 0}, {\"DBP\": 0.1552, \"CAD\": 0.0176, \"dbscan0\": 11, \"dbscan1\": 4, \"dbscan2\": 0, \"dbscan3\": 0, \"dbscan4\": 0, \"dbscan5\": 0}, {\"DBP\": 0.142, \"CAD\": 0.0548, \"dbscan0\": -1, \"dbscan1\": -1, \"dbscan2\": -1, \"dbscan3\": 2, \"dbscan4\": 0, \"dbscan5\": 0}, {\"DBP\": 0.5454, \"CAD\": 0.1071, \"dbscan0\": -1, \"dbscan1\": -1, \"dbscan2\": 4, \"dbscan3\": 0, \"dbscan4\": 0, \"dbscan5\": 0}, {\"DBP\": 0.2109, \"CAD\": 0.0218, \"dbscan0\": 17, \"dbscan1\": 4, \"dbscan2\": 0, \"dbscan3\": 0, \"dbscan4\": 0, \"dbscan5\": 0}, {\"DBP\": 0.198, \"CAD\": 0.0105, \"dbscan0\": -1, \"dbscan1\": 3, \"dbscan2\": 0, \"dbscan3\": 0, \"dbscan4\": 0, \"dbscan5\": 0}, {\"DBP\": 0.3308, \"CAD\": 0.0191, \"dbscan0\": -1, \"dbscan1\": 3, \"dbscan2\": 0, \"dbscan3\": 0, \"dbscan4\": 0, \"dbscan5\": 0}, {\"DBP\": 0.241, \"CAD\": 0.0108, \"dbscan0\": 12, \"dbscan1\": 7, \"dbscan2\": 0, \"dbscan3\": 0, \"dbscan4\": 0, \"dbscan5\": 0}, {\"DBP\": 0.1324, \"CAD\": 0.0003, \"dbscan0\": 16, \"dbscan1\": 13, \"dbscan2\": 0, \"dbscan3\": 0, \"dbscan4\": 0, \"dbscan5\": 0}, {\"DBP\": 0.1409, \"CAD\": -0.0054, \"dbscan0\": 13, \"dbscan1\": 12, \"dbscan2\": 0, \"dbscan3\": 0, \"dbscan4\": 0, \"dbscan5\": 0}, {\"DBP\": 0.2869, \"CAD\": 0.0186, \"dbscan0\": 3, \"dbscan1\": 3, \"dbscan2\": 0, \"dbscan3\": 0, \"dbscan4\": 0, \"dbscan5\": 0}, {\"DBP\": 0.1966, \"CAD\": 0.0143, \"dbscan0\": 20, \"dbscan1\": 2, \"dbscan2\": 0, \"dbscan3\": 0, \"dbscan4\": 0, \"dbscan5\": 0}, {\"DBP\": 0.4, \"CAD\": 0.0586, \"dbscan0\": -1, \"dbscan1\": 6, \"dbscan2\": 0, \"dbscan3\": 0, \"dbscan4\": 0, \"dbscan5\": 0}, {\"DBP\": 0.1327, \"CAD\": -0.0269, \"dbscan0\": -1, \"dbscan1\": -1, \"dbscan2\": 1, \"dbscan3\": 1, \"dbscan4\": 0, \"dbscan5\": 0}, {\"DBP\": 0.3647, \"CAD\": 0.0359, \"dbscan0\": 15, \"dbscan1\": 4, \"dbscan2\": 0, \"dbscan3\": 0, \"dbscan4\": 0, \"dbscan5\": 0}, {\"DBP\": 0.1691, \"CAD\": -0.0028, \"dbscan0\": 4, \"dbscan1\": 0, \"dbscan2\": 0, \"dbscan3\": 0, \"dbscan4\": 0, \"dbscan5\": 0}]}}, {\"mode\": \"vega-lite\"});\n",
       "</script>"
      ],
      "text/plain": [
       "alt.VConcatChart(...)"
      ]
     },
     "execution_count": 8,
     "metadata": {},
     "output_type": "execute_result"
    }
   ],
   "source": [
    "\n",
    "# Display charts\n",
    "display(Markdown(\"# Plots with increaseing eps\"))\n",
    "(dbscan_charts[eps_labels[0]] | dbscan_charts[eps_labels[1]]) & (dbscan_charts[eps_labels[2]] | dbscan_charts[eps_labels[3]]) & (dbscan_charts[eps_labels[4]] | dbscan_charts[eps_labels[5]])\n"
   ]
  },
  {
   "cell_type": "markdown",
   "metadata": {},
   "source": [
    "### Cluster with k-means"
   ]
  },
  {
   "cell_type": "code",
   "execution_count": 9,
   "metadata": {},
   "outputs": [],
   "source": [
    "# K-Means\n",
    "nclust = 4\n",
    "#beta_crop = beta_df.loc[:,[col1,col2]]\n",
    "kmeans = KMeans(n_clusters= nclust, random_state=0, n_init=\"auto\").fit(sims)\n",
    "klab = 'kmeans%d'%nclust\n",
    "results[klab] = kmeans.labels_"
   ]
  },
  {
   "cell_type": "markdown",
   "metadata": {},
   "source": [
    "### Cluster with GMM"
   ]
  },
  {
   "cell_type": "code",
   "execution_count": 10,
   "metadata": {},
   "outputs": [],
   "source": [
    "# GMM\n",
    "#beta_crop = beta_df.loc[:,[col1,col2]]\n",
    "gmm = GaussianMixture(n_components=5, covariance_type=\"diag\", random_state=0).fit(sims)\n",
    "results['mixture'] = gmm.predict(sims)\n"
   ]
  },
  {
   "cell_type": "markdown",
   "metadata": {},
   "source": [
    "### Cluster with Birch"
   ]
  },
  {
   "cell_type": "code",
   "execution_count": 11,
   "metadata": {},
   "outputs": [],
   "source": [
    "\n",
    "# Birch\n",
    "#beta_crop = beta_df.loc[:,[col1,col2]]\n",
    "thresh_list = [1E-2,2.5E-2, 5E-2, 1E-1, 0.25, 0.5]\n",
    "birch_labels = ['birch_%d'%i for i in range(len(thresh_list))]\n",
    "birch_charts = {}\n",
    "for i, thresh in enumerate(thresh_list):\n",
    "    brc = Birch(n_clusters=None, threshold=thresh, branching_factor=50).fit(sims)\n",
    "    collab = birch_labels[i]\n",
    "    tooltip = birch_labels\n",
    "    results[collab] = brc.predict(sims)\n",
    "    birch_charts[collab] = chartclusters(results, collab, collab+\":N\", tooltip)\n",
    "\n"
   ]
  },
  {
   "cell_type": "code",
   "execution_count": 12,
   "metadata": {},
   "outputs": [
    {
     "data": {
      "text/markdown": [
       "# Plots with increaseing threshold"
      ],
      "text/plain": [
       "<IPython.core.display.Markdown object>"
      ]
     },
     "metadata": {},
     "output_type": "display_data"
    },
    {
     "data": {
      "text/html": [
       "\n",
       "<style>\n",
       "  #altair-viz-b3dcae5f431b4b3fb6b1f905e67f6f03.vega-embed {\n",
       "    width: 100%;\n",
       "    display: flex;\n",
       "  }\n",
       "\n",
       "  #altair-viz-b3dcae5f431b4b3fb6b1f905e67f6f03.vega-embed details,\n",
       "  #altair-viz-b3dcae5f431b4b3fb6b1f905e67f6f03.vega-embed details summary {\n",
       "    position: relative;\n",
       "  }\n",
       "</style>\n",
       "<div id=\"altair-viz-b3dcae5f431b4b3fb6b1f905e67f6f03\"></div>\n",
       "<script type=\"text/javascript\">\n",
       "  var VEGA_DEBUG = (typeof VEGA_DEBUG == \"undefined\") ? {} : VEGA_DEBUG;\n",
       "  (function(spec, embedOpt){\n",
       "    let outputDiv = document.currentScript.previousElementSibling;\n",
       "    if (outputDiv.id !== \"altair-viz-b3dcae5f431b4b3fb6b1f905e67f6f03\") {\n",
       "      outputDiv = document.getElementById(\"altair-viz-b3dcae5f431b4b3fb6b1f905e67f6f03\");\n",
       "    }\n",
       "    const paths = {\n",
       "      \"vega\": \"https://cdn.jsdelivr.net/npm/vega@5?noext\",\n",
       "      \"vega-lib\": \"https://cdn.jsdelivr.net/npm/vega-lib?noext\",\n",
       "      \"vega-lite\": \"https://cdn.jsdelivr.net/npm/vega-lite@5.16.3?noext\",\n",
       "      \"vega-embed\": \"https://cdn.jsdelivr.net/npm/vega-embed@6?noext\",\n",
       "    };\n",
       "\n",
       "    function maybeLoadScript(lib, version) {\n",
       "      var key = `${lib.replace(\"-\", \"\")}_version`;\n",
       "      return (VEGA_DEBUG[key] == version) ?\n",
       "        Promise.resolve(paths[lib]) :\n",
       "        new Promise(function(resolve, reject) {\n",
       "          var s = document.createElement('script');\n",
       "          document.getElementsByTagName(\"head\")[0].appendChild(s);\n",
       "          s.async = true;\n",
       "          s.onload = () => {\n",
       "            VEGA_DEBUG[key] = version;\n",
       "            return resolve(paths[lib]);\n",
       "          };\n",
       "          s.onerror = () => reject(`Error loading script: ${paths[lib]}`);\n",
       "          s.src = paths[lib];\n",
       "        });\n",
       "    }\n",
       "\n",
       "    function showError(err) {\n",
       "      outputDiv.innerHTML = `<div class=\"error\" style=\"color:red;\">${err}</div>`;\n",
       "      throw err;\n",
       "    }\n",
       "\n",
       "    function displayChart(vegaEmbed) {\n",
       "      vegaEmbed(outputDiv, spec, embedOpt)\n",
       "        .catch(err => showError(`Javascript Error: ${err.message}<br>This usually means there's a typo in your chart specification. See the javascript console for the full traceback.`));\n",
       "    }\n",
       "\n",
       "    if(typeof define === \"function\" && define.amd) {\n",
       "      requirejs.config({paths});\n",
       "      require([\"vega-embed\"], displayChart, err => showError(`Error loading script: ${err.message}`));\n",
       "    } else {\n",
       "      maybeLoadScript(\"vega\", \"5\")\n",
       "        .then(() => maybeLoadScript(\"vega-lite\", \"5.16.3\"))\n",
       "        .then(() => maybeLoadScript(\"vega-embed\", \"6\"))\n",
       "        .catch(showError)\n",
       "        .then(() => displayChart(vegaEmbed));\n",
       "    }\n",
       "  })({\"config\": {\"view\": {\"continuousWidth\": 300, \"continuousHeight\": 300}}, \"vconcat\": [{\"hconcat\": [{\"mark\": {\"type\": \"circle\", \"size\": 60}, \"encoding\": {\"color\": {\"field\": \"birch_0\", \"type\": \"nominal\"}, \"tooltip\": [{\"field\": \"birch_0\", \"type\": \"quantitative\"}, {\"field\": \"birch_1\", \"type\": \"quantitative\"}, {\"field\": \"birch_2\", \"type\": \"quantitative\"}, {\"field\": \"birch_3\", \"type\": \"quantitative\"}, {\"field\": \"birch_4\", \"type\": \"quantitative\"}, {\"field\": \"birch_5\", \"type\": \"quantitative\"}], \"x\": {\"field\": \"DBP\", \"type\": \"quantitative\"}, \"y\": {\"field\": \"CAD\", \"type\": \"quantitative\"}}, \"name\": \"view_7\", \"title\": \"birch_0\"}, {\"mark\": {\"type\": \"circle\", \"size\": 60}, \"encoding\": {\"color\": {\"field\": \"birch_1\", \"type\": \"nominal\"}, \"tooltip\": [{\"field\": \"birch_0\", \"type\": \"quantitative\"}, {\"field\": \"birch_1\", \"type\": \"quantitative\"}, {\"field\": \"birch_2\", \"type\": \"quantitative\"}, {\"field\": \"birch_3\", \"type\": \"quantitative\"}, {\"field\": \"birch_4\", \"type\": \"quantitative\"}, {\"field\": \"birch_5\", \"type\": \"quantitative\"}], \"x\": {\"field\": \"DBP\", \"type\": \"quantitative\"}, \"y\": {\"field\": \"CAD\", \"type\": \"quantitative\"}}, \"name\": \"view_8\", \"title\": \"birch_1\"}]}, {\"hconcat\": [{\"mark\": {\"type\": \"circle\", \"size\": 60}, \"encoding\": {\"color\": {\"field\": \"birch_2\", \"type\": \"nominal\"}, \"tooltip\": [{\"field\": \"birch_0\", \"type\": \"quantitative\"}, {\"field\": \"birch_1\", \"type\": \"quantitative\"}, {\"field\": \"birch_2\", \"type\": \"quantitative\"}, {\"field\": \"birch_3\", \"type\": \"quantitative\"}, {\"field\": \"birch_4\", \"type\": \"quantitative\"}, {\"field\": \"birch_5\", \"type\": \"quantitative\"}], \"x\": {\"field\": \"DBP\", \"type\": \"quantitative\"}, \"y\": {\"field\": \"CAD\", \"type\": \"quantitative\"}}, \"name\": \"view_9\", \"title\": \"birch_2\"}, {\"mark\": {\"type\": \"circle\", \"size\": 60}, \"encoding\": {\"color\": {\"field\": \"birch_3\", \"type\": \"nominal\"}, \"tooltip\": [{\"field\": \"birch_0\", \"type\": \"quantitative\"}, {\"field\": \"birch_1\", \"type\": \"quantitative\"}, {\"field\": \"birch_2\", \"type\": \"quantitative\"}, {\"field\": \"birch_3\", \"type\": \"quantitative\"}, {\"field\": \"birch_4\", \"type\": \"quantitative\"}, {\"field\": \"birch_5\", \"type\": \"quantitative\"}], \"x\": {\"field\": \"DBP\", \"type\": \"quantitative\"}, \"y\": {\"field\": \"CAD\", \"type\": \"quantitative\"}}, \"name\": \"view_10\", \"title\": \"birch_3\"}]}, {\"hconcat\": [{\"mark\": {\"type\": \"circle\", \"size\": 60}, \"encoding\": {\"color\": {\"field\": \"birch_4\", \"type\": \"nominal\"}, \"tooltip\": [{\"field\": \"birch_0\", \"type\": \"quantitative\"}, {\"field\": \"birch_1\", \"type\": \"quantitative\"}, {\"field\": \"birch_2\", \"type\": \"quantitative\"}, {\"field\": \"birch_3\", \"type\": \"quantitative\"}, {\"field\": \"birch_4\", \"type\": \"quantitative\"}, {\"field\": \"birch_5\", \"type\": \"quantitative\"}], \"x\": {\"field\": \"DBP\", \"type\": \"quantitative\"}, \"y\": {\"field\": \"CAD\", \"type\": \"quantitative\"}}, \"name\": \"view_11\", \"title\": \"birch_4\"}, {\"mark\": {\"type\": \"circle\", \"size\": 60}, \"encoding\": {\"color\": {\"field\": \"birch_5\", \"type\": \"nominal\"}, \"tooltip\": [{\"field\": \"birch_0\", \"type\": \"quantitative\"}, {\"field\": \"birch_1\", \"type\": \"quantitative\"}, {\"field\": \"birch_2\", \"type\": \"quantitative\"}, {\"field\": \"birch_3\", \"type\": \"quantitative\"}, {\"field\": \"birch_4\", \"type\": \"quantitative\"}, {\"field\": \"birch_5\", \"type\": \"quantitative\"}], \"x\": {\"field\": \"DBP\", \"type\": \"quantitative\"}, \"y\": {\"field\": \"CAD\", \"type\": \"quantitative\"}}, \"name\": \"view_12\", \"title\": \"birch_5\"}]}], \"data\": {\"name\": \"data-ed0052fa0d856f38ca689290bba1f615\"}, \"params\": [{\"name\": \"param_7\", \"select\": {\"type\": \"interval\", \"encodings\": [\"x\", \"y\"]}, \"bind\": \"scales\", \"views\": [\"view_7\"]}, {\"name\": \"param_8\", \"select\": {\"type\": \"interval\", \"encodings\": [\"x\", \"y\"]}, \"bind\": \"scales\", \"views\": [\"view_8\"]}, {\"name\": \"param_9\", \"select\": {\"type\": \"interval\", \"encodings\": [\"x\", \"y\"]}, \"bind\": \"scales\", \"views\": [\"view_9\"]}, {\"name\": \"param_10\", \"select\": {\"type\": \"interval\", \"encodings\": [\"x\", \"y\"]}, \"bind\": \"scales\", \"views\": [\"view_10\"]}, {\"name\": \"param_11\", \"select\": {\"type\": \"interval\", \"encodings\": [\"x\", \"y\"]}, \"bind\": \"scales\", \"views\": [\"view_11\"]}, {\"name\": \"param_12\", \"select\": {\"type\": \"interval\", \"encodings\": [\"x\", \"y\"]}, \"bind\": \"scales\", \"views\": [\"view_12\"]}], \"$schema\": \"https://vega.github.io/schema/vega-lite/v5.16.3.json\", \"datasets\": {\"data-ed0052fa0d856f38ca689290bba1f615\": [{\"DBP\": 0.2359, \"CAD\": -0.006, \"dbscan0\": -1, \"dbscan1\": 0, \"dbscan2\": 0, \"dbscan3\": 0, \"dbscan4\": 0, \"dbscan5\": 0, \"kmeans4\": 0, \"mixture\": 0, \"birch_0\": 0, \"birch_1\": 2, \"birch_2\": 1, \"birch_3\": 0, \"birch_4\": 0, \"birch_5\": 0}, {\"DBP\": 0.237, \"CAD\": 0.0017, \"dbscan0\": 0, \"dbscan1\": 1, \"dbscan2\": 0, \"dbscan3\": 0, \"dbscan4\": 0, \"dbscan5\": 0, \"kmeans4\": 0, \"mixture\": 0, \"birch_0\": 1, \"birch_1\": 0, \"birch_2\": 0, \"birch_3\": 0, \"birch_4\": 0, \"birch_5\": 0}, {\"DBP\": 0.4715, \"CAD\": 0.0356, \"dbscan0\": 1, \"dbscan1\": 2, \"dbscan2\": 0, \"dbscan3\": 0, \"dbscan4\": 0, \"dbscan5\": 0, \"kmeans4\": 0, \"mixture\": 4, \"birch_0\": 2, \"birch_1\": 1, \"birch_2\": 0, \"birch_3\": 0, \"birch_4\": 0, \"birch_5\": 0}, {\"DBP\": 0.1617, \"CAD\": 0.0141, \"dbscan0\": -1, \"dbscan1\": 2, \"dbscan2\": 0, \"dbscan3\": 0, \"dbscan4\": 0, \"dbscan5\": 0, \"kmeans4\": 0, \"mixture\": 4, \"birch_0\": 2, \"birch_1\": 1, \"birch_2\": 2, \"birch_3\": 0, \"birch_4\": 0, \"birch_5\": 0}, {\"DBP\": 0.1364, \"CAD\": 0.0125, \"dbscan0\": 2, \"dbscan1\": 2, \"dbscan2\": 0, \"dbscan3\": 0, \"dbscan4\": 0, \"dbscan5\": 0, \"kmeans4\": 0, \"mixture\": 4, \"birch_0\": 2, \"birch_1\": 1, \"birch_2\": 2, \"birch_3\": 0, \"birch_4\": 0, \"birch_5\": 0}, {\"DBP\": 0.1486, \"CAD\": 0.0089, \"dbscan0\": 3, \"dbscan1\": 3, \"dbscan2\": 0, \"dbscan3\": 0, \"dbscan4\": 0, \"dbscan5\": 0, \"kmeans4\": 0, \"mixture\": 4, \"birch_0\": 3, \"birch_1\": 6, \"birch_2\": 0, \"birch_3\": 0, \"birch_4\": 0, \"birch_5\": 0}, {\"DBP\": 0.2356, \"CAD\": 0.0248, \"dbscan0\": -1, \"dbscan1\": 4, \"dbscan2\": 0, \"dbscan3\": 0, \"dbscan4\": 0, \"dbscan5\": 0, \"kmeans4\": 0, \"mixture\": 4, \"birch_0\": 19, \"birch_1\": 1, \"birch_2\": 2, \"birch_3\": 0, \"birch_4\": 0, \"birch_5\": 0}, {\"DBP\": 0.1919, \"CAD\": -0.0034, \"dbscan0\": 4, \"dbscan1\": 0, \"dbscan2\": 0, \"dbscan3\": 0, \"dbscan4\": 0, \"dbscan5\": 0, \"kmeans4\": 0, \"mixture\": 0, \"birch_0\": 0, \"birch_1\": 0, \"birch_2\": 1, \"birch_3\": 0, \"birch_4\": 0, \"birch_5\": 0}, {\"DBP\": 0.3003, \"CAD\": -0.015, \"dbscan0\": 5, \"dbscan1\": 5, \"dbscan2\": 0, \"dbscan3\": 0, \"dbscan4\": 0, \"dbscan5\": 0, \"kmeans4\": 0, \"mixture\": 0, \"birch_0\": 5, \"birch_1\": 2, \"birch_2\": 1, \"birch_3\": 0, \"birch_4\": 0, \"birch_5\": 0}, {\"DBP\": 0.4546, \"CAD\": 0.064, \"dbscan0\": -1, \"dbscan1\": 6, \"dbscan2\": 0, \"dbscan3\": 0, \"dbscan4\": 0, \"dbscan5\": 0, \"kmeans4\": 3, \"mixture\": 4, \"birch_0\": 6, \"birch_1\": 3, \"birch_2\": 2, \"birch_3\": 0, \"birch_4\": 0, \"birch_5\": 0}, {\"DBP\": 0.1671, \"CAD\": -0.033, \"dbscan0\": -1, \"dbscan1\": -1, \"dbscan2\": 1, \"dbscan3\": 1, \"dbscan4\": 0, \"dbscan5\": 0, \"kmeans4\": 2, \"mixture\": 2, \"birch_0\": 7, \"birch_1\": 4, \"birch_2\": 3, \"birch_3\": 1, \"birch_4\": 0, \"birch_5\": 0}, {\"DBP\": 0.2424, \"CAD\": 0.0198, \"dbscan0\": -1, \"dbscan1\": 2, \"dbscan2\": 0, \"dbscan3\": 0, \"dbscan4\": 0, \"dbscan5\": 0, \"kmeans4\": 0, \"mixture\": 4, \"birch_0\": 2, \"birch_1\": 1, \"birch_2\": 0, \"birch_3\": 0, \"birch_4\": 0, \"birch_5\": 0}, {\"DBP\": 0.1595, \"CAD\": 0.0043, \"dbscan0\": -1, \"dbscan1\": 7, \"dbscan2\": 0, \"dbscan3\": 0, \"dbscan4\": 0, \"dbscan5\": 0, \"kmeans4\": 0, \"mixture\": 0, \"birch_0\": 8, \"birch_1\": 6, \"birch_2\": 0, \"birch_3\": 0, \"birch_4\": 0, \"birch_5\": 0}, {\"DBP\": 0.2772, \"CAD\": 0.021, \"dbscan0\": 1, \"dbscan1\": 2, \"dbscan2\": 0, \"dbscan3\": 0, \"dbscan4\": 0, \"dbscan5\": 0, \"kmeans4\": 0, \"mixture\": 4, \"birch_0\": 2, \"birch_1\": 1, \"birch_2\": 0, \"birch_3\": 0, \"birch_4\": 0, \"birch_5\": 0}, {\"DBP\": 0.3586, \"CAD\": 0.0243, \"dbscan0\": 3, \"dbscan1\": 3, \"dbscan2\": 0, \"dbscan3\": 0, \"dbscan4\": 0, \"dbscan5\": 0, \"kmeans4\": 0, \"mixture\": 4, \"birch_0\": 3, \"birch_1\": 1, \"birch_2\": 0, \"birch_3\": 0, \"birch_4\": 0, \"birch_5\": 0}, {\"DBP\": 0.148, \"CAD\": 0.0016, \"dbscan0\": 6, \"dbscan1\": 1, \"dbscan2\": 0, \"dbscan3\": 0, \"dbscan4\": 0, \"dbscan5\": 0, \"kmeans4\": 0, \"mixture\": 0, \"birch_0\": 1, \"birch_1\": 0, \"birch_2\": 0, \"birch_3\": 0, \"birch_4\": 0, \"birch_5\": 0}, {\"DBP\": 0.1767, \"CAD\": -0.0149, \"dbscan0\": -1, \"dbscan1\": 8, \"dbscan2\": 2, \"dbscan3\": 0, \"dbscan4\": 0, \"dbscan5\": 0, \"kmeans4\": 2, \"mixture\": 2, \"birch_0\": 9, \"birch_1\": 5, \"birch_2\": 4, \"birch_3\": 1, \"birch_4\": 0, \"birch_5\": 0}, {\"DBP\": 0.2799, \"CAD\": 0.0339, \"dbscan0\": 7, \"dbscan1\": 9, \"dbscan2\": 0, \"dbscan3\": 0, \"dbscan4\": 0, \"dbscan5\": 0, \"kmeans4\": 3, \"mixture\": 4, \"birch_0\": 4, \"birch_1\": 3, \"birch_2\": 2, \"birch_3\": 0, \"birch_4\": 0, \"birch_5\": 0}, {\"DBP\": 0.1886, \"CAD\": 0.027, \"dbscan0\": -1, \"dbscan1\": 6, \"dbscan2\": 0, \"dbscan3\": 0, \"dbscan4\": 0, \"dbscan5\": 0, \"kmeans4\": 3, \"mixture\": 4, \"birch_0\": 6, \"birch_1\": 3, \"birch_2\": 2, \"birch_3\": 0, \"birch_4\": 0, \"birch_5\": 0}, {\"DBP\": 0.2997, \"CAD\": 0.0104, \"dbscan0\": 8, \"dbscan1\": 7, \"dbscan2\": 0, \"dbscan3\": 0, \"dbscan4\": 0, \"dbscan5\": 0, \"kmeans4\": 0, \"mixture\": 0, \"birch_0\": 8, \"birch_1\": 6, \"birch_2\": 0, \"birch_3\": 0, \"birch_4\": 0, \"birch_5\": 0}, {\"DBP\": 0.2043, \"CAD\": 0.0268, \"dbscan0\": 9, \"dbscan1\": 10, \"dbscan2\": 0, \"dbscan3\": 0, \"dbscan4\": 0, \"dbscan5\": 0, \"kmeans4\": 3, \"mixture\": 4, \"birch_0\": 6, \"birch_1\": 3, \"birch_2\": 2, \"birch_3\": 0, \"birch_4\": 0, \"birch_5\": 0}, {\"DBP\": 0.1578, \"CAD\": 0.0037, \"dbscan0\": 10, \"dbscan1\": 7, \"dbscan2\": 0, \"dbscan3\": 0, \"dbscan4\": 0, \"dbscan5\": 0, \"kmeans4\": 0, \"mixture\": 0, \"birch_0\": 8, \"birch_1\": 6, \"birch_2\": 0, \"birch_3\": 0, \"birch_4\": 0, \"birch_5\": 0}, {\"DBP\": 0.1612, \"CAD\": 0.0075, \"dbscan0\": -1, \"dbscan1\": 7, \"dbscan2\": 0, \"dbscan3\": 0, \"dbscan4\": 0, \"dbscan5\": 0, \"kmeans4\": 0, \"mixture\": 0, \"birch_0\": 8, \"birch_1\": 6, \"birch_2\": 0, \"birch_3\": 0, \"birch_4\": 0, \"birch_5\": 0}, {\"DBP\": 0.1332, \"CAD\": -0.0164, \"dbscan0\": -1, \"dbscan1\": 11, \"dbscan2\": 3, \"dbscan3\": 0, \"dbscan4\": 0, \"dbscan5\": 0, \"kmeans4\": 2, \"mixture\": 2, \"birch_0\": 10, \"birch_1\": 7, \"birch_2\": 4, \"birch_3\": 1, \"birch_4\": 0, \"birch_5\": 0}, {\"DBP\": 0.1879, \"CAD\": -0.0041, \"dbscan0\": -1, \"dbscan1\": 0, \"dbscan2\": 0, \"dbscan3\": 0, \"dbscan4\": 0, \"dbscan5\": 0, \"kmeans4\": 0, \"mixture\": 0, \"birch_0\": 0, \"birch_1\": 0, \"birch_2\": 1, \"birch_3\": 0, \"birch_4\": 0, \"birch_5\": 0}, {\"DBP\": 0.1588, \"CAD\": 0.018, \"dbscan0\": 11, \"dbscan1\": 4, \"dbscan2\": 0, \"dbscan3\": 0, \"dbscan4\": 0, \"dbscan5\": 0, \"kmeans4\": 0, \"mixture\": 4, \"birch_0\": 4, \"birch_1\": 3, \"birch_2\": 2, \"birch_3\": 0, \"birch_4\": 0, \"birch_5\": 0}, {\"DBP\": 0.3632, \"CAD\": 0.0305, \"dbscan0\": -1, \"dbscan1\": 2, \"dbscan2\": 0, \"dbscan3\": 0, \"dbscan4\": 0, \"dbscan5\": 0, \"kmeans4\": 0, \"mixture\": 4, \"birch_0\": 2, \"birch_1\": 1, \"birch_2\": 0, \"birch_3\": 0, \"birch_4\": 0, \"birch_5\": 0}, {\"DBP\": 0.1823, \"CAD\": 0.0399, \"dbscan0\": -1, \"dbscan1\": -1, \"dbscan2\": 4, \"dbscan3\": 0, \"dbscan4\": 0, \"dbscan5\": 0, \"kmeans4\": 3, \"mixture\": 3, \"birch_0\": 11, \"birch_1\": 8, \"birch_2\": 5, \"birch_3\": 0, \"birch_4\": 0, \"birch_5\": 0}, {\"DBP\": 0.441, \"CAD\": 0.0576, \"dbscan0\": 9, \"dbscan1\": 10, \"dbscan2\": 0, \"dbscan3\": 0, \"dbscan4\": 0, \"dbscan5\": 0, \"kmeans4\": 3, \"mixture\": 4, \"birch_0\": 6, \"birch_1\": 3, \"birch_2\": 2, \"birch_3\": 0, \"birch_4\": 0, \"birch_5\": 0}, {\"DBP\": 0.1856, \"CAD\": 0.0213, \"dbscan0\": 11, \"dbscan1\": 4, \"dbscan2\": 0, \"dbscan3\": 0, \"dbscan4\": 0, \"dbscan5\": 0, \"kmeans4\": 0, \"mixture\": 4, \"birch_0\": 4, \"birch_1\": 3, \"birch_2\": 2, \"birch_3\": 0, \"birch_4\": 0, \"birch_5\": 0}, {\"DBP\": 0.2201, \"CAD\": 0.009, \"dbscan0\": 12, \"dbscan1\": 7, \"dbscan2\": 0, \"dbscan3\": 0, \"dbscan4\": 0, \"dbscan5\": 0, \"kmeans4\": 0, \"mixture\": 0, \"birch_0\": 8, \"birch_1\": 6, \"birch_2\": 0, \"birch_3\": 0, \"birch_4\": 0, \"birch_5\": 0}, {\"DBP\": 0.1644, \"CAD\": 0.004, \"dbscan0\": 10, \"dbscan1\": 7, \"dbscan2\": 0, \"dbscan3\": 0, \"dbscan4\": 0, \"dbscan5\": 0, \"kmeans4\": 0, \"mixture\": 0, \"birch_0\": 8, \"birch_1\": 6, \"birch_2\": 0, \"birch_3\": 0, \"birch_4\": 0, \"birch_5\": 0}, {\"DBP\": 0.2713, \"CAD\": 0.0359, \"dbscan0\": 9, \"dbscan1\": 10, \"dbscan2\": 0, \"dbscan3\": 0, \"dbscan4\": 0, \"dbscan5\": 0, \"kmeans4\": 3, \"mixture\": 4, \"birch_0\": 6, \"birch_1\": 3, \"birch_2\": 2, \"birch_3\": 0, \"birch_4\": 0, \"birch_5\": 0}, {\"DBP\": 0.2306, \"CAD\": -0.0044, \"dbscan0\": 4, \"dbscan1\": 0, \"dbscan2\": 0, \"dbscan3\": 0, \"dbscan4\": 0, \"dbscan5\": 0, \"kmeans4\": 0, \"mixture\": 0, \"birch_0\": 0, \"birch_1\": 0, \"birch_2\": 1, \"birch_3\": 0, \"birch_4\": 0, \"birch_5\": 0}, {\"DBP\": 0.4076, \"CAD\": -0.0554, \"dbscan0\": -1, \"dbscan1\": -1, \"dbscan2\": 3, \"dbscan3\": 0, \"dbscan4\": 0, \"dbscan5\": 0, \"kmeans4\": 2, \"mixture\": 2, \"birch_0\": 12, \"birch_1\": 7, \"birch_2\": 4, \"birch_3\": 1, \"birch_4\": 0, \"birch_5\": 0}, {\"DBP\": 0.215, \"CAD\": 0.0016, \"dbscan0\": 0, \"dbscan1\": 1, \"dbscan2\": 0, \"dbscan3\": 0, \"dbscan4\": 0, \"dbscan5\": 0, \"kmeans4\": 0, \"mixture\": 0, \"birch_0\": 1, \"birch_1\": 0, \"birch_2\": 0, \"birch_3\": 0, \"birch_4\": 0, \"birch_5\": 0}, {\"DBP\": 0.1328, \"CAD\": 0.0056, \"dbscan0\": 12, \"dbscan1\": 7, \"dbscan2\": 0, \"dbscan3\": 0, \"dbscan4\": 0, \"dbscan5\": 0, \"kmeans4\": 0, \"mixture\": 0, \"birch_0\": 8, \"birch_1\": 6, \"birch_2\": 0, \"birch_3\": 0, \"birch_4\": 0, \"birch_5\": 0}, {\"DBP\": 0.3725, \"CAD\": 0.0237, \"dbscan0\": 3, \"dbscan1\": 3, \"dbscan2\": 0, \"dbscan3\": 0, \"dbscan4\": 0, \"dbscan5\": 0, \"kmeans4\": 0, \"mixture\": 4, \"birch_0\": 3, \"birch_1\": 1, \"birch_2\": 0, \"birch_3\": 0, \"birch_4\": 0, \"birch_5\": 0}, {\"DBP\": 0.3529, \"CAD\": 0.0656, \"dbscan0\": -1, \"dbscan1\": -1, \"dbscan2\": 4, \"dbscan3\": 0, \"dbscan4\": 0, \"dbscan5\": 0, \"kmeans4\": 3, \"mixture\": 3, \"birch_0\": 13, \"birch_1\": 9, \"birch_2\": 5, \"birch_3\": 0, \"birch_4\": 0, \"birch_5\": 0}, {\"DBP\": 0.1883, \"CAD\": 0.0103, \"dbscan0\": -1, \"dbscan1\": 3, \"dbscan2\": 0, \"dbscan3\": 0, \"dbscan4\": 0, \"dbscan5\": 0, \"kmeans4\": 0, \"mixture\": 4, \"birch_0\": 3, \"birch_1\": 6, \"birch_2\": 0, \"birch_3\": 0, \"birch_4\": 0, \"birch_5\": 0}, {\"DBP\": 0.253, \"CAD\": 0.0058, \"dbscan0\": 10, \"dbscan1\": 7, \"dbscan2\": 0, \"dbscan3\": 0, \"dbscan4\": 0, \"dbscan5\": 0, \"kmeans4\": 0, \"mixture\": 0, \"birch_0\": 8, \"birch_1\": 6, \"birch_2\": 0, \"birch_3\": 0, \"birch_4\": 0, \"birch_5\": 0}, {\"DBP\": 0.1572, \"CAD\": -0.006, \"dbscan0\": 13, \"dbscan1\": 12, \"dbscan2\": 0, \"dbscan3\": 0, \"dbscan4\": 0, \"dbscan5\": 0, \"kmeans4\": 0, \"mixture\": 0, \"birch_0\": 5, \"birch_1\": 2, \"birch_2\": 1, \"birch_3\": 0, \"birch_4\": 0, \"birch_5\": 0}, {\"DBP\": 0.1561, \"CAD\": 0.0146, \"dbscan0\": 2, \"dbscan1\": 2, \"dbscan2\": 0, \"dbscan3\": 0, \"dbscan4\": 0, \"dbscan5\": 0, \"kmeans4\": 0, \"mixture\": 4, \"birch_0\": 2, \"birch_1\": 1, \"birch_2\": 2, \"birch_3\": 0, \"birch_4\": 0, \"birch_5\": 0}, {\"DBP\": 0.2219, \"CAD\": -0.0083, \"dbscan0\": 13, \"dbscan1\": 12, \"dbscan2\": 0, \"dbscan3\": 0, \"dbscan4\": 0, \"dbscan5\": 0, \"kmeans4\": 0, \"mixture\": 0, \"birch_0\": 5, \"birch_1\": 2, \"birch_2\": 1, \"birch_3\": 0, \"birch_4\": 0, \"birch_5\": 0}, {\"DBP\": 0.1502, \"CAD\": 0.0049, \"dbscan0\": 8, \"dbscan1\": 7, \"dbscan2\": 0, \"dbscan3\": 0, \"dbscan4\": 0, \"dbscan5\": 0, \"kmeans4\": 0, \"mixture\": 0, \"birch_0\": 8, \"birch_1\": 6, \"birch_2\": 0, \"birch_3\": 0, \"birch_4\": 0, \"birch_5\": 0}, {\"DBP\": 0.1889, \"CAD\": 0.0469, \"dbscan0\": -1, \"dbscan1\": -1, \"dbscan2\": 5, \"dbscan3\": 0, \"dbscan4\": 0, \"dbscan5\": 0, \"kmeans4\": 3, \"mixture\": 3, \"birch_0\": 14, \"birch_1\": 10, \"birch_2\": 5, \"birch_3\": 0, \"birch_4\": 0, \"birch_5\": 0}, {\"DBP\": 0.2476, \"CAD\": 0.0371, \"dbscan0\": 14, \"dbscan1\": 6, \"dbscan2\": 0, \"dbscan3\": 0, \"dbscan4\": 0, \"dbscan5\": 0, \"kmeans4\": 3, \"mixture\": 4, \"birch_0\": 18, \"birch_1\": 3, \"birch_2\": 2, \"birch_3\": 0, \"birch_4\": 0, \"birch_5\": 0}, {\"DBP\": 0.2483, \"CAD\": 0.0245, \"dbscan0\": 15, \"dbscan1\": 4, \"dbscan2\": 0, \"dbscan3\": 0, \"dbscan4\": 0, \"dbscan5\": 0, \"kmeans4\": 0, \"mixture\": 4, \"birch_0\": 19, \"birch_1\": 1, \"birch_2\": 2, \"birch_3\": 0, \"birch_4\": 0, \"birch_5\": 0}, {\"DBP\": 0.1832, \"CAD\": 0.0114, \"dbscan0\": 3, \"dbscan1\": 3, \"dbscan2\": 0, \"dbscan3\": 0, \"dbscan4\": 0, \"dbscan5\": 0, \"kmeans4\": 0, \"mixture\": 4, \"birch_0\": 3, \"birch_1\": 1, \"birch_2\": 0, \"birch_3\": 0, \"birch_4\": 0, \"birch_5\": 0}, {\"DBP\": 0.6128, \"CAD\": -0.0104, \"dbscan0\": 4, \"dbscan1\": 0, \"dbscan2\": 0, \"dbscan3\": 0, \"dbscan4\": 0, \"dbscan5\": 0, \"kmeans4\": 0, \"mixture\": 0, \"birch_0\": 0, \"birch_1\": 0, \"birch_2\": 1, \"birch_3\": 0, \"birch_4\": 0, \"birch_5\": 0}, {\"DBP\": 0.1774, \"CAD\": 0.0003, \"dbscan0\": 16, \"dbscan1\": 13, \"dbscan2\": 0, \"dbscan3\": 0, \"dbscan4\": 0, \"dbscan5\": 0, \"kmeans4\": 0, \"mixture\": 0, \"birch_0\": 1, \"birch_1\": 0, \"birch_2\": 1, \"birch_3\": 0, \"birch_4\": 0, \"birch_5\": 0}, {\"DBP\": 0.1411, \"CAD\": 0.013, \"dbscan0\": 2, \"dbscan1\": 2, \"dbscan2\": 0, \"dbscan3\": 0, \"dbscan4\": 0, \"dbscan5\": 0, \"kmeans4\": 0, \"mixture\": 4, \"birch_0\": 2, \"birch_1\": 1, \"birch_2\": 2, \"birch_3\": 0, \"birch_4\": 0, \"birch_5\": 0}, {\"DBP\": 0.3415, \"CAD\": 0.0345, \"dbscan0\": 17, \"dbscan1\": 4, \"dbscan2\": 0, \"dbscan3\": 0, \"dbscan4\": 0, \"dbscan5\": 0, \"kmeans4\": 0, \"mixture\": 4, \"birch_0\": 19, \"birch_1\": 1, \"birch_2\": 2, \"birch_3\": 0, \"birch_4\": 0, \"birch_5\": 0}, {\"DBP\": 0.2336, \"CAD\": -0.0278, \"dbscan0\": -1, \"dbscan1\": 11, \"dbscan2\": 3, \"dbscan3\": 0, \"dbscan4\": 0, \"dbscan5\": 0, \"kmeans4\": 2, \"mixture\": 2, \"birch_0\": 10, \"birch_1\": 7, \"birch_2\": 4, \"birch_3\": 1, \"birch_4\": 0, \"birch_5\": 0}, {\"DBP\": 0.1301, \"CAD\": -0.0164, \"dbscan0\": -1, \"dbscan1\": 11, \"dbscan2\": 3, \"dbscan3\": 0, \"dbscan4\": 0, \"dbscan5\": 0, \"kmeans4\": 2, \"mixture\": 2, \"birch_0\": 10, \"birch_1\": 7, \"birch_2\": 4, \"birch_3\": 1, \"birch_4\": 0, \"birch_5\": 0}, {\"DBP\": 0.3389, \"CAD\": 0.0127, \"dbscan0\": 18, \"dbscan1\": 7, \"dbscan2\": 0, \"dbscan3\": 0, \"dbscan4\": 0, \"dbscan5\": 0, \"kmeans4\": 0, \"mixture\": 0, \"birch_0\": 8, \"birch_1\": 6, \"birch_2\": 0, \"birch_3\": 0, \"birch_4\": 0, \"birch_5\": 0}, {\"DBP\": 0.1912, \"CAD\": -0.0204, \"dbscan0\": -1, \"dbscan1\": -1, \"dbscan2\": 3, \"dbscan3\": 0, \"dbscan4\": 0, \"dbscan5\": 0, \"kmeans4\": 2, \"mixture\": 2, \"birch_0\": 15, \"birch_1\": 7, \"birch_2\": 4, \"birch_3\": 1, \"birch_4\": 0, \"birch_5\": 0}, {\"DBP\": 0.2625, \"CAD\": 0.02, \"dbscan0\": 1, \"dbscan1\": 2, \"dbscan2\": 0, \"dbscan3\": 0, \"dbscan4\": 0, \"dbscan5\": 0, \"kmeans4\": 0, \"mixture\": 4, \"birch_0\": 2, \"birch_1\": 1, \"birch_2\": 0, \"birch_3\": 0, \"birch_4\": 0, \"birch_5\": 0}, {\"DBP\": 0.2819, \"CAD\": 0.0095, \"dbscan0\": 8, \"dbscan1\": 7, \"dbscan2\": 0, \"dbscan3\": 0, \"dbscan4\": 0, \"dbscan5\": 0, \"kmeans4\": 0, \"mixture\": 0, \"birch_0\": 8, \"birch_1\": 6, \"birch_2\": 0, \"birch_3\": 0, \"birch_4\": 0, \"birch_5\": 0}, {\"DBP\": 0.1804, \"CAD\": 0.0244, \"dbscan0\": -1, \"dbscan1\": 10, \"dbscan2\": 0, \"dbscan3\": 0, \"dbscan4\": 0, \"dbscan5\": 0, \"kmeans4\": 3, \"mixture\": 4, \"birch_0\": 6, \"birch_1\": 3, \"birch_2\": 2, \"birch_3\": 0, \"birch_4\": 0, \"birch_5\": 0}, {\"DBP\": 0.1875, \"CAD\": 0.002, \"dbscan0\": 6, \"dbscan1\": 1, \"dbscan2\": 0, \"dbscan3\": 0, \"dbscan4\": 0, \"dbscan5\": 0, \"kmeans4\": 0, \"mixture\": 0, \"birch_0\": 1, \"birch_1\": 0, \"birch_2\": 0, \"birch_3\": 0, \"birch_4\": 0, \"birch_5\": 0}, {\"DBP\": 0.1436, \"CAD\": 0.0049, \"dbscan0\": 8, \"dbscan1\": 7, \"dbscan2\": 0, \"dbscan3\": 0, \"dbscan4\": 0, \"dbscan5\": 0, \"kmeans4\": 0, \"mixture\": 0, \"birch_0\": 8, \"birch_1\": 6, \"birch_2\": 0, \"birch_3\": 0, \"birch_4\": 0, \"birch_5\": 0}, {\"DBP\": 0.1378, \"CAD\": 0.0327, \"dbscan0\": -1, \"dbscan1\": -1, \"dbscan2\": 5, \"dbscan3\": 0, \"dbscan4\": 0, \"dbscan5\": 0, \"kmeans4\": 3, \"mixture\": 3, \"birch_0\": 16, \"birch_1\": 10, \"birch_2\": 5, \"birch_3\": 0, \"birch_4\": 0, \"birch_5\": 0}, {\"DBP\": 0.1395, \"CAD\": 0.0282, \"dbscan0\": -1, \"dbscan1\": -1, \"dbscan2\": 4, \"dbscan3\": 0, \"dbscan4\": 0, \"dbscan5\": 0, \"kmeans4\": 3, \"mixture\": 3, \"birch_0\": 17, \"birch_1\": 9, \"birch_2\": 5, \"birch_3\": 0, \"birch_4\": 0, \"birch_5\": 0}, {\"DBP\": 0.2792, \"CAD\": 0.0083, \"dbscan0\": -1, \"dbscan1\": 7, \"dbscan2\": 0, \"dbscan3\": 0, \"dbscan4\": 0, \"dbscan5\": 0, \"kmeans4\": 0, \"mixture\": 0, \"birch_0\": 8, \"birch_1\": 6, \"birch_2\": 0, \"birch_3\": 0, \"birch_4\": 0, \"birch_5\": 0}, {\"DBP\": 0.1342, \"CAD\": -0.0022, \"dbscan0\": 4, \"dbscan1\": 0, \"dbscan2\": 0, \"dbscan3\": 0, \"dbscan4\": 0, \"dbscan5\": 0, \"kmeans4\": 0, \"mixture\": 0, \"birch_0\": 0, \"birch_1\": 0, \"birch_2\": 1, \"birch_3\": 0, \"birch_4\": 0, \"birch_5\": 0}, {\"DBP\": 0.36, \"CAD\": 0.0237, \"dbscan0\": 3, \"dbscan1\": 3, \"dbscan2\": 0, \"dbscan3\": 0, \"dbscan4\": 0, \"dbscan5\": 0, \"kmeans4\": 0, \"mixture\": 4, \"birch_0\": 3, \"birch_1\": 1, \"birch_2\": 0, \"birch_3\": 0, \"birch_4\": 0, \"birch_5\": 0}, {\"DBP\": 0.1737, \"CAD\": 0.0069, \"dbscan0\": 12, \"dbscan1\": 7, \"dbscan2\": 0, \"dbscan3\": 0, \"dbscan4\": 0, \"dbscan5\": 0, \"kmeans4\": 0, \"mixture\": 0, \"birch_0\": 8, \"birch_1\": 6, \"birch_2\": 0, \"birch_3\": 0, \"birch_4\": 0, \"birch_5\": 0}, {\"DBP\": 0.1499, \"CAD\": -0.0016, \"dbscan0\": -1, \"dbscan1\": 14, \"dbscan2\": 0, \"dbscan3\": 0, \"dbscan4\": 0, \"dbscan5\": 0, \"kmeans4\": 0, \"mixture\": 0, \"birch_0\": 0, \"birch_1\": 0, \"birch_2\": 1, \"birch_3\": 0, \"birch_4\": 0, \"birch_5\": 0}, {\"DBP\": 0.239, \"CAD\": 0.0212, \"dbscan0\": 19, \"dbscan1\": 2, \"dbscan2\": 0, \"dbscan3\": 0, \"dbscan4\": 0, \"dbscan5\": 0, \"kmeans4\": 0, \"mixture\": 4, \"birch_0\": 2, \"birch_1\": 1, \"birch_2\": 2, \"birch_3\": 0, \"birch_4\": 0, \"birch_5\": 0}, {\"DBP\": 0.1238, \"CAD\": -0.0101, \"dbscan0\": -1, \"dbscan1\": 8, \"dbscan2\": 2, \"dbscan3\": 0, \"dbscan4\": 0, \"dbscan5\": 0, \"kmeans4\": 2, \"mixture\": 2, \"birch_0\": 9, \"birch_1\": 5, \"birch_2\": 4, \"birch_3\": 1, \"birch_4\": 0, \"birch_5\": 0}, {\"DBP\": 0.4801, \"CAD\": 0.0379, \"dbscan0\": -1, \"dbscan1\": 2, \"dbscan2\": 0, \"dbscan3\": 0, \"dbscan4\": 0, \"dbscan5\": 0, \"kmeans4\": 0, \"mixture\": 4, \"birch_0\": 2, \"birch_1\": 1, \"birch_2\": 0, \"birch_3\": 0, \"birch_4\": 0, \"birch_5\": 0}, {\"DBP\": 0.1415, \"CAD\": 0.0173, \"dbscan0\": 7, \"dbscan1\": 9, \"dbscan2\": 0, \"dbscan3\": 0, \"dbscan4\": 0, \"dbscan5\": 0, \"kmeans4\": 3, \"mixture\": 4, \"birch_0\": 4, \"birch_1\": 3, \"birch_2\": 2, \"birch_3\": 0, \"birch_4\": 0, \"birch_5\": 0}, {\"DBP\": 0.2479, \"CAD\": 0.0161, \"dbscan0\": 3, \"dbscan1\": 3, \"dbscan2\": 0, \"dbscan3\": 0, \"dbscan4\": 0, \"dbscan5\": 0, \"kmeans4\": 0, \"mixture\": 4, \"birch_0\": 3, \"birch_1\": 1, \"birch_2\": 0, \"birch_3\": 0, \"birch_4\": 0, \"birch_5\": 0}, {\"DBP\": 0.1687, \"CAD\": 0.0255, \"dbscan0\": 14, \"dbscan1\": 6, \"dbscan2\": 0, \"dbscan3\": 0, \"dbscan4\": 0, \"dbscan5\": 0, \"kmeans4\": 3, \"mixture\": 4, \"birch_0\": 18, \"birch_1\": 3, \"birch_2\": 2, \"birch_3\": 0, \"birch_4\": 0, \"birch_5\": 0}, {\"DBP\": 0.1472, \"CAD\": 0.0184, \"dbscan0\": -1, \"dbscan1\": 9, \"dbscan2\": 0, \"dbscan3\": 0, \"dbscan4\": 0, \"dbscan5\": 0, \"kmeans4\": 3, \"mixture\": 4, \"birch_0\": 4, \"birch_1\": 3, \"birch_2\": 2, \"birch_3\": 0, \"birch_4\": 0, \"birch_5\": 0}, {\"DBP\": 0.146, \"CAD\": 0.0149, \"dbscan0\": 17, \"dbscan1\": 4, \"dbscan2\": 0, \"dbscan3\": 0, \"dbscan4\": 0, \"dbscan5\": 0, \"kmeans4\": 0, \"mixture\": 4, \"birch_0\": 19, \"birch_1\": 1, \"birch_2\": 2, \"birch_3\": 0, \"birch_4\": 0, \"birch_5\": 0}, {\"DBP\": 0.1699, \"CAD\": 0.0593, \"dbscan0\": -1, \"dbscan1\": -1, \"dbscan2\": -1, \"dbscan3\": 2, \"dbscan4\": 0, \"dbscan5\": 0, \"kmeans4\": 1, \"mixture\": 1, \"birch_0\": 20, \"birch_1\": 11, \"birch_2\": 6, \"birch_3\": 2, \"birch_4\": 0, \"birch_5\": 0}, {\"DBP\": 0.4, \"CAD\": -0.0012, \"dbscan0\": -1, \"dbscan1\": 13, \"dbscan2\": 0, \"dbscan3\": 0, \"dbscan4\": 0, \"dbscan5\": 0, \"kmeans4\": 0, \"mixture\": 0, \"birch_0\": 1, \"birch_1\": 0, \"birch_2\": 1, \"birch_3\": 0, \"birch_4\": 0, \"birch_5\": 0}, {\"DBP\": 0.25, \"CAD\": 0.0059, \"dbscan0\": 10, \"dbscan1\": 7, \"dbscan2\": 0, \"dbscan3\": 0, \"dbscan4\": 0, \"dbscan5\": 0, \"kmeans4\": 0, \"mixture\": 0, \"birch_0\": 8, \"birch_1\": 6, \"birch_2\": 0, \"birch_3\": 0, \"birch_4\": 0, \"birch_5\": 0}, {\"DBP\": 0.126, \"CAD\": -0.0011, \"dbscan0\": -1, \"dbscan1\": 14, \"dbscan2\": 0, \"dbscan3\": 0, \"dbscan4\": 0, \"dbscan5\": 0, \"kmeans4\": 0, \"mixture\": 0, \"birch_0\": 0, \"birch_1\": 0, \"birch_2\": 1, \"birch_3\": 0, \"birch_4\": 0, \"birch_5\": 0}, {\"DBP\": 0.1835, \"CAD\": 0.0123, \"dbscan0\": 3, \"dbscan1\": 3, \"dbscan2\": 0, \"dbscan3\": 0, \"dbscan4\": 0, \"dbscan5\": 0, \"kmeans4\": 0, \"mixture\": 4, \"birch_0\": 3, \"birch_1\": 1, \"birch_2\": 0, \"birch_3\": 0, \"birch_4\": 0, \"birch_5\": 0}, {\"DBP\": 0.3264, \"CAD\": -0.0163, \"dbscan0\": 5, \"dbscan1\": 5, \"dbscan2\": 0, \"dbscan3\": 0, \"dbscan4\": 0, \"dbscan5\": 0, \"kmeans4\": 0, \"mixture\": 0, \"birch_0\": 5, \"birch_1\": 2, \"birch_2\": 1, \"birch_3\": 0, \"birch_4\": 0, \"birch_5\": 0}, {\"DBP\": 0.2209, \"CAD\": 0.0346, \"dbscan0\": -1, \"dbscan1\": -1, \"dbscan2\": 0, \"dbscan3\": 0, \"dbscan4\": 0, \"dbscan5\": 0, \"kmeans4\": 3, \"mixture\": 4, \"birch_0\": 18, \"birch_1\": 3, \"birch_2\": 2, \"birch_3\": 0, \"birch_4\": 0, \"birch_5\": 0}, {\"DBP\": 0.128, \"CAD\": 0.0048, \"dbscan0\": 18, \"dbscan1\": 7, \"dbscan2\": 0, \"dbscan3\": 0, \"dbscan4\": 0, \"dbscan5\": 0, \"kmeans4\": 0, \"mixture\": 0, \"birch_0\": 8, \"birch_1\": 6, \"birch_2\": 0, \"birch_3\": 0, \"birch_4\": 0, \"birch_5\": 0}, {\"DBP\": 0.1426, \"CAD\": 0.0131, \"dbscan0\": 2, \"dbscan1\": 2, \"dbscan2\": 0, \"dbscan3\": 0, \"dbscan4\": 0, \"dbscan5\": 0, \"kmeans4\": 0, \"mixture\": 4, \"birch_0\": 2, \"birch_1\": 1, \"birch_2\": 2, \"birch_3\": 0, \"birch_4\": 0, \"birch_5\": 0}, {\"DBP\": 0.1637, \"CAD\": -0.0166, \"dbscan0\": -1, \"dbscan1\": -1, \"dbscan2\": 3, \"dbscan3\": 0, \"dbscan4\": 0, \"dbscan5\": 0, \"kmeans4\": 2, \"mixture\": 2, \"birch_0\": 15, \"birch_1\": 5, \"birch_2\": 4, \"birch_3\": 1, \"birch_4\": 0, \"birch_5\": 0}, {\"DBP\": 0.6042, \"CAD\": 0.0003, \"dbscan0\": 16, \"dbscan1\": 13, \"dbscan2\": 0, \"dbscan3\": 0, \"dbscan4\": 0, \"dbscan5\": 0, \"kmeans4\": 0, \"mixture\": 0, \"birch_0\": 1, \"birch_1\": 0, \"birch_2\": 1, \"birch_3\": 0, \"birch_4\": 0, \"birch_5\": 0}, {\"DBP\": 0.2144, \"CAD\": 0.0135, \"dbscan0\": 3, \"dbscan1\": 3, \"dbscan2\": 0, \"dbscan3\": 0, \"dbscan4\": 0, \"dbscan5\": 0, \"kmeans4\": 0, \"mixture\": 4, \"birch_0\": 3, \"birch_1\": 1, \"birch_2\": 0, \"birch_3\": 0, \"birch_4\": 0, \"birch_5\": 0}, {\"DBP\": 0.1712, \"CAD\": 0.0183, \"dbscan0\": -1, \"dbscan1\": 4, \"dbscan2\": 0, \"dbscan3\": 0, \"dbscan4\": 0, \"dbscan5\": 0, \"kmeans4\": 0, \"mixture\": 4, \"birch_0\": 19, \"birch_1\": 1, \"birch_2\": 2, \"birch_3\": 0, \"birch_4\": 0, \"birch_5\": 0}, {\"DBP\": 0.1251, \"CAD\": 0.026, \"dbscan0\": -1, \"dbscan1\": -1, \"dbscan2\": 4, \"dbscan3\": 0, \"dbscan4\": 0, \"dbscan5\": 0, \"kmeans4\": 3, \"mixture\": 3, \"birch_0\": 17, \"birch_1\": 8, \"birch_2\": 5, \"birch_3\": 0, \"birch_4\": 0, \"birch_5\": 0}, {\"DBP\": 0.2307, \"CAD\": 0.0595, \"dbscan0\": -1, \"dbscan1\": -1, \"dbscan2\": 5, \"dbscan3\": 0, \"dbscan4\": 0, \"dbscan5\": 0, \"kmeans4\": 3, \"mixture\": 3, \"birch_0\": 21, \"birch_1\": 10, \"birch_2\": 5, \"birch_3\": 0, \"birch_4\": 0, \"birch_5\": 0}, {\"DBP\": 0.1349, \"CAD\": 0.0147, \"dbscan0\": -1, \"dbscan1\": 4, \"dbscan2\": 0, \"dbscan3\": 0, \"dbscan4\": 0, \"dbscan5\": 0, \"kmeans4\": 0, \"mixture\": 4, \"birch_0\": 19, \"birch_1\": 1, \"birch_2\": 2, \"birch_3\": 0, \"birch_4\": 0, \"birch_5\": 0}, {\"DBP\": 0.4107, \"CAD\": 0.0382, \"dbscan0\": 2, \"dbscan1\": 2, \"dbscan2\": 0, \"dbscan3\": 0, \"dbscan4\": 0, \"dbscan5\": 0, \"kmeans4\": 0, \"mixture\": 4, \"birch_0\": 2, \"birch_1\": 1, \"birch_2\": 2, \"birch_3\": 0, \"birch_4\": 0, \"birch_5\": 0}, {\"DBP\": 0.1321, \"CAD\": 0.0017, \"dbscan0\": -1, \"dbscan1\": 1, \"dbscan2\": 0, \"dbscan3\": 0, \"dbscan4\": 0, \"dbscan5\": 0, \"kmeans4\": 0, \"mixture\": 0, \"birch_0\": 1, \"birch_1\": 0, \"birch_2\": 0, \"birch_3\": 0, \"birch_4\": 0, \"birch_5\": 0}, {\"DBP\": 0.2182, \"CAD\": 0.0095, \"dbscan0\": 12, \"dbscan1\": 7, \"dbscan2\": 0, \"dbscan3\": 0, \"dbscan4\": 0, \"dbscan5\": 0, \"kmeans4\": 0, \"mixture\": 0, \"birch_0\": 8, \"birch_1\": 6, \"birch_2\": 0, \"birch_3\": 0, \"birch_4\": 0, \"birch_5\": 0}, {\"DBP\": 0.1463, \"CAD\": 0.0089, \"dbscan0\": 3, \"dbscan1\": 3, \"dbscan2\": 0, \"dbscan3\": 0, \"dbscan4\": 0, \"dbscan5\": 0, \"kmeans4\": 0, \"mixture\": 4, \"birch_0\": 3, \"birch_1\": 1, \"birch_2\": 0, \"birch_3\": 0, \"birch_4\": 0, \"birch_5\": 0}, {\"DBP\": 0.1789, \"CAD\": 0.0165, \"dbscan0\": 2, \"dbscan1\": 2, \"dbscan2\": 0, \"dbscan3\": 0, \"dbscan4\": 0, \"dbscan5\": 0, \"kmeans4\": 0, \"mixture\": 4, \"birch_0\": 2, \"birch_1\": 1, \"birch_2\": 2, \"birch_3\": 0, \"birch_4\": 0, \"birch_5\": 0}, {\"DBP\": 0.2582, \"CAD\": 0.0188, \"dbscan0\": 20, \"dbscan1\": 2, \"dbscan2\": 0, \"dbscan3\": 0, \"dbscan4\": 0, \"dbscan5\": 0, \"kmeans4\": 0, \"mixture\": 4, \"birch_0\": 3, \"birch_1\": 1, \"birch_2\": 0, \"birch_3\": 0, \"birch_4\": 0, \"birch_5\": 0}, {\"DBP\": 0.2542, \"CAD\": 0.0, \"dbscan0\": 16, \"dbscan1\": 13, \"dbscan2\": 0, \"dbscan3\": 0, \"dbscan4\": 0, \"dbscan5\": 0, \"kmeans4\": 0, \"mixture\": 0, \"birch_0\": 1, \"birch_1\": 0, \"birch_2\": 1, \"birch_3\": 0, \"birch_4\": 0, \"birch_5\": 0}, {\"DBP\": 0.5058, \"CAD\": 0.045, \"dbscan0\": 19, \"dbscan1\": 2, \"dbscan2\": 0, \"dbscan3\": 0, \"dbscan4\": 0, \"dbscan5\": 0, \"kmeans4\": 0, \"mixture\": 4, \"birch_0\": 2, \"birch_1\": 1, \"birch_2\": 2, \"birch_3\": 0, \"birch_4\": 0, \"birch_5\": 0}, {\"DBP\": 0.2735, \"CAD\": 0.0414, \"dbscan0\": 14, \"dbscan1\": 6, \"dbscan2\": 0, \"dbscan3\": 0, \"dbscan4\": 0, \"dbscan5\": 0, \"kmeans4\": 3, \"mixture\": 4, \"birch_0\": 18, \"birch_1\": 3, \"birch_2\": 2, \"birch_3\": 0, \"birch_4\": 0, \"birch_5\": 0}, {\"DBP\": 0.3791, \"CAD\": -0.0131, \"dbscan0\": -1, \"dbscan1\": 12, \"dbscan2\": 0, \"dbscan3\": 0, \"dbscan4\": 0, \"dbscan5\": 0, \"kmeans4\": 0, \"mixture\": 0, \"birch_0\": 5, \"birch_1\": 2, \"birch_2\": 1, \"birch_3\": 0, \"birch_4\": 0, \"birch_5\": 0}, {\"DBP\": 0.1552, \"CAD\": 0.0176, \"dbscan0\": 11, \"dbscan1\": 4, \"dbscan2\": 0, \"dbscan3\": 0, \"dbscan4\": 0, \"dbscan5\": 0, \"kmeans4\": 0, \"mixture\": 4, \"birch_0\": 4, \"birch_1\": 3, \"birch_2\": 2, \"birch_3\": 0, \"birch_4\": 0, \"birch_5\": 0}, {\"DBP\": 0.142, \"CAD\": 0.0548, \"dbscan0\": -1, \"dbscan1\": -1, \"dbscan2\": -1, \"dbscan3\": 2, \"dbscan4\": 0, \"dbscan5\": 0, \"kmeans4\": 1, \"mixture\": 1, \"birch_0\": 22, \"birch_1\": 12, \"birch_2\": 7, \"birch_3\": 2, \"birch_4\": 0, \"birch_5\": 0}, {\"DBP\": 0.5454, \"CAD\": 0.1071, \"dbscan0\": -1, \"dbscan1\": -1, \"dbscan2\": 4, \"dbscan3\": 0, \"dbscan4\": 0, \"dbscan5\": 0, \"kmeans4\": 3, \"mixture\": 3, \"birch_0\": 17, \"birch_1\": 9, \"birch_2\": 5, \"birch_3\": 0, \"birch_4\": 0, \"birch_5\": 0}, {\"DBP\": 0.2109, \"CAD\": 0.0218, \"dbscan0\": 17, \"dbscan1\": 4, \"dbscan2\": 0, \"dbscan3\": 0, \"dbscan4\": 0, \"dbscan5\": 0, \"kmeans4\": 0, \"mixture\": 4, \"birch_0\": 19, \"birch_1\": 1, \"birch_2\": 2, \"birch_3\": 0, \"birch_4\": 0, \"birch_5\": 0}, {\"DBP\": 0.198, \"CAD\": 0.0105, \"dbscan0\": -1, \"dbscan1\": 3, \"dbscan2\": 0, \"dbscan3\": 0, \"dbscan4\": 0, \"dbscan5\": 0, \"kmeans4\": 0, \"mixture\": 4, \"birch_0\": 3, \"birch_1\": 6, \"birch_2\": 0, \"birch_3\": 0, \"birch_4\": 0, \"birch_5\": 0}, {\"DBP\": 0.3308, \"CAD\": 0.0191, \"dbscan0\": -1, \"dbscan1\": 3, \"dbscan2\": 0, \"dbscan3\": 0, \"dbscan4\": 0, \"dbscan5\": 0, \"kmeans4\": 0, \"mixture\": 4, \"birch_0\": 3, \"birch_1\": 6, \"birch_2\": 0, \"birch_3\": 0, \"birch_4\": 0, \"birch_5\": 0}, {\"DBP\": 0.241, \"CAD\": 0.0108, \"dbscan0\": 12, \"dbscan1\": 7, \"dbscan2\": 0, \"dbscan3\": 0, \"dbscan4\": 0, \"dbscan5\": 0, \"kmeans4\": 0, \"mixture\": 0, \"birch_0\": 8, \"birch_1\": 6, \"birch_2\": 0, \"birch_3\": 0, \"birch_4\": 0, \"birch_5\": 0}, {\"DBP\": 0.1324, \"CAD\": 0.0003, \"dbscan0\": 16, \"dbscan1\": 13, \"dbscan2\": 0, \"dbscan3\": 0, \"dbscan4\": 0, \"dbscan5\": 0, \"kmeans4\": 0, \"mixture\": 0, \"birch_0\": 1, \"birch_1\": 0, \"birch_2\": 1, \"birch_3\": 0, \"birch_4\": 0, \"birch_5\": 0}, {\"DBP\": 0.1409, \"CAD\": -0.0054, \"dbscan0\": 13, \"dbscan1\": 12, \"dbscan2\": 0, \"dbscan3\": 0, \"dbscan4\": 0, \"dbscan5\": 0, \"kmeans4\": 0, \"mixture\": 0, \"birch_0\": 5, \"birch_1\": 2, \"birch_2\": 1, \"birch_3\": 0, \"birch_4\": 0, \"birch_5\": 0}, {\"DBP\": 0.2869, \"CAD\": 0.0186, \"dbscan0\": 3, \"dbscan1\": 3, \"dbscan2\": 0, \"dbscan3\": 0, \"dbscan4\": 0, \"dbscan5\": 0, \"kmeans4\": 0, \"mixture\": 4, \"birch_0\": 3, \"birch_1\": 1, \"birch_2\": 0, \"birch_3\": 0, \"birch_4\": 0, \"birch_5\": 0}, {\"DBP\": 0.1966, \"CAD\": 0.0143, \"dbscan0\": 20, \"dbscan1\": 2, \"dbscan2\": 0, \"dbscan3\": 0, \"dbscan4\": 0, \"dbscan5\": 0, \"kmeans4\": 0, \"mixture\": 4, \"birch_0\": 3, \"birch_1\": 1, \"birch_2\": 0, \"birch_3\": 0, \"birch_4\": 0, \"birch_5\": 0}, {\"DBP\": 0.4, \"CAD\": 0.0586, \"dbscan0\": -1, \"dbscan1\": 6, \"dbscan2\": 0, \"dbscan3\": 0, \"dbscan4\": 0, \"dbscan5\": 0, \"kmeans4\": 3, \"mixture\": 4, \"birch_0\": 18, \"birch_1\": 3, \"birch_2\": 2, \"birch_3\": 0, \"birch_4\": 0, \"birch_5\": 0}, {\"DBP\": 0.1327, \"CAD\": -0.0269, \"dbscan0\": -1, \"dbscan1\": -1, \"dbscan2\": 1, \"dbscan3\": 1, \"dbscan4\": 0, \"dbscan5\": 0, \"kmeans4\": 2, \"mixture\": 2, \"birch_0\": 7, \"birch_1\": 4, \"birch_2\": 3, \"birch_3\": 1, \"birch_4\": 0, \"birch_5\": 0}, {\"DBP\": 0.3647, \"CAD\": 0.0359, \"dbscan0\": 15, \"dbscan1\": 4, \"dbscan2\": 0, \"dbscan3\": 0, \"dbscan4\": 0, \"dbscan5\": 0, \"kmeans4\": 0, \"mixture\": 4, \"birch_0\": 19, \"birch_1\": 1, \"birch_2\": 2, \"birch_3\": 0, \"birch_4\": 0, \"birch_5\": 0}, {\"DBP\": 0.1691, \"CAD\": -0.0028, \"dbscan0\": 4, \"dbscan1\": 0, \"dbscan2\": 0, \"dbscan3\": 0, \"dbscan4\": 0, \"dbscan5\": 0, \"kmeans4\": 0, \"mixture\": 0, \"birch_0\": 0, \"birch_1\": 0, \"birch_2\": 1, \"birch_3\": 0, \"birch_4\": 0, \"birch_5\": 0}]}}, {\"mode\": \"vega-lite\"});\n",
       "</script>"
      ],
      "text/plain": [
       "alt.VConcatChart(...)"
      ]
     },
     "execution_count": 12,
     "metadata": {},
     "output_type": "execute_result"
    }
   ],
   "source": [
    "# Display charts\n",
    "display(Markdown(\"# Plots with increaseing threshold\"))\n",
    "(birch_charts[birch_labels[0]] | birch_charts[birch_labels[1]]) & (birch_charts[birch_labels[2]] | birch_charts[birch_labels[3]]) & (birch_charts[birch_labels[4]] | birch_charts[birch_labels[5]])\n"
   ]
  },
  {
   "cell_type": "markdown",
   "metadata": {},
   "source": [
    "### Cluster with Spectral"
   ]
  },
  {
   "cell_type": "code",
   "execution_count": 13,
   "metadata": {},
   "outputs": [],
   "source": [
    "\n",
    "# Spectral\n",
    "#beta_crop = beta_df.loc[:,[col1,col2]]\n",
    "spectral = SpectralClustering(n_clusters=5, \n",
    "                              assign_labels='discretize', \n",
    "                              eigen_solver=\"arpack\",\n",
    "                              affinity= \"precomputed\").fit(similarities)\n",
    "results['spectral'] = spectral.labels_"
   ]
  },
  {
   "cell_type": "markdown",
   "metadata": {},
   "source": [
    "## Cluster with k-means mini-batch"
   ]
  },
  {
   "cell_type": "code",
   "execution_count": 14,
   "metadata": {},
   "outputs": [],
   "source": [
    "kmeans_batch = MiniBatchKMeans(n_clusters=nclust,\n",
    "                               random_state=0,\n",
    "                               batch_size=30,\n",
    "                               max_iter=10,\n",
    "                               n_init=\"auto\").fit(sims)\n",
    "km_lab = 'kmeans_minibatch%d'%nclust\n",
    "results[km_lab] = kmeans_batch.labels_"
   ]
  },
  {
   "cell_type": "markdown",
   "metadata": {},
   "source": [
    "### Cluster with k-medoids - Euclidean"
   ]
  },
  {
   "cell_type": "markdown",
   "metadata": {},
   "source": [
    "I suspect the cosine-similarity metric isn't being called within k-medoids. Test with Euclidean to see if the results are the same."
   ]
  },
  {
   "cell_type": "code",
   "execution_count": 15,
   "metadata": {},
   "outputs": [],
   "source": [
    "#beta_crop = beta_df.loc[:,[col1,col2]]\n",
    "kmedoids_e = KMedoids(n_clusters=nclust, metric = \"euclidean\", random_state = 0).fit(beta_crop)\n",
    "results['kmedoids_e'] = kmedoids_e.labels_"
   ]
  },
  {
   "cell_type": "markdown",
   "metadata": {},
   "source": [
    "### Cluster with k-medoids - Cosine"
   ]
  },
  {
   "cell_type": "code",
   "execution_count": 16,
   "metadata": {},
   "outputs": [],
   "source": [
    "#beta_crop = beta_df.loc[:,[col1,col2]]\n",
    "kmedoids_cp = KMedoids(n_clusters=nclust, metric = \"precomputed\", random_state = 0).fit(sims)\n",
    "results['kmedoids_cp'] = kmedoids_cp.labels_"
   ]
  },
  {
   "cell_type": "code",
   "execution_count": 17,
   "metadata": {},
   "outputs": [],
   "source": [
    "#beta_crop = beta_df.loc[:,[col1,col2]]\n",
    "kmedoids_c = KMedoids(n_clusters=nclust, metric = \"cosine\", random_state = 0).fit(beta_crop)\n",
    "results['kmedoids_c'] = kmedoids_c.labels_"
   ]
  },
  {
   "cell_type": "markdown",
   "metadata": {},
   "source": [
    "## Plot remaining cluster methods"
   ]
  },
  {
   "cell_type": "code",
   "execution_count": 18,
   "metadata": {},
   "outputs": [],
   "source": [
    "\n",
    "# Create plots for different clustering methods\n",
    "tooltip =[eps_labels[0],eps_labels[1],klab,'mixture','spectral',birch_labels[2],'kmedoids_e','kmedoids_c','kmedoids_cp', km_lab]\n",
    "kmeans = chartclusters(results,\"K-Means\",klab+\":N\",tooltip)\n",
    "gmm = chartclusters(results,\"GMM\",\"mixture:N\",tooltip)\n",
    "spectral = chartclusters(results,\"Spectral\",\"spectral:N\",tooltip)\n",
    "kmedoids_e = chartclusters(results,\"K-Medoids Euclidean\",\"kmedoids_e:N\",tooltip)\n",
    "kmedoids_c = chartclusters(results,\"K-Medoids Cosine\",\"kmedoids_c:N\",tooltip)\n",
    "kmedoids_cp = chartclusters(results,\"K-Medoids Cosine Precomputed\",\"kmedoids_cp:N\",tooltip)\n",
    "kmeans_mini = chartclusters(results, \"K-means minibatch\", km_lab+\":N\", tooltip)"
   ]
  },
  {
   "cell_type": "code",
   "execution_count": 19,
   "metadata": {},
   "outputs": [
    {
     "data": {
      "text/markdown": [
       "# Plots for the main clustering methods"
      ],
      "text/plain": [
       "<IPython.core.display.Markdown object>"
      ]
     },
     "metadata": {},
     "output_type": "display_data"
    },
    {
     "data": {
      "text/html": [
       "\n",
       "<style>\n",
       "  #altair-viz-bf5cee9621fe4e6aba88024f3662ef97.vega-embed {\n",
       "    width: 100%;\n",
       "    display: flex;\n",
       "  }\n",
       "\n",
       "  #altair-viz-bf5cee9621fe4e6aba88024f3662ef97.vega-embed details,\n",
       "  #altair-viz-bf5cee9621fe4e6aba88024f3662ef97.vega-embed details summary {\n",
       "    position: relative;\n",
       "  }\n",
       "</style>\n",
       "<div id=\"altair-viz-bf5cee9621fe4e6aba88024f3662ef97\"></div>\n",
       "<script type=\"text/javascript\">\n",
       "  var VEGA_DEBUG = (typeof VEGA_DEBUG == \"undefined\") ? {} : VEGA_DEBUG;\n",
       "  (function(spec, embedOpt){\n",
       "    let outputDiv = document.currentScript.previousElementSibling;\n",
       "    if (outputDiv.id !== \"altair-viz-bf5cee9621fe4e6aba88024f3662ef97\") {\n",
       "      outputDiv = document.getElementById(\"altair-viz-bf5cee9621fe4e6aba88024f3662ef97\");\n",
       "    }\n",
       "    const paths = {\n",
       "      \"vega\": \"https://cdn.jsdelivr.net/npm/vega@5?noext\",\n",
       "      \"vega-lib\": \"https://cdn.jsdelivr.net/npm/vega-lib?noext\",\n",
       "      \"vega-lite\": \"https://cdn.jsdelivr.net/npm/vega-lite@5.16.3?noext\",\n",
       "      \"vega-embed\": \"https://cdn.jsdelivr.net/npm/vega-embed@6?noext\",\n",
       "    };\n",
       "\n",
       "    function maybeLoadScript(lib, version) {\n",
       "      var key = `${lib.replace(\"-\", \"\")}_version`;\n",
       "      return (VEGA_DEBUG[key] == version) ?\n",
       "        Promise.resolve(paths[lib]) :\n",
       "        new Promise(function(resolve, reject) {\n",
       "          var s = document.createElement('script');\n",
       "          document.getElementsByTagName(\"head\")[0].appendChild(s);\n",
       "          s.async = true;\n",
       "          s.onload = () => {\n",
       "            VEGA_DEBUG[key] = version;\n",
       "            return resolve(paths[lib]);\n",
       "          };\n",
       "          s.onerror = () => reject(`Error loading script: ${paths[lib]}`);\n",
       "          s.src = paths[lib];\n",
       "        });\n",
       "    }\n",
       "\n",
       "    function showError(err) {\n",
       "      outputDiv.innerHTML = `<div class=\"error\" style=\"color:red;\">${err}</div>`;\n",
       "      throw err;\n",
       "    }\n",
       "\n",
       "    function displayChart(vegaEmbed) {\n",
       "      vegaEmbed(outputDiv, spec, embedOpt)\n",
       "        .catch(err => showError(`Javascript Error: ${err.message}<br>This usually means there's a typo in your chart specification. See the javascript console for the full traceback.`));\n",
       "    }\n",
       "\n",
       "    if(typeof define === \"function\" && define.amd) {\n",
       "      requirejs.config({paths});\n",
       "      require([\"vega-embed\"], displayChart, err => showError(`Error loading script: ${err.message}`));\n",
       "    } else {\n",
       "      maybeLoadScript(\"vega\", \"5\")\n",
       "        .then(() => maybeLoadScript(\"vega-lite\", \"5.16.3\"))\n",
       "        .then(() => maybeLoadScript(\"vega-embed\", \"6\"))\n",
       "        .catch(showError)\n",
       "        .then(() => displayChart(vegaEmbed));\n",
       "    }\n",
       "  })({\"config\": {\"view\": {\"continuousWidth\": 300, \"continuousHeight\": 300}}, \"vconcat\": [{\"hconcat\": [{\"mark\": {\"type\": \"circle\", \"size\": 60}, \"encoding\": {\"color\": {\"field\": \"dbscan0\", \"type\": \"nominal\"}, \"tooltip\": [{\"field\": \"dbscan0\", \"type\": \"quantitative\"}, {\"field\": \"dbscan1\", \"type\": \"quantitative\"}, {\"field\": \"dbscan2\", \"type\": \"quantitative\"}, {\"field\": \"dbscan3\", \"type\": \"quantitative\"}, {\"field\": \"dbscan4\", \"type\": \"quantitative\"}, {\"field\": \"dbscan5\", \"type\": \"quantitative\"}], \"x\": {\"field\": \"DBP\", \"type\": \"quantitative\"}, \"y\": {\"field\": \"CAD\", \"type\": \"quantitative\"}}, \"name\": \"view_13\", \"title\": \"dbscan0\"}, {\"mark\": {\"type\": \"circle\", \"size\": 60}, \"encoding\": {\"color\": {\"field\": \"dbscan1\", \"type\": \"nominal\"}, \"tooltip\": [{\"field\": \"dbscan0\", \"type\": \"quantitative\"}, {\"field\": \"dbscan1\", \"type\": \"quantitative\"}, {\"field\": \"dbscan2\", \"type\": \"quantitative\"}, {\"field\": \"dbscan3\", \"type\": \"quantitative\"}, {\"field\": \"dbscan4\", \"type\": \"quantitative\"}, {\"field\": \"dbscan5\", \"type\": \"quantitative\"}], \"x\": {\"field\": \"DBP\", \"type\": \"quantitative\"}, \"y\": {\"field\": \"CAD\", \"type\": \"quantitative\"}}, \"name\": \"view_14\", \"title\": \"dbscan1\"}]}, {\"hconcat\": [{\"mark\": {\"type\": \"circle\", \"size\": 60}, \"encoding\": {\"color\": {\"field\": \"birch_2\", \"type\": \"nominal\"}, \"tooltip\": [{\"field\": \"birch_0\", \"type\": \"quantitative\"}, {\"field\": \"birch_1\", \"type\": \"quantitative\"}, {\"field\": \"birch_2\", \"type\": \"quantitative\"}, {\"field\": \"birch_3\", \"type\": \"quantitative\"}, {\"field\": \"birch_4\", \"type\": \"quantitative\"}, {\"field\": \"birch_5\", \"type\": \"quantitative\"}], \"x\": {\"field\": \"DBP\", \"type\": \"quantitative\"}, \"y\": {\"field\": \"CAD\", \"type\": \"quantitative\"}}, \"name\": \"view_15\", \"title\": \"birch_2\"}, {\"mark\": {\"type\": \"circle\", \"size\": 60}, \"encoding\": {\"color\": {\"field\": \"kmeans4\", \"type\": \"nominal\"}, \"tooltip\": [{\"field\": \"dbscan0\", \"type\": \"quantitative\"}, {\"field\": \"dbscan1\", \"type\": \"quantitative\"}, {\"field\": \"kmeans4\", \"type\": \"quantitative\"}, {\"field\": \"mixture\", \"type\": \"quantitative\"}, {\"field\": \"spectral\", \"type\": \"quantitative\"}, {\"field\": \"birch_2\", \"type\": \"quantitative\"}, {\"field\": \"kmedoids_e\", \"type\": \"quantitative\"}, {\"field\": \"kmedoids_c\", \"type\": \"quantitative\"}, {\"field\": \"kmedoids_cp\", \"type\": \"quantitative\"}, {\"field\": \"kmeans_minibatch4\", \"type\": \"quantitative\"}], \"x\": {\"field\": \"DBP\", \"type\": \"quantitative\"}, \"y\": {\"field\": \"CAD\", \"type\": \"quantitative\"}}, \"name\": \"view_16\", \"title\": \"K-Means\"}]}, {\"hconcat\": [{\"mark\": {\"type\": \"circle\", \"size\": 60}, \"encoding\": {\"color\": {\"field\": \"mixture\", \"type\": \"nominal\"}, \"tooltip\": [{\"field\": \"dbscan0\", \"type\": \"quantitative\"}, {\"field\": \"dbscan1\", \"type\": \"quantitative\"}, {\"field\": \"kmeans4\", \"type\": \"quantitative\"}, {\"field\": \"mixture\", \"type\": \"quantitative\"}, {\"field\": \"spectral\", \"type\": \"quantitative\"}, {\"field\": \"birch_2\", \"type\": \"quantitative\"}, {\"field\": \"kmedoids_e\", \"type\": \"quantitative\"}, {\"field\": \"kmedoids_c\", \"type\": \"quantitative\"}, {\"field\": \"kmedoids_cp\", \"type\": \"quantitative\"}, {\"field\": \"kmeans_minibatch4\", \"type\": \"quantitative\"}], \"x\": {\"field\": \"DBP\", \"type\": \"quantitative\"}, \"y\": {\"field\": \"CAD\", \"type\": \"quantitative\"}}, \"name\": \"view_17\", \"title\": \"GMM\"}, {\"mark\": {\"type\": \"circle\", \"size\": 60}, \"encoding\": {\"color\": {\"field\": \"spectral\", \"type\": \"nominal\"}, \"tooltip\": [{\"field\": \"dbscan0\", \"type\": \"quantitative\"}, {\"field\": \"dbscan1\", \"type\": \"quantitative\"}, {\"field\": \"kmeans4\", \"type\": \"quantitative\"}, {\"field\": \"mixture\", \"type\": \"quantitative\"}, {\"field\": \"spectral\", \"type\": \"quantitative\"}, {\"field\": \"birch_2\", \"type\": \"quantitative\"}, {\"field\": \"kmedoids_e\", \"type\": \"quantitative\"}, {\"field\": \"kmedoids_c\", \"type\": \"quantitative\"}, {\"field\": \"kmedoids_cp\", \"type\": \"quantitative\"}, {\"field\": \"kmeans_minibatch4\", \"type\": \"quantitative\"}], \"x\": {\"field\": \"DBP\", \"type\": \"quantitative\"}, \"y\": {\"field\": \"CAD\", \"type\": \"quantitative\"}}, \"name\": \"view_18\", \"title\": \"Spectral\"}]}, {\"hconcat\": [{\"mark\": {\"type\": \"circle\", \"size\": 60}, \"encoding\": {\"color\": {\"field\": \"kmedoids_e\", \"type\": \"nominal\"}, \"tooltip\": [{\"field\": \"dbscan0\", \"type\": \"quantitative\"}, {\"field\": \"dbscan1\", \"type\": \"quantitative\"}, {\"field\": \"kmeans4\", \"type\": \"quantitative\"}, {\"field\": \"mixture\", \"type\": \"quantitative\"}, {\"field\": \"spectral\", \"type\": \"quantitative\"}, {\"field\": \"birch_2\", \"type\": \"quantitative\"}, {\"field\": \"kmedoids_e\", \"type\": \"quantitative\"}, {\"field\": \"kmedoids_c\", \"type\": \"quantitative\"}, {\"field\": \"kmedoids_cp\", \"type\": \"quantitative\"}, {\"field\": \"kmeans_minibatch4\", \"type\": \"quantitative\"}], \"x\": {\"field\": \"DBP\", \"type\": \"quantitative\"}, \"y\": {\"field\": \"CAD\", \"type\": \"quantitative\"}}, \"name\": \"view_19\", \"title\": \"K-Medoids Euclidean\"}, {\"mark\": {\"type\": \"circle\", \"size\": 60}, \"encoding\": {\"color\": {\"field\": \"kmedoids_c\", \"type\": \"nominal\"}, \"tooltip\": [{\"field\": \"dbscan0\", \"type\": \"quantitative\"}, {\"field\": \"dbscan1\", \"type\": \"quantitative\"}, {\"field\": \"kmeans4\", \"type\": \"quantitative\"}, {\"field\": \"mixture\", \"type\": \"quantitative\"}, {\"field\": \"spectral\", \"type\": \"quantitative\"}, {\"field\": \"birch_2\", \"type\": \"quantitative\"}, {\"field\": \"kmedoids_e\", \"type\": \"quantitative\"}, {\"field\": \"kmedoids_c\", \"type\": \"quantitative\"}, {\"field\": \"kmedoids_cp\", \"type\": \"quantitative\"}, {\"field\": \"kmeans_minibatch4\", \"type\": \"quantitative\"}], \"x\": {\"field\": \"DBP\", \"type\": \"quantitative\"}, \"y\": {\"field\": \"CAD\", \"type\": \"quantitative\"}}, \"name\": \"view_20\", \"title\": \"K-Medoids Cosine\"}]}, {\"mark\": {\"type\": \"circle\", \"size\": 60}, \"encoding\": {\"color\": {\"field\": \"kmedoids_cp\", \"type\": \"nominal\"}, \"tooltip\": [{\"field\": \"dbscan0\", \"type\": \"quantitative\"}, {\"field\": \"dbscan1\", \"type\": \"quantitative\"}, {\"field\": \"kmeans4\", \"type\": \"quantitative\"}, {\"field\": \"mixture\", \"type\": \"quantitative\"}, {\"field\": \"spectral\", \"type\": \"quantitative\"}, {\"field\": \"birch_2\", \"type\": \"quantitative\"}, {\"field\": \"kmedoids_e\", \"type\": \"quantitative\"}, {\"field\": \"kmedoids_c\", \"type\": \"quantitative\"}, {\"field\": \"kmedoids_cp\", \"type\": \"quantitative\"}, {\"field\": \"kmeans_minibatch4\", \"type\": \"quantitative\"}], \"x\": {\"field\": \"DBP\", \"type\": \"quantitative\"}, \"y\": {\"field\": \"CAD\", \"type\": \"quantitative\"}}, \"name\": \"view_21\", \"title\": \"K-Medoids Cosine Precomputed\"}], \"data\": {\"name\": \"data-61a8e192226c4a2ead0871fbdf2f50a8\"}, \"params\": [{\"name\": \"param_1\", \"select\": {\"type\": \"interval\", \"encodings\": [\"x\", \"y\"]}, \"bind\": \"scales\", \"views\": [\"view_13\"]}, {\"name\": \"param_2\", \"select\": {\"type\": \"interval\", \"encodings\": [\"x\", \"y\"]}, \"bind\": \"scales\", \"views\": [\"view_14\"]}, {\"name\": \"param_9\", \"select\": {\"type\": \"interval\", \"encodings\": [\"x\", \"y\"]}, \"bind\": \"scales\", \"views\": [\"view_15\"]}, {\"name\": \"param_13\", \"select\": {\"type\": \"interval\", \"encodings\": [\"x\", \"y\"]}, \"bind\": \"scales\", \"views\": [\"view_16\"]}, {\"name\": \"param_14\", \"select\": {\"type\": \"interval\", \"encodings\": [\"x\", \"y\"]}, \"bind\": \"scales\", \"views\": [\"view_17\"]}, {\"name\": \"param_15\", \"select\": {\"type\": \"interval\", \"encodings\": [\"x\", \"y\"]}, \"bind\": \"scales\", \"views\": [\"view_18\"]}, {\"name\": \"param_16\", \"select\": {\"type\": \"interval\", \"encodings\": [\"x\", \"y\"]}, \"bind\": \"scales\", \"views\": [\"view_19\"]}, {\"name\": \"param_17\", \"select\": {\"type\": \"interval\", \"encodings\": [\"x\", \"y\"]}, \"bind\": \"scales\", \"views\": [\"view_20\"]}, {\"name\": \"param_18\", \"select\": {\"type\": \"interval\", \"encodings\": [\"x\", \"y\"]}, \"bind\": \"scales\", \"views\": [\"view_21\"]}], \"$schema\": \"https://vega.github.io/schema/vega-lite/v5.16.3.json\", \"datasets\": {\"data-61a8e192226c4a2ead0871fbdf2f50a8\": [{\"DBP\": 0.2359, \"CAD\": -0.006, \"dbscan0\": -1, \"dbscan1\": 0, \"dbscan2\": 0, \"dbscan3\": 0, \"dbscan4\": 0, \"dbscan5\": 0, \"kmeans4\": 0, \"mixture\": 0, \"birch_0\": 0, \"birch_1\": 2, \"birch_2\": 1, \"birch_3\": 0, \"birch_4\": 0, \"birch_5\": 0, \"spectral\": 1, \"kmeans_minibatch4\": 1, \"kmedoids_e\": 1, \"kmedoids_cp\": 0, \"kmedoids_c\": 0}, {\"DBP\": 0.237, \"CAD\": 0.0017, \"dbscan0\": 0, \"dbscan1\": 1, \"dbscan2\": 0, \"dbscan3\": 0, \"dbscan4\": 0, \"dbscan5\": 0, \"kmeans4\": 0, \"mixture\": 0, \"birch_0\": 1, \"birch_1\": 0, \"birch_2\": 0, \"birch_3\": 0, \"birch_4\": 0, \"birch_5\": 0, \"spectral\": 1, \"kmeans_minibatch4\": 1, \"kmedoids_e\": 1, \"kmedoids_cp\": 0, \"kmedoids_c\": 0}, {\"DBP\": 0.4715, \"CAD\": 0.0356, \"dbscan0\": 1, \"dbscan1\": 2, \"dbscan2\": 0, \"dbscan3\": 0, \"dbscan4\": 0, \"dbscan5\": 0, \"kmeans4\": 0, \"mixture\": 4, \"birch_0\": 2, \"birch_1\": 1, \"birch_2\": 0, \"birch_3\": 0, \"birch_4\": 0, \"birch_5\": 0, \"spectral\": 0, \"kmeans_minibatch4\": 1, \"kmedoids_e\": 3, \"kmedoids_cp\": 2, \"kmedoids_c\": 2}, {\"DBP\": 0.1617, \"CAD\": 0.0141, \"dbscan0\": -1, \"dbscan1\": 2, \"dbscan2\": 0, \"dbscan3\": 0, \"dbscan4\": 0, \"dbscan5\": 0, \"kmeans4\": 0, \"mixture\": 4, \"birch_0\": 2, \"birch_1\": 1, \"birch_2\": 2, \"birch_3\": 0, \"birch_4\": 0, \"birch_5\": 0, \"spectral\": 0, \"kmeans_minibatch4\": 1, \"kmedoids_e\": 2, \"kmedoids_cp\": 2, \"kmedoids_c\": 2}, {\"DBP\": 0.1364, \"CAD\": 0.0125, \"dbscan0\": 2, \"dbscan1\": 2, \"dbscan2\": 0, \"dbscan3\": 0, \"dbscan4\": 0, \"dbscan5\": 0, \"kmeans4\": 0, \"mixture\": 4, \"birch_0\": 2, \"birch_1\": 1, \"birch_2\": 2, \"birch_3\": 0, \"birch_4\": 0, \"birch_5\": 0, \"spectral\": 0, \"kmeans_minibatch4\": 1, \"kmedoids_e\": 2, \"kmedoids_cp\": 2, \"kmedoids_c\": 2}, {\"DBP\": 0.1486, \"CAD\": 0.0089, \"dbscan0\": 3, \"dbscan1\": 3, \"dbscan2\": 0, \"dbscan3\": 0, \"dbscan4\": 0, \"dbscan5\": 0, \"kmeans4\": 0, \"mixture\": 4, \"birch_0\": 3, \"birch_1\": 6, \"birch_2\": 0, \"birch_3\": 0, \"birch_4\": 0, \"birch_5\": 0, \"spectral\": 3, \"kmeans_minibatch4\": 1, \"kmedoids_e\": 2, \"kmedoids_cp\": 2, \"kmedoids_c\": 2}, {\"DBP\": 0.2356, \"CAD\": 0.0248, \"dbscan0\": -1, \"dbscan1\": 4, \"dbscan2\": 0, \"dbscan3\": 0, \"dbscan4\": 0, \"dbscan5\": 0, \"kmeans4\": 0, \"mixture\": 4, \"birch_0\": 19, \"birch_1\": 1, \"birch_2\": 2, \"birch_3\": 0, \"birch_4\": 0, \"birch_5\": 0, \"spectral\": 0, \"kmeans_minibatch4\": 1, \"kmedoids_e\": 1, \"kmedoids_cp\": 2, \"kmedoids_c\": 2}, {\"DBP\": 0.1919, \"CAD\": -0.0034, \"dbscan0\": 4, \"dbscan1\": 0, \"dbscan2\": 0, \"dbscan3\": 0, \"dbscan4\": 0, \"dbscan5\": 0, \"kmeans4\": 0, \"mixture\": 0, \"birch_0\": 0, \"birch_1\": 0, \"birch_2\": 1, \"birch_3\": 0, \"birch_4\": 0, \"birch_5\": 0, \"spectral\": 1, \"kmeans_minibatch4\": 1, \"kmedoids_e\": 0, \"kmedoids_cp\": 0, \"kmedoids_c\": 0}, {\"DBP\": 0.3003, \"CAD\": -0.015, \"dbscan0\": 5, \"dbscan1\": 5, \"dbscan2\": 0, \"dbscan3\": 0, \"dbscan4\": 0, \"dbscan5\": 0, \"kmeans4\": 0, \"mixture\": 0, \"birch_0\": 5, \"birch_1\": 2, \"birch_2\": 1, \"birch_3\": 0, \"birch_4\": 0, \"birch_5\": 0, \"spectral\": 1, \"kmeans_minibatch4\": 3, \"kmedoids_e\": 1, \"kmedoids_cp\": 0, \"kmedoids_c\": 0}, {\"DBP\": 0.4546, \"CAD\": 0.064, \"dbscan0\": -1, \"dbscan1\": 6, \"dbscan2\": 0, \"dbscan3\": 0, \"dbscan4\": 0, \"dbscan5\": 0, \"kmeans4\": 3, \"mixture\": 4, \"birch_0\": 6, \"birch_1\": 3, \"birch_2\": 2, \"birch_3\": 0, \"birch_4\": 0, \"birch_5\": 0, \"spectral\": 0, \"kmeans_minibatch4\": 0, \"kmedoids_e\": 3, \"kmedoids_cp\": 2, \"kmedoids_c\": 2}, {\"DBP\": 0.1671, \"CAD\": -0.033, \"dbscan0\": -1, \"dbscan1\": -1, \"dbscan2\": 1, \"dbscan3\": 1, \"dbscan4\": 0, \"dbscan5\": 0, \"kmeans4\": 2, \"mixture\": 2, \"birch_0\": 7, \"birch_1\": 4, \"birch_2\": 3, \"birch_3\": 1, \"birch_4\": 0, \"birch_5\": 0, \"spectral\": 1, \"kmeans_minibatch4\": 3, \"kmedoids_e\": 2, \"kmedoids_cp\": 1, \"kmedoids_c\": 1}, {\"DBP\": 0.2424, \"CAD\": 0.0198, \"dbscan0\": -1, \"dbscan1\": 2, \"dbscan2\": 0, \"dbscan3\": 0, \"dbscan4\": 0, \"dbscan5\": 0, \"kmeans4\": 0, \"mixture\": 4, \"birch_0\": 2, \"birch_1\": 1, \"birch_2\": 0, \"birch_3\": 0, \"birch_4\": 0, \"birch_5\": 0, \"spectral\": 0, \"kmeans_minibatch4\": 1, \"kmedoids_e\": 1, \"kmedoids_cp\": 2, \"kmedoids_c\": 2}, {\"DBP\": 0.1595, \"CAD\": 0.0043, \"dbscan0\": -1, \"dbscan1\": 7, \"dbscan2\": 0, \"dbscan3\": 0, \"dbscan4\": 0, \"dbscan5\": 0, \"kmeans4\": 0, \"mixture\": 0, \"birch_0\": 8, \"birch_1\": 6, \"birch_2\": 0, \"birch_3\": 0, \"birch_4\": 0, \"birch_5\": 0, \"spectral\": 1, \"kmeans_minibatch4\": 1, \"kmedoids_e\": 2, \"kmedoids_cp\": 0, \"kmedoids_c\": 0}, {\"DBP\": 0.2772, \"CAD\": 0.021, \"dbscan0\": 1, \"dbscan1\": 2, \"dbscan2\": 0, \"dbscan3\": 0, \"dbscan4\": 0, \"dbscan5\": 0, \"kmeans4\": 0, \"mixture\": 4, \"birch_0\": 2, \"birch_1\": 1, \"birch_2\": 0, \"birch_3\": 0, \"birch_4\": 0, \"birch_5\": 0, \"spectral\": 0, \"kmeans_minibatch4\": 1, \"kmedoids_e\": 1, \"kmedoids_cp\": 2, \"kmedoids_c\": 2}, {\"DBP\": 0.3586, \"CAD\": 0.0243, \"dbscan0\": 3, \"dbscan1\": 3, \"dbscan2\": 0, \"dbscan3\": 0, \"dbscan4\": 0, \"dbscan5\": 0, \"kmeans4\": 0, \"mixture\": 4, \"birch_0\": 3, \"birch_1\": 1, \"birch_2\": 0, \"birch_3\": 0, \"birch_4\": 0, \"birch_5\": 0, \"spectral\": 0, \"kmeans_minibatch4\": 1, \"kmedoids_e\": 3, \"kmedoids_cp\": 2, \"kmedoids_c\": 2}, {\"DBP\": 0.148, \"CAD\": 0.0016, \"dbscan0\": 6, \"dbscan1\": 1, \"dbscan2\": 0, \"dbscan3\": 0, \"dbscan4\": 0, \"dbscan5\": 0, \"kmeans4\": 0, \"mixture\": 0, \"birch_0\": 1, \"birch_1\": 0, \"birch_2\": 0, \"birch_3\": 0, \"birch_4\": 0, \"birch_5\": 0, \"spectral\": 1, \"kmeans_minibatch4\": 1, \"kmedoids_e\": 2, \"kmedoids_cp\": 0, \"kmedoids_c\": 0}, {\"DBP\": 0.1767, \"CAD\": -0.0149, \"dbscan0\": -1, \"dbscan1\": 8, \"dbscan2\": 2, \"dbscan3\": 0, \"dbscan4\": 0, \"dbscan5\": 0, \"kmeans4\": 2, \"mixture\": 2, \"birch_0\": 9, \"birch_1\": 5, \"birch_2\": 4, \"birch_3\": 1, \"birch_4\": 0, \"birch_5\": 0, \"spectral\": 1, \"kmeans_minibatch4\": 3, \"kmedoids_e\": 0, \"kmedoids_cp\": 1, \"kmedoids_c\": 1}, {\"DBP\": 0.2799, \"CAD\": 0.0339, \"dbscan0\": 7, \"dbscan1\": 9, \"dbscan2\": 0, \"dbscan3\": 0, \"dbscan4\": 0, \"dbscan5\": 0, \"kmeans4\": 3, \"mixture\": 4, \"birch_0\": 4, \"birch_1\": 3, \"birch_2\": 2, \"birch_3\": 0, \"birch_4\": 0, \"birch_5\": 0, \"spectral\": 0, \"kmeans_minibatch4\": 0, \"kmedoids_e\": 1, \"kmedoids_cp\": 2, \"kmedoids_c\": 2}, {\"DBP\": 0.1886, \"CAD\": 0.027, \"dbscan0\": -1, \"dbscan1\": 6, \"dbscan2\": 0, \"dbscan3\": 0, \"dbscan4\": 0, \"dbscan5\": 0, \"kmeans4\": 3, \"mixture\": 4, \"birch_0\": 6, \"birch_1\": 3, \"birch_2\": 2, \"birch_3\": 0, \"birch_4\": 0, \"birch_5\": 0, \"spectral\": 0, \"kmeans_minibatch4\": 0, \"kmedoids_e\": 0, \"kmedoids_cp\": 2, \"kmedoids_c\": 2}, {\"DBP\": 0.2997, \"CAD\": 0.0104, \"dbscan0\": 8, \"dbscan1\": 7, \"dbscan2\": 0, \"dbscan3\": 0, \"dbscan4\": 0, \"dbscan5\": 0, \"kmeans4\": 0, \"mixture\": 0, \"birch_0\": 8, \"birch_1\": 6, \"birch_2\": 0, \"birch_3\": 0, \"birch_4\": 0, \"birch_5\": 0, \"spectral\": 1, \"kmeans_minibatch4\": 1, \"kmedoids_e\": 1, \"kmedoids_cp\": 0, \"kmedoids_c\": 0}, {\"DBP\": 0.2043, \"CAD\": 0.0268, \"dbscan0\": 9, \"dbscan1\": 10, \"dbscan2\": 0, \"dbscan3\": 0, \"dbscan4\": 0, \"dbscan5\": 0, \"kmeans4\": 3, \"mixture\": 4, \"birch_0\": 6, \"birch_1\": 3, \"birch_2\": 2, \"birch_3\": 0, \"birch_4\": 0, \"birch_5\": 0, \"spectral\": 0, \"kmeans_minibatch4\": 0, \"kmedoids_e\": 0, \"kmedoids_cp\": 2, \"kmedoids_c\": 2}, {\"DBP\": 0.1578, \"CAD\": 0.0037, \"dbscan0\": 10, \"dbscan1\": 7, \"dbscan2\": 0, \"dbscan3\": 0, \"dbscan4\": 0, \"dbscan5\": 0, \"kmeans4\": 0, \"mixture\": 0, \"birch_0\": 8, \"birch_1\": 6, \"birch_2\": 0, \"birch_3\": 0, \"birch_4\": 0, \"birch_5\": 0, \"spectral\": 1, \"kmeans_minibatch4\": 1, \"kmedoids_e\": 2, \"kmedoids_cp\": 0, \"kmedoids_c\": 0}, {\"DBP\": 0.1612, \"CAD\": 0.0075, \"dbscan0\": -1, \"dbscan1\": 7, \"dbscan2\": 0, \"dbscan3\": 0, \"dbscan4\": 0, \"dbscan5\": 0, \"kmeans4\": 0, \"mixture\": 0, \"birch_0\": 8, \"birch_1\": 6, \"birch_2\": 0, \"birch_3\": 0, \"birch_4\": 0, \"birch_5\": 0, \"spectral\": 1, \"kmeans_minibatch4\": 1, \"kmedoids_e\": 2, \"kmedoids_cp\": 0, \"kmedoids_c\": 0}, {\"DBP\": 0.1332, \"CAD\": -0.0164, \"dbscan0\": -1, \"dbscan1\": 11, \"dbscan2\": 3, \"dbscan3\": 0, \"dbscan4\": 0, \"dbscan5\": 0, \"kmeans4\": 2, \"mixture\": 2, \"birch_0\": 10, \"birch_1\": 7, \"birch_2\": 4, \"birch_3\": 1, \"birch_4\": 0, \"birch_5\": 0, \"spectral\": 1, \"kmeans_minibatch4\": 3, \"kmedoids_e\": 2, \"kmedoids_cp\": 1, \"kmedoids_c\": 1}, {\"DBP\": 0.1879, \"CAD\": -0.0041, \"dbscan0\": -1, \"dbscan1\": 0, \"dbscan2\": 0, \"dbscan3\": 0, \"dbscan4\": 0, \"dbscan5\": 0, \"kmeans4\": 0, \"mixture\": 0, \"birch_0\": 0, \"birch_1\": 0, \"birch_2\": 1, \"birch_3\": 0, \"birch_4\": 0, \"birch_5\": 0, \"spectral\": 1, \"kmeans_minibatch4\": 1, \"kmedoids_e\": 0, \"kmedoids_cp\": 0, \"kmedoids_c\": 0}, {\"DBP\": 0.1588, \"CAD\": 0.018, \"dbscan0\": 11, \"dbscan1\": 4, \"dbscan2\": 0, \"dbscan3\": 0, \"dbscan4\": 0, \"dbscan5\": 0, \"kmeans4\": 0, \"mixture\": 4, \"birch_0\": 4, \"birch_1\": 3, \"birch_2\": 2, \"birch_3\": 0, \"birch_4\": 0, \"birch_5\": 0, \"spectral\": 0, \"kmeans_minibatch4\": 1, \"kmedoids_e\": 2, \"kmedoids_cp\": 2, \"kmedoids_c\": 2}, {\"DBP\": 0.3632, \"CAD\": 0.0305, \"dbscan0\": -1, \"dbscan1\": 2, \"dbscan2\": 0, \"dbscan3\": 0, \"dbscan4\": 0, \"dbscan5\": 0, \"kmeans4\": 0, \"mixture\": 4, \"birch_0\": 2, \"birch_1\": 1, \"birch_2\": 0, \"birch_3\": 0, \"birch_4\": 0, \"birch_5\": 0, \"spectral\": 0, \"kmeans_minibatch4\": 1, \"kmedoids_e\": 3, \"kmedoids_cp\": 2, \"kmedoids_c\": 2}, {\"DBP\": 0.1823, \"CAD\": 0.0399, \"dbscan0\": -1, \"dbscan1\": -1, \"dbscan2\": 4, \"dbscan3\": 0, \"dbscan4\": 0, \"dbscan5\": 0, \"kmeans4\": 3, \"mixture\": 3, \"birch_0\": 11, \"birch_1\": 8, \"birch_2\": 5, \"birch_3\": 0, \"birch_4\": 0, \"birch_5\": 0, \"spectral\": 0, \"kmeans_minibatch4\": 0, \"kmedoids_e\": 0, \"kmedoids_cp\": 3, \"kmedoids_c\": 3}, {\"DBP\": 0.441, \"CAD\": 0.0576, \"dbscan0\": 9, \"dbscan1\": 10, \"dbscan2\": 0, \"dbscan3\": 0, \"dbscan4\": 0, \"dbscan5\": 0, \"kmeans4\": 3, \"mixture\": 4, \"birch_0\": 6, \"birch_1\": 3, \"birch_2\": 2, \"birch_3\": 0, \"birch_4\": 0, \"birch_5\": 0, \"spectral\": 0, \"kmeans_minibatch4\": 0, \"kmedoids_e\": 3, \"kmedoids_cp\": 2, \"kmedoids_c\": 2}, {\"DBP\": 0.1856, \"CAD\": 0.0213, \"dbscan0\": 11, \"dbscan1\": 4, \"dbscan2\": 0, \"dbscan3\": 0, \"dbscan4\": 0, \"dbscan5\": 0, \"kmeans4\": 0, \"mixture\": 4, \"birch_0\": 4, \"birch_1\": 3, \"birch_2\": 2, \"birch_3\": 0, \"birch_4\": 0, \"birch_5\": 0, \"spectral\": 0, \"kmeans_minibatch4\": 1, \"kmedoids_e\": 0, \"kmedoids_cp\": 2, \"kmedoids_c\": 2}, {\"DBP\": 0.2201, \"CAD\": 0.009, \"dbscan0\": 12, \"dbscan1\": 7, \"dbscan2\": 0, \"dbscan3\": 0, \"dbscan4\": 0, \"dbscan5\": 0, \"kmeans4\": 0, \"mixture\": 0, \"birch_0\": 8, \"birch_1\": 6, \"birch_2\": 0, \"birch_3\": 0, \"birch_4\": 0, \"birch_5\": 0, \"spectral\": 1, \"kmeans_minibatch4\": 1, \"kmedoids_e\": 1, \"kmedoids_cp\": 0, \"kmedoids_c\": 0}, {\"DBP\": 0.1644, \"CAD\": 0.004, \"dbscan0\": 10, \"dbscan1\": 7, \"dbscan2\": 0, \"dbscan3\": 0, \"dbscan4\": 0, \"dbscan5\": 0, \"kmeans4\": 0, \"mixture\": 0, \"birch_0\": 8, \"birch_1\": 6, \"birch_2\": 0, \"birch_3\": 0, \"birch_4\": 0, \"birch_5\": 0, \"spectral\": 1, \"kmeans_minibatch4\": 1, \"kmedoids_e\": 2, \"kmedoids_cp\": 0, \"kmedoids_c\": 0}, {\"DBP\": 0.2713, \"CAD\": 0.0359, \"dbscan0\": 9, \"dbscan1\": 10, \"dbscan2\": 0, \"dbscan3\": 0, \"dbscan4\": 0, \"dbscan5\": 0, \"kmeans4\": 3, \"mixture\": 4, \"birch_0\": 6, \"birch_1\": 3, \"birch_2\": 2, \"birch_3\": 0, \"birch_4\": 0, \"birch_5\": 0, \"spectral\": 0, \"kmeans_minibatch4\": 0, \"kmedoids_e\": 1, \"kmedoids_cp\": 2, \"kmedoids_c\": 2}, {\"DBP\": 0.2306, \"CAD\": -0.0044, \"dbscan0\": 4, \"dbscan1\": 0, \"dbscan2\": 0, \"dbscan3\": 0, \"dbscan4\": 0, \"dbscan5\": 0, \"kmeans4\": 0, \"mixture\": 0, \"birch_0\": 0, \"birch_1\": 0, \"birch_2\": 1, \"birch_3\": 0, \"birch_4\": 0, \"birch_5\": 0, \"spectral\": 1, \"kmeans_minibatch4\": 1, \"kmedoids_e\": 1, \"kmedoids_cp\": 0, \"kmedoids_c\": 0}, {\"DBP\": 0.4076, \"CAD\": -0.0554, \"dbscan0\": -1, \"dbscan1\": -1, \"dbscan2\": 3, \"dbscan3\": 0, \"dbscan4\": 0, \"dbscan5\": 0, \"kmeans4\": 2, \"mixture\": 2, \"birch_0\": 12, \"birch_1\": 7, \"birch_2\": 4, \"birch_3\": 1, \"birch_4\": 0, \"birch_5\": 0, \"spectral\": 1, \"kmeans_minibatch4\": 3, \"kmedoids_e\": 3, \"kmedoids_cp\": 1, \"kmedoids_c\": 1}, {\"DBP\": 0.215, \"CAD\": 0.0016, \"dbscan0\": 0, \"dbscan1\": 1, \"dbscan2\": 0, \"dbscan3\": 0, \"dbscan4\": 0, \"dbscan5\": 0, \"kmeans4\": 0, \"mixture\": 0, \"birch_0\": 1, \"birch_1\": 0, \"birch_2\": 0, \"birch_3\": 0, \"birch_4\": 0, \"birch_5\": 0, \"spectral\": 1, \"kmeans_minibatch4\": 1, \"kmedoids_e\": 0, \"kmedoids_cp\": 0, \"kmedoids_c\": 0}, {\"DBP\": 0.1328, \"CAD\": 0.0056, \"dbscan0\": 12, \"dbscan1\": 7, \"dbscan2\": 0, \"dbscan3\": 0, \"dbscan4\": 0, \"dbscan5\": 0, \"kmeans4\": 0, \"mixture\": 0, \"birch_0\": 8, \"birch_1\": 6, \"birch_2\": 0, \"birch_3\": 0, \"birch_4\": 0, \"birch_5\": 0, \"spectral\": 1, \"kmeans_minibatch4\": 1, \"kmedoids_e\": 2, \"kmedoids_cp\": 0, \"kmedoids_c\": 0}, {\"DBP\": 0.3725, \"CAD\": 0.0237, \"dbscan0\": 3, \"dbscan1\": 3, \"dbscan2\": 0, \"dbscan3\": 0, \"dbscan4\": 0, \"dbscan5\": 0, \"kmeans4\": 0, \"mixture\": 4, \"birch_0\": 3, \"birch_1\": 1, \"birch_2\": 0, \"birch_3\": 0, \"birch_4\": 0, \"birch_5\": 0, \"spectral\": 0, \"kmeans_minibatch4\": 1, \"kmedoids_e\": 3, \"kmedoids_cp\": 2, \"kmedoids_c\": 2}, {\"DBP\": 0.3529, \"CAD\": 0.0656, \"dbscan0\": -1, \"dbscan1\": -1, \"dbscan2\": 4, \"dbscan3\": 0, \"dbscan4\": 0, \"dbscan5\": 0, \"kmeans4\": 3, \"mixture\": 3, \"birch_0\": 13, \"birch_1\": 9, \"birch_2\": 5, \"birch_3\": 0, \"birch_4\": 0, \"birch_5\": 0, \"spectral\": 0, \"kmeans_minibatch4\": 0, \"kmedoids_e\": 3, \"kmedoids_cp\": 3, \"kmedoids_c\": 3}, {\"DBP\": 0.1883, \"CAD\": 0.0103, \"dbscan0\": -1, \"dbscan1\": 3, \"dbscan2\": 0, \"dbscan3\": 0, \"dbscan4\": 0, \"dbscan5\": 0, \"kmeans4\": 0, \"mixture\": 4, \"birch_0\": 3, \"birch_1\": 6, \"birch_2\": 0, \"birch_3\": 0, \"birch_4\": 0, \"birch_5\": 0, \"spectral\": 4, \"kmeans_minibatch4\": 1, \"kmedoids_e\": 0, \"kmedoids_cp\": 2, \"kmedoids_c\": 2}, {\"DBP\": 0.253, \"CAD\": 0.0058, \"dbscan0\": 10, \"dbscan1\": 7, \"dbscan2\": 0, \"dbscan3\": 0, \"dbscan4\": 0, \"dbscan5\": 0, \"kmeans4\": 0, \"mixture\": 0, \"birch_0\": 8, \"birch_1\": 6, \"birch_2\": 0, \"birch_3\": 0, \"birch_4\": 0, \"birch_5\": 0, \"spectral\": 1, \"kmeans_minibatch4\": 1, \"kmedoids_e\": 1, \"kmedoids_cp\": 0, \"kmedoids_c\": 0}, {\"DBP\": 0.1572, \"CAD\": -0.006, \"dbscan0\": 13, \"dbscan1\": 12, \"dbscan2\": 0, \"dbscan3\": 0, \"dbscan4\": 0, \"dbscan5\": 0, \"kmeans4\": 0, \"mixture\": 0, \"birch_0\": 5, \"birch_1\": 2, \"birch_2\": 1, \"birch_3\": 0, \"birch_4\": 0, \"birch_5\": 0, \"spectral\": 1, \"kmeans_minibatch4\": 1, \"kmedoids_e\": 2, \"kmedoids_cp\": 0, \"kmedoids_c\": 0}, {\"DBP\": 0.1561, \"CAD\": 0.0146, \"dbscan0\": 2, \"dbscan1\": 2, \"dbscan2\": 0, \"dbscan3\": 0, \"dbscan4\": 0, \"dbscan5\": 0, \"kmeans4\": 0, \"mixture\": 4, \"birch_0\": 2, \"birch_1\": 1, \"birch_2\": 2, \"birch_3\": 0, \"birch_4\": 0, \"birch_5\": 0, \"spectral\": 0, \"kmeans_minibatch4\": 1, \"kmedoids_e\": 2, \"kmedoids_cp\": 2, \"kmedoids_c\": 2}, {\"DBP\": 0.2219, \"CAD\": -0.0083, \"dbscan0\": 13, \"dbscan1\": 12, \"dbscan2\": 0, \"dbscan3\": 0, \"dbscan4\": 0, \"dbscan5\": 0, \"kmeans4\": 0, \"mixture\": 0, \"birch_0\": 5, \"birch_1\": 2, \"birch_2\": 1, \"birch_3\": 0, \"birch_4\": 0, \"birch_5\": 0, \"spectral\": 1, \"kmeans_minibatch4\": 1, \"kmedoids_e\": 1, \"kmedoids_cp\": 0, \"kmedoids_c\": 0}, {\"DBP\": 0.1502, \"CAD\": 0.0049, \"dbscan0\": 8, \"dbscan1\": 7, \"dbscan2\": 0, \"dbscan3\": 0, \"dbscan4\": 0, \"dbscan5\": 0, \"kmeans4\": 0, \"mixture\": 0, \"birch_0\": 8, \"birch_1\": 6, \"birch_2\": 0, \"birch_3\": 0, \"birch_4\": 0, \"birch_5\": 0, \"spectral\": 1, \"kmeans_minibatch4\": 1, \"kmedoids_e\": 2, \"kmedoids_cp\": 0, \"kmedoids_c\": 0}, {\"DBP\": 0.1889, \"CAD\": 0.0469, \"dbscan0\": -1, \"dbscan1\": -1, \"dbscan2\": 5, \"dbscan3\": 0, \"dbscan4\": 0, \"dbscan5\": 0, \"kmeans4\": 3, \"mixture\": 3, \"birch_0\": 14, \"birch_1\": 10, \"birch_2\": 5, \"birch_3\": 0, \"birch_4\": 0, \"birch_5\": 0, \"spectral\": 0, \"kmeans_minibatch4\": 0, \"kmedoids_e\": 0, \"kmedoids_cp\": 3, \"kmedoids_c\": 3}, {\"DBP\": 0.2476, \"CAD\": 0.0371, \"dbscan0\": 14, \"dbscan1\": 6, \"dbscan2\": 0, \"dbscan3\": 0, \"dbscan4\": 0, \"dbscan5\": 0, \"kmeans4\": 3, \"mixture\": 4, \"birch_0\": 18, \"birch_1\": 3, \"birch_2\": 2, \"birch_3\": 0, \"birch_4\": 0, \"birch_5\": 0, \"spectral\": 0, \"kmeans_minibatch4\": 0, \"kmedoids_e\": 1, \"kmedoids_cp\": 2, \"kmedoids_c\": 2}, {\"DBP\": 0.2483, \"CAD\": 0.0245, \"dbscan0\": 15, \"dbscan1\": 4, \"dbscan2\": 0, \"dbscan3\": 0, \"dbscan4\": 0, \"dbscan5\": 0, \"kmeans4\": 0, \"mixture\": 4, \"birch_0\": 19, \"birch_1\": 1, \"birch_2\": 2, \"birch_3\": 0, \"birch_4\": 0, \"birch_5\": 0, \"spectral\": 0, \"kmeans_minibatch4\": 1, \"kmedoids_e\": 1, \"kmedoids_cp\": 2, \"kmedoids_c\": 2}, {\"DBP\": 0.1832, \"CAD\": 0.0114, \"dbscan0\": 3, \"dbscan1\": 3, \"dbscan2\": 0, \"dbscan3\": 0, \"dbscan4\": 0, \"dbscan5\": 0, \"kmeans4\": 0, \"mixture\": 4, \"birch_0\": 3, \"birch_1\": 1, \"birch_2\": 0, \"birch_3\": 0, \"birch_4\": 0, \"birch_5\": 0, \"spectral\": 0, \"kmeans_minibatch4\": 1, \"kmedoids_e\": 0, \"kmedoids_cp\": 2, \"kmedoids_c\": 2}, {\"DBP\": 0.6128, \"CAD\": -0.0104, \"dbscan0\": 4, \"dbscan1\": 0, \"dbscan2\": 0, \"dbscan3\": 0, \"dbscan4\": 0, \"dbscan5\": 0, \"kmeans4\": 0, \"mixture\": 0, \"birch_0\": 0, \"birch_1\": 0, \"birch_2\": 1, \"birch_3\": 0, \"birch_4\": 0, \"birch_5\": 0, \"spectral\": 1, \"kmeans_minibatch4\": 1, \"kmedoids_e\": 3, \"kmedoids_cp\": 0, \"kmedoids_c\": 0}, {\"DBP\": 0.1774, \"CAD\": 0.0003, \"dbscan0\": 16, \"dbscan1\": 13, \"dbscan2\": 0, \"dbscan3\": 0, \"dbscan4\": 0, \"dbscan5\": 0, \"kmeans4\": 0, \"mixture\": 0, \"birch_0\": 1, \"birch_1\": 0, \"birch_2\": 1, \"birch_3\": 0, \"birch_4\": 0, \"birch_5\": 0, \"spectral\": 1, \"kmeans_minibatch4\": 1, \"kmedoids_e\": 0, \"kmedoids_cp\": 0, \"kmedoids_c\": 0}, {\"DBP\": 0.1411, \"CAD\": 0.013, \"dbscan0\": 2, \"dbscan1\": 2, \"dbscan2\": 0, \"dbscan3\": 0, \"dbscan4\": 0, \"dbscan5\": 0, \"kmeans4\": 0, \"mixture\": 4, \"birch_0\": 2, \"birch_1\": 1, \"birch_2\": 2, \"birch_3\": 0, \"birch_4\": 0, \"birch_5\": 0, \"spectral\": 0, \"kmeans_minibatch4\": 1, \"kmedoids_e\": 2, \"kmedoids_cp\": 2, \"kmedoids_c\": 2}, {\"DBP\": 0.3415, \"CAD\": 0.0345, \"dbscan0\": 17, \"dbscan1\": 4, \"dbscan2\": 0, \"dbscan3\": 0, \"dbscan4\": 0, \"dbscan5\": 0, \"kmeans4\": 0, \"mixture\": 4, \"birch_0\": 19, \"birch_1\": 1, \"birch_2\": 2, \"birch_3\": 0, \"birch_4\": 0, \"birch_5\": 0, \"spectral\": 0, \"kmeans_minibatch4\": 1, \"kmedoids_e\": 3, \"kmedoids_cp\": 2, \"kmedoids_c\": 2}, {\"DBP\": 0.2336, \"CAD\": -0.0278, \"dbscan0\": -1, \"dbscan1\": 11, \"dbscan2\": 3, \"dbscan3\": 0, \"dbscan4\": 0, \"dbscan5\": 0, \"kmeans4\": 2, \"mixture\": 2, \"birch_0\": 10, \"birch_1\": 7, \"birch_2\": 4, \"birch_3\": 1, \"birch_4\": 0, \"birch_5\": 0, \"spectral\": 1, \"kmeans_minibatch4\": 3, \"kmedoids_e\": 1, \"kmedoids_cp\": 1, \"kmedoids_c\": 1}, {\"DBP\": 0.1301, \"CAD\": -0.0164, \"dbscan0\": -1, \"dbscan1\": 11, \"dbscan2\": 3, \"dbscan3\": 0, \"dbscan4\": 0, \"dbscan5\": 0, \"kmeans4\": 2, \"mixture\": 2, \"birch_0\": 10, \"birch_1\": 7, \"birch_2\": 4, \"birch_3\": 1, \"birch_4\": 0, \"birch_5\": 0, \"spectral\": 1, \"kmeans_minibatch4\": 3, \"kmedoids_e\": 2, \"kmedoids_cp\": 1, \"kmedoids_c\": 1}, {\"DBP\": 0.3389, \"CAD\": 0.0127, \"dbscan0\": 18, \"dbscan1\": 7, \"dbscan2\": 0, \"dbscan3\": 0, \"dbscan4\": 0, \"dbscan5\": 0, \"kmeans4\": 0, \"mixture\": 0, \"birch_0\": 8, \"birch_1\": 6, \"birch_2\": 0, \"birch_3\": 0, \"birch_4\": 0, \"birch_5\": 0, \"spectral\": 1, \"kmeans_minibatch4\": 1, \"kmedoids_e\": 3, \"kmedoids_cp\": 0, \"kmedoids_c\": 0}, {\"DBP\": 0.1912, \"CAD\": -0.0204, \"dbscan0\": -1, \"dbscan1\": -1, \"dbscan2\": 3, \"dbscan3\": 0, \"dbscan4\": 0, \"dbscan5\": 0, \"kmeans4\": 2, \"mixture\": 2, \"birch_0\": 15, \"birch_1\": 7, \"birch_2\": 4, \"birch_3\": 1, \"birch_4\": 0, \"birch_5\": 0, \"spectral\": 1, \"kmeans_minibatch4\": 3, \"kmedoids_e\": 0, \"kmedoids_cp\": 1, \"kmedoids_c\": 1}, {\"DBP\": 0.2625, \"CAD\": 0.02, \"dbscan0\": 1, \"dbscan1\": 2, \"dbscan2\": 0, \"dbscan3\": 0, \"dbscan4\": 0, \"dbscan5\": 0, \"kmeans4\": 0, \"mixture\": 4, \"birch_0\": 2, \"birch_1\": 1, \"birch_2\": 0, \"birch_3\": 0, \"birch_4\": 0, \"birch_5\": 0, \"spectral\": 0, \"kmeans_minibatch4\": 1, \"kmedoids_e\": 1, \"kmedoids_cp\": 2, \"kmedoids_c\": 2}, {\"DBP\": 0.2819, \"CAD\": 0.0095, \"dbscan0\": 8, \"dbscan1\": 7, \"dbscan2\": 0, \"dbscan3\": 0, \"dbscan4\": 0, \"dbscan5\": 0, \"kmeans4\": 0, \"mixture\": 0, \"birch_0\": 8, \"birch_1\": 6, \"birch_2\": 0, \"birch_3\": 0, \"birch_4\": 0, \"birch_5\": 0, \"spectral\": 1, \"kmeans_minibatch4\": 1, \"kmedoids_e\": 1, \"kmedoids_cp\": 0, \"kmedoids_c\": 0}, {\"DBP\": 0.1804, \"CAD\": 0.0244, \"dbscan0\": -1, \"dbscan1\": 10, \"dbscan2\": 0, \"dbscan3\": 0, \"dbscan4\": 0, \"dbscan5\": 0, \"kmeans4\": 3, \"mixture\": 4, \"birch_0\": 6, \"birch_1\": 3, \"birch_2\": 2, \"birch_3\": 0, \"birch_4\": 0, \"birch_5\": 0, \"spectral\": 0, \"kmeans_minibatch4\": 0, \"kmedoids_e\": 0, \"kmedoids_cp\": 2, \"kmedoids_c\": 2}, {\"DBP\": 0.1875, \"CAD\": 0.002, \"dbscan0\": 6, \"dbscan1\": 1, \"dbscan2\": 0, \"dbscan3\": 0, \"dbscan4\": 0, \"dbscan5\": 0, \"kmeans4\": 0, \"mixture\": 0, \"birch_0\": 1, \"birch_1\": 0, \"birch_2\": 0, \"birch_3\": 0, \"birch_4\": 0, \"birch_5\": 0, \"spectral\": 1, \"kmeans_minibatch4\": 1, \"kmedoids_e\": 0, \"kmedoids_cp\": 0, \"kmedoids_c\": 0}, {\"DBP\": 0.1436, \"CAD\": 0.0049, \"dbscan0\": 8, \"dbscan1\": 7, \"dbscan2\": 0, \"dbscan3\": 0, \"dbscan4\": 0, \"dbscan5\": 0, \"kmeans4\": 0, \"mixture\": 0, \"birch_0\": 8, \"birch_1\": 6, \"birch_2\": 0, \"birch_3\": 0, \"birch_4\": 0, \"birch_5\": 0, \"spectral\": 1, \"kmeans_minibatch4\": 1, \"kmedoids_e\": 2, \"kmedoids_cp\": 0, \"kmedoids_c\": 0}, {\"DBP\": 0.1378, \"CAD\": 0.0327, \"dbscan0\": -1, \"dbscan1\": -1, \"dbscan2\": 5, \"dbscan3\": 0, \"dbscan4\": 0, \"dbscan5\": 0, \"kmeans4\": 3, \"mixture\": 3, \"birch_0\": 16, \"birch_1\": 10, \"birch_2\": 5, \"birch_3\": 0, \"birch_4\": 0, \"birch_5\": 0, \"spectral\": 0, \"kmeans_minibatch4\": 0, \"kmedoids_e\": 2, \"kmedoids_cp\": 3, \"kmedoids_c\": 3}, {\"DBP\": 0.1395, \"CAD\": 0.0282, \"dbscan0\": -1, \"dbscan1\": -1, \"dbscan2\": 4, \"dbscan3\": 0, \"dbscan4\": 0, \"dbscan5\": 0, \"kmeans4\": 3, \"mixture\": 3, \"birch_0\": 17, \"birch_1\": 9, \"birch_2\": 5, \"birch_3\": 0, \"birch_4\": 0, \"birch_5\": 0, \"spectral\": 0, \"kmeans_minibatch4\": 0, \"kmedoids_e\": 2, \"kmedoids_cp\": 3, \"kmedoids_c\": 3}, {\"DBP\": 0.2792, \"CAD\": 0.0083, \"dbscan0\": -1, \"dbscan1\": 7, \"dbscan2\": 0, \"dbscan3\": 0, \"dbscan4\": 0, \"dbscan5\": 0, \"kmeans4\": 0, \"mixture\": 0, \"birch_0\": 8, \"birch_1\": 6, \"birch_2\": 0, \"birch_3\": 0, \"birch_4\": 0, \"birch_5\": 0, \"spectral\": 1, \"kmeans_minibatch4\": 1, \"kmedoids_e\": 1, \"kmedoids_cp\": 0, \"kmedoids_c\": 0}, {\"DBP\": 0.1342, \"CAD\": -0.0022, \"dbscan0\": 4, \"dbscan1\": 0, \"dbscan2\": 0, \"dbscan3\": 0, \"dbscan4\": 0, \"dbscan5\": 0, \"kmeans4\": 0, \"mixture\": 0, \"birch_0\": 0, \"birch_1\": 0, \"birch_2\": 1, \"birch_3\": 0, \"birch_4\": 0, \"birch_5\": 0, \"spectral\": 1, \"kmeans_minibatch4\": 1, \"kmedoids_e\": 2, \"kmedoids_cp\": 0, \"kmedoids_c\": 0}, {\"DBP\": 0.36, \"CAD\": 0.0237, \"dbscan0\": 3, \"dbscan1\": 3, \"dbscan2\": 0, \"dbscan3\": 0, \"dbscan4\": 0, \"dbscan5\": 0, \"kmeans4\": 0, \"mixture\": 4, \"birch_0\": 3, \"birch_1\": 1, \"birch_2\": 0, \"birch_3\": 0, \"birch_4\": 0, \"birch_5\": 0, \"spectral\": 0, \"kmeans_minibatch4\": 1, \"kmedoids_e\": 3, \"kmedoids_cp\": 2, \"kmedoids_c\": 2}, {\"DBP\": 0.1737, \"CAD\": 0.0069, \"dbscan0\": 12, \"dbscan1\": 7, \"dbscan2\": 0, \"dbscan3\": 0, \"dbscan4\": 0, \"dbscan5\": 0, \"kmeans4\": 0, \"mixture\": 0, \"birch_0\": 8, \"birch_1\": 6, \"birch_2\": 0, \"birch_3\": 0, \"birch_4\": 0, \"birch_5\": 0, \"spectral\": 1, \"kmeans_minibatch4\": 1, \"kmedoids_e\": 0, \"kmedoids_cp\": 0, \"kmedoids_c\": 0}, {\"DBP\": 0.1499, \"CAD\": -0.0016, \"dbscan0\": -1, \"dbscan1\": 14, \"dbscan2\": 0, \"dbscan3\": 0, \"dbscan4\": 0, \"dbscan5\": 0, \"kmeans4\": 0, \"mixture\": 0, \"birch_0\": 0, \"birch_1\": 0, \"birch_2\": 1, \"birch_3\": 0, \"birch_4\": 0, \"birch_5\": 0, \"spectral\": 1, \"kmeans_minibatch4\": 1, \"kmedoids_e\": 2, \"kmedoids_cp\": 0, \"kmedoids_c\": 0}, {\"DBP\": 0.239, \"CAD\": 0.0212, \"dbscan0\": 19, \"dbscan1\": 2, \"dbscan2\": 0, \"dbscan3\": 0, \"dbscan4\": 0, \"dbscan5\": 0, \"kmeans4\": 0, \"mixture\": 4, \"birch_0\": 2, \"birch_1\": 1, \"birch_2\": 2, \"birch_3\": 0, \"birch_4\": 0, \"birch_5\": 0, \"spectral\": 0, \"kmeans_minibatch4\": 1, \"kmedoids_e\": 1, \"kmedoids_cp\": 2, \"kmedoids_c\": 2}, {\"DBP\": 0.1238, \"CAD\": -0.0101, \"dbscan0\": -1, \"dbscan1\": 8, \"dbscan2\": 2, \"dbscan3\": 0, \"dbscan4\": 0, \"dbscan5\": 0, \"kmeans4\": 2, \"mixture\": 2, \"birch_0\": 9, \"birch_1\": 5, \"birch_2\": 4, \"birch_3\": 1, \"birch_4\": 0, \"birch_5\": 0, \"spectral\": 1, \"kmeans_minibatch4\": 3, \"kmedoids_e\": 2, \"kmedoids_cp\": 1, \"kmedoids_c\": 1}, {\"DBP\": 0.4801, \"CAD\": 0.0379, \"dbscan0\": -1, \"dbscan1\": 2, \"dbscan2\": 0, \"dbscan3\": 0, \"dbscan4\": 0, \"dbscan5\": 0, \"kmeans4\": 0, \"mixture\": 4, \"birch_0\": 2, \"birch_1\": 1, \"birch_2\": 0, \"birch_3\": 0, \"birch_4\": 0, \"birch_5\": 0, \"spectral\": 0, \"kmeans_minibatch4\": 1, \"kmedoids_e\": 3, \"kmedoids_cp\": 2, \"kmedoids_c\": 2}, {\"DBP\": 0.1415, \"CAD\": 0.0173, \"dbscan0\": 7, \"dbscan1\": 9, \"dbscan2\": 0, \"dbscan3\": 0, \"dbscan4\": 0, \"dbscan5\": 0, \"kmeans4\": 3, \"mixture\": 4, \"birch_0\": 4, \"birch_1\": 3, \"birch_2\": 2, \"birch_3\": 0, \"birch_4\": 0, \"birch_5\": 0, \"spectral\": 0, \"kmeans_minibatch4\": 0, \"kmedoids_e\": 2, \"kmedoids_cp\": 2, \"kmedoids_c\": 2}, {\"DBP\": 0.2479, \"CAD\": 0.0161, \"dbscan0\": 3, \"dbscan1\": 3, \"dbscan2\": 0, \"dbscan3\": 0, \"dbscan4\": 0, \"dbscan5\": 0, \"kmeans4\": 0, \"mixture\": 4, \"birch_0\": 3, \"birch_1\": 1, \"birch_2\": 0, \"birch_3\": 0, \"birch_4\": 0, \"birch_5\": 0, \"spectral\": 0, \"kmeans_minibatch4\": 1, \"kmedoids_e\": 1, \"kmedoids_cp\": 2, \"kmedoids_c\": 2}, {\"DBP\": 0.1687, \"CAD\": 0.0255, \"dbscan0\": 14, \"dbscan1\": 6, \"dbscan2\": 0, \"dbscan3\": 0, \"dbscan4\": 0, \"dbscan5\": 0, \"kmeans4\": 3, \"mixture\": 4, \"birch_0\": 18, \"birch_1\": 3, \"birch_2\": 2, \"birch_3\": 0, \"birch_4\": 0, \"birch_5\": 0, \"spectral\": 0, \"kmeans_minibatch4\": 0, \"kmedoids_e\": 0, \"kmedoids_cp\": 2, \"kmedoids_c\": 2}, {\"DBP\": 0.1472, \"CAD\": 0.0184, \"dbscan0\": -1, \"dbscan1\": 9, \"dbscan2\": 0, \"dbscan3\": 0, \"dbscan4\": 0, \"dbscan5\": 0, \"kmeans4\": 3, \"mixture\": 4, \"birch_0\": 4, \"birch_1\": 3, \"birch_2\": 2, \"birch_3\": 0, \"birch_4\": 0, \"birch_5\": 0, \"spectral\": 0, \"kmeans_minibatch4\": 0, \"kmedoids_e\": 2, \"kmedoids_cp\": 2, \"kmedoids_c\": 2}, {\"DBP\": 0.146, \"CAD\": 0.0149, \"dbscan0\": 17, \"dbscan1\": 4, \"dbscan2\": 0, \"dbscan3\": 0, \"dbscan4\": 0, \"dbscan5\": 0, \"kmeans4\": 0, \"mixture\": 4, \"birch_0\": 19, \"birch_1\": 1, \"birch_2\": 2, \"birch_3\": 0, \"birch_4\": 0, \"birch_5\": 0, \"spectral\": 0, \"kmeans_minibatch4\": 1, \"kmedoids_e\": 2, \"kmedoids_cp\": 2, \"kmedoids_c\": 2}, {\"DBP\": 0.1699, \"CAD\": 0.0593, \"dbscan0\": -1, \"dbscan1\": -1, \"dbscan2\": -1, \"dbscan3\": 2, \"dbscan4\": 0, \"dbscan5\": 0, \"kmeans4\": 1, \"mixture\": 1, \"birch_0\": 20, \"birch_1\": 11, \"birch_2\": 6, \"birch_3\": 2, \"birch_4\": 0, \"birch_5\": 0, \"spectral\": 0, \"kmeans_minibatch4\": 2, \"kmedoids_e\": 0, \"kmedoids_cp\": 3, \"kmedoids_c\": 3}, {\"DBP\": 0.4, \"CAD\": -0.0012, \"dbscan0\": -1, \"dbscan1\": 13, \"dbscan2\": 0, \"dbscan3\": 0, \"dbscan4\": 0, \"dbscan5\": 0, \"kmeans4\": 0, \"mixture\": 0, \"birch_0\": 1, \"birch_1\": 0, \"birch_2\": 1, \"birch_3\": 0, \"birch_4\": 0, \"birch_5\": 0, \"spectral\": 1, \"kmeans_minibatch4\": 1, \"kmedoids_e\": 3, \"kmedoids_cp\": 0, \"kmedoids_c\": 0}, {\"DBP\": 0.25, \"CAD\": 0.0059, \"dbscan0\": 10, \"dbscan1\": 7, \"dbscan2\": 0, \"dbscan3\": 0, \"dbscan4\": 0, \"dbscan5\": 0, \"kmeans4\": 0, \"mixture\": 0, \"birch_0\": 8, \"birch_1\": 6, \"birch_2\": 0, \"birch_3\": 0, \"birch_4\": 0, \"birch_5\": 0, \"spectral\": 1, \"kmeans_minibatch4\": 1, \"kmedoids_e\": 1, \"kmedoids_cp\": 0, \"kmedoids_c\": 0}, {\"DBP\": 0.126, \"CAD\": -0.0011, \"dbscan0\": -1, \"dbscan1\": 14, \"dbscan2\": 0, \"dbscan3\": 0, \"dbscan4\": 0, \"dbscan5\": 0, \"kmeans4\": 0, \"mixture\": 0, \"birch_0\": 0, \"birch_1\": 0, \"birch_2\": 1, \"birch_3\": 0, \"birch_4\": 0, \"birch_5\": 0, \"spectral\": 1, \"kmeans_minibatch4\": 1, \"kmedoids_e\": 2, \"kmedoids_cp\": 0, \"kmedoids_c\": 0}, {\"DBP\": 0.1835, \"CAD\": 0.0123, \"dbscan0\": 3, \"dbscan1\": 3, \"dbscan2\": 0, \"dbscan3\": 0, \"dbscan4\": 0, \"dbscan5\": 0, \"kmeans4\": 0, \"mixture\": 4, \"birch_0\": 3, \"birch_1\": 1, \"birch_2\": 0, \"birch_3\": 0, \"birch_4\": 0, \"birch_5\": 0, \"spectral\": 0, \"kmeans_minibatch4\": 1, \"kmedoids_e\": 0, \"kmedoids_cp\": 2, \"kmedoids_c\": 2}, {\"DBP\": 0.3264, \"CAD\": -0.0163, \"dbscan0\": 5, \"dbscan1\": 5, \"dbscan2\": 0, \"dbscan3\": 0, \"dbscan4\": 0, \"dbscan5\": 0, \"kmeans4\": 0, \"mixture\": 0, \"birch_0\": 5, \"birch_1\": 2, \"birch_2\": 1, \"birch_3\": 0, \"birch_4\": 0, \"birch_5\": 0, \"spectral\": 1, \"kmeans_minibatch4\": 3, \"kmedoids_e\": 3, \"kmedoids_cp\": 0, \"kmedoids_c\": 0}, {\"DBP\": 0.2209, \"CAD\": 0.0346, \"dbscan0\": -1, \"dbscan1\": -1, \"dbscan2\": 0, \"dbscan3\": 0, \"dbscan4\": 0, \"dbscan5\": 0, \"kmeans4\": 3, \"mixture\": 4, \"birch_0\": 18, \"birch_1\": 3, \"birch_2\": 2, \"birch_3\": 0, \"birch_4\": 0, \"birch_5\": 0, \"spectral\": 0, \"kmeans_minibatch4\": 0, \"kmedoids_e\": 1, \"kmedoids_cp\": 2, \"kmedoids_c\": 2}, {\"DBP\": 0.128, \"CAD\": 0.0048, \"dbscan0\": 18, \"dbscan1\": 7, \"dbscan2\": 0, \"dbscan3\": 0, \"dbscan4\": 0, \"dbscan5\": 0, \"kmeans4\": 0, \"mixture\": 0, \"birch_0\": 8, \"birch_1\": 6, \"birch_2\": 0, \"birch_3\": 0, \"birch_4\": 0, \"birch_5\": 0, \"spectral\": 1, \"kmeans_minibatch4\": 1, \"kmedoids_e\": 2, \"kmedoids_cp\": 0, \"kmedoids_c\": 0}, {\"DBP\": 0.1426, \"CAD\": 0.0131, \"dbscan0\": 2, \"dbscan1\": 2, \"dbscan2\": 0, \"dbscan3\": 0, \"dbscan4\": 0, \"dbscan5\": 0, \"kmeans4\": 0, \"mixture\": 4, \"birch_0\": 2, \"birch_1\": 1, \"birch_2\": 2, \"birch_3\": 0, \"birch_4\": 0, \"birch_5\": 0, \"spectral\": 0, \"kmeans_minibatch4\": 1, \"kmedoids_e\": 2, \"kmedoids_cp\": 2, \"kmedoids_c\": 2}, {\"DBP\": 0.1637, \"CAD\": -0.0166, \"dbscan0\": -1, \"dbscan1\": -1, \"dbscan2\": 3, \"dbscan3\": 0, \"dbscan4\": 0, \"dbscan5\": 0, \"kmeans4\": 2, \"mixture\": 2, \"birch_0\": 15, \"birch_1\": 5, \"birch_2\": 4, \"birch_3\": 1, \"birch_4\": 0, \"birch_5\": 0, \"spectral\": 1, \"kmeans_minibatch4\": 3, \"kmedoids_e\": 2, \"kmedoids_cp\": 1, \"kmedoids_c\": 1}, {\"DBP\": 0.6042, \"CAD\": 0.0003, \"dbscan0\": 16, \"dbscan1\": 13, \"dbscan2\": 0, \"dbscan3\": 0, \"dbscan4\": 0, \"dbscan5\": 0, \"kmeans4\": 0, \"mixture\": 0, \"birch_0\": 1, \"birch_1\": 0, \"birch_2\": 1, \"birch_3\": 0, \"birch_4\": 0, \"birch_5\": 0, \"spectral\": 1, \"kmeans_minibatch4\": 1, \"kmedoids_e\": 3, \"kmedoids_cp\": 0, \"kmedoids_c\": 0}, {\"DBP\": 0.2144, \"CAD\": 0.0135, \"dbscan0\": 3, \"dbscan1\": 3, \"dbscan2\": 0, \"dbscan3\": 0, \"dbscan4\": 0, \"dbscan5\": 0, \"kmeans4\": 0, \"mixture\": 4, \"birch_0\": 3, \"birch_1\": 1, \"birch_2\": 0, \"birch_3\": 0, \"birch_4\": 0, \"birch_5\": 0, \"spectral\": 0, \"kmeans_minibatch4\": 1, \"kmedoids_e\": 0, \"kmedoids_cp\": 2, \"kmedoids_c\": 2}, {\"DBP\": 0.1712, \"CAD\": 0.0183, \"dbscan0\": -1, \"dbscan1\": 4, \"dbscan2\": 0, \"dbscan3\": 0, \"dbscan4\": 0, \"dbscan5\": 0, \"kmeans4\": 0, \"mixture\": 4, \"birch_0\": 19, \"birch_1\": 1, \"birch_2\": 2, \"birch_3\": 0, \"birch_4\": 0, \"birch_5\": 0, \"spectral\": 0, \"kmeans_minibatch4\": 1, \"kmedoids_e\": 0, \"kmedoids_cp\": 2, \"kmedoids_c\": 2}, {\"DBP\": 0.1251, \"CAD\": 0.026, \"dbscan0\": -1, \"dbscan1\": -1, \"dbscan2\": 4, \"dbscan3\": 0, \"dbscan4\": 0, \"dbscan5\": 0, \"kmeans4\": 3, \"mixture\": 3, \"birch_0\": 17, \"birch_1\": 8, \"birch_2\": 5, \"birch_3\": 0, \"birch_4\": 0, \"birch_5\": 0, \"spectral\": 0, \"kmeans_minibatch4\": 0, \"kmedoids_e\": 2, \"kmedoids_cp\": 3, \"kmedoids_c\": 3}, {\"DBP\": 0.2307, \"CAD\": 0.0595, \"dbscan0\": -1, \"dbscan1\": -1, \"dbscan2\": 5, \"dbscan3\": 0, \"dbscan4\": 0, \"dbscan5\": 0, \"kmeans4\": 3, \"mixture\": 3, \"birch_0\": 21, \"birch_1\": 10, \"birch_2\": 5, \"birch_3\": 0, \"birch_4\": 0, \"birch_5\": 0, \"spectral\": 0, \"kmeans_minibatch4\": 0, \"kmedoids_e\": 1, \"kmedoids_cp\": 3, \"kmedoids_c\": 3}, {\"DBP\": 0.1349, \"CAD\": 0.0147, \"dbscan0\": -1, \"dbscan1\": 4, \"dbscan2\": 0, \"dbscan3\": 0, \"dbscan4\": 0, \"dbscan5\": 0, \"kmeans4\": 0, \"mixture\": 4, \"birch_0\": 19, \"birch_1\": 1, \"birch_2\": 2, \"birch_3\": 0, \"birch_4\": 0, \"birch_5\": 0, \"spectral\": 0, \"kmeans_minibatch4\": 1, \"kmedoids_e\": 2, \"kmedoids_cp\": 2, \"kmedoids_c\": 2}, {\"DBP\": 0.4107, \"CAD\": 0.0382, \"dbscan0\": 2, \"dbscan1\": 2, \"dbscan2\": 0, \"dbscan3\": 0, \"dbscan4\": 0, \"dbscan5\": 0, \"kmeans4\": 0, \"mixture\": 4, \"birch_0\": 2, \"birch_1\": 1, \"birch_2\": 2, \"birch_3\": 0, \"birch_4\": 0, \"birch_5\": 0, \"spectral\": 0, \"kmeans_minibatch4\": 1, \"kmedoids_e\": 3, \"kmedoids_cp\": 2, \"kmedoids_c\": 2}, {\"DBP\": 0.1321, \"CAD\": 0.0017, \"dbscan0\": -1, \"dbscan1\": 1, \"dbscan2\": 0, \"dbscan3\": 0, \"dbscan4\": 0, \"dbscan5\": 0, \"kmeans4\": 0, \"mixture\": 0, \"birch_0\": 1, \"birch_1\": 0, \"birch_2\": 0, \"birch_3\": 0, \"birch_4\": 0, \"birch_5\": 0, \"spectral\": 1, \"kmeans_minibatch4\": 1, \"kmedoids_e\": 2, \"kmedoids_cp\": 0, \"kmedoids_c\": 0}, {\"DBP\": 0.2182, \"CAD\": 0.0095, \"dbscan0\": 12, \"dbscan1\": 7, \"dbscan2\": 0, \"dbscan3\": 0, \"dbscan4\": 0, \"dbscan5\": 0, \"kmeans4\": 0, \"mixture\": 0, \"birch_0\": 8, \"birch_1\": 6, \"birch_2\": 0, \"birch_3\": 0, \"birch_4\": 0, \"birch_5\": 0, \"spectral\": 1, \"kmeans_minibatch4\": 1, \"kmedoids_e\": 1, \"kmedoids_cp\": 0, \"kmedoids_c\": 0}, {\"DBP\": 0.1463, \"CAD\": 0.0089, \"dbscan0\": 3, \"dbscan1\": 3, \"dbscan2\": 0, \"dbscan3\": 0, \"dbscan4\": 0, \"dbscan5\": 0, \"kmeans4\": 0, \"mixture\": 4, \"birch_0\": 3, \"birch_1\": 1, \"birch_2\": 0, \"birch_3\": 0, \"birch_4\": 0, \"birch_5\": 0, \"spectral\": 0, \"kmeans_minibatch4\": 1, \"kmedoids_e\": 2, \"kmedoids_cp\": 2, \"kmedoids_c\": 2}, {\"DBP\": 0.1789, \"CAD\": 0.0165, \"dbscan0\": 2, \"dbscan1\": 2, \"dbscan2\": 0, \"dbscan3\": 0, \"dbscan4\": 0, \"dbscan5\": 0, \"kmeans4\": 0, \"mixture\": 4, \"birch_0\": 2, \"birch_1\": 1, \"birch_2\": 2, \"birch_3\": 0, \"birch_4\": 0, \"birch_5\": 0, \"spectral\": 0, \"kmeans_minibatch4\": 1, \"kmedoids_e\": 0, \"kmedoids_cp\": 2, \"kmedoids_c\": 2}, {\"DBP\": 0.2582, \"CAD\": 0.0188, \"dbscan0\": 20, \"dbscan1\": 2, \"dbscan2\": 0, \"dbscan3\": 0, \"dbscan4\": 0, \"dbscan5\": 0, \"kmeans4\": 0, \"mixture\": 4, \"birch_0\": 3, \"birch_1\": 1, \"birch_2\": 0, \"birch_3\": 0, \"birch_4\": 0, \"birch_5\": 0, \"spectral\": 0, \"kmeans_minibatch4\": 1, \"kmedoids_e\": 1, \"kmedoids_cp\": 2, \"kmedoids_c\": 2}, {\"DBP\": 0.2542, \"CAD\": 0.0, \"dbscan0\": 16, \"dbscan1\": 13, \"dbscan2\": 0, \"dbscan3\": 0, \"dbscan4\": 0, \"dbscan5\": 0, \"kmeans4\": 0, \"mixture\": 0, \"birch_0\": 1, \"birch_1\": 0, \"birch_2\": 1, \"birch_3\": 0, \"birch_4\": 0, \"birch_5\": 0, \"spectral\": 1, \"kmeans_minibatch4\": 1, \"kmedoids_e\": 1, \"kmedoids_cp\": 0, \"kmedoids_c\": 0}, {\"DBP\": 0.5058, \"CAD\": 0.045, \"dbscan0\": 19, \"dbscan1\": 2, \"dbscan2\": 0, \"dbscan3\": 0, \"dbscan4\": 0, \"dbscan5\": 0, \"kmeans4\": 0, \"mixture\": 4, \"birch_0\": 2, \"birch_1\": 1, \"birch_2\": 2, \"birch_3\": 0, \"birch_4\": 0, \"birch_5\": 0, \"spectral\": 0, \"kmeans_minibatch4\": 1, \"kmedoids_e\": 3, \"kmedoids_cp\": 2, \"kmedoids_c\": 2}, {\"DBP\": 0.2735, \"CAD\": 0.0414, \"dbscan0\": 14, \"dbscan1\": 6, \"dbscan2\": 0, \"dbscan3\": 0, \"dbscan4\": 0, \"dbscan5\": 0, \"kmeans4\": 3, \"mixture\": 4, \"birch_0\": 18, \"birch_1\": 3, \"birch_2\": 2, \"birch_3\": 0, \"birch_4\": 0, \"birch_5\": 0, \"spectral\": 0, \"kmeans_minibatch4\": 0, \"kmedoids_e\": 1, \"kmedoids_cp\": 2, \"kmedoids_c\": 2}, {\"DBP\": 0.3791, \"CAD\": -0.0131, \"dbscan0\": -1, \"dbscan1\": 12, \"dbscan2\": 0, \"dbscan3\": 0, \"dbscan4\": 0, \"dbscan5\": 0, \"kmeans4\": 0, \"mixture\": 0, \"birch_0\": 5, \"birch_1\": 2, \"birch_2\": 1, \"birch_3\": 0, \"birch_4\": 0, \"birch_5\": 0, \"spectral\": 1, \"kmeans_minibatch4\": 1, \"kmedoids_e\": 3, \"kmedoids_cp\": 0, \"kmedoids_c\": 0}, {\"DBP\": 0.1552, \"CAD\": 0.0176, \"dbscan0\": 11, \"dbscan1\": 4, \"dbscan2\": 0, \"dbscan3\": 0, \"dbscan4\": 0, \"dbscan5\": 0, \"kmeans4\": 0, \"mixture\": 4, \"birch_0\": 4, \"birch_1\": 3, \"birch_2\": 2, \"birch_3\": 0, \"birch_4\": 0, \"birch_5\": 0, \"spectral\": 0, \"kmeans_minibatch4\": 1, \"kmedoids_e\": 2, \"kmedoids_cp\": 2, \"kmedoids_c\": 2}, {\"DBP\": 0.142, \"CAD\": 0.0548, \"dbscan0\": -1, \"dbscan1\": -1, \"dbscan2\": -1, \"dbscan3\": 2, \"dbscan4\": 0, \"dbscan5\": 0, \"kmeans4\": 1, \"mixture\": 1, \"birch_0\": 22, \"birch_1\": 12, \"birch_2\": 7, \"birch_3\": 2, \"birch_4\": 0, \"birch_5\": 0, \"spectral\": 0, \"kmeans_minibatch4\": 2, \"kmedoids_e\": 2, \"kmedoids_cp\": 3, \"kmedoids_c\": 3}, {\"DBP\": 0.5454, \"CAD\": 0.1071, \"dbscan0\": -1, \"dbscan1\": -1, \"dbscan2\": 4, \"dbscan3\": 0, \"dbscan4\": 0, \"dbscan5\": 0, \"kmeans4\": 3, \"mixture\": 3, \"birch_0\": 17, \"birch_1\": 9, \"birch_2\": 5, \"birch_3\": 0, \"birch_4\": 0, \"birch_5\": 0, \"spectral\": 0, \"kmeans_minibatch4\": 0, \"kmedoids_e\": 3, \"kmedoids_cp\": 3, \"kmedoids_c\": 3}, {\"DBP\": 0.2109, \"CAD\": 0.0218, \"dbscan0\": 17, \"dbscan1\": 4, \"dbscan2\": 0, \"dbscan3\": 0, \"dbscan4\": 0, \"dbscan5\": 0, \"kmeans4\": 0, \"mixture\": 4, \"birch_0\": 19, \"birch_1\": 1, \"birch_2\": 2, \"birch_3\": 0, \"birch_4\": 0, \"birch_5\": 0, \"spectral\": 0, \"kmeans_minibatch4\": 1, \"kmedoids_e\": 0, \"kmedoids_cp\": 2, \"kmedoids_c\": 2}, {\"DBP\": 0.198, \"CAD\": 0.0105, \"dbscan0\": -1, \"dbscan1\": 3, \"dbscan2\": 0, \"dbscan3\": 0, \"dbscan4\": 0, \"dbscan5\": 0, \"kmeans4\": 0, \"mixture\": 4, \"birch_0\": 3, \"birch_1\": 6, \"birch_2\": 0, \"birch_3\": 0, \"birch_4\": 0, \"birch_5\": 0, \"spectral\": 0, \"kmeans_minibatch4\": 1, \"kmedoids_e\": 0, \"kmedoids_cp\": 2, \"kmedoids_c\": 2}, {\"DBP\": 0.3308, \"CAD\": 0.0191, \"dbscan0\": -1, \"dbscan1\": 3, \"dbscan2\": 0, \"dbscan3\": 0, \"dbscan4\": 0, \"dbscan5\": 0, \"kmeans4\": 0, \"mixture\": 4, \"birch_0\": 3, \"birch_1\": 6, \"birch_2\": 0, \"birch_3\": 0, \"birch_4\": 0, \"birch_5\": 0, \"spectral\": 2, \"kmeans_minibatch4\": 1, \"kmedoids_e\": 3, \"kmedoids_cp\": 2, \"kmedoids_c\": 2}, {\"DBP\": 0.241, \"CAD\": 0.0108, \"dbscan0\": 12, \"dbscan1\": 7, \"dbscan2\": 0, \"dbscan3\": 0, \"dbscan4\": 0, \"dbscan5\": 0, \"kmeans4\": 0, \"mixture\": 0, \"birch_0\": 8, \"birch_1\": 6, \"birch_2\": 0, \"birch_3\": 0, \"birch_4\": 0, \"birch_5\": 0, \"spectral\": 1, \"kmeans_minibatch4\": 1, \"kmedoids_e\": 1, \"kmedoids_cp\": 0, \"kmedoids_c\": 0}, {\"DBP\": 0.1324, \"CAD\": 0.0003, \"dbscan0\": 16, \"dbscan1\": 13, \"dbscan2\": 0, \"dbscan3\": 0, \"dbscan4\": 0, \"dbscan5\": 0, \"kmeans4\": 0, \"mixture\": 0, \"birch_0\": 1, \"birch_1\": 0, \"birch_2\": 1, \"birch_3\": 0, \"birch_4\": 0, \"birch_5\": 0, \"spectral\": 1, \"kmeans_minibatch4\": 1, \"kmedoids_e\": 2, \"kmedoids_cp\": 0, \"kmedoids_c\": 0}, {\"DBP\": 0.1409, \"CAD\": -0.0054, \"dbscan0\": 13, \"dbscan1\": 12, \"dbscan2\": 0, \"dbscan3\": 0, \"dbscan4\": 0, \"dbscan5\": 0, \"kmeans4\": 0, \"mixture\": 0, \"birch_0\": 5, \"birch_1\": 2, \"birch_2\": 1, \"birch_3\": 0, \"birch_4\": 0, \"birch_5\": 0, \"spectral\": 1, \"kmeans_minibatch4\": 1, \"kmedoids_e\": 2, \"kmedoids_cp\": 0, \"kmedoids_c\": 0}, {\"DBP\": 0.2869, \"CAD\": 0.0186, \"dbscan0\": 3, \"dbscan1\": 3, \"dbscan2\": 0, \"dbscan3\": 0, \"dbscan4\": 0, \"dbscan5\": 0, \"kmeans4\": 0, \"mixture\": 4, \"birch_0\": 3, \"birch_1\": 1, \"birch_2\": 0, \"birch_3\": 0, \"birch_4\": 0, \"birch_5\": 0, \"spectral\": 0, \"kmeans_minibatch4\": 1, \"kmedoids_e\": 1, \"kmedoids_cp\": 2, \"kmedoids_c\": 2}, {\"DBP\": 0.1966, \"CAD\": 0.0143, \"dbscan0\": 20, \"dbscan1\": 2, \"dbscan2\": 0, \"dbscan3\": 0, \"dbscan4\": 0, \"dbscan5\": 0, \"kmeans4\": 0, \"mixture\": 4, \"birch_0\": 3, \"birch_1\": 1, \"birch_2\": 0, \"birch_3\": 0, \"birch_4\": 0, \"birch_5\": 0, \"spectral\": 0, \"kmeans_minibatch4\": 1, \"kmedoids_e\": 0, \"kmedoids_cp\": 2, \"kmedoids_c\": 2}, {\"DBP\": 0.4, \"CAD\": 0.0586, \"dbscan0\": -1, \"dbscan1\": 6, \"dbscan2\": 0, \"dbscan3\": 0, \"dbscan4\": 0, \"dbscan5\": 0, \"kmeans4\": 3, \"mixture\": 4, \"birch_0\": 18, \"birch_1\": 3, \"birch_2\": 2, \"birch_3\": 0, \"birch_4\": 0, \"birch_5\": 0, \"spectral\": 0, \"kmeans_minibatch4\": 0, \"kmedoids_e\": 3, \"kmedoids_cp\": 2, \"kmedoids_c\": 2}, {\"DBP\": 0.1327, \"CAD\": -0.0269, \"dbscan0\": -1, \"dbscan1\": -1, \"dbscan2\": 1, \"dbscan3\": 1, \"dbscan4\": 0, \"dbscan5\": 0, \"kmeans4\": 2, \"mixture\": 2, \"birch_0\": 7, \"birch_1\": 4, \"birch_2\": 3, \"birch_3\": 1, \"birch_4\": 0, \"birch_5\": 0, \"spectral\": 1, \"kmeans_minibatch4\": 3, \"kmedoids_e\": 2, \"kmedoids_cp\": 1, \"kmedoids_c\": 1}, {\"DBP\": 0.3647, \"CAD\": 0.0359, \"dbscan0\": 15, \"dbscan1\": 4, \"dbscan2\": 0, \"dbscan3\": 0, \"dbscan4\": 0, \"dbscan5\": 0, \"kmeans4\": 0, \"mixture\": 4, \"birch_0\": 19, \"birch_1\": 1, \"birch_2\": 2, \"birch_3\": 0, \"birch_4\": 0, \"birch_5\": 0, \"spectral\": 0, \"kmeans_minibatch4\": 1, \"kmedoids_e\": 3, \"kmedoids_cp\": 2, \"kmedoids_c\": 2}, {\"DBP\": 0.1691, \"CAD\": -0.0028, \"dbscan0\": 4, \"dbscan1\": 0, \"dbscan2\": 0, \"dbscan3\": 0, \"dbscan4\": 0, \"dbscan5\": 0, \"kmeans4\": 0, \"mixture\": 0, \"birch_0\": 0, \"birch_1\": 0, \"birch_2\": 1, \"birch_3\": 0, \"birch_4\": 0, \"birch_5\": 0, \"spectral\": 1, \"kmeans_minibatch4\": 1, \"kmedoids_e\": 0, \"kmedoids_cp\": 0, \"kmedoids_c\": 0}]}}, {\"mode\": \"vega-lite\"});\n",
       "</script>"
      ],
      "text/plain": [
       "alt.VConcatChart(...)"
      ]
     },
     "execution_count": 19,
     "metadata": {},
     "output_type": "execute_result"
    }
   ],
   "source": [
    "# Display charts\n",
    "display(Markdown(\"# Plots for the main clustering methods\"))\n",
    "(dbscan_charts[eps_labels[0]] | dbscan_charts[eps_labels[1]] ) & (birch_charts[birch_labels[2]] | kmeans) & (gmm | spectral) & (kmedoids_e | kmedoids_c) & kmedoids_cp\n"
   ]
  },
  {
   "cell_type": "markdown",
   "metadata": {},
   "source": [
    "K-Medoids with cosine as matric and with precomputed cosine don't match"
   ]
  }
 ],
 "metadata": {
  "kernelspec": {
   "display_name": "Python 3 (ipykernel)",
   "language": "python",
   "name": "python3"
  },
  "language_info": {
   "codemirror_mode": {
    "name": "ipython",
    "version": 3
   },
   "file_extension": ".py",
   "mimetype": "text/x-python",
   "name": "python",
   "nbconvert_exporter": "python",
   "pygments_lexer": "ipython3",
   "version": "3.11.7"
  }
 },
 "nbformat": 4,
 "nbformat_minor": 2
}
