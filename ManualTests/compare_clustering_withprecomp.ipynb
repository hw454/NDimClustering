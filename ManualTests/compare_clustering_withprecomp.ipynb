{
 "cells": [
  {
   "cell_type": "markdown",
   "id": "0d030e0d",
   "metadata": {},
   "source": [
    "# Compare methods with pre-computed distances"
   ]
  },
  {
   "cell_type": "markdown",
   "id": "482f47d9",
   "metadata": {},
   "source": [
    "* Affinity Propagation\n",
    "* Agglomerative Clustering\n",
    "* BIRCH\n",
    "* DBSCAN\n",
    "* K-Means\n",
    "* Mini-Batch K-Means\n",
    "* K-Medoids\n",
    "* Mean Shift\n",
    "* OPTICS\n",
    "* Spectral Clustering\n",
    "* Mixture of Gaussians"
   ]
  },
  {
   "cell_type": "markdown",
   "id": "28fcc76c",
   "metadata": {},
   "source": [
    "## Setup the packages"
   ]
  },
  {
   "cell_type": "code",
   "execution_count": 1,
   "id": "ba999880",
   "metadata": {},
   "outputs": [],
   "source": [
    "#%pip install seaborn"
   ]
  },
  {
   "cell_type": "code",
   "execution_count": 2,
   "id": "346f790c",
   "metadata": {},
   "outputs": [],
   "source": [
    "from sklearn.cluster import AffinityPropagation, DBSCAN, SpectralClustering, Birch, KMeans, AgglomerativeClustering\n",
    "from sklearn.cluster import OPTICS, MiniBatchKMeans, estimate_bandwidth, MeanShift\n",
    "from sklearn_extra.cluster import KMedoids\n",
    "from IPython.display import display, Markdown\n",
    "from sklearn.mixture import GaussianMixture\n",
    "from sklearn.metrics.pairwise import cosine_similarity\n",
    "from scipy import sparse\n",
    "from scipy.spatial.distance import mahalanobis\n",
    "from itertools import product\n",
    "import pandas as pd\n",
    "import numpy as np\n",
    "import altair as alt\n",
    "import seaborn as sns"
   ]
  },
  {
   "cell_type": "markdown",
   "id": "4b5e7b06",
   "metadata": {},
   "source": [
    "## Setup the data"
   ]
  },
  {
   "cell_type": "code",
   "execution_count": 3,
   "id": "a33d2e07",
   "metadata": {},
   "outputs": [
    {
     "name": "stdout",
     "output_type": "stream",
     "text": [
      "     Trait1     Trait2\n",
      "1         1   2.086726\n",
      "2         2   6.120570\n",
      "3         3   6.886463\n",
      "4         4   9.754806\n",
      "5         5  12.277511\n",
      "..      ...        ...\n",
      "196      46  43.173467\n",
      "197      47  44.186414\n",
      "198      48  44.284154\n",
      "199      49  46.801117\n",
      "200      50  47.091551\n",
      "\n",
      "[200 rows x 2 columns]\n",
      "Trait1 Trait2\n"
     ]
    }
   ],
   "source": [
    "npaths = 4\n",
    "path = \"../TestData/paths%d/\"%npaths\n",
    "beta_df     = pd.read_csv(path + \"unstdBeta_df.csv\", index_col = 0)\n",
    "se_df       = pd.read_csv(path + \"unstdSE_df.csv\", index_col = 0)\n",
    "pval_df     = pd.read_csv(path + \"pval_df.csv\", index_col = 0)\n",
    "traits_df   = pd.read_csv(path + \"trait_info_nfil.csv\", index_col = 0)\n",
    "\n",
    "data_df = {\"beta\": beta_df,\n",
    "           \"se\": se_df,\n",
    "           \"pval\": pval_df}\n",
    "col1 = beta_df.columns[0]\n",
    "col2 = beta_df.columns[1]\n",
    "beta_crop = beta_df.loc[:,[col1,col2]]\n",
    "print(beta_crop)\n",
    "print(col1, col2)"
   ]
  },
  {
   "cell_type": "markdown",
   "id": "fa031465",
   "metadata": {},
   "source": [
    "## Plotting function"
   ]
  },
  {
   "cell_type": "code",
   "execution_count": 4,
   "id": "5cf273f7",
   "metadata": {},
   "outputs": [],
   "source": [
    "def chartclusters(data,title,colorvar,tooltip, palette = None, clustgroups = None):\n",
    "    col1 = data.columns[0]\n",
    "    col2 = data.columns[1]\n",
    "    if palette is not None:\n",
    "        print(palette)\n",
    "        chart = alt.Chart(data, title=title).mark_circle(size=60).encode(\n",
    "            x = col1,\n",
    "            y = col2,\n",
    "            color = alt.Color(colorvar, scale=alt.Scale(domain=clustgroups, range=palette)),\n",
    "            tooltip = tooltip\n",
    "        ).interactive()\n",
    "    else:\n",
    "        chart = alt.Chart(data, title=title).mark_circle(size=60).encode(\n",
    "            x = col1,\n",
    "            y = col2,\n",
    "            color = colorvar,\n",
    "            tooltip = tooltip\n",
    "        ).interactive()\n",
    "\n",
    "    return(chart)"
   ]
  },
  {
   "cell_type": "markdown",
   "id": "9926cde0",
   "metadata": {},
   "source": [
    "# Clustering"
   ]
  },
  {
   "cell_type": "markdown",
   "id": "3e1eb8c1",
   "metadata": {},
   "source": [
    "## Compute the cosine-similarites"
   ]
  },
  {
   "cell_type": "code",
   "execution_count": 5,
   "id": "e269429c",
   "metadata": {},
   "outputs": [
    {
     "name": "stdout",
     "output_type": "stream",
     "text": [
      "pairwise dense output:\n",
      " [[1.         0.99142441 0.99935064 ... 0.92912529 0.93538109 0.93288335]\n",
      " [0.99142441 1.         0.99548931 ... 0.87283604 0.88114527 0.87781464]\n",
      " [0.99935064 0.99548931 1.         ... 0.91519863 0.92203134 0.91929966]\n",
      " ...\n",
      " [0.92912529 0.87283604 0.91519863 ... 1.         0.99985045 0.99994699]\n",
      " [0.93538109 0.88114527 0.92203134 ... 0.99985045 1.         0.99997551]\n",
      " [0.93288335 0.87781464 0.91929966 ... 0.99994699 0.99997551 1.        ]]\n",
      "\n"
     ]
    }
   ],
   "source": [
    "beta_crop = beta_df.loc[:,[col1,col2]]\n",
    "similarities = cosine_similarity(beta_crop)\n",
    "print('pairwise dense output:\\n {}\\n'.format(similarities))\n",
    "sims = (1 - similarities).clip(min=0)\n",
    "results = beta_crop.copy()"
   ]
  },
  {
   "cell_type": "markdown",
   "id": "20b7d8bb",
   "metadata": {},
   "source": [
    "## Cluster with Affinity Propagation"
   ]
  },
  {
   "cell_type": "code",
   "execution_count": 6,
   "id": "23a8bdbe",
   "metadata": {},
   "outputs": [],
   "source": [
    "affinity = AffinityPropagation(random_state=0, affinity = \"precomputed\").fit(sims)\n",
    "aff_lab = \"affinity\"\n",
    "results[aff_lab] =affinity.labels_"
   ]
  },
  {
   "cell_type": "markdown",
   "id": "9b63ed65",
   "metadata": {},
   "source": [
    "## Cluster with Agglomerative Clustering"
   ]
  },
  {
   "cell_type": "code",
   "execution_count": 7,
   "id": "2f8e10ee",
   "metadata": {},
   "outputs": [],
   "source": [
    "AggClust = AgglomerativeClustering(metric = \"precomputed\", linkage = \"average\").fit(sims)\n",
    "agg_lab = 'Agglomerative'\n",
    "results[agg_lab] =AggClust.labels_"
   ]
  },
  {
   "cell_type": "markdown",
   "id": "78036cc8",
   "metadata": {},
   "source": [
    "## Cluster with DBscan"
   ]
  },
  {
   "cell_type": "code",
   "execution_count": 8,
   "id": "289f9ad1",
   "metadata": {},
   "outputs": [],
   "source": [
    "# DBSCAN\n",
    "eps = 0.001\n",
    "dbscan = DBSCAN(eps = eps, min_samples = 2, metric = \"precomputed\").fit(sims)\n",
    "dblab = 'dbscan%d'%eps\n",
    "db_labs = dbscan.labels_\n",
    "results[dblab] = db_labs"
   ]
  },
  {
   "cell_type": "markdown",
   "id": "978bfdc2",
   "metadata": {},
   "source": [
    "## Cluster with k-medoids"
   ]
  },
  {
   "cell_type": "code",
   "execution_count": 9,
   "id": "e39b1709",
   "metadata": {},
   "outputs": [],
   "source": [
    "nclust = npaths\n",
    "kmedoids = KMedoids(n_clusters=nclust, metric = \"precomputed\", random_state = 0).fit(sims)\n",
    "kmed_lab = 'kmedoids%d'%nclust\n",
    "results[kmed_lab] = kmedoids.labels_"
   ]
  },
  {
   "cell_type": "markdown",
   "id": "cfba93ee",
   "metadata": {},
   "source": [
    "## Cluster with spectral"
   ]
  },
  {
   "cell_type": "code",
   "execution_count": 10,
   "id": "18523597",
   "metadata": {},
   "outputs": [],
   "source": [
    "spectral = SpectralClustering(n_clusters=5,\n",
    "                              assign_labels='discretize',\n",
    "                              eigen_solver=\"arpack\",\n",
    "                              affinity = \"precomputed\").fit(sims)\n",
    "sp_lab = 'spectral'\n",
    "results[sp_lab] = spectral.labels_"
   ]
  },
  {
   "cell_type": "markdown",
   "id": "67c67590",
   "metadata": {},
   "source": [
    "## Cluster with OPTICS"
   ]
  },
  {
   "cell_type": "code",
   "execution_count": 11,
   "id": "968922b3",
   "metadata": {},
   "outputs": [],
   "source": [
    "op_clust = OPTICS(min_samples=2, metric = \"precomputed\").fit(sims)\n",
    "op_lab = 'optics'\n",
    "op_labs = op_clust.labels_\n",
    "results[op_lab] = op_labs"
   ]
  },
  {
   "cell_type": "markdown",
   "id": "7afd8a6e",
   "metadata": {},
   "source": [
    "### Plot the clustering methods with predefined distances"
   ]
  },
  {
   "cell_type": "code",
   "execution_count": 12,
   "id": "7994c2cc",
   "metadata": {},
   "outputs": [],
   "source": [
    "tooltip1 =[aff_lab, agg_lab, dblab, kmed_lab]\n",
    "tooltip2 = [sp_lab, op_lab ]\n",
    "# Create a palette to ensure the junk and noise clusters are grey.\n",
    "clust_groups = pd.unique(results[tooltip1].values.ravel('K'))\n",
    "ncolours = len(clust_groups)\n",
    "palette = sns.color_palette(None, ncolours).as_hex()\n",
    "junk_ind = np.where(clust_groups == -1)\n",
    "palette[junk_ind[0][0]] = '#808080'\n"
   ]
  },
  {
   "cell_type": "code",
   "execution_count": 13,
   "id": "58919728",
   "metadata": {},
   "outputs": [
    {
     "name": "stdout",
     "output_type": "stream",
     "text": [
      "['#1f77b4', '#ff7f0e', '#2ca02c', '#808080', '#9467bd']\n",
      "['#1f77b4', '#ff7f0e', '#2ca02c', '#808080', '#9467bd']\n",
      "['#1f77b4', '#ff7f0e', '#2ca02c', '#808080', '#9467bd']\n",
      "['#1f77b4', '#ff7f0e', '#2ca02c', '#808080', '#9467bd']\n"
     ]
    }
   ],
   "source": [
    "\n",
    "affini = chartclusters(results,\"Affinity Propagation\", aff_lab+\":N\", tooltip1, palette = palette, clustgroups= clust_groups)\n",
    "agglom = chartclusters(results,\"Agglomerative Clustering\", agg_lab+\":N\", tooltip1, palette = palette, clustgroups= clust_groups)\n",
    "dbscan = chartclusters(results,\"DBSCAN\", dblab+\":N\", tooltip1, palette = palette, clustgroups= clust_groups)\n",
    "kmedoi = chartclusters(results,\"K-Medoids\",kmed_lab+\":N\",tooltip1, palette = palette, clustgroups= clust_groups)\n",
    "spectr = chartclusters(results,\"Spectral\",sp_lab+\":N\",tooltip2)#, palette = palette, clustgroups= clust_groups)\n",
    "optics = chartclusters(results,\"OPTICS\",op_lab+\":N\",tooltip2)#, palette = palette, clustgroups= clust_groups)"
   ]
  },
  {
   "cell_type": "code",
   "execution_count": 14,
   "id": "c062f15a",
   "metadata": {},
   "outputs": [
    {
     "data": {
      "text/html": [
       "\n",
       "<style>\n",
       "  #altair-viz-8f146d1f295944a78d2786c65c92eae2.vega-embed {\n",
       "    width: 100%;\n",
       "    display: flex;\n",
       "  }\n",
       "\n",
       "  #altair-viz-8f146d1f295944a78d2786c65c92eae2.vega-embed details,\n",
       "  #altair-viz-8f146d1f295944a78d2786c65c92eae2.vega-embed details summary {\n",
       "    position: relative;\n",
       "  }\n",
       "</style>\n",
       "<div id=\"altair-viz-8f146d1f295944a78d2786c65c92eae2\"></div>\n",
       "<script type=\"text/javascript\">\n",
       "  var VEGA_DEBUG = (typeof VEGA_DEBUG == \"undefined\") ? {} : VEGA_DEBUG;\n",
       "  (function(spec, embedOpt){\n",
       "    let outputDiv = document.currentScript.previousElementSibling;\n",
       "    if (outputDiv.id !== \"altair-viz-8f146d1f295944a78d2786c65c92eae2\") {\n",
       "      outputDiv = document.getElementById(\"altair-viz-8f146d1f295944a78d2786c65c92eae2\");\n",
       "    }\n",
       "    const paths = {\n",
       "      \"vega\": \"https://cdn.jsdelivr.net/npm/vega@5?noext\",\n",
       "      \"vega-lib\": \"https://cdn.jsdelivr.net/npm/vega-lib?noext\",\n",
       "      \"vega-lite\": \"https://cdn.jsdelivr.net/npm/vega-lite@5.16.3?noext\",\n",
       "      \"vega-embed\": \"https://cdn.jsdelivr.net/npm/vega-embed@6?noext\",\n",
       "    };\n",
       "\n",
       "    function maybeLoadScript(lib, version) {\n",
       "      var key = `${lib.replace(\"-\", \"\")}_version`;\n",
       "      return (VEGA_DEBUG[key] == version) ?\n",
       "        Promise.resolve(paths[lib]) :\n",
       "        new Promise(function(resolve, reject) {\n",
       "          var s = document.createElement('script');\n",
       "          document.getElementsByTagName(\"head\")[0].appendChild(s);\n",
       "          s.async = true;\n",
       "          s.onload = () => {\n",
       "            VEGA_DEBUG[key] = version;\n",
       "            return resolve(paths[lib]);\n",
       "          };\n",
       "          s.onerror = () => reject(`Error loading script: ${paths[lib]}`);\n",
       "          s.src = paths[lib];\n",
       "        });\n",
       "    }\n",
       "\n",
       "    function showError(err) {\n",
       "      outputDiv.innerHTML = `<div class=\"error\" style=\"color:red;\">${err}</div>`;\n",
       "      throw err;\n",
       "    }\n",
       "\n",
       "    function displayChart(vegaEmbed) {\n",
       "      vegaEmbed(outputDiv, spec, embedOpt)\n",
       "        .catch(err => showError(`Javascript Error: ${err.message}<br>This usually means there's a typo in your chart specification. See the javascript console for the full traceback.`));\n",
       "    }\n",
       "\n",
       "    if(typeof define === \"function\" && define.amd) {\n",
       "      requirejs.config({paths});\n",
       "      require([\"vega-embed\"], displayChart, err => showError(`Error loading script: ${err.message}`));\n",
       "    } else {\n",
       "      maybeLoadScript(\"vega\", \"5\")\n",
       "        .then(() => maybeLoadScript(\"vega-lite\", \"5.16.3\"))\n",
       "        .then(() => maybeLoadScript(\"vega-embed\", \"6\"))\n",
       "        .catch(showError)\n",
       "        .then(() => displayChart(vegaEmbed));\n",
       "    }\n",
       "  })({\"config\": {\"view\": {\"continuousWidth\": 300, \"continuousHeight\": 300}}, \"vconcat\": [{\"hconcat\": [{\"mark\": {\"type\": \"circle\", \"size\": 60}, \"encoding\": {\"color\": {\"field\": \"affinity\", \"scale\": {\"domain\": [1.0, 0.0, 2.0, -1.0, 3.0], \"range\": [\"#1f77b4\", \"#ff7f0e\", \"#2ca02c\", \"#808080\", \"#9467bd\"]}, \"type\": \"nominal\"}, \"tooltip\": [{\"field\": \"affinity\", \"type\": \"quantitative\"}, {\"field\": \"Agglomerative\", \"type\": \"quantitative\"}, {\"field\": \"dbscan0\", \"type\": \"quantitative\"}, {\"field\": \"kmedoids4\", \"type\": \"quantitative\"}], \"x\": {\"field\": \"Trait1\", \"type\": \"quantitative\"}, \"y\": {\"field\": \"Trait2\", \"type\": \"quantitative\"}}, \"name\": \"view_1\", \"title\": \"Affinity Propagation\"}, {\"mark\": {\"type\": \"circle\", \"size\": 60}, \"encoding\": {\"color\": {\"field\": \"Agglomerative\", \"scale\": {\"domain\": [1.0, 0.0, 2.0, -1.0, 3.0], \"range\": [\"#1f77b4\", \"#ff7f0e\", \"#2ca02c\", \"#808080\", \"#9467bd\"]}, \"type\": \"nominal\"}, \"tooltip\": [{\"field\": \"affinity\", \"type\": \"quantitative\"}, {\"field\": \"Agglomerative\", \"type\": \"quantitative\"}, {\"field\": \"dbscan0\", \"type\": \"quantitative\"}, {\"field\": \"kmedoids4\", \"type\": \"quantitative\"}], \"x\": {\"field\": \"Trait1\", \"type\": \"quantitative\"}, \"y\": {\"field\": \"Trait2\", \"type\": \"quantitative\"}}, \"name\": \"view_2\", \"title\": \"Agglomerative Clustering\"}]}, {\"hconcat\": [{\"mark\": {\"type\": \"circle\", \"size\": 60}, \"encoding\": {\"color\": {\"field\": \"dbscan0\", \"scale\": {\"domain\": [1.0, 0.0, 2.0, -1.0, 3.0], \"range\": [\"#1f77b4\", \"#ff7f0e\", \"#2ca02c\", \"#808080\", \"#9467bd\"]}, \"type\": \"nominal\"}, \"tooltip\": [{\"field\": \"affinity\", \"type\": \"quantitative\"}, {\"field\": \"Agglomerative\", \"type\": \"quantitative\"}, {\"field\": \"dbscan0\", \"type\": \"quantitative\"}, {\"field\": \"kmedoids4\", \"type\": \"quantitative\"}], \"x\": {\"field\": \"Trait1\", \"type\": \"quantitative\"}, \"y\": {\"field\": \"Trait2\", \"type\": \"quantitative\"}}, \"name\": \"view_3\", \"title\": \"DBSCAN\"}, {\"mark\": {\"type\": \"circle\", \"size\": 60}, \"encoding\": {\"color\": {\"field\": \"kmedoids4\", \"scale\": {\"domain\": [1.0, 0.0, 2.0, -1.0, 3.0], \"range\": [\"#1f77b4\", \"#ff7f0e\", \"#2ca02c\", \"#808080\", \"#9467bd\"]}, \"type\": \"nominal\"}, \"tooltip\": [{\"field\": \"affinity\", \"type\": \"quantitative\"}, {\"field\": \"Agglomerative\", \"type\": \"quantitative\"}, {\"field\": \"dbscan0\", \"type\": \"quantitative\"}, {\"field\": \"kmedoids4\", \"type\": \"quantitative\"}], \"x\": {\"field\": \"Trait1\", \"type\": \"quantitative\"}, \"y\": {\"field\": \"Trait2\", \"type\": \"quantitative\"}}, \"name\": \"view_4\", \"title\": \"K-Medoids\"}]}], \"data\": {\"name\": \"data-1cac8047f537a7b95394c438d2bd5b84\"}, \"params\": [{\"name\": \"param_1\", \"select\": {\"type\": \"interval\", \"encodings\": [\"x\", \"y\"]}, \"bind\": \"scales\", \"views\": [\"view_1\"]}, {\"name\": \"param_2\", \"select\": {\"type\": \"interval\", \"encodings\": [\"x\", \"y\"]}, \"bind\": \"scales\", \"views\": [\"view_2\"]}, {\"name\": \"param_3\", \"select\": {\"type\": \"interval\", \"encodings\": [\"x\", \"y\"]}, \"bind\": \"scales\", \"views\": [\"view_3\"]}, {\"name\": \"param_4\", \"select\": {\"type\": \"interval\", \"encodings\": [\"x\", \"y\"]}, \"bind\": \"scales\", \"views\": [\"view_4\"]}], \"$schema\": \"https://vega.github.io/schema/vega-lite/v5.16.3.json\", \"datasets\": {\"data-1cac8047f537a7b95394c438d2bd5b84\": [{\"Trait1\": 1, \"Trait2\": 2.08672583149746, \"affinity\": 1, \"Agglomerative\": 1, \"dbscan0\": 0, \"kmedoids4\": 2, \"spectral\": 0, \"optics\": 0}, {\"Trait1\": 2, \"Trait2\": 6.12056976510212, \"affinity\": 0, \"Agglomerative\": 1, \"dbscan0\": 0, \"kmedoids4\": 1, \"spectral\": 1, \"optics\": -1}, {\"Trait1\": 3, \"Trait2\": 6.88646334968507, \"affinity\": 1, \"Agglomerative\": 1, \"dbscan0\": 0, \"kmedoids4\": 2, \"spectral\": 0, \"optics\": 15}, {\"Trait1\": 4, \"Trait2\": 9.75480582658201, \"affinity\": 1, \"Agglomerative\": 1, \"dbscan0\": 0, \"kmedoids4\": 1, \"spectral\": 1, \"optics\": 16}, {\"Trait1\": 5, \"Trait2\": 12.2775113433599, \"affinity\": 1, \"Agglomerative\": 1, \"dbscan0\": 0, \"kmedoids4\": 1, \"spectral\": 0, \"optics\": 16}, {\"Trait1\": 6, \"Trait2\": 15.8932964396663, \"affinity\": 1, \"Agglomerative\": 1, \"dbscan0\": 0, \"kmedoids4\": 1, \"spectral\": 3, \"optics\": 30}, {\"Trait1\": 7, \"Trait2\": 18.8529003257863, \"affinity\": 1, \"Agglomerative\": 1, \"dbscan0\": 0, \"kmedoids4\": 1, \"spectral\": 0, \"optics\": -1}, {\"Trait1\": 8, \"Trait2\": 20.5595253310166, \"affinity\": 1, \"Agglomerative\": 1, \"dbscan0\": 0, \"kmedoids4\": 1, \"spectral\": 1, \"optics\": 19}, {\"Trait1\": 9, \"Trait2\": 22.7926128595136, \"affinity\": 1, \"Agglomerative\": 1, \"dbscan0\": 0, \"kmedoids4\": 1, \"spectral\": 0, \"optics\": 17}, {\"Trait1\": 10, \"Trait2\": 25.9601091174409, \"affinity\": 1, \"Agglomerative\": 1, \"dbscan0\": 0, \"kmedoids4\": 1, \"spectral\": 4, \"optics\": -1}, {\"Trait1\": 11, \"Trait2\": 28.4423665408976, \"affinity\": 1, \"Agglomerative\": 1, \"dbscan0\": 0, \"kmedoids4\": 1, \"spectral\": 1, \"optics\": 21}, {\"Trait1\": 12, \"Trait2\": 30.4279850772582, \"affinity\": 1, \"Agglomerative\": 1, \"dbscan0\": 0, \"kmedoids4\": 1, \"spectral\": 1, \"optics\": 17}, {\"Trait1\": 13, \"Trait2\": 34.7622417500243, \"affinity\": 1, \"Agglomerative\": 1, \"dbscan0\": 0, \"kmedoids4\": 1, \"spectral\": 3, \"optics\": 30}, {\"Trait1\": 14, \"Trait2\": 36.8630374767818, \"affinity\": 1, \"Agglomerative\": 1, \"dbscan0\": 0, \"kmedoids4\": 1, \"spectral\": 1, \"optics\": 29}, {\"Trait1\": 15, \"Trait2\": 39.9526380966417, \"affinity\": 1, \"Agglomerative\": 1, \"dbscan0\": 0, \"kmedoids4\": 1, \"spectral\": 0, \"optics\": 30}, {\"Trait1\": 16, \"Trait2\": 41.2725350596011, \"affinity\": 1, \"Agglomerative\": 1, \"dbscan0\": 0, \"kmedoids4\": 1, \"spectral\": 0, \"optics\": 20}, {\"Trait1\": 17, \"Trait2\": 44.1556880534627, \"affinity\": 1, \"Agglomerative\": 1, \"dbscan0\": 0, \"kmedoids4\": 1, \"spectral\": 1, \"optics\": 23}, {\"Trait1\": 18, \"Trait2\": 47.0347104500979, \"affinity\": 1, \"Agglomerative\": 1, \"dbscan0\": 0, \"kmedoids4\": 1, \"spectral\": 4, \"optics\": 26}, {\"Trait1\": 19, \"Trait2\": 48.4447864824906, \"affinity\": 1, \"Agglomerative\": 1, \"dbscan0\": 0, \"kmedoids4\": 1, \"spectral\": 0, \"optics\": 18}, {\"Trait1\": 20, \"Trait2\": 51.1183907180093, \"affinity\": 1, \"Agglomerative\": 1, \"dbscan0\": 0, \"kmedoids4\": 1, \"spectral\": 0, \"optics\": 18}, {\"Trait1\": 21, \"Trait2\": 55.139974263031, \"affinity\": 1, \"Agglomerative\": 1, \"dbscan0\": 0, \"kmedoids4\": 1, \"spectral\": 0, \"optics\": 28}, {\"Trait1\": 22, \"Trait2\": 57.1342522017658, \"affinity\": 1, \"Agglomerative\": 1, \"dbscan0\": 0, \"kmedoids4\": 1, \"spectral\": 0, \"optics\": 23}, {\"Trait1\": 23, \"Trait2\": 60.6843547066674, \"affinity\": 1, \"Agglomerative\": 1, \"dbscan0\": 0, \"kmedoids4\": 1, \"spectral\": 1, \"optics\": 29}, {\"Trait1\": 24, \"Trait2\": 62.3248899606988, \"affinity\": 1, \"Agglomerative\": 1, \"dbscan0\": 0, \"kmedoids4\": 1, \"spectral\": 3, \"optics\": 23}, {\"Trait1\": 25, \"Trait2\": 65.8702826779336, \"affinity\": 1, \"Agglomerative\": 1, \"dbscan0\": 0, \"kmedoids4\": 1, \"spectral\": 3, \"optics\": 29}, {\"Trait1\": 26, \"Trait2\": 68.280506873969, \"affinity\": 1, \"Agglomerative\": 1, \"dbscan0\": 0, \"kmedoids4\": 1, \"spectral\": 0, \"optics\": 28}, {\"Trait1\": 27, \"Trait2\": 70.0133757363074, \"affinity\": 1, \"Agglomerative\": 1, \"dbscan0\": 0, \"kmedoids4\": 1, \"spectral\": 3, \"optics\": -1}, {\"Trait1\": 28, \"Trait2\": 73.2828058721498, \"affinity\": 1, \"Agglomerative\": 1, \"dbscan0\": 0, \"kmedoids4\": 1, \"spectral\": 1, \"optics\": 27}, {\"Trait1\": 29, \"Trait2\": 75.5280309938826, \"affinity\": 1, \"Agglomerative\": 1, \"dbscan0\": 0, \"kmedoids4\": 1, \"spectral\": 0, \"optics\": 25}, {\"Trait1\": 30, \"Trait2\": 78.8810441796668, \"affinity\": 1, \"Agglomerative\": 1, \"dbscan0\": 0, \"kmedoids4\": 1, \"spectral\": 1, \"optics\": 28}, {\"Trait1\": 31, \"Trait2\": 81.1028690589592, \"affinity\": 1, \"Agglomerative\": 1, \"dbscan0\": 0, \"kmedoids4\": 1, \"spectral\": 1, \"optics\": 27}, {\"Trait1\": 32, \"Trait2\": 82.3963380032219, \"affinity\": 1, \"Agglomerative\": 1, \"dbscan0\": 0, \"kmedoids4\": 1, \"spectral\": 0, \"optics\": 20}, {\"Trait1\": 33, \"Trait2\": 85.355167186819, \"affinity\": 1, \"Agglomerative\": 1, \"dbscan0\": 0, \"kmedoids4\": 1, \"spectral\": 0, \"optics\": 21}, {\"Trait1\": 34, \"Trait2\": 87.3751316801645, \"affinity\": 1, \"Agglomerative\": 1, \"dbscan0\": 0, \"kmedoids4\": 1, \"spectral\": 0, \"optics\": 19}, {\"Trait1\": 35, \"Trait2\": 91.6318751717918, \"affinity\": 1, \"Agglomerative\": 1, \"dbscan0\": 0, \"kmedoids4\": 1, \"spectral\": 1, \"optics\": 27}, {\"Trait1\": 36, \"Trait2\": 92.8615541914478, \"affinity\": 1, \"Agglomerative\": 1, \"dbscan0\": 0, \"kmedoids4\": 1, \"spectral\": 1, \"optics\": 20}, {\"Trait1\": 37, \"Trait2\": 97.0472668344155, \"affinity\": 1, \"Agglomerative\": 1, \"dbscan0\": 0, \"kmedoids4\": 1, \"spectral\": 1, \"optics\": 28}, {\"Trait1\": 38, \"Trait2\": 99.1087709246203, \"affinity\": 1, \"Agglomerative\": 1, \"dbscan0\": 0, \"kmedoids4\": 1, \"spectral\": 1, \"optics\": -1}, {\"Trait1\": 39, \"Trait2\": 101.467102435417, \"affinity\": 1, \"Agglomerative\": 1, \"dbscan0\": 0, \"kmedoids4\": 1, \"spectral\": 4, \"optics\": 24}, {\"Trait1\": 40, \"Trait2\": 104.085351397283, \"affinity\": 1, \"Agglomerative\": 1, \"dbscan0\": 0, \"kmedoids4\": 1, \"spectral\": 2, \"optics\": 24}, {\"Trait1\": 41, \"Trait2\": 106.774421071168, \"affinity\": 1, \"Agglomerative\": 1, \"dbscan0\": 0, \"kmedoids4\": 1, \"spectral\": 1, \"optics\": 25}, {\"Trait1\": 42, \"Trait2\": 109.222858909983, \"affinity\": 1, \"Agglomerative\": 1, \"dbscan0\": 0, \"kmedoids4\": 1, \"spectral\": 1, \"optics\": 24}, {\"Trait1\": 43, \"Trait2\": 111.589046704583, \"affinity\": 1, \"Agglomerative\": 1, \"dbscan0\": 0, \"kmedoids4\": 1, \"spectral\": 1, \"optics\": 22}, {\"Trait1\": 44, \"Trait2\": 114.548203396145, \"affinity\": 1, \"Agglomerative\": 1, \"dbscan0\": 0, \"kmedoids4\": 1, \"spectral\": 1, \"optics\": 25}, {\"Trait1\": 45, \"Trait2\": 116.375648713205, \"affinity\": 1, \"Agglomerative\": 1, \"dbscan0\": 0, \"kmedoids4\": 1, \"spectral\": 3, \"optics\": 21}, {\"Trait1\": 46, \"Trait2\": 119.380490974523, \"affinity\": 1, \"Agglomerative\": 1, \"dbscan0\": 0, \"kmedoids4\": 1, \"spectral\": 0, \"optics\": 22}, {\"Trait1\": 47, \"Trait2\": 122.050112180412, \"affinity\": 1, \"Agglomerative\": 1, \"dbscan0\": 0, \"kmedoids4\": 1, \"spectral\": 0, \"optics\": 23}, {\"Trait1\": 48, \"Trait2\": 123.804526870139, \"affinity\": 1, \"Agglomerative\": 1, \"dbscan0\": 0, \"kmedoids4\": 1, \"spectral\": 1, \"optics\": 20}, {\"Trait1\": 49, \"Trait2\": 127.978164030705, \"affinity\": 1, \"Agglomerative\": 1, \"dbscan0\": 0, \"kmedoids4\": 1, \"spectral\": 0, \"optics\": 26}, {\"Trait1\": 50, \"Trait2\": 129.925273145083, \"affinity\": 1, \"Agglomerative\": 1, \"dbscan0\": 0, \"kmedoids4\": 1, \"spectral\": 0, \"optics\": -1}, {\"Trait1\": 1, \"Trait2\": 1.6837007580325, \"affinity\": 1, \"Agglomerative\": 1, \"dbscan0\": 1, \"kmedoids4\": 0, \"spectral\": 3, \"optics\": -1}, {\"Trait1\": 2, \"Trait2\": 5.3145196181722, \"affinity\": 1, \"Agglomerative\": 1, \"dbscan0\": 0, \"kmedoids4\": 1, \"spectral\": 4, \"optics\": 30}, {\"Trait1\": 3, \"Trait2\": 5.67738812929019, \"affinity\": 1, \"Agglomerative\": 1, \"dbscan0\": 0, \"kmedoids4\": 2, \"spectral\": 1, \"optics\": -1}, {\"Trait1\": 4, \"Trait2\": 8.14270553272218, \"affinity\": 1, \"Agglomerative\": 1, \"dbscan0\": 0, \"kmedoids4\": 2, \"spectral\": 0, \"optics\": 0}, {\"Trait1\": 5, \"Trait2\": 10.2623859760351, \"affinity\": 1, \"Agglomerative\": 1, \"dbscan0\": 0, \"kmedoids4\": 2, \"spectral\": 4, \"optics\": 0}, {\"Trait1\": 6, \"Trait2\": 13.4751459988765, \"affinity\": 1, \"Agglomerative\": 1, \"dbscan0\": 0, \"kmedoids4\": 2, \"spectral\": 3, \"optics\": -1}, {\"Trait1\": 7, \"Trait2\": 16.0317248115316, \"affinity\": 1, \"Agglomerative\": 1, \"dbscan0\": 0, \"kmedoids4\": 2, \"spectral\": 0, \"optics\": 15}, {\"Trait1\": 8, \"Trait2\": 17.335324743297, \"affinity\": 1, \"Agglomerative\": 1, \"dbscan0\": 0, \"kmedoids4\": 2, \"spectral\": 3, \"optics\": 3}, {\"Trait1\": 9, \"Trait2\": 19.165387198329, \"affinity\": 1, \"Agglomerative\": 1, \"dbscan0\": 0, \"kmedoids4\": 2, \"spectral\": 0, \"optics\": 1}, {\"Trait1\": 10, \"Trait2\": 21.9298583827913, \"affinity\": 1, \"Agglomerative\": 1, \"dbscan0\": 0, \"kmedoids4\": 2, \"spectral\": 3, \"optics\": -1}, {\"Trait1\": 11, \"Trait2\": 24.0090907327831, \"affinity\": 1, \"Agglomerative\": 1, \"dbscan0\": 0, \"kmedoids4\": 2, \"spectral\": 0, \"optics\": 5}, {\"Trait1\": 12, \"Trait2\": 25.5916841956787, \"affinity\": 1, \"Agglomerative\": 1, \"dbscan0\": 0, \"kmedoids4\": 2, \"spectral\": 1, \"optics\": 1}, {\"Trait1\": 13, \"Trait2\": 29.5229157949798, \"affinity\": 1, \"Agglomerative\": 1, \"dbscan0\": 0, \"kmedoids4\": 2, \"spectral\": 0, \"optics\": 14}, {\"Trait1\": 14, \"Trait2\": 31.2206864482723, \"affinity\": 1, \"Agglomerative\": 1, \"dbscan0\": 0, \"kmedoids4\": 2, \"spectral\": 3, \"optics\": 13}, {\"Trait1\": 15, \"Trait2\": 33.9072619946674, \"affinity\": 1, \"Agglomerative\": 1, \"dbscan0\": 0, \"kmedoids4\": 2, \"spectral\": 0, \"optics\": 14}, {\"Trait1\": 16, \"Trait2\": 34.8241338841617, \"affinity\": 1, \"Agglomerative\": 1, \"dbscan0\": 0, \"kmedoids4\": 2, \"spectral\": 3, \"optics\": 4}, {\"Trait1\": 17, \"Trait2\": 37.3042618045583, \"affinity\": 1, \"Agglomerative\": 1, \"dbscan0\": 0, \"kmedoids4\": 2, \"spectral\": 1, \"optics\": 7}, {\"Trait1\": 18, \"Trait2\": 39.7802591277286, \"affinity\": 1, \"Agglomerative\": 1, \"dbscan0\": 0, \"kmedoids4\": 2, \"spectral\": 0, \"optics\": 10}, {\"Trait1\": 19, \"Trait2\": 40.7873100866564, \"affinity\": 1, \"Agglomerative\": 1, \"dbscan0\": 0, \"kmedoids4\": 2, \"spectral\": 1, \"optics\": 2}, {\"Trait1\": 20, \"Trait2\": 43.0578892487101, \"affinity\": 1, \"Agglomerative\": 1, \"dbscan0\": 0, \"kmedoids4\": 2, \"spectral\": 1, \"optics\": 2}, {\"Trait1\": 21, \"Trait2\": 46.6764477202669, \"affinity\": 1, \"Agglomerative\": 1, \"dbscan0\": 0, \"kmedoids4\": 2, \"spectral\": 1, \"optics\": 12}, {\"Trait1\": 22, \"Trait2\": 48.2677005855367, \"affinity\": 1, \"Agglomerative\": 1, \"dbscan0\": 0, \"kmedoids4\": 2, \"spectral\": 1, \"optics\": 7}, {\"Trait1\": 23, \"Trait2\": 51.4147780169733, \"affinity\": 1, \"Agglomerative\": 1, \"dbscan0\": 0, \"kmedoids4\": 2, \"spectral\": 1, \"optics\": 13}, {\"Trait1\": 24, \"Trait2\": 52.6522881975397, \"affinity\": 1, \"Agglomerative\": 1, \"dbscan0\": 0, \"kmedoids4\": 2, \"spectral\": 0, \"optics\": 7}, {\"Trait1\": 25, \"Trait2\": 55.7946558413096, \"affinity\": 1, \"Agglomerative\": 1, \"dbscan0\": 0, \"kmedoids4\": 2, \"spectral\": 2, \"optics\": 13}, {\"Trait1\": 26, \"Trait2\": 57.80185496388, \"affinity\": 1, \"Agglomerative\": 1, \"dbscan0\": 0, \"kmedoids4\": 2, \"spectral\": 1, \"optics\": 12}, {\"Trait1\": 27, \"Trait2\": 59.1316987527534, \"affinity\": 1, \"Agglomerative\": 1, \"dbscan0\": 0, \"kmedoids4\": 2, \"spectral\": 1, \"optics\": -1}, {\"Trait1\": 28, \"Trait2\": 61.9981038151309, \"affinity\": 1, \"Agglomerative\": 1, \"dbscan0\": 0, \"kmedoids4\": 2, \"spectral\": 0, \"optics\": 11}, {\"Trait1\": 29, \"Trait2\": 63.8403038633987, \"affinity\": 1, \"Agglomerative\": 1, \"dbscan0\": 0, \"kmedoids4\": 2, \"spectral\": 1, \"optics\": 9}, {\"Trait1\": 30, \"Trait2\": 66.790291975718, \"affinity\": 1, \"Agglomerative\": 1, \"dbscan0\": 0, \"kmedoids4\": 2, \"spectral\": 1, \"optics\": 12}, {\"Trait1\": 31, \"Trait2\": 68.6090917815454, \"affinity\": 1, \"Agglomerative\": 1, \"dbscan0\": 0, \"kmedoids4\": 2, \"spectral\": 0, \"optics\": 11}, {\"Trait1\": 32, \"Trait2\": 69.4995356523432, \"affinity\": 1, \"Agglomerative\": 1, \"dbscan0\": 0, \"kmedoids4\": 2, \"spectral\": 1, \"optics\": 4}, {\"Trait1\": 33, \"Trait2\": 72.0553397624753, \"affinity\": 1, \"Agglomerative\": 1, \"dbscan0\": 0, \"kmedoids4\": 2, \"spectral\": 0, \"optics\": 5}, {\"Trait1\": 34, \"Trait2\": 73.6722791823559, \"affinity\": 1, \"Agglomerative\": 1, \"dbscan0\": 0, \"kmedoids4\": 2, \"spectral\": 1, \"optics\": 3}, {\"Trait1\": 35, \"Trait2\": 77.5259976005182, \"affinity\": 1, \"Agglomerative\": 1, \"dbscan0\": 0, \"kmedoids4\": 2, \"spectral\": 0, \"optics\": 11}, {\"Trait1\": 36, \"Trait2\": 78.3526515467092, \"affinity\": 1, \"Agglomerative\": 1, \"dbscan0\": 0, \"kmedoids4\": 2, \"spectral\": 1, \"optics\": 4}, {\"Trait1\": 37, \"Trait2\": 82.135339116212, \"affinity\": 1, \"Agglomerative\": 1, \"dbscan0\": 0, \"kmedoids4\": 2, \"spectral\": 0, \"optics\": 12}, {\"Trait1\": 38, \"Trait2\": 83.7938181329519, \"affinity\": 1, \"Agglomerative\": 1, \"dbscan0\": 0, \"kmedoids4\": 2, \"spectral\": 4, \"optics\": -1}, {\"Trait1\": 39, \"Trait2\": 85.749124570284, \"affinity\": 1, \"Agglomerative\": 1, \"dbscan0\": 0, \"kmedoids4\": 2, \"spectral\": 1, \"optics\": 8}, {\"Trait1\": 40, \"Trait2\": 87.964348458685, \"affinity\": 1, \"Agglomerative\": 1, \"dbscan0\": 0, \"kmedoids4\": 2, \"spectral\": 4, \"optics\": 8}, {\"Trait1\": 41, \"Trait2\": 90.2503930591047, \"affinity\": 1, \"Agglomerative\": 1, \"dbscan0\": 0, \"kmedoids4\": 2, \"spectral\": 3, \"optics\": 9}, {\"Trait1\": 42, \"Trait2\": 92.2958058244549, \"affinity\": 1, \"Agglomerative\": 1, \"dbscan0\": 0, \"kmedoids4\": 2, \"spectral\": 1, \"optics\": 8}, {\"Trait1\": 43, \"Trait2\": 94.2589685455896, \"affinity\": 1, \"Agglomerative\": 1, \"dbscan0\": 0, \"kmedoids4\": 2, \"spectral\": 1, \"optics\": 6}, {\"Trait1\": 44, \"Trait2\": 96.815100163687, \"affinity\": 1, \"Agglomerative\": 1, \"dbscan0\": 0, \"kmedoids4\": 2, \"spectral\": 4, \"optics\": 9}, {\"Trait1\": 45, \"Trait2\": 98.2395204072818, \"affinity\": 1, \"Agglomerative\": 1, \"dbscan0\": 0, \"kmedoids4\": 2, \"spectral\": 0, \"optics\": 5}, {\"Trait1\": 46, \"Trait2\": 100.841337595135, \"affinity\": 1, \"Agglomerative\": 1, \"dbscan0\": 0, \"kmedoids4\": 2, \"spectral\": 1, \"optics\": 6}, {\"Trait1\": 47, \"Trait2\": 103.107933727559, \"affinity\": 1, \"Agglomerative\": 1, \"dbscan0\": 0, \"kmedoids4\": 2, \"spectral\": 2, \"optics\": 7}, {\"Trait1\": 48, \"Trait2\": 104.459323343821, \"affinity\": 1, \"Agglomerative\": 1, \"dbscan0\": 0, \"kmedoids4\": 2, \"spectral\": 1, \"optics\": 4}, {\"Trait1\": 49, \"Trait2\": 108.229935430922, \"affinity\": 1, \"Agglomerative\": 1, \"dbscan0\": 0, \"kmedoids4\": 2, \"spectral\": 0, \"optics\": 10}, {\"Trait1\": 50, \"Trait2\": 109.774019471835, \"affinity\": 1, \"Agglomerative\": 1, \"dbscan0\": 0, \"kmedoids4\": 2, \"spectral\": 0, \"optics\": -1}, {\"Trait1\": 1, \"Trait2\": 1.00918779033236, \"affinity\": 0, \"Agglomerative\": 0, \"dbscan0\": 2, \"kmedoids4\": 3, \"spectral\": 1, \"optics\": 46}, {\"Trait1\": 2, \"Trait2\": 3.96549368277192, \"affinity\": 1, \"Agglomerative\": 1, \"dbscan0\": 0, \"kmedoids4\": 2, \"spectral\": 3, \"optics\": -1}, {\"Trait1\": 3, \"Trait2\": 3.65384922618978, \"affinity\": 1, \"Agglomerative\": 1, \"dbscan0\": -1, \"kmedoids4\": 0, \"spectral\": 4, \"optics\": -1}, {\"Trait1\": 4, \"Trait2\": 5.44465366192162, \"affinity\": 1, \"Agglomerative\": 1, \"dbscan0\": 1, \"kmedoids4\": 0, \"spectral\": 1, \"optics\": 45}, {\"Trait1\": 5, \"Trait2\": 6.88982113753445, \"affinity\": 1, \"Agglomerative\": 1, \"dbscan0\": 1, \"kmedoids4\": 0, \"spectral\": 0, \"optics\": 45}, {\"Trait1\": 6, \"Trait2\": 9.42806819267571, \"affinity\": 1, \"Agglomerative\": 1, \"dbscan0\": 1, \"kmedoids4\": 0, \"spectral\": 0, \"optics\": -1}, {\"Trait1\": 7, \"Trait2\": 11.3101340376306, \"affinity\": 1, \"Agglomerative\": 1, \"dbscan0\": 1, \"kmedoids4\": 0, \"spectral\": 0, \"optics\": -1}, {\"Trait1\": 8, \"Trait2\": 11.9392210016958, \"affinity\": 1, \"Agglomerative\": 1, \"dbscan0\": 1, \"kmedoids4\": 0, \"spectral\": 1, \"optics\": 42}, {\"Trait1\": 9, \"Trait2\": 13.0947704890277, \"affinity\": 1, \"Agglomerative\": 1, \"dbscan0\": 1, \"kmedoids4\": 0, \"spectral\": 1, \"optics\": 44}, {\"Trait1\": 10, \"Trait2\": 15.1847287057899, \"affinity\": 1, \"Agglomerative\": 1, \"dbscan0\": 1, \"kmedoids4\": 0, \"spectral\": 1, \"optics\": -1}, {\"Trait1\": 11, \"Trait2\": 16.5894480880816, \"affinity\": 1, \"Agglomerative\": 1, \"dbscan0\": 1, \"kmedoids4\": 0, \"spectral\": 1, \"optics\": 40}, {\"Trait1\": 12, \"Trait2\": 17.497528583277, \"affinity\": 1, \"Agglomerative\": 1, \"dbscan0\": 1, \"kmedoids4\": 0, \"spectral\": 0, \"optics\": 44}, {\"Trait1\": 13, \"Trait2\": 20.754247214878, \"affinity\": 1, \"Agglomerative\": 1, \"dbscan0\": 1, \"kmedoids4\": 0, \"spectral\": 3, \"optics\": 31}, {\"Trait1\": 14, \"Trait2\": 21.7775049004704, \"affinity\": 1, \"Agglomerative\": 1, \"dbscan0\": 1, \"kmedoids4\": 0, \"spectral\": 0, \"optics\": 32}, {\"Trait1\": 15, \"Trait2\": 23.7895674791653, \"affinity\": 1, \"Agglomerative\": 1, \"dbscan0\": 1, \"kmedoids4\": 0, \"spectral\": 0, \"optics\": 31}, {\"Trait1\": 16, \"Trait2\": 24.0319264009595, \"affinity\": 1, \"Agglomerative\": 1, \"dbscan0\": 1, \"kmedoids4\": 0, \"spectral\": 0, \"optics\": 41}, {\"Trait1\": 17, \"Trait2\": 25.837541353656, \"affinity\": 1, \"Agglomerative\": 1, \"dbscan0\": 1, \"kmedoids4\": 0, \"spectral\": 3, \"optics\": 38}, {\"Trait1\": 18, \"Trait2\": 27.6390257091261, \"affinity\": 1, \"Agglomerative\": 1, \"dbscan0\": 1, \"kmedoids4\": 0, \"spectral\": 1, \"optics\": 35}, {\"Trait1\": 19, \"Trait2\": 27.9715637003537, \"affinity\": 1, \"Agglomerative\": 1, \"dbscan0\": 1, \"kmedoids4\": 0, \"spectral\": 1, \"optics\": 43}, {\"Trait1\": 20, \"Trait2\": 29.5676298947074, \"affinity\": 1, \"Agglomerative\": 1, \"dbscan0\": 1, \"kmedoids4\": 0, \"spectral\": 0, \"optics\": 43}, {\"Trait1\": 21, \"Trait2\": 32.511675398564, \"affinity\": 1, \"Agglomerative\": 1, \"dbscan0\": 1, \"kmedoids4\": 0, \"spectral\": 3, \"optics\": 33}, {\"Trait1\": 22, \"Trait2\": 33.4284152961336, \"affinity\": 1, \"Agglomerative\": 1, \"dbscan0\": 1, \"kmedoids4\": 0, \"spectral\": 0, \"optics\": 38}, {\"Trait1\": 23, \"Trait2\": 35.9009797598701, \"affinity\": 1, \"Agglomerative\": 1, \"dbscan0\": 1, \"kmedoids4\": 0, \"spectral\": 1, \"optics\": 32}, {\"Trait1\": 24, \"Trait2\": 36.4639769727364, \"affinity\": 1, \"Agglomerative\": 1, \"dbscan0\": 1, \"kmedoids4\": 0, \"spectral\": 4, \"optics\": 38}, {\"Trait1\": 25, \"Trait2\": 38.9318316488061, \"affinity\": 1, \"Agglomerative\": 1, \"dbscan0\": 1, \"kmedoids4\": 0, \"spectral\": 3, \"optics\": 32}, {\"Trait1\": 26, \"Trait2\": 40.2645178036764, \"affinity\": 1, \"Agglomerative\": 1, \"dbscan0\": 1, \"kmedoids4\": 0, \"spectral\": 1, \"optics\": 33}, {\"Trait1\": 27, \"Trait2\": 40.9198486248497, \"affinity\": 1, \"Agglomerative\": 1, \"dbscan0\": 1, \"kmedoids4\": 0, \"spectral\": 1, \"optics\": -1}, {\"Trait1\": 28, \"Trait2\": 43.111740719527, \"affinity\": 1, \"Agglomerative\": 1, \"dbscan0\": 1, \"kmedoids4\": 0, \"spectral\": 1, \"optics\": 34}, {\"Trait1\": 29, \"Trait2\": 44.2794278000947, \"affinity\": 1, \"Agglomerative\": 1, \"dbscan0\": 1, \"kmedoids4\": 0, \"spectral\": 1, \"optics\": 36}, {\"Trait1\": 30, \"Trait2\": 46.5549029447138, \"affinity\": 1, \"Agglomerative\": 1, \"dbscan0\": 1, \"kmedoids4\": 0, \"spectral\": 0, \"optics\": 33}, {\"Trait1\": 31, \"Trait2\": 47.6991897828411, \"affinity\": 1, \"Agglomerative\": 1, \"dbscan0\": 1, \"kmedoids4\": 0, \"spectral\": 0, \"optics\": 34}, {\"Trait1\": 32, \"Trait2\": 47.9151206859387, \"affinity\": 1, \"Agglomerative\": 1, \"dbscan0\": 1, \"kmedoids4\": 0, \"spectral\": 0, \"optics\": 41}, {\"Trait1\": 33, \"Trait2\": 49.7964118283708, \"affinity\": 1, \"Agglomerative\": 1, \"dbscan0\": 1, \"kmedoids4\": 0, \"spectral\": 1, \"optics\": 40}, {\"Trait1\": 34, \"Trait2\": 50.7388382805511, \"affinity\": 1, \"Agglomerative\": 1, \"dbscan0\": 1, \"kmedoids4\": 0, \"spectral\": 1, \"optics\": 42}, {\"Trait1\": 35, \"Trait2\": 53.9180437310133, \"affinity\": 1, \"Agglomerative\": 1, \"dbscan0\": 1, \"kmedoids4\": 0, \"spectral\": 1, \"optics\": 34}, {\"Trait1\": 36, \"Trait2\": 54.0701847095042, \"affinity\": 1, \"Agglomerative\": 1, \"dbscan0\": 1, \"kmedoids4\": 0, \"spectral\": 1, \"optics\": 41}, {\"Trait1\": 37, \"Trait2\": 57.1783593113068, \"affinity\": 1, \"Agglomerative\": 1, \"dbscan0\": 1, \"kmedoids4\": 0, \"spectral\": 4, \"optics\": 33}, {\"Trait1\": 38, \"Trait2\": 58.1623253603466, \"affinity\": 1, \"Agglomerative\": 1, \"dbscan0\": 1, \"kmedoids4\": 0, \"spectral\": 0, \"optics\": -1}, {\"Trait1\": 39, \"Trait2\": 59.4431188299786, \"affinity\": 1, \"Agglomerative\": 1, \"dbscan0\": 1, \"kmedoids4\": 0, \"spectral\": 0, \"optics\": 37}, {\"Trait1\": 40, \"Trait2\": 60.9838297506794, \"affinity\": 1, \"Agglomerative\": 1, \"dbscan0\": 1, \"kmedoids4\": 0, \"spectral\": 4, \"optics\": 37}, {\"Trait1\": 41, \"Trait2\": 62.595361383399, \"affinity\": 1, \"Agglomerative\": 1, \"dbscan0\": 1, \"kmedoids4\": 0, \"spectral\": 1, \"optics\": 36}, {\"Trait1\": 42, \"Trait2\": 63.966261181049, \"affinity\": 1, \"Agglomerative\": 1, \"dbscan0\": 1, \"kmedoids4\": 0, \"spectral\": 1, \"optics\": 37}, {\"Trait1\": 43, \"Trait2\": 65.2549109344836, \"affinity\": 1, \"Agglomerative\": 1, \"dbscan0\": 1, \"kmedoids4\": 0, \"spectral\": 3, \"optics\": 39}, {\"Trait1\": 44, \"Trait2\": 67.1365295848809, \"affinity\": 1, \"Agglomerative\": 1, \"dbscan0\": 1, \"kmedoids4\": 0, \"spectral\": 1, \"optics\": 36}, {\"Trait1\": 45, \"Trait2\": 67.8864368607756, \"affinity\": 1, \"Agglomerative\": 1, \"dbscan0\": 1, \"kmedoids4\": 0, \"spectral\": 3, \"optics\": 40}, {\"Trait1\": 46, \"Trait2\": 69.8137410809286, \"affinity\": 1, \"Agglomerative\": 1, \"dbscan0\": 1, \"kmedoids4\": 0, \"spectral\": 0, \"optics\": 39}, {\"Trait1\": 47, \"Trait2\": 71.4058242456522, \"affinity\": 1, \"Agglomerative\": 1, \"dbscan0\": 1, \"kmedoids4\": 0, \"spectral\": 1, \"optics\": 38}, {\"Trait1\": 48, \"Trait2\": 72.0827008942142, \"affinity\": 1, \"Agglomerative\": 1, \"dbscan0\": 1, \"kmedoids4\": 0, \"spectral\": 1, \"optics\": 41}, {\"Trait1\": 49, \"Trait2\": 75.1788000136148, \"affinity\": 1, \"Agglomerative\": 1, \"dbscan0\": 1, \"kmedoids4\": 0, \"spectral\": 2, \"optics\": 35}, {\"Trait1\": 50, \"Trait2\": 76.0483710868284, \"affinity\": 1, \"Agglomerative\": 1, \"dbscan0\": 1, \"kmedoids4\": 0, \"spectral\": 0, \"optics\": -1}, {\"Trait1\": 1, \"Trait2\": 0.430051394505426, \"affinity\": 1, \"Agglomerative\": 0, \"dbscan0\": -1, \"kmedoids4\": 3, \"spectral\": 0, \"optics\": -1}, {\"Trait1\": 2, \"Trait2\": 2.80722089111805, \"affinity\": 1, \"Agglomerative\": 1, \"dbscan0\": 1, \"kmedoids4\": 0, \"spectral\": 1, \"optics\": 45}, {\"Trait1\": 3, \"Trait2\": 1.91644003870897, \"affinity\": 0, \"Agglomerative\": 0, \"dbscan0\": -1, \"kmedoids4\": 3, \"spectral\": 2, \"optics\": -1}, {\"Trait1\": 4, \"Trait2\": 3.12810807861388, \"affinity\": 0, \"Agglomerative\": 0, \"dbscan0\": 3, \"kmedoids4\": 3, \"spectral\": 0, \"optics\": 60}, {\"Trait1\": 5, \"Trait2\": 3.99413915839978, \"affinity\": 0, \"Agglomerative\": 0, \"dbscan0\": 3, \"kmedoids4\": 3, \"spectral\": 3, \"optics\": 60}, {\"Trait1\": 6, \"Trait2\": 5.9532498177141, \"affinity\": 0, \"Agglomerative\": 0, \"dbscan0\": 2, \"kmedoids4\": 3, \"spectral\": 2, \"optics\": -1}, {\"Trait1\": 7, \"Trait2\": 7.25617926684208, \"affinity\": 0, \"Agglomerative\": 0, \"dbscan0\": 2, \"kmedoids4\": 3, \"spectral\": 1, \"optics\": -1}, {\"Trait1\": 8, \"Trait2\": 7.30612983508036, \"affinity\": 0, \"Agglomerative\": 0, \"dbscan0\": 2, \"kmedoids4\": 3, \"spectral\": 0, \"optics\": 57}, {\"Trait1\": 9, \"Trait2\": 7.8825429265853, \"affinity\": 0, \"Agglomerative\": 0, \"dbscan0\": 2, \"kmedoids4\": 3, \"spectral\": 3, \"optics\": 59}, {\"Trait1\": 10, \"Trait2\": 9.39336474752054, \"affinity\": 0, \"Agglomerative\": 0, \"dbscan0\": 2, \"kmedoids4\": 3, \"spectral\": 0, \"optics\": -1}, {\"Trait1\": 11, \"Trait2\": 10.2189477339853, \"affinity\": 0, \"Agglomerative\": 0, \"dbscan0\": 2, \"kmedoids4\": 3, \"spectral\": 0, \"optics\": 55}, {\"Trait1\": 12, \"Trait2\": 10.5478918333538, \"affinity\": 0, \"Agglomerative\": 0, \"dbscan0\": 2, \"kmedoids4\": 3, \"spectral\": 0, \"optics\": 59}, {\"Trait1\": 13, \"Trait2\": 13.2254740691278, \"affinity\": 0, \"Agglomerative\": 0, \"dbscan0\": 2, \"kmedoids4\": 3, \"spectral\": 1, \"optics\": 46}, {\"Trait1\": 14, \"Trait2\": 13.6695953588933, \"affinity\": 0, \"Agglomerative\": 0, \"dbscan0\": 2, \"kmedoids4\": 3, \"spectral\": 0, \"optics\": 47}, {\"Trait1\": 15, \"Trait2\": 15.1025215417612, \"affinity\": 0, \"Agglomerative\": 0, \"dbscan0\": 2, \"kmedoids4\": 3, \"spectral\": 1, \"optics\": 46}, {\"Trait1\": 16, \"Trait2\": 14.7657440677285, \"affinity\": 0, \"Agglomerative\": 0, \"dbscan0\": 2, \"kmedoids4\": 3, \"spectral\": 0, \"optics\": 56}, {\"Trait1\": 17, \"Trait2\": 15.9922226245981, \"affinity\": 0, \"Agglomerative\": 0, \"dbscan0\": 2, \"kmedoids4\": 3, \"spectral\": 1, \"optics\": 53}, {\"Trait1\": 18, \"Trait2\": 17.2145705842413, \"affinity\": 0, \"Agglomerative\": 0, \"dbscan0\": 2, \"kmedoids4\": 3, \"spectral\": 4, \"optics\": 50}, {\"Trait1\": 19, \"Trait2\": 16.9679721796419, \"affinity\": 0, \"Agglomerative\": 0, \"dbscan0\": 2, \"kmedoids4\": 3, \"spectral\": 1, \"optics\": 58}, {\"Trait1\": 20, \"Trait2\": 17.9849019781686, \"affinity\": 0, \"Agglomerative\": 0, \"dbscan0\": 2, \"kmedoids4\": 3, \"spectral\": 1, \"optics\": 58}, {\"Trait1\": 21, \"Trait2\": 20.3498110861983, \"affinity\": 0, \"Agglomerative\": 0, \"dbscan0\": 2, \"kmedoids4\": 3, \"spectral\": 1, \"optics\": 48}, {\"Trait1\": 22, \"Trait2\": 20.687414587941, \"affinity\": 0, \"Agglomerative\": 0, \"dbscan0\": 2, \"kmedoids4\": 3, \"spectral\": 1, \"optics\": 53}, {\"Trait1\": 23, \"Trait2\": 22.5808426558506, \"affinity\": 0, \"Agglomerative\": 0, \"dbscan0\": 2, \"kmedoids4\": 3, \"spectral\": 3, \"optics\": 47}, {\"Trait1\": 24, \"Trait2\": 22.56470347289, \"affinity\": 0, \"Agglomerative\": 0, \"dbscan0\": 2, \"kmedoids4\": 3, \"spectral\": 0, \"optics\": 53}, {\"Trait1\": 25, \"Trait2\": 24.4534217531327, \"affinity\": 0, \"Agglomerative\": 0, \"dbscan0\": 2, \"kmedoids4\": 3, \"spectral\": 3, \"optics\": 47}, {\"Trait1\": 26, \"Trait2\": 25.2069715121761, \"affinity\": 0, \"Agglomerative\": 0, \"dbscan0\": 2, \"kmedoids4\": 3, \"spectral\": 1, \"optics\": 48}, {\"Trait1\": 27, \"Trait2\": 25.2831659375224, \"affinity\": 0, \"Agglomerative\": 0, \"dbscan0\": 2, \"kmedoids4\": 3, \"spectral\": 0, \"optics\": -1}, {\"Trait1\": 28, \"Trait2\": 26.8959216363728, \"affinity\": 0, \"Agglomerative\": 0, \"dbscan0\": 2, \"kmedoids4\": 3, \"spectral\": 0, \"optics\": 49}, {\"Trait1\": 29, \"Trait2\": 27.4844723211136, \"affinity\": 0, \"Agglomerative\": 0, \"dbscan0\": 2, \"kmedoids4\": 3, \"spectral\": 1, \"optics\": 51}, {\"Trait1\": 30, \"Trait2\": 29.1808110699058, \"affinity\": 0, \"Agglomerative\": 0, \"dbscan0\": 2, \"kmedoids4\": 3, \"spectral\": 0, \"optics\": 48}, {\"Trait1\": 31, \"Trait2\": 29.7459615122061, \"affinity\": 0, \"Agglomerative\": 0, \"dbscan0\": 2, \"kmedoids4\": 3, \"spectral\": 0, \"optics\": 49}, {\"Trait1\": 32, \"Trait2\": 29.3827560194768, \"affinity\": 0, \"Agglomerative\": 0, \"dbscan0\": 2, \"kmedoids4\": 3, \"spectral\": 1, \"optics\": 56}, {\"Trait1\": 33, \"Trait2\": 30.6849107660819, \"affinity\": 0, \"Agglomerative\": 0, \"dbscan0\": 2, \"kmedoids4\": 3, \"spectral\": 1, \"optics\": 55}, {\"Trait1\": 34, \"Trait2\": 31.0482008224353, \"affinity\": 0, \"Agglomerative\": 0, \"dbscan0\": 2, \"kmedoids4\": 3, \"spectral\": 1, \"optics\": 57}, {\"Trait1\": 35, \"Trait2\": 33.6482698770706, \"affinity\": 0, \"Agglomerative\": 0, \"dbscan0\": 2, \"kmedoids4\": 3, \"spectral\": 1, \"optics\": 49}, {\"Trait1\": 36, \"Trait2\": 33.2212744597346, \"affinity\": 0, \"Agglomerative\": 0, \"dbscan0\": 2, \"kmedoids4\": 3, \"spectral\": 0, \"optics\": 56}, {\"Trait1\": 37, \"Trait2\": 35.7503126657102, \"affinity\": 0, \"Agglomerative\": 0, \"dbscan0\": 2, \"kmedoids4\": 3, \"spectral\": 1, \"optics\": 48}, {\"Trait1\": 38, \"Trait2\": 36.155142318923, \"affinity\": 0, \"Agglomerative\": 0, \"dbscan0\": 2, \"kmedoids4\": 3, \"spectral\": 1, \"optics\": -1}, {\"Trait1\": 39, \"Trait2\": 36.8567993927281, \"affinity\": 0, \"Agglomerative\": 0, \"dbscan0\": 2, \"kmedoids4\": 3, \"spectral\": 0, \"optics\": 52}, {\"Trait1\": 40, \"Trait2\": 37.818373917602, \"affinity\": 0, \"Agglomerative\": 0, \"dbscan0\": 2, \"kmedoids4\": 3, \"spectral\": 3, \"optics\": 52}, {\"Trait1\": 41, \"Trait2\": 38.8507691544946, \"affinity\": 0, \"Agglomerative\": 0, \"dbscan0\": 2, \"kmedoids4\": 3, \"spectral\": 0, \"optics\": 51}, {\"Trait1\": 42, \"Trait2\": 39.6425325563177, \"affinity\": 0, \"Agglomerative\": 0, \"dbscan0\": 2, \"kmedoids4\": 3, \"spectral\": 1, \"optics\": 52}, {\"Trait1\": 43, \"Trait2\": 40.3520459139254, \"affinity\": 0, \"Agglomerative\": 0, \"dbscan0\": 2, \"kmedoids4\": 3, \"spectral\": 1, \"optics\": 54}, {\"Trait1\": 44, \"Trait2\": 41.6545281684957, \"affinity\": 0, \"Agglomerative\": 0, \"dbscan0\": 2, \"kmedoids4\": 3, \"spectral\": 0, \"optics\": 51}, {\"Trait1\": 45, \"Trait2\": 41.8252990485635, \"affinity\": 0, \"Agglomerative\": 0, \"dbscan0\": 2, \"kmedoids4\": 3, \"spectral\": 1, \"optics\": 55}, {\"Trait1\": 46, \"Trait2\": 43.1734668728895, \"affinity\": 0, \"Agglomerative\": 0, \"dbscan0\": 2, \"kmedoids4\": 3, \"spectral\": 0, \"optics\": 54}, {\"Trait1\": 47, \"Trait2\": 44.1864136417862, \"affinity\": 0, \"Agglomerative\": 0, \"dbscan0\": 2, \"kmedoids4\": 3, \"spectral\": 1, \"optics\": 53}, {\"Trait1\": 48, \"Trait2\": 44.2841538945213, \"affinity\": 0, \"Agglomerative\": 0, \"dbscan0\": 2, \"kmedoids4\": 3, \"spectral\": 1, \"optics\": 56}, {\"Trait1\": 49, \"Trait2\": 46.801116618095, \"affinity\": 0, \"Agglomerative\": 0, \"dbscan0\": 2, \"kmedoids4\": 3, \"spectral\": 0, \"optics\": 50}, {\"Trait1\": 50, \"Trait2\": 47.0915512954816, \"affinity\": 0, \"Agglomerative\": 0, \"dbscan0\": 2, \"kmedoids4\": 3, \"spectral\": 0, \"optics\": -1}]}}, {\"mode\": \"vega-lite\"});\n",
       "</script>"
      ],
      "text/plain": [
       "alt.VConcatChart(...)"
      ]
     },
     "execution_count": 14,
     "metadata": {},
     "output_type": "execute_result"
    }
   ],
   "source": [
    "# Display charts\n",
    "(affini| agglom) & (dbscan | kmedoi)"
   ]
  },
  {
   "cell_type": "code",
   "execution_count": 15,
   "id": "e89c09a7",
   "metadata": {},
   "outputs": [
    {
     "data": {
      "text/html": [
       "\n",
       "<style>\n",
       "  #altair-viz-be438f82059945549e8007d589d4b698.vega-embed {\n",
       "    width: 100%;\n",
       "    display: flex;\n",
       "  }\n",
       "\n",
       "  #altair-viz-be438f82059945549e8007d589d4b698.vega-embed details,\n",
       "  #altair-viz-be438f82059945549e8007d589d4b698.vega-embed details summary {\n",
       "    position: relative;\n",
       "  }\n",
       "</style>\n",
       "<div id=\"altair-viz-be438f82059945549e8007d589d4b698\"></div>\n",
       "<script type=\"text/javascript\">\n",
       "  var VEGA_DEBUG = (typeof VEGA_DEBUG == \"undefined\") ? {} : VEGA_DEBUG;\n",
       "  (function(spec, embedOpt){\n",
       "    let outputDiv = document.currentScript.previousElementSibling;\n",
       "    if (outputDiv.id !== \"altair-viz-be438f82059945549e8007d589d4b698\") {\n",
       "      outputDiv = document.getElementById(\"altair-viz-be438f82059945549e8007d589d4b698\");\n",
       "    }\n",
       "    const paths = {\n",
       "      \"vega\": \"https://cdn.jsdelivr.net/npm/vega@5?noext\",\n",
       "      \"vega-lib\": \"https://cdn.jsdelivr.net/npm/vega-lib?noext\",\n",
       "      \"vega-lite\": \"https://cdn.jsdelivr.net/npm/vega-lite@5.16.3?noext\",\n",
       "      \"vega-embed\": \"https://cdn.jsdelivr.net/npm/vega-embed@6?noext\",\n",
       "    };\n",
       "\n",
       "    function maybeLoadScript(lib, version) {\n",
       "      var key = `${lib.replace(\"-\", \"\")}_version`;\n",
       "      return (VEGA_DEBUG[key] == version) ?\n",
       "        Promise.resolve(paths[lib]) :\n",
       "        new Promise(function(resolve, reject) {\n",
       "          var s = document.createElement('script');\n",
       "          document.getElementsByTagName(\"head\")[0].appendChild(s);\n",
       "          s.async = true;\n",
       "          s.onload = () => {\n",
       "            VEGA_DEBUG[key] = version;\n",
       "            return resolve(paths[lib]);\n",
       "          };\n",
       "          s.onerror = () => reject(`Error loading script: ${paths[lib]}`);\n",
       "          s.src = paths[lib];\n",
       "        });\n",
       "    }\n",
       "\n",
       "    function showError(err) {\n",
       "      outputDiv.innerHTML = `<div class=\"error\" style=\"color:red;\">${err}</div>`;\n",
       "      throw err;\n",
       "    }\n",
       "\n",
       "    function displayChart(vegaEmbed) {\n",
       "      vegaEmbed(outputDiv, spec, embedOpt)\n",
       "        .catch(err => showError(`Javascript Error: ${err.message}<br>This usually means there's a typo in your chart specification. See the javascript console for the full traceback.`));\n",
       "    }\n",
       "\n",
       "    if(typeof define === \"function\" && define.amd) {\n",
       "      requirejs.config({paths});\n",
       "      require([\"vega-embed\"], displayChart, err => showError(`Error loading script: ${err.message}`));\n",
       "    } else {\n",
       "      maybeLoadScript(\"vega\", \"5\")\n",
       "        .then(() => maybeLoadScript(\"vega-lite\", \"5.16.3\"))\n",
       "        .then(() => maybeLoadScript(\"vega-embed\", \"6\"))\n",
       "        .catch(showError)\n",
       "        .then(() => displayChart(vegaEmbed));\n",
       "    }\n",
       "  })({\"config\": {\"view\": {\"continuousWidth\": 300, \"continuousHeight\": 300}}, \"hconcat\": [{\"mark\": {\"type\": \"circle\", \"size\": 60}, \"encoding\": {\"color\": {\"field\": \"spectral\", \"type\": \"nominal\"}, \"tooltip\": [{\"field\": \"spectral\", \"type\": \"quantitative\"}, {\"field\": \"optics\", \"type\": \"quantitative\"}], \"x\": {\"field\": \"Trait1\", \"type\": \"quantitative\"}, \"y\": {\"field\": \"Trait2\", \"type\": \"quantitative\"}}, \"name\": \"view_5\", \"title\": \"Spectral\"}, {\"mark\": {\"type\": \"circle\", \"size\": 60}, \"encoding\": {\"color\": {\"field\": \"optics\", \"type\": \"nominal\"}, \"tooltip\": [{\"field\": \"spectral\", \"type\": \"quantitative\"}, {\"field\": \"optics\", \"type\": \"quantitative\"}], \"x\": {\"field\": \"Trait1\", \"type\": \"quantitative\"}, \"y\": {\"field\": \"Trait2\", \"type\": \"quantitative\"}}, \"name\": \"view_6\", \"title\": \"OPTICS\"}], \"data\": {\"name\": \"data-1cac8047f537a7b95394c438d2bd5b84\"}, \"params\": [{\"name\": \"param_5\", \"select\": {\"type\": \"interval\", \"encodings\": [\"x\", \"y\"]}, \"bind\": \"scales\", \"views\": [\"view_5\"]}, {\"name\": \"param_6\", \"select\": {\"type\": \"interval\", \"encodings\": [\"x\", \"y\"]}, \"bind\": \"scales\", \"views\": [\"view_6\"]}], \"$schema\": \"https://vega.github.io/schema/vega-lite/v5.16.3.json\", \"datasets\": {\"data-1cac8047f537a7b95394c438d2bd5b84\": [{\"Trait1\": 1, \"Trait2\": 2.08672583149746, \"affinity\": 1, \"Agglomerative\": 1, \"dbscan0\": 0, \"kmedoids4\": 2, \"spectral\": 0, \"optics\": 0}, {\"Trait1\": 2, \"Trait2\": 6.12056976510212, \"affinity\": 0, \"Agglomerative\": 1, \"dbscan0\": 0, \"kmedoids4\": 1, \"spectral\": 1, \"optics\": -1}, {\"Trait1\": 3, \"Trait2\": 6.88646334968507, \"affinity\": 1, \"Agglomerative\": 1, \"dbscan0\": 0, \"kmedoids4\": 2, \"spectral\": 0, \"optics\": 15}, {\"Trait1\": 4, \"Trait2\": 9.75480582658201, \"affinity\": 1, \"Agglomerative\": 1, \"dbscan0\": 0, \"kmedoids4\": 1, \"spectral\": 1, \"optics\": 16}, {\"Trait1\": 5, \"Trait2\": 12.2775113433599, \"affinity\": 1, \"Agglomerative\": 1, \"dbscan0\": 0, \"kmedoids4\": 1, \"spectral\": 0, \"optics\": 16}, {\"Trait1\": 6, \"Trait2\": 15.8932964396663, \"affinity\": 1, \"Agglomerative\": 1, \"dbscan0\": 0, \"kmedoids4\": 1, \"spectral\": 3, \"optics\": 30}, {\"Trait1\": 7, \"Trait2\": 18.8529003257863, \"affinity\": 1, \"Agglomerative\": 1, \"dbscan0\": 0, \"kmedoids4\": 1, \"spectral\": 0, \"optics\": -1}, {\"Trait1\": 8, \"Trait2\": 20.5595253310166, \"affinity\": 1, \"Agglomerative\": 1, \"dbscan0\": 0, \"kmedoids4\": 1, \"spectral\": 1, \"optics\": 19}, {\"Trait1\": 9, \"Trait2\": 22.7926128595136, \"affinity\": 1, \"Agglomerative\": 1, \"dbscan0\": 0, \"kmedoids4\": 1, \"spectral\": 0, \"optics\": 17}, {\"Trait1\": 10, \"Trait2\": 25.9601091174409, \"affinity\": 1, \"Agglomerative\": 1, \"dbscan0\": 0, \"kmedoids4\": 1, \"spectral\": 4, \"optics\": -1}, {\"Trait1\": 11, \"Trait2\": 28.4423665408976, \"affinity\": 1, \"Agglomerative\": 1, \"dbscan0\": 0, \"kmedoids4\": 1, \"spectral\": 1, \"optics\": 21}, {\"Trait1\": 12, \"Trait2\": 30.4279850772582, \"affinity\": 1, \"Agglomerative\": 1, \"dbscan0\": 0, \"kmedoids4\": 1, \"spectral\": 1, \"optics\": 17}, {\"Trait1\": 13, \"Trait2\": 34.7622417500243, \"affinity\": 1, \"Agglomerative\": 1, \"dbscan0\": 0, \"kmedoids4\": 1, \"spectral\": 3, \"optics\": 30}, {\"Trait1\": 14, \"Trait2\": 36.8630374767818, \"affinity\": 1, \"Agglomerative\": 1, \"dbscan0\": 0, \"kmedoids4\": 1, \"spectral\": 1, \"optics\": 29}, {\"Trait1\": 15, \"Trait2\": 39.9526380966417, \"affinity\": 1, \"Agglomerative\": 1, \"dbscan0\": 0, \"kmedoids4\": 1, \"spectral\": 0, \"optics\": 30}, {\"Trait1\": 16, \"Trait2\": 41.2725350596011, \"affinity\": 1, \"Agglomerative\": 1, \"dbscan0\": 0, \"kmedoids4\": 1, \"spectral\": 0, \"optics\": 20}, {\"Trait1\": 17, \"Trait2\": 44.1556880534627, \"affinity\": 1, \"Agglomerative\": 1, \"dbscan0\": 0, \"kmedoids4\": 1, \"spectral\": 1, \"optics\": 23}, {\"Trait1\": 18, \"Trait2\": 47.0347104500979, \"affinity\": 1, \"Agglomerative\": 1, \"dbscan0\": 0, \"kmedoids4\": 1, \"spectral\": 4, \"optics\": 26}, {\"Trait1\": 19, \"Trait2\": 48.4447864824906, \"affinity\": 1, \"Agglomerative\": 1, \"dbscan0\": 0, \"kmedoids4\": 1, \"spectral\": 0, \"optics\": 18}, {\"Trait1\": 20, \"Trait2\": 51.1183907180093, \"affinity\": 1, \"Agglomerative\": 1, \"dbscan0\": 0, \"kmedoids4\": 1, \"spectral\": 0, \"optics\": 18}, {\"Trait1\": 21, \"Trait2\": 55.139974263031, \"affinity\": 1, \"Agglomerative\": 1, \"dbscan0\": 0, \"kmedoids4\": 1, \"spectral\": 0, \"optics\": 28}, {\"Trait1\": 22, \"Trait2\": 57.1342522017658, \"affinity\": 1, \"Agglomerative\": 1, \"dbscan0\": 0, \"kmedoids4\": 1, \"spectral\": 0, \"optics\": 23}, {\"Trait1\": 23, \"Trait2\": 60.6843547066674, \"affinity\": 1, \"Agglomerative\": 1, \"dbscan0\": 0, \"kmedoids4\": 1, \"spectral\": 1, \"optics\": 29}, {\"Trait1\": 24, \"Trait2\": 62.3248899606988, \"affinity\": 1, \"Agglomerative\": 1, \"dbscan0\": 0, \"kmedoids4\": 1, \"spectral\": 3, \"optics\": 23}, {\"Trait1\": 25, \"Trait2\": 65.8702826779336, \"affinity\": 1, \"Agglomerative\": 1, \"dbscan0\": 0, \"kmedoids4\": 1, \"spectral\": 3, \"optics\": 29}, {\"Trait1\": 26, \"Trait2\": 68.280506873969, \"affinity\": 1, \"Agglomerative\": 1, \"dbscan0\": 0, \"kmedoids4\": 1, \"spectral\": 0, \"optics\": 28}, {\"Trait1\": 27, \"Trait2\": 70.0133757363074, \"affinity\": 1, \"Agglomerative\": 1, \"dbscan0\": 0, \"kmedoids4\": 1, \"spectral\": 3, \"optics\": -1}, {\"Trait1\": 28, \"Trait2\": 73.2828058721498, \"affinity\": 1, \"Agglomerative\": 1, \"dbscan0\": 0, \"kmedoids4\": 1, \"spectral\": 1, \"optics\": 27}, {\"Trait1\": 29, \"Trait2\": 75.5280309938826, \"affinity\": 1, \"Agglomerative\": 1, \"dbscan0\": 0, \"kmedoids4\": 1, \"spectral\": 0, \"optics\": 25}, {\"Trait1\": 30, \"Trait2\": 78.8810441796668, \"affinity\": 1, \"Agglomerative\": 1, \"dbscan0\": 0, \"kmedoids4\": 1, \"spectral\": 1, \"optics\": 28}, {\"Trait1\": 31, \"Trait2\": 81.1028690589592, \"affinity\": 1, \"Agglomerative\": 1, \"dbscan0\": 0, \"kmedoids4\": 1, \"spectral\": 1, \"optics\": 27}, {\"Trait1\": 32, \"Trait2\": 82.3963380032219, \"affinity\": 1, \"Agglomerative\": 1, \"dbscan0\": 0, \"kmedoids4\": 1, \"spectral\": 0, \"optics\": 20}, {\"Trait1\": 33, \"Trait2\": 85.355167186819, \"affinity\": 1, \"Agglomerative\": 1, \"dbscan0\": 0, \"kmedoids4\": 1, \"spectral\": 0, \"optics\": 21}, {\"Trait1\": 34, \"Trait2\": 87.3751316801645, \"affinity\": 1, \"Agglomerative\": 1, \"dbscan0\": 0, \"kmedoids4\": 1, \"spectral\": 0, \"optics\": 19}, {\"Trait1\": 35, \"Trait2\": 91.6318751717918, \"affinity\": 1, \"Agglomerative\": 1, \"dbscan0\": 0, \"kmedoids4\": 1, \"spectral\": 1, \"optics\": 27}, {\"Trait1\": 36, \"Trait2\": 92.8615541914478, \"affinity\": 1, \"Agglomerative\": 1, \"dbscan0\": 0, \"kmedoids4\": 1, \"spectral\": 1, \"optics\": 20}, {\"Trait1\": 37, \"Trait2\": 97.0472668344155, \"affinity\": 1, \"Agglomerative\": 1, \"dbscan0\": 0, \"kmedoids4\": 1, \"spectral\": 1, \"optics\": 28}, {\"Trait1\": 38, \"Trait2\": 99.1087709246203, \"affinity\": 1, \"Agglomerative\": 1, \"dbscan0\": 0, \"kmedoids4\": 1, \"spectral\": 1, \"optics\": -1}, {\"Trait1\": 39, \"Trait2\": 101.467102435417, \"affinity\": 1, \"Agglomerative\": 1, \"dbscan0\": 0, \"kmedoids4\": 1, \"spectral\": 4, \"optics\": 24}, {\"Trait1\": 40, \"Trait2\": 104.085351397283, \"affinity\": 1, \"Agglomerative\": 1, \"dbscan0\": 0, \"kmedoids4\": 1, \"spectral\": 2, \"optics\": 24}, {\"Trait1\": 41, \"Trait2\": 106.774421071168, \"affinity\": 1, \"Agglomerative\": 1, \"dbscan0\": 0, \"kmedoids4\": 1, \"spectral\": 1, \"optics\": 25}, {\"Trait1\": 42, \"Trait2\": 109.222858909983, \"affinity\": 1, \"Agglomerative\": 1, \"dbscan0\": 0, \"kmedoids4\": 1, \"spectral\": 1, \"optics\": 24}, {\"Trait1\": 43, \"Trait2\": 111.589046704583, \"affinity\": 1, \"Agglomerative\": 1, \"dbscan0\": 0, \"kmedoids4\": 1, \"spectral\": 1, \"optics\": 22}, {\"Trait1\": 44, \"Trait2\": 114.548203396145, \"affinity\": 1, \"Agglomerative\": 1, \"dbscan0\": 0, \"kmedoids4\": 1, \"spectral\": 1, \"optics\": 25}, {\"Trait1\": 45, \"Trait2\": 116.375648713205, \"affinity\": 1, \"Agglomerative\": 1, \"dbscan0\": 0, \"kmedoids4\": 1, \"spectral\": 3, \"optics\": 21}, {\"Trait1\": 46, \"Trait2\": 119.380490974523, \"affinity\": 1, \"Agglomerative\": 1, \"dbscan0\": 0, \"kmedoids4\": 1, \"spectral\": 0, \"optics\": 22}, {\"Trait1\": 47, \"Trait2\": 122.050112180412, \"affinity\": 1, \"Agglomerative\": 1, \"dbscan0\": 0, \"kmedoids4\": 1, \"spectral\": 0, \"optics\": 23}, {\"Trait1\": 48, \"Trait2\": 123.804526870139, \"affinity\": 1, \"Agglomerative\": 1, \"dbscan0\": 0, \"kmedoids4\": 1, \"spectral\": 1, \"optics\": 20}, {\"Trait1\": 49, \"Trait2\": 127.978164030705, \"affinity\": 1, \"Agglomerative\": 1, \"dbscan0\": 0, \"kmedoids4\": 1, \"spectral\": 0, \"optics\": 26}, {\"Trait1\": 50, \"Trait2\": 129.925273145083, \"affinity\": 1, \"Agglomerative\": 1, \"dbscan0\": 0, \"kmedoids4\": 1, \"spectral\": 0, \"optics\": -1}, {\"Trait1\": 1, \"Trait2\": 1.6837007580325, \"affinity\": 1, \"Agglomerative\": 1, \"dbscan0\": 1, \"kmedoids4\": 0, \"spectral\": 3, \"optics\": -1}, {\"Trait1\": 2, \"Trait2\": 5.3145196181722, \"affinity\": 1, \"Agglomerative\": 1, \"dbscan0\": 0, \"kmedoids4\": 1, \"spectral\": 4, \"optics\": 30}, {\"Trait1\": 3, \"Trait2\": 5.67738812929019, \"affinity\": 1, \"Agglomerative\": 1, \"dbscan0\": 0, \"kmedoids4\": 2, \"spectral\": 1, \"optics\": -1}, {\"Trait1\": 4, \"Trait2\": 8.14270553272218, \"affinity\": 1, \"Agglomerative\": 1, \"dbscan0\": 0, \"kmedoids4\": 2, \"spectral\": 0, \"optics\": 0}, {\"Trait1\": 5, \"Trait2\": 10.2623859760351, \"affinity\": 1, \"Agglomerative\": 1, \"dbscan0\": 0, \"kmedoids4\": 2, \"spectral\": 4, \"optics\": 0}, {\"Trait1\": 6, \"Trait2\": 13.4751459988765, \"affinity\": 1, \"Agglomerative\": 1, \"dbscan0\": 0, \"kmedoids4\": 2, \"spectral\": 3, \"optics\": -1}, {\"Trait1\": 7, \"Trait2\": 16.0317248115316, \"affinity\": 1, \"Agglomerative\": 1, \"dbscan0\": 0, \"kmedoids4\": 2, \"spectral\": 0, \"optics\": 15}, {\"Trait1\": 8, \"Trait2\": 17.335324743297, \"affinity\": 1, \"Agglomerative\": 1, \"dbscan0\": 0, \"kmedoids4\": 2, \"spectral\": 3, \"optics\": 3}, {\"Trait1\": 9, \"Trait2\": 19.165387198329, \"affinity\": 1, \"Agglomerative\": 1, \"dbscan0\": 0, \"kmedoids4\": 2, \"spectral\": 0, \"optics\": 1}, {\"Trait1\": 10, \"Trait2\": 21.9298583827913, \"affinity\": 1, \"Agglomerative\": 1, \"dbscan0\": 0, \"kmedoids4\": 2, \"spectral\": 3, \"optics\": -1}, {\"Trait1\": 11, \"Trait2\": 24.0090907327831, \"affinity\": 1, \"Agglomerative\": 1, \"dbscan0\": 0, \"kmedoids4\": 2, \"spectral\": 0, \"optics\": 5}, {\"Trait1\": 12, \"Trait2\": 25.5916841956787, \"affinity\": 1, \"Agglomerative\": 1, \"dbscan0\": 0, \"kmedoids4\": 2, \"spectral\": 1, \"optics\": 1}, {\"Trait1\": 13, \"Trait2\": 29.5229157949798, \"affinity\": 1, \"Agglomerative\": 1, \"dbscan0\": 0, \"kmedoids4\": 2, \"spectral\": 0, \"optics\": 14}, {\"Trait1\": 14, \"Trait2\": 31.2206864482723, \"affinity\": 1, \"Agglomerative\": 1, \"dbscan0\": 0, \"kmedoids4\": 2, \"spectral\": 3, \"optics\": 13}, {\"Trait1\": 15, \"Trait2\": 33.9072619946674, \"affinity\": 1, \"Agglomerative\": 1, \"dbscan0\": 0, \"kmedoids4\": 2, \"spectral\": 0, \"optics\": 14}, {\"Trait1\": 16, \"Trait2\": 34.8241338841617, \"affinity\": 1, \"Agglomerative\": 1, \"dbscan0\": 0, \"kmedoids4\": 2, \"spectral\": 3, \"optics\": 4}, {\"Trait1\": 17, \"Trait2\": 37.3042618045583, \"affinity\": 1, \"Agglomerative\": 1, \"dbscan0\": 0, \"kmedoids4\": 2, \"spectral\": 1, \"optics\": 7}, {\"Trait1\": 18, \"Trait2\": 39.7802591277286, \"affinity\": 1, \"Agglomerative\": 1, \"dbscan0\": 0, \"kmedoids4\": 2, \"spectral\": 0, \"optics\": 10}, {\"Trait1\": 19, \"Trait2\": 40.7873100866564, \"affinity\": 1, \"Agglomerative\": 1, \"dbscan0\": 0, \"kmedoids4\": 2, \"spectral\": 1, \"optics\": 2}, {\"Trait1\": 20, \"Trait2\": 43.0578892487101, \"affinity\": 1, \"Agglomerative\": 1, \"dbscan0\": 0, \"kmedoids4\": 2, \"spectral\": 1, \"optics\": 2}, {\"Trait1\": 21, \"Trait2\": 46.6764477202669, \"affinity\": 1, \"Agglomerative\": 1, \"dbscan0\": 0, \"kmedoids4\": 2, \"spectral\": 1, \"optics\": 12}, {\"Trait1\": 22, \"Trait2\": 48.2677005855367, \"affinity\": 1, \"Agglomerative\": 1, \"dbscan0\": 0, \"kmedoids4\": 2, \"spectral\": 1, \"optics\": 7}, {\"Trait1\": 23, \"Trait2\": 51.4147780169733, \"affinity\": 1, \"Agglomerative\": 1, \"dbscan0\": 0, \"kmedoids4\": 2, \"spectral\": 1, \"optics\": 13}, {\"Trait1\": 24, \"Trait2\": 52.6522881975397, \"affinity\": 1, \"Agglomerative\": 1, \"dbscan0\": 0, \"kmedoids4\": 2, \"spectral\": 0, \"optics\": 7}, {\"Trait1\": 25, \"Trait2\": 55.7946558413096, \"affinity\": 1, \"Agglomerative\": 1, \"dbscan0\": 0, \"kmedoids4\": 2, \"spectral\": 2, \"optics\": 13}, {\"Trait1\": 26, \"Trait2\": 57.80185496388, \"affinity\": 1, \"Agglomerative\": 1, \"dbscan0\": 0, \"kmedoids4\": 2, \"spectral\": 1, \"optics\": 12}, {\"Trait1\": 27, \"Trait2\": 59.1316987527534, \"affinity\": 1, \"Agglomerative\": 1, \"dbscan0\": 0, \"kmedoids4\": 2, \"spectral\": 1, \"optics\": -1}, {\"Trait1\": 28, \"Trait2\": 61.9981038151309, \"affinity\": 1, \"Agglomerative\": 1, \"dbscan0\": 0, \"kmedoids4\": 2, \"spectral\": 0, \"optics\": 11}, {\"Trait1\": 29, \"Trait2\": 63.8403038633987, \"affinity\": 1, \"Agglomerative\": 1, \"dbscan0\": 0, \"kmedoids4\": 2, \"spectral\": 1, \"optics\": 9}, {\"Trait1\": 30, \"Trait2\": 66.790291975718, \"affinity\": 1, \"Agglomerative\": 1, \"dbscan0\": 0, \"kmedoids4\": 2, \"spectral\": 1, \"optics\": 12}, {\"Trait1\": 31, \"Trait2\": 68.6090917815454, \"affinity\": 1, \"Agglomerative\": 1, \"dbscan0\": 0, \"kmedoids4\": 2, \"spectral\": 0, \"optics\": 11}, {\"Trait1\": 32, \"Trait2\": 69.4995356523432, \"affinity\": 1, \"Agglomerative\": 1, \"dbscan0\": 0, \"kmedoids4\": 2, \"spectral\": 1, \"optics\": 4}, {\"Trait1\": 33, \"Trait2\": 72.0553397624753, \"affinity\": 1, \"Agglomerative\": 1, \"dbscan0\": 0, \"kmedoids4\": 2, \"spectral\": 0, \"optics\": 5}, {\"Trait1\": 34, \"Trait2\": 73.6722791823559, \"affinity\": 1, \"Agglomerative\": 1, \"dbscan0\": 0, \"kmedoids4\": 2, \"spectral\": 1, \"optics\": 3}, {\"Trait1\": 35, \"Trait2\": 77.5259976005182, \"affinity\": 1, \"Agglomerative\": 1, \"dbscan0\": 0, \"kmedoids4\": 2, \"spectral\": 0, \"optics\": 11}, {\"Trait1\": 36, \"Trait2\": 78.3526515467092, \"affinity\": 1, \"Agglomerative\": 1, \"dbscan0\": 0, \"kmedoids4\": 2, \"spectral\": 1, \"optics\": 4}, {\"Trait1\": 37, \"Trait2\": 82.135339116212, \"affinity\": 1, \"Agglomerative\": 1, \"dbscan0\": 0, \"kmedoids4\": 2, \"spectral\": 0, \"optics\": 12}, {\"Trait1\": 38, \"Trait2\": 83.7938181329519, \"affinity\": 1, \"Agglomerative\": 1, \"dbscan0\": 0, \"kmedoids4\": 2, \"spectral\": 4, \"optics\": -1}, {\"Trait1\": 39, \"Trait2\": 85.749124570284, \"affinity\": 1, \"Agglomerative\": 1, \"dbscan0\": 0, \"kmedoids4\": 2, \"spectral\": 1, \"optics\": 8}, {\"Trait1\": 40, \"Trait2\": 87.964348458685, \"affinity\": 1, \"Agglomerative\": 1, \"dbscan0\": 0, \"kmedoids4\": 2, \"spectral\": 4, \"optics\": 8}, {\"Trait1\": 41, \"Trait2\": 90.2503930591047, \"affinity\": 1, \"Agglomerative\": 1, \"dbscan0\": 0, \"kmedoids4\": 2, \"spectral\": 3, \"optics\": 9}, {\"Trait1\": 42, \"Trait2\": 92.2958058244549, \"affinity\": 1, \"Agglomerative\": 1, \"dbscan0\": 0, \"kmedoids4\": 2, \"spectral\": 1, \"optics\": 8}, {\"Trait1\": 43, \"Trait2\": 94.2589685455896, \"affinity\": 1, \"Agglomerative\": 1, \"dbscan0\": 0, \"kmedoids4\": 2, \"spectral\": 1, \"optics\": 6}, {\"Trait1\": 44, \"Trait2\": 96.815100163687, \"affinity\": 1, \"Agglomerative\": 1, \"dbscan0\": 0, \"kmedoids4\": 2, \"spectral\": 4, \"optics\": 9}, {\"Trait1\": 45, \"Trait2\": 98.2395204072818, \"affinity\": 1, \"Agglomerative\": 1, \"dbscan0\": 0, \"kmedoids4\": 2, \"spectral\": 0, \"optics\": 5}, {\"Trait1\": 46, \"Trait2\": 100.841337595135, \"affinity\": 1, \"Agglomerative\": 1, \"dbscan0\": 0, \"kmedoids4\": 2, \"spectral\": 1, \"optics\": 6}, {\"Trait1\": 47, \"Trait2\": 103.107933727559, \"affinity\": 1, \"Agglomerative\": 1, \"dbscan0\": 0, \"kmedoids4\": 2, \"spectral\": 2, \"optics\": 7}, {\"Trait1\": 48, \"Trait2\": 104.459323343821, \"affinity\": 1, \"Agglomerative\": 1, \"dbscan0\": 0, \"kmedoids4\": 2, \"spectral\": 1, \"optics\": 4}, {\"Trait1\": 49, \"Trait2\": 108.229935430922, \"affinity\": 1, \"Agglomerative\": 1, \"dbscan0\": 0, \"kmedoids4\": 2, \"spectral\": 0, \"optics\": 10}, {\"Trait1\": 50, \"Trait2\": 109.774019471835, \"affinity\": 1, \"Agglomerative\": 1, \"dbscan0\": 0, \"kmedoids4\": 2, \"spectral\": 0, \"optics\": -1}, {\"Trait1\": 1, \"Trait2\": 1.00918779033236, \"affinity\": 0, \"Agglomerative\": 0, \"dbscan0\": 2, \"kmedoids4\": 3, \"spectral\": 1, \"optics\": 46}, {\"Trait1\": 2, \"Trait2\": 3.96549368277192, \"affinity\": 1, \"Agglomerative\": 1, \"dbscan0\": 0, \"kmedoids4\": 2, \"spectral\": 3, \"optics\": -1}, {\"Trait1\": 3, \"Trait2\": 3.65384922618978, \"affinity\": 1, \"Agglomerative\": 1, \"dbscan0\": -1, \"kmedoids4\": 0, \"spectral\": 4, \"optics\": -1}, {\"Trait1\": 4, \"Trait2\": 5.44465366192162, \"affinity\": 1, \"Agglomerative\": 1, \"dbscan0\": 1, \"kmedoids4\": 0, \"spectral\": 1, \"optics\": 45}, {\"Trait1\": 5, \"Trait2\": 6.88982113753445, \"affinity\": 1, \"Agglomerative\": 1, \"dbscan0\": 1, \"kmedoids4\": 0, \"spectral\": 0, \"optics\": 45}, {\"Trait1\": 6, \"Trait2\": 9.42806819267571, \"affinity\": 1, \"Agglomerative\": 1, \"dbscan0\": 1, \"kmedoids4\": 0, \"spectral\": 0, \"optics\": -1}, {\"Trait1\": 7, \"Trait2\": 11.3101340376306, \"affinity\": 1, \"Agglomerative\": 1, \"dbscan0\": 1, \"kmedoids4\": 0, \"spectral\": 0, \"optics\": -1}, {\"Trait1\": 8, \"Trait2\": 11.9392210016958, \"affinity\": 1, \"Agglomerative\": 1, \"dbscan0\": 1, \"kmedoids4\": 0, \"spectral\": 1, \"optics\": 42}, {\"Trait1\": 9, \"Trait2\": 13.0947704890277, \"affinity\": 1, \"Agglomerative\": 1, \"dbscan0\": 1, \"kmedoids4\": 0, \"spectral\": 1, \"optics\": 44}, {\"Trait1\": 10, \"Trait2\": 15.1847287057899, \"affinity\": 1, \"Agglomerative\": 1, \"dbscan0\": 1, \"kmedoids4\": 0, \"spectral\": 1, \"optics\": -1}, {\"Trait1\": 11, \"Trait2\": 16.5894480880816, \"affinity\": 1, \"Agglomerative\": 1, \"dbscan0\": 1, \"kmedoids4\": 0, \"spectral\": 1, \"optics\": 40}, {\"Trait1\": 12, \"Trait2\": 17.497528583277, \"affinity\": 1, \"Agglomerative\": 1, \"dbscan0\": 1, \"kmedoids4\": 0, \"spectral\": 0, \"optics\": 44}, {\"Trait1\": 13, \"Trait2\": 20.754247214878, \"affinity\": 1, \"Agglomerative\": 1, \"dbscan0\": 1, \"kmedoids4\": 0, \"spectral\": 3, \"optics\": 31}, {\"Trait1\": 14, \"Trait2\": 21.7775049004704, \"affinity\": 1, \"Agglomerative\": 1, \"dbscan0\": 1, \"kmedoids4\": 0, \"spectral\": 0, \"optics\": 32}, {\"Trait1\": 15, \"Trait2\": 23.7895674791653, \"affinity\": 1, \"Agglomerative\": 1, \"dbscan0\": 1, \"kmedoids4\": 0, \"spectral\": 0, \"optics\": 31}, {\"Trait1\": 16, \"Trait2\": 24.0319264009595, \"affinity\": 1, \"Agglomerative\": 1, \"dbscan0\": 1, \"kmedoids4\": 0, \"spectral\": 0, \"optics\": 41}, {\"Trait1\": 17, \"Trait2\": 25.837541353656, \"affinity\": 1, \"Agglomerative\": 1, \"dbscan0\": 1, \"kmedoids4\": 0, \"spectral\": 3, \"optics\": 38}, {\"Trait1\": 18, \"Trait2\": 27.6390257091261, \"affinity\": 1, \"Agglomerative\": 1, \"dbscan0\": 1, \"kmedoids4\": 0, \"spectral\": 1, \"optics\": 35}, {\"Trait1\": 19, \"Trait2\": 27.9715637003537, \"affinity\": 1, \"Agglomerative\": 1, \"dbscan0\": 1, \"kmedoids4\": 0, \"spectral\": 1, \"optics\": 43}, {\"Trait1\": 20, \"Trait2\": 29.5676298947074, \"affinity\": 1, \"Agglomerative\": 1, \"dbscan0\": 1, \"kmedoids4\": 0, \"spectral\": 0, \"optics\": 43}, {\"Trait1\": 21, \"Trait2\": 32.511675398564, \"affinity\": 1, \"Agglomerative\": 1, \"dbscan0\": 1, \"kmedoids4\": 0, \"spectral\": 3, \"optics\": 33}, {\"Trait1\": 22, \"Trait2\": 33.4284152961336, \"affinity\": 1, \"Agglomerative\": 1, \"dbscan0\": 1, \"kmedoids4\": 0, \"spectral\": 0, \"optics\": 38}, {\"Trait1\": 23, \"Trait2\": 35.9009797598701, \"affinity\": 1, \"Agglomerative\": 1, \"dbscan0\": 1, \"kmedoids4\": 0, \"spectral\": 1, \"optics\": 32}, {\"Trait1\": 24, \"Trait2\": 36.4639769727364, \"affinity\": 1, \"Agglomerative\": 1, \"dbscan0\": 1, \"kmedoids4\": 0, \"spectral\": 4, \"optics\": 38}, {\"Trait1\": 25, \"Trait2\": 38.9318316488061, \"affinity\": 1, \"Agglomerative\": 1, \"dbscan0\": 1, \"kmedoids4\": 0, \"spectral\": 3, \"optics\": 32}, {\"Trait1\": 26, \"Trait2\": 40.2645178036764, \"affinity\": 1, \"Agglomerative\": 1, \"dbscan0\": 1, \"kmedoids4\": 0, \"spectral\": 1, \"optics\": 33}, {\"Trait1\": 27, \"Trait2\": 40.9198486248497, \"affinity\": 1, \"Agglomerative\": 1, \"dbscan0\": 1, \"kmedoids4\": 0, \"spectral\": 1, \"optics\": -1}, {\"Trait1\": 28, \"Trait2\": 43.111740719527, \"affinity\": 1, \"Agglomerative\": 1, \"dbscan0\": 1, \"kmedoids4\": 0, \"spectral\": 1, \"optics\": 34}, {\"Trait1\": 29, \"Trait2\": 44.2794278000947, \"affinity\": 1, \"Agglomerative\": 1, \"dbscan0\": 1, \"kmedoids4\": 0, \"spectral\": 1, \"optics\": 36}, {\"Trait1\": 30, \"Trait2\": 46.5549029447138, \"affinity\": 1, \"Agglomerative\": 1, \"dbscan0\": 1, \"kmedoids4\": 0, \"spectral\": 0, \"optics\": 33}, {\"Trait1\": 31, \"Trait2\": 47.6991897828411, \"affinity\": 1, \"Agglomerative\": 1, \"dbscan0\": 1, \"kmedoids4\": 0, \"spectral\": 0, \"optics\": 34}, {\"Trait1\": 32, \"Trait2\": 47.9151206859387, \"affinity\": 1, \"Agglomerative\": 1, \"dbscan0\": 1, \"kmedoids4\": 0, \"spectral\": 0, \"optics\": 41}, {\"Trait1\": 33, \"Trait2\": 49.7964118283708, \"affinity\": 1, \"Agglomerative\": 1, \"dbscan0\": 1, \"kmedoids4\": 0, \"spectral\": 1, \"optics\": 40}, {\"Trait1\": 34, \"Trait2\": 50.7388382805511, \"affinity\": 1, \"Agglomerative\": 1, \"dbscan0\": 1, \"kmedoids4\": 0, \"spectral\": 1, \"optics\": 42}, {\"Trait1\": 35, \"Trait2\": 53.9180437310133, \"affinity\": 1, \"Agglomerative\": 1, \"dbscan0\": 1, \"kmedoids4\": 0, \"spectral\": 1, \"optics\": 34}, {\"Trait1\": 36, \"Trait2\": 54.0701847095042, \"affinity\": 1, \"Agglomerative\": 1, \"dbscan0\": 1, \"kmedoids4\": 0, \"spectral\": 1, \"optics\": 41}, {\"Trait1\": 37, \"Trait2\": 57.1783593113068, \"affinity\": 1, \"Agglomerative\": 1, \"dbscan0\": 1, \"kmedoids4\": 0, \"spectral\": 4, \"optics\": 33}, {\"Trait1\": 38, \"Trait2\": 58.1623253603466, \"affinity\": 1, \"Agglomerative\": 1, \"dbscan0\": 1, \"kmedoids4\": 0, \"spectral\": 0, \"optics\": -1}, {\"Trait1\": 39, \"Trait2\": 59.4431188299786, \"affinity\": 1, \"Agglomerative\": 1, \"dbscan0\": 1, \"kmedoids4\": 0, \"spectral\": 0, \"optics\": 37}, {\"Trait1\": 40, \"Trait2\": 60.9838297506794, \"affinity\": 1, \"Agglomerative\": 1, \"dbscan0\": 1, \"kmedoids4\": 0, \"spectral\": 4, \"optics\": 37}, {\"Trait1\": 41, \"Trait2\": 62.595361383399, \"affinity\": 1, \"Agglomerative\": 1, \"dbscan0\": 1, \"kmedoids4\": 0, \"spectral\": 1, \"optics\": 36}, {\"Trait1\": 42, \"Trait2\": 63.966261181049, \"affinity\": 1, \"Agglomerative\": 1, \"dbscan0\": 1, \"kmedoids4\": 0, \"spectral\": 1, \"optics\": 37}, {\"Trait1\": 43, \"Trait2\": 65.2549109344836, \"affinity\": 1, \"Agglomerative\": 1, \"dbscan0\": 1, \"kmedoids4\": 0, \"spectral\": 3, \"optics\": 39}, {\"Trait1\": 44, \"Trait2\": 67.1365295848809, \"affinity\": 1, \"Agglomerative\": 1, \"dbscan0\": 1, \"kmedoids4\": 0, \"spectral\": 1, \"optics\": 36}, {\"Trait1\": 45, \"Trait2\": 67.8864368607756, \"affinity\": 1, \"Agglomerative\": 1, \"dbscan0\": 1, \"kmedoids4\": 0, \"spectral\": 3, \"optics\": 40}, {\"Trait1\": 46, \"Trait2\": 69.8137410809286, \"affinity\": 1, \"Agglomerative\": 1, \"dbscan0\": 1, \"kmedoids4\": 0, \"spectral\": 0, \"optics\": 39}, {\"Trait1\": 47, \"Trait2\": 71.4058242456522, \"affinity\": 1, \"Agglomerative\": 1, \"dbscan0\": 1, \"kmedoids4\": 0, \"spectral\": 1, \"optics\": 38}, {\"Trait1\": 48, \"Trait2\": 72.0827008942142, \"affinity\": 1, \"Agglomerative\": 1, \"dbscan0\": 1, \"kmedoids4\": 0, \"spectral\": 1, \"optics\": 41}, {\"Trait1\": 49, \"Trait2\": 75.1788000136148, \"affinity\": 1, \"Agglomerative\": 1, \"dbscan0\": 1, \"kmedoids4\": 0, \"spectral\": 2, \"optics\": 35}, {\"Trait1\": 50, \"Trait2\": 76.0483710868284, \"affinity\": 1, \"Agglomerative\": 1, \"dbscan0\": 1, \"kmedoids4\": 0, \"spectral\": 0, \"optics\": -1}, {\"Trait1\": 1, \"Trait2\": 0.430051394505426, \"affinity\": 1, \"Agglomerative\": 0, \"dbscan0\": -1, \"kmedoids4\": 3, \"spectral\": 0, \"optics\": -1}, {\"Trait1\": 2, \"Trait2\": 2.80722089111805, \"affinity\": 1, \"Agglomerative\": 1, \"dbscan0\": 1, \"kmedoids4\": 0, \"spectral\": 1, \"optics\": 45}, {\"Trait1\": 3, \"Trait2\": 1.91644003870897, \"affinity\": 0, \"Agglomerative\": 0, \"dbscan0\": -1, \"kmedoids4\": 3, \"spectral\": 2, \"optics\": -1}, {\"Trait1\": 4, \"Trait2\": 3.12810807861388, \"affinity\": 0, \"Agglomerative\": 0, \"dbscan0\": 3, \"kmedoids4\": 3, \"spectral\": 0, \"optics\": 60}, {\"Trait1\": 5, \"Trait2\": 3.99413915839978, \"affinity\": 0, \"Agglomerative\": 0, \"dbscan0\": 3, \"kmedoids4\": 3, \"spectral\": 3, \"optics\": 60}, {\"Trait1\": 6, \"Trait2\": 5.9532498177141, \"affinity\": 0, \"Agglomerative\": 0, \"dbscan0\": 2, \"kmedoids4\": 3, \"spectral\": 2, \"optics\": -1}, {\"Trait1\": 7, \"Trait2\": 7.25617926684208, \"affinity\": 0, \"Agglomerative\": 0, \"dbscan0\": 2, \"kmedoids4\": 3, \"spectral\": 1, \"optics\": -1}, {\"Trait1\": 8, \"Trait2\": 7.30612983508036, \"affinity\": 0, \"Agglomerative\": 0, \"dbscan0\": 2, \"kmedoids4\": 3, \"spectral\": 0, \"optics\": 57}, {\"Trait1\": 9, \"Trait2\": 7.8825429265853, \"affinity\": 0, \"Agglomerative\": 0, \"dbscan0\": 2, \"kmedoids4\": 3, \"spectral\": 3, \"optics\": 59}, {\"Trait1\": 10, \"Trait2\": 9.39336474752054, \"affinity\": 0, \"Agglomerative\": 0, \"dbscan0\": 2, \"kmedoids4\": 3, \"spectral\": 0, \"optics\": -1}, {\"Trait1\": 11, \"Trait2\": 10.2189477339853, \"affinity\": 0, \"Agglomerative\": 0, \"dbscan0\": 2, \"kmedoids4\": 3, \"spectral\": 0, \"optics\": 55}, {\"Trait1\": 12, \"Trait2\": 10.5478918333538, \"affinity\": 0, \"Agglomerative\": 0, \"dbscan0\": 2, \"kmedoids4\": 3, \"spectral\": 0, \"optics\": 59}, {\"Trait1\": 13, \"Trait2\": 13.2254740691278, \"affinity\": 0, \"Agglomerative\": 0, \"dbscan0\": 2, \"kmedoids4\": 3, \"spectral\": 1, \"optics\": 46}, {\"Trait1\": 14, \"Trait2\": 13.6695953588933, \"affinity\": 0, \"Agglomerative\": 0, \"dbscan0\": 2, \"kmedoids4\": 3, \"spectral\": 0, \"optics\": 47}, {\"Trait1\": 15, \"Trait2\": 15.1025215417612, \"affinity\": 0, \"Agglomerative\": 0, \"dbscan0\": 2, \"kmedoids4\": 3, \"spectral\": 1, \"optics\": 46}, {\"Trait1\": 16, \"Trait2\": 14.7657440677285, \"affinity\": 0, \"Agglomerative\": 0, \"dbscan0\": 2, \"kmedoids4\": 3, \"spectral\": 0, \"optics\": 56}, {\"Trait1\": 17, \"Trait2\": 15.9922226245981, \"affinity\": 0, \"Agglomerative\": 0, \"dbscan0\": 2, \"kmedoids4\": 3, \"spectral\": 1, \"optics\": 53}, {\"Trait1\": 18, \"Trait2\": 17.2145705842413, \"affinity\": 0, \"Agglomerative\": 0, \"dbscan0\": 2, \"kmedoids4\": 3, \"spectral\": 4, \"optics\": 50}, {\"Trait1\": 19, \"Trait2\": 16.9679721796419, \"affinity\": 0, \"Agglomerative\": 0, \"dbscan0\": 2, \"kmedoids4\": 3, \"spectral\": 1, \"optics\": 58}, {\"Trait1\": 20, \"Trait2\": 17.9849019781686, \"affinity\": 0, \"Agglomerative\": 0, \"dbscan0\": 2, \"kmedoids4\": 3, \"spectral\": 1, \"optics\": 58}, {\"Trait1\": 21, \"Trait2\": 20.3498110861983, \"affinity\": 0, \"Agglomerative\": 0, \"dbscan0\": 2, \"kmedoids4\": 3, \"spectral\": 1, \"optics\": 48}, {\"Trait1\": 22, \"Trait2\": 20.687414587941, \"affinity\": 0, \"Agglomerative\": 0, \"dbscan0\": 2, \"kmedoids4\": 3, \"spectral\": 1, \"optics\": 53}, {\"Trait1\": 23, \"Trait2\": 22.5808426558506, \"affinity\": 0, \"Agglomerative\": 0, \"dbscan0\": 2, \"kmedoids4\": 3, \"spectral\": 3, \"optics\": 47}, {\"Trait1\": 24, \"Trait2\": 22.56470347289, \"affinity\": 0, \"Agglomerative\": 0, \"dbscan0\": 2, \"kmedoids4\": 3, \"spectral\": 0, \"optics\": 53}, {\"Trait1\": 25, \"Trait2\": 24.4534217531327, \"affinity\": 0, \"Agglomerative\": 0, \"dbscan0\": 2, \"kmedoids4\": 3, \"spectral\": 3, \"optics\": 47}, {\"Trait1\": 26, \"Trait2\": 25.2069715121761, \"affinity\": 0, \"Agglomerative\": 0, \"dbscan0\": 2, \"kmedoids4\": 3, \"spectral\": 1, \"optics\": 48}, {\"Trait1\": 27, \"Trait2\": 25.2831659375224, \"affinity\": 0, \"Agglomerative\": 0, \"dbscan0\": 2, \"kmedoids4\": 3, \"spectral\": 0, \"optics\": -1}, {\"Trait1\": 28, \"Trait2\": 26.8959216363728, \"affinity\": 0, \"Agglomerative\": 0, \"dbscan0\": 2, \"kmedoids4\": 3, \"spectral\": 0, \"optics\": 49}, {\"Trait1\": 29, \"Trait2\": 27.4844723211136, \"affinity\": 0, \"Agglomerative\": 0, \"dbscan0\": 2, \"kmedoids4\": 3, \"spectral\": 1, \"optics\": 51}, {\"Trait1\": 30, \"Trait2\": 29.1808110699058, \"affinity\": 0, \"Agglomerative\": 0, \"dbscan0\": 2, \"kmedoids4\": 3, \"spectral\": 0, \"optics\": 48}, {\"Trait1\": 31, \"Trait2\": 29.7459615122061, \"affinity\": 0, \"Agglomerative\": 0, \"dbscan0\": 2, \"kmedoids4\": 3, \"spectral\": 0, \"optics\": 49}, {\"Trait1\": 32, \"Trait2\": 29.3827560194768, \"affinity\": 0, \"Agglomerative\": 0, \"dbscan0\": 2, \"kmedoids4\": 3, \"spectral\": 1, \"optics\": 56}, {\"Trait1\": 33, \"Trait2\": 30.6849107660819, \"affinity\": 0, \"Agglomerative\": 0, \"dbscan0\": 2, \"kmedoids4\": 3, \"spectral\": 1, \"optics\": 55}, {\"Trait1\": 34, \"Trait2\": 31.0482008224353, \"affinity\": 0, \"Agglomerative\": 0, \"dbscan0\": 2, \"kmedoids4\": 3, \"spectral\": 1, \"optics\": 57}, {\"Trait1\": 35, \"Trait2\": 33.6482698770706, \"affinity\": 0, \"Agglomerative\": 0, \"dbscan0\": 2, \"kmedoids4\": 3, \"spectral\": 1, \"optics\": 49}, {\"Trait1\": 36, \"Trait2\": 33.2212744597346, \"affinity\": 0, \"Agglomerative\": 0, \"dbscan0\": 2, \"kmedoids4\": 3, \"spectral\": 0, \"optics\": 56}, {\"Trait1\": 37, \"Trait2\": 35.7503126657102, \"affinity\": 0, \"Agglomerative\": 0, \"dbscan0\": 2, \"kmedoids4\": 3, \"spectral\": 1, \"optics\": 48}, {\"Trait1\": 38, \"Trait2\": 36.155142318923, \"affinity\": 0, \"Agglomerative\": 0, \"dbscan0\": 2, \"kmedoids4\": 3, \"spectral\": 1, \"optics\": -1}, {\"Trait1\": 39, \"Trait2\": 36.8567993927281, \"affinity\": 0, \"Agglomerative\": 0, \"dbscan0\": 2, \"kmedoids4\": 3, \"spectral\": 0, \"optics\": 52}, {\"Trait1\": 40, \"Trait2\": 37.818373917602, \"affinity\": 0, \"Agglomerative\": 0, \"dbscan0\": 2, \"kmedoids4\": 3, \"spectral\": 3, \"optics\": 52}, {\"Trait1\": 41, \"Trait2\": 38.8507691544946, \"affinity\": 0, \"Agglomerative\": 0, \"dbscan0\": 2, \"kmedoids4\": 3, \"spectral\": 0, \"optics\": 51}, {\"Trait1\": 42, \"Trait2\": 39.6425325563177, \"affinity\": 0, \"Agglomerative\": 0, \"dbscan0\": 2, \"kmedoids4\": 3, \"spectral\": 1, \"optics\": 52}, {\"Trait1\": 43, \"Trait2\": 40.3520459139254, \"affinity\": 0, \"Agglomerative\": 0, \"dbscan0\": 2, \"kmedoids4\": 3, \"spectral\": 1, \"optics\": 54}, {\"Trait1\": 44, \"Trait2\": 41.6545281684957, \"affinity\": 0, \"Agglomerative\": 0, \"dbscan0\": 2, \"kmedoids4\": 3, \"spectral\": 0, \"optics\": 51}, {\"Trait1\": 45, \"Trait2\": 41.8252990485635, \"affinity\": 0, \"Agglomerative\": 0, \"dbscan0\": 2, \"kmedoids4\": 3, \"spectral\": 1, \"optics\": 55}, {\"Trait1\": 46, \"Trait2\": 43.1734668728895, \"affinity\": 0, \"Agglomerative\": 0, \"dbscan0\": 2, \"kmedoids4\": 3, \"spectral\": 0, \"optics\": 54}, {\"Trait1\": 47, \"Trait2\": 44.1864136417862, \"affinity\": 0, \"Agglomerative\": 0, \"dbscan0\": 2, \"kmedoids4\": 3, \"spectral\": 1, \"optics\": 53}, {\"Trait1\": 48, \"Trait2\": 44.2841538945213, \"affinity\": 0, \"Agglomerative\": 0, \"dbscan0\": 2, \"kmedoids4\": 3, \"spectral\": 1, \"optics\": 56}, {\"Trait1\": 49, \"Trait2\": 46.801116618095, \"affinity\": 0, \"Agglomerative\": 0, \"dbscan0\": 2, \"kmedoids4\": 3, \"spectral\": 0, \"optics\": 50}, {\"Trait1\": 50, \"Trait2\": 47.0915512954816, \"affinity\": 0, \"Agglomerative\": 0, \"dbscan0\": 2, \"kmedoids4\": 3, \"spectral\": 0, \"optics\": -1}]}}, {\"mode\": \"vega-lite\"});\n",
       "</script>"
      ],
      "text/plain": [
       "alt.HConcatChart(...)"
      ]
     },
     "execution_count": 15,
     "metadata": {},
     "output_type": "execute_result"
    }
   ],
   "source": [
    "(spectr | optics)"
   ]
  },
  {
   "cell_type": "markdown",
   "id": "07d5cc4d",
   "metadata": {},
   "source": [
    "## Repeat with messier data"
   ]
  },
  {
   "cell_type": "markdown",
   "id": "e769427e",
   "metadata": {},
   "source": [
    "So far the test data all goes through the origin. Let's repeat the tests with different intercepts"
   ]
  },
  {
   "cell_type": "code",
   "execution_count": 16,
   "id": "eea52019",
   "metadata": {},
   "outputs": [],
   "source": [
    "npaths = 4\n",
    "path = \"../TestData_moveintercept/paths%d/\"%npaths\n",
    "beta_df_new     = pd.read_csv(path + \"unstdBeta_df.csv\", index_col = 0)\n",
    "se_df_new       = pd.read_csv(path + \"unstdSE_df.csv\", index_col = 0)\n",
    "pval_df_new     = pd.read_csv(path + \"pval_df.csv\", index_col = 0)\n",
    "traits_df_new   = pd.read_csv(path + \"trait_info_nfil.csv\", index_col = 0)\n",
    "\n",
    "data_df = {\"beta\": beta_df_new,\n",
    "           \"se\": se_df_new,\n",
    "           \"pval\": pval_df_new}\n",
    "col1 = beta_df_new.columns[0]\n",
    "col2 = beta_df_new.columns[1]\n",
    "beta_crop_new = beta_df_new.loc[:,[col1,col2]]"
   ]
  },
  {
   "cell_type": "markdown",
   "id": "b2c6d324",
   "metadata": {},
   "source": [
    "### Compute cosine-similarities"
   ]
  },
  {
   "cell_type": "code",
   "execution_count": 17,
   "id": "07143612",
   "metadata": {},
   "outputs": [
    {
     "name": "stdout",
     "output_type": "stream",
     "text": [
      "pairwise dense output:\n",
      " [[1.         0.99142441 0.99935064 ... 0.92912529 0.93538109 0.93288335]\n",
      " [0.99142441 1.         0.99548931 ... 0.87283604 0.88114527 0.87781464]\n",
      " [0.99935064 0.99548931 1.         ... 0.91519863 0.92203134 0.91929966]\n",
      " ...\n",
      " [0.92912529 0.87283604 0.91519863 ... 1.         0.99985045 0.99994699]\n",
      " [0.93538109 0.88114527 0.92203134 ... 0.99985045 1.         0.99997551]\n",
      " [0.93288335 0.87781464 0.91929966 ... 0.99994699 0.99997551 1.        ]]\n",
      "\n"
     ]
    }
   ],
   "source": [
    "similarities_new = cosine_similarity(beta_crop)\n",
    "print('pairwise dense output:\\n {}\\n'.format(similarities_new))\n",
    "sims_new = (1 - similarities_new).clip(min=0)\n",
    "results_new = beta_crop_new.copy()"
   ]
  },
  {
   "cell_type": "markdown",
   "id": "e660ea78",
   "metadata": {},
   "source": [
    "### Cluster with K-medoids"
   ]
  },
  {
   "cell_type": "code",
   "execution_count": 18,
   "id": "cca219d4",
   "metadata": {},
   "outputs": [],
   "source": [
    "nclust = npaths\n",
    "kmedoids = KMedoids(n_clusters=nclust, metric = \"precomputed\", random_state = 0).fit(sims_new)\n",
    "kmed_lab = 'kmedoids%d'%nclust\n",
    "results_new[kmed_lab] = kmedoids.labels_"
   ]
  },
  {
   "cell_type": "markdown",
   "id": "4b4b8ad4",
   "metadata": {},
   "source": [
    "## Cluster with DBSCAN"
   ]
  },
  {
   "cell_type": "code",
   "execution_count": 19,
   "id": "6451b19e",
   "metadata": {},
   "outputs": [],
   "source": [
    "# DBSCAN\n",
    "eps = 0.001\n",
    "dbscan = DBSCAN(eps = eps, min_samples = 2, metric = \"precomputed\").fit(sims_new)\n",
    "dblab = 'dbscan%d'%eps\n",
    "db_labs = dbscan.labels_\n",
    "results_new[dblab] = db_labs"
   ]
  },
  {
   "cell_type": "markdown",
   "id": "8e083a33",
   "metadata": {},
   "source": [
    "### Plot"
   ]
  },
  {
   "cell_type": "code",
   "execution_count": 20,
   "id": "3f541f57",
   "metadata": {},
   "outputs": [
    {
     "name": "stdout",
     "output_type": "stream",
     "text": [
      "['#1f77b4', '#ff7f0e', '#2ca02c', '#808080', '#9467bd']\n",
      "['#1f77b4', '#ff7f0e', '#2ca02c', '#808080', '#9467bd']\n"
     ]
    }
   ],
   "source": [
    "tooltip1 =[dblab, kmed_lab]\n",
    "# Create a palette to ensure the junk and noise clusters are grey.\n",
    "clust_groups = pd.unique(results[tooltip1].values.ravel('K'))\n",
    "ncolours = len(clust_groups)\n",
    "palette = sns.color_palette(None, ncolours).as_hex()\n",
    "junk_ind = np.where(clust_groups == -1)\n",
    "palette[junk_ind[0][0]] = '#808080'\n",
    "dbscan_new = chartclusters(results_new,\"DBSCAN\", dblab+\":N\", tooltip1, palette = palette, clustgroups= clust_groups)\n",
    "kmedoi_new = chartclusters(results_new,\"K-Medoids\",kmed_lab+\":N\",tooltip1, palette = palette, clustgroups= clust_groups)"
   ]
  },
  {
   "cell_type": "code",
   "execution_count": 21,
   "id": "5f1eab07",
   "metadata": {},
   "outputs": [
    {
     "data": {
      "text/html": [
       "\n",
       "<style>\n",
       "  #altair-viz-d8ed51870de9441a8a94e636d2192ba4.vega-embed {\n",
       "    width: 100%;\n",
       "    display: flex;\n",
       "  }\n",
       "\n",
       "  #altair-viz-d8ed51870de9441a8a94e636d2192ba4.vega-embed details,\n",
       "  #altair-viz-d8ed51870de9441a8a94e636d2192ba4.vega-embed details summary {\n",
       "    position: relative;\n",
       "  }\n",
       "</style>\n",
       "<div id=\"altair-viz-d8ed51870de9441a8a94e636d2192ba4\"></div>\n",
       "<script type=\"text/javascript\">\n",
       "  var VEGA_DEBUG = (typeof VEGA_DEBUG == \"undefined\") ? {} : VEGA_DEBUG;\n",
       "  (function(spec, embedOpt){\n",
       "    let outputDiv = document.currentScript.previousElementSibling;\n",
       "    if (outputDiv.id !== \"altair-viz-d8ed51870de9441a8a94e636d2192ba4\") {\n",
       "      outputDiv = document.getElementById(\"altair-viz-d8ed51870de9441a8a94e636d2192ba4\");\n",
       "    }\n",
       "    const paths = {\n",
       "      \"vega\": \"https://cdn.jsdelivr.net/npm/vega@5?noext\",\n",
       "      \"vega-lib\": \"https://cdn.jsdelivr.net/npm/vega-lib?noext\",\n",
       "      \"vega-lite\": \"https://cdn.jsdelivr.net/npm/vega-lite@5.16.3?noext\",\n",
       "      \"vega-embed\": \"https://cdn.jsdelivr.net/npm/vega-embed@6?noext\",\n",
       "    };\n",
       "\n",
       "    function maybeLoadScript(lib, version) {\n",
       "      var key = `${lib.replace(\"-\", \"\")}_version`;\n",
       "      return (VEGA_DEBUG[key] == version) ?\n",
       "        Promise.resolve(paths[lib]) :\n",
       "        new Promise(function(resolve, reject) {\n",
       "          var s = document.createElement('script');\n",
       "          document.getElementsByTagName(\"head\")[0].appendChild(s);\n",
       "          s.async = true;\n",
       "          s.onload = () => {\n",
       "            VEGA_DEBUG[key] = version;\n",
       "            return resolve(paths[lib]);\n",
       "          };\n",
       "          s.onerror = () => reject(`Error loading script: ${paths[lib]}`);\n",
       "          s.src = paths[lib];\n",
       "        });\n",
       "    }\n",
       "\n",
       "    function showError(err) {\n",
       "      outputDiv.innerHTML = `<div class=\"error\" style=\"color:red;\">${err}</div>`;\n",
       "      throw err;\n",
       "    }\n",
       "\n",
       "    function displayChart(vegaEmbed) {\n",
       "      vegaEmbed(outputDiv, spec, embedOpt)\n",
       "        .catch(err => showError(`Javascript Error: ${err.message}<br>This usually means there's a typo in your chart specification. See the javascript console for the full traceback.`));\n",
       "    }\n",
       "\n",
       "    if(typeof define === \"function\" && define.amd) {\n",
       "      requirejs.config({paths});\n",
       "      require([\"vega-embed\"], displayChart, err => showError(`Error loading script: ${err.message}`));\n",
       "    } else {\n",
       "      maybeLoadScript(\"vega\", \"5\")\n",
       "        .then(() => maybeLoadScript(\"vega-lite\", \"5.16.3\"))\n",
       "        .then(() => maybeLoadScript(\"vega-embed\", \"6\"))\n",
       "        .catch(showError)\n",
       "        .then(() => displayChart(vegaEmbed));\n",
       "    }\n",
       "  })({\"config\": {\"view\": {\"continuousWidth\": 300, \"continuousHeight\": 300}}, \"hconcat\": [{\"mark\": {\"type\": \"circle\", \"size\": 60}, \"encoding\": {\"color\": {\"field\": \"dbscan0\", \"scale\": {\"domain\": [0.0, 1.0, 2.0, -1.0, 3.0], \"range\": [\"#1f77b4\", \"#ff7f0e\", \"#2ca02c\", \"#808080\", \"#9467bd\"]}, \"type\": \"nominal\"}, \"tooltip\": [{\"field\": \"dbscan0\", \"type\": \"quantitative\"}, {\"field\": \"kmedoids4\", \"type\": \"quantitative\"}], \"x\": {\"field\": \"Trait1\", \"type\": \"quantitative\"}, \"y\": {\"field\": \"Trait2\", \"type\": \"quantitative\"}}, \"name\": \"view_7\", \"title\": \"DBSCAN\"}, {\"mark\": {\"type\": \"circle\", \"size\": 60}, \"encoding\": {\"color\": {\"field\": \"kmedoids4\", \"scale\": {\"domain\": [0.0, 1.0, 2.0, -1.0, 3.0], \"range\": [\"#1f77b4\", \"#ff7f0e\", \"#2ca02c\", \"#808080\", \"#9467bd\"]}, \"type\": \"nominal\"}, \"tooltip\": [{\"field\": \"dbscan0\", \"type\": \"quantitative\"}, {\"field\": \"kmedoids4\", \"type\": \"quantitative\"}], \"x\": {\"field\": \"Trait1\", \"type\": \"quantitative\"}, \"y\": {\"field\": \"Trait2\", \"type\": \"quantitative\"}}, \"name\": \"view_8\", \"title\": \"K-Medoids\"}], \"data\": {\"name\": \"data-ed1dd5743515ee8f1723a130cf66edf4\"}, \"params\": [{\"name\": \"param_7\", \"select\": {\"type\": \"interval\", \"encodings\": [\"x\", \"y\"]}, \"bind\": \"scales\", \"views\": [\"view_7\"]}, {\"name\": \"param_8\", \"select\": {\"type\": \"interval\", \"encodings\": [\"x\", \"y\"]}, \"bind\": \"scales\", \"views\": [\"view_8\"]}], \"$schema\": \"https://vega.github.io/schema/vega-lite/v5.16.3.json\", \"datasets\": {\"data-ed1dd5743515ee8f1723a130cf66edf4\": [{\"Trait1\": 1, \"Trait2\": -5.43126699266334, \"kmedoids4\": 2, \"dbscan0\": 0}, {\"Trait1\": 2, \"Trait2\": 9.95491350100686, \"kmedoids4\": 1, \"dbscan0\": 0}, {\"Trait1\": 3, \"Trait2\": -0.647281531244516, \"kmedoids4\": 2, \"dbscan0\": 0}, {\"Trait1\": 4, \"Trait2\": -1.82977871907254, \"kmedoids4\": 1, \"dbscan0\": 0}, {\"Trait1\": 5, \"Trait2\": 10.1677244141077, \"kmedoids4\": 1, \"dbscan0\": 0}, {\"Trait1\": 6, \"Trait2\": -1.43501587584615, \"kmedoids4\": 1, \"dbscan0\": 0}, {\"Trait1\": 7, \"Trait2\": 0.115705103302996, \"kmedoids4\": 1, \"dbscan0\": 0}, {\"Trait1\": 8, \"Trait2\": -2.31201053007195, \"kmedoids4\": 1, \"dbscan0\": 0}, {\"Trait1\": 9, \"Trait2\": 1.67720932420343, \"kmedoids4\": 1, \"dbscan0\": 0}, {\"Trait1\": 10, \"Trait2\": 5.1340902193139, \"kmedoids4\": 1, \"dbscan0\": 0}, {\"Trait1\": 11, \"Trait2\": 15.9402525698145, \"kmedoids4\": 1, \"dbscan0\": 0}, {\"Trait1\": 12, \"Trait2\": 17.273340255022, \"kmedoids4\": 1, \"dbscan0\": 0}, {\"Trait1\": 13, \"Trait2\": 13.2201200860242, \"kmedoids4\": 1, \"dbscan0\": 0}, {\"Trait1\": 14, \"Trait2\": 17.1650123943885, \"kmedoids4\": 1, \"dbscan0\": 0}, {\"Trait1\": 15, \"Trait2\": 18.2726250123233, \"kmedoids4\": 1, \"dbscan0\": 0}, {\"Trait1\": 16, \"Trait2\": 15.053824822108, \"kmedoids4\": 1, \"dbscan0\": 0}, {\"Trait1\": 17, \"Trait2\": 14.8452621189257, \"kmedoids4\": 1, \"dbscan0\": 0}, {\"Trait1\": 18, \"Trait2\": 19.5094053288922, \"kmedoids4\": 1, \"dbscan0\": 0}, {\"Trait1\": 19, \"Trait2\": 15.9231370647127, \"kmedoids4\": 1, \"dbscan0\": 0}, {\"Trait1\": 20, \"Trait2\": 18.2779775171851, \"kmedoids4\": 1, \"dbscan0\": 0}, {\"Trait1\": 21, \"Trait2\": 21.6166452094913, \"kmedoids4\": 1, \"dbscan0\": 0}, {\"Trait1\": 22, \"Trait2\": 9.99302710282306, \"kmedoids4\": 1, \"dbscan0\": 0}, {\"Trait1\": 23, \"Trait2\": 20.7777829201271, \"kmedoids4\": 1, \"dbscan0\": 0}, {\"Trait1\": 24, \"Trait2\": 24.3394361147657, \"kmedoids4\": 1, \"dbscan0\": 0}, {\"Trait1\": 25, \"Trait2\": 18.4918723503749, \"kmedoids4\": 1, \"dbscan0\": 0}, {\"Trait1\": 26, \"Trait2\": 18.7389381735896, \"kmedoids4\": 1, \"dbscan0\": 0}, {\"Trait1\": 27, \"Trait2\": 26.0041985586286, \"kmedoids4\": 1, \"dbscan0\": 0}, {\"Trait1\": 28, \"Trait2\": 26.048445733885, \"kmedoids4\": 1, \"dbscan0\": 0}, {\"Trait1\": 29, \"Trait2\": 22.7093865883847, \"kmedoids4\": 1, \"dbscan0\": 0}, {\"Trait1\": 30, \"Trait2\": 15.8143085055053, \"kmedoids4\": 1, \"dbscan0\": 0}, {\"Trait1\": 31, \"Trait2\": 22.2634629231567, \"kmedoids4\": 1, \"dbscan0\": 0}, {\"Trait1\": 32, \"Trait2\": 24.0533169874301, \"kmedoids4\": 1, \"dbscan0\": 0}, {\"Trait1\": 33, \"Trait2\": 27.5675147473812, \"kmedoids4\": 1, \"dbscan0\": 0}, {\"Trait1\": 34, \"Trait2\": 28.8355640002216, \"kmedoids4\": 1, \"dbscan0\": 0}, {\"Trait1\": 35, \"Trait2\": 23.4645158735414, \"kmedoids4\": 1, \"dbscan0\": 0}, {\"Trait1\": 36, \"Trait2\": 26.8543482441455, \"kmedoids4\": 1, \"dbscan0\": 0}, {\"Trait1\": 37, \"Trait2\": 24.9239424324284, \"kmedoids4\": 1, \"dbscan0\": 0}, {\"Trait1\": 38, \"Trait2\": 23.4388158343111, \"kmedoids4\": 1, \"dbscan0\": 0}, {\"Trait1\": 39, \"Trait2\": 30.6586068440229, \"kmedoids4\": 1, \"dbscan0\": 0}, {\"Trait1\": 40, \"Trait2\": 21.8046543995539, \"kmedoids4\": 1, \"dbscan0\": 0}, {\"Trait1\": 41, \"Trait2\": 21.2400523520385, \"kmedoids4\": 1, \"dbscan0\": 0}, {\"Trait1\": 42, \"Trait2\": 19.7653447343037, \"kmedoids4\": 1, \"dbscan0\": 0}, {\"Trait1\": 43, \"Trait2\": 21.54928474656, \"kmedoids4\": 1, \"dbscan0\": 0}, {\"Trait1\": 44, \"Trait2\": 22.5395439028119, \"kmedoids4\": 1, \"dbscan0\": 0}, {\"Trait1\": 45, \"Trait2\": 27.8206092724577, \"kmedoids4\": 1, \"dbscan0\": 0}, {\"Trait1\": 46, \"Trait2\": 20.8893878177429, \"kmedoids4\": 1, \"dbscan0\": 0}, {\"Trait1\": 47, \"Trait2\": 36.2800074651216, \"kmedoids4\": 1, \"dbscan0\": 0}, {\"Trait1\": 48, \"Trait2\": 28.1488946899772, \"kmedoids4\": 1, \"dbscan0\": 0}, {\"Trait1\": 49, \"Trait2\": 42.2340281127642, \"kmedoids4\": 1, \"dbscan0\": 0}, {\"Trait1\": 50, \"Trait2\": 35.795227632237, \"kmedoids4\": 1, \"dbscan0\": 0}, {\"Trait1\": 1, \"Trait2\": 93.2353996740033, \"kmedoids4\": 0, \"dbscan0\": 1}, {\"Trait1\": 2, \"Trait2\": 107.28824683434, \"kmedoids4\": 1, \"dbscan0\": 0}, {\"Trait1\": 3, \"Trait2\": 95.3527184687555, \"kmedoids4\": 2, \"dbscan0\": 0}, {\"Trait1\": 4, \"Trait2\": 92.8368879475941, \"kmedoids4\": 2, \"dbscan0\": 0}, {\"Trait1\": 5, \"Trait2\": 103.501057747441, \"kmedoids4\": 2, \"dbscan0\": 0}, {\"Trait1\": 6, \"Trait2\": 90.5649841241539, \"kmedoids4\": 2, \"dbscan0\": 0}, {\"Trait1\": 7, \"Trait2\": 90.7823717699697, \"kmedoids4\": 2, \"dbscan0\": 0}, {\"Trait1\": 8, \"Trait2\": 87.0213228032614, \"kmedoids4\": 2, \"dbscan0\": 0}, {\"Trait1\": 9, \"Trait2\": 89.6772093242034, \"kmedoids4\": 2, \"dbscan0\": 0}, {\"Trait1\": 10, \"Trait2\": 91.8007568859806, \"kmedoids4\": 2, \"dbscan0\": 0}, {\"Trait1\": 11, \"Trait2\": 101.273585903148, \"kmedoids4\": 2, \"dbscan0\": 0}, {\"Trait1\": 12, \"Trait2\": 101.273340255022, \"kmedoids4\": 2, \"dbscan0\": 0}, {\"Trait1\": 13, \"Trait2\": 95.8867867526909, \"kmedoids4\": 2, \"dbscan0\": 0}, {\"Trait1\": 14, \"Trait2\": 98.4983457277219, \"kmedoids4\": 2, \"dbscan0\": 0}, {\"Trait1\": 15, \"Trait2\": 98.2726250123233, \"kmedoids4\": 2, \"dbscan0\": 0}, {\"Trait1\": 16, \"Trait2\": 93.7204914887746, \"kmedoids4\": 2, \"dbscan0\": 0}, {\"Trait1\": 17, \"Trait2\": 92.178595452259, \"kmedoids4\": 2, \"dbscan0\": 0}, {\"Trait1\": 18, \"Trait2\": 95.5094053288922, \"kmedoids4\": 2, \"dbscan0\": 0}, {\"Trait1\": 19, \"Trait2\": 90.5898037313794, \"kmedoids4\": 2, \"dbscan0\": 0}, {\"Trait1\": 20, \"Trait2\": 91.6113108505184, \"kmedoids4\": 2, \"dbscan0\": 0}, {\"Trait1\": 21, \"Trait2\": 93.6166452094913, \"kmedoids4\": 2, \"dbscan0\": 0}, {\"Trait1\": 22, \"Trait2\": 80.6596937694897, \"kmedoids4\": 2, \"dbscan0\": 0}, {\"Trait1\": 23, \"Trait2\": 90.1111162534605, \"kmedoids4\": 2, \"dbscan0\": 0}, {\"Trait1\": 24, \"Trait2\": 92.3394361147657, \"kmedoids4\": 2, \"dbscan0\": 0}, {\"Trait1\": 25, \"Trait2\": 85.1585390170415, \"kmedoids4\": 2, \"dbscan0\": 0}, {\"Trait1\": 26, \"Trait2\": 84.0722715069229, \"kmedoids4\": 2, \"dbscan0\": 0}, {\"Trait1\": 27, \"Trait2\": 90.0041985586286, \"kmedoids4\": 2, \"dbscan0\": 0}, {\"Trait1\": 28, \"Trait2\": 88.7151124005516, \"kmedoids4\": 2, \"dbscan0\": 0}, {\"Trait1\": 29, \"Trait2\": 84.042719921718, \"kmedoids4\": 2, \"dbscan0\": 0}, {\"Trait1\": 30, \"Trait2\": 75.8143085055053, \"kmedoids4\": 2, \"dbscan0\": 0}, {\"Trait1\": 31, \"Trait2\": 80.9301295898234, \"kmedoids4\": 2, \"dbscan0\": 0}, {\"Trait1\": 32, \"Trait2\": 81.3866503207634, \"kmedoids4\": 2, \"dbscan0\": 0}, {\"Trait1\": 33, \"Trait2\": 83.5675147473812, \"kmedoids4\": 2, \"dbscan0\": 0}, {\"Trait1\": 34, \"Trait2\": 83.5022306668883, \"kmedoids4\": 2, \"dbscan0\": 0}, {\"Trait1\": 35, \"Trait2\": 76.7978492068748, \"kmedoids4\": 2, \"dbscan0\": 0}, {\"Trait1\": 36, \"Trait2\": 78.8543482441455, \"kmedoids4\": 2, \"dbscan0\": 0}, {\"Trait1\": 37, \"Trait2\": 75.5906090990951, \"kmedoids4\": 2, \"dbscan0\": 0}, {\"Trait1\": 38, \"Trait2\": 72.7721491676445, \"kmedoids4\": 2, \"dbscan0\": 0}, {\"Trait1\": 39, \"Trait2\": 78.6586068440229, \"kmedoids4\": 2, \"dbscan0\": 0}, {\"Trait1\": 40, \"Trait2\": 68.4713210662206, \"kmedoids4\": 2, \"dbscan0\": 0}, {\"Trait1\": 41, \"Trait2\": 66.5733856853719, \"kmedoids4\": 2, \"dbscan0\": 0}, {\"Trait1\": 42, \"Trait2\": 63.7653447343037, \"kmedoids4\": 2, \"dbscan0\": 0}, {\"Trait1\": 43, \"Trait2\": 64.2159514132266, \"kmedoids4\": 2, \"dbscan0\": 0}, {\"Trait1\": 44, \"Trait2\": 63.8728772361452, \"kmedoids4\": 2, \"dbscan0\": 0}, {\"Trait1\": 45, \"Trait2\": 67.8206092724577, \"kmedoids4\": 2, \"dbscan0\": 0}, {\"Trait1\": 46, \"Trait2\": 59.5560544844096, \"kmedoids4\": 2, \"dbscan0\": 0}, {\"Trait1\": 47, \"Trait2\": 73.613340798455, \"kmedoids4\": 2, \"dbscan0\": 0}, {\"Trait1\": 48, \"Trait2\": 64.1488946899772, \"kmedoids4\": 2, \"dbscan0\": 0}, {\"Trait1\": 49, \"Trait2\": 76.9006947794308, \"kmedoids4\": 2, \"dbscan0\": 0}, {\"Trait1\": 50, \"Trait2\": 69.1285609655703, \"kmedoids4\": 2, \"dbscan0\": 0}, {\"Trait1\": 1, \"Trait2\": 29.2353996740033, \"kmedoids4\": 3, \"dbscan0\": 2}, {\"Trait1\": 2, \"Trait2\": 45.9549135010069, \"kmedoids4\": 2, \"dbscan0\": 0}, {\"Trait1\": 3, \"Trait2\": 36.6860518020888, \"kmedoids4\": 0, \"dbscan0\": -1}, {\"Trait1\": 4, \"Trait2\": 36.8368879475941, \"kmedoids4\": 0, \"dbscan0\": 1}, {\"Trait1\": 5, \"Trait2\": 50.1677244141077, \"kmedoids4\": 0, \"dbscan0\": 1}, {\"Trait1\": 6, \"Trait2\": 39.8983174574872, \"kmedoids4\": 0, \"dbscan0\": 1}, {\"Trait1\": 7, \"Trait2\": 42.7823717699697, \"kmedoids4\": 0, \"dbscan0\": 1}, {\"Trait1\": 8, \"Trait2\": 41.687989469928, \"kmedoids4\": 0, \"dbscan0\": 1}, {\"Trait1\": 9, \"Trait2\": 47.0105426575368, \"kmedoids4\": 0, \"dbscan0\": 1}, {\"Trait1\": 10, \"Trait2\": 51.8007568859806, \"kmedoids4\": 0, \"dbscan0\": 1}, {\"Trait1\": 11, \"Trait2\": 63.9402525698145, \"kmedoids4\": 0, \"dbscan0\": 1}, {\"Trait1\": 12, \"Trait2\": 66.6066735883554, \"kmedoids4\": 0, \"dbscan0\": 1}, {\"Trait1\": 13, \"Trait2\": 63.8867867526909, \"kmedoids4\": 0, \"dbscan0\": 1}, {\"Trait1\": 14, \"Trait2\": 69.1650123943885, \"kmedoids4\": 0, \"dbscan0\": 1}, {\"Trait1\": 15, \"Trait2\": 71.6059583456566, \"kmedoids4\": 0, \"dbscan0\": 1}, {\"Trait1\": 16, \"Trait2\": 69.7204914887746, \"kmedoids4\": 0, \"dbscan0\": 1}, {\"Trait1\": 17, \"Trait2\": 70.8452621189256, \"kmedoids4\": 0, \"dbscan0\": 1}, {\"Trait1\": 18, \"Trait2\": 76.8427386622255, \"kmedoids4\": 0, \"dbscan0\": 1}, {\"Trait1\": 19, \"Trait2\": 74.5898037313794, \"kmedoids4\": 0, \"dbscan0\": 1}, {\"Trait1\": 20, \"Trait2\": 78.2779775171851, \"kmedoids4\": 0, \"dbscan0\": 1}, {\"Trait1\": 21, \"Trait2\": 82.9499785428246, \"kmedoids4\": 0, \"dbscan0\": 1}, {\"Trait1\": 22, \"Trait2\": 72.6596937694897, \"kmedoids4\": 0, \"dbscan0\": 1}, {\"Trait1\": 23, \"Trait2\": 84.7777829201271, \"kmedoids4\": 0, \"dbscan0\": 1}, {\"Trait1\": 24, \"Trait2\": 89.672769448099, \"kmedoids4\": 0, \"dbscan0\": 1}, {\"Trait1\": 25, \"Trait2\": 85.1585390170415, \"kmedoids4\": 0, \"dbscan0\": 1}, {\"Trait1\": 26, \"Trait2\": 86.7389381735896, \"kmedoids4\": 0, \"dbscan0\": 1}, {\"Trait1\": 27, \"Trait2\": 95.3375318919619, \"kmedoids4\": 0, \"dbscan0\": 1}, {\"Trait1\": 28, \"Trait2\": 96.7151124005516, \"kmedoids4\": 0, \"dbscan0\": 1}, {\"Trait1\": 29, \"Trait2\": 94.7093865883847, \"kmedoids4\": 0, \"dbscan0\": 1}, {\"Trait1\": 30, \"Trait2\": 89.1476418388387, \"kmedoids4\": 0, \"dbscan0\": 1}, {\"Trait1\": 31, \"Trait2\": 96.9301295898234, \"kmedoids4\": 0, \"dbscan0\": 1}, {\"Trait1\": 32, \"Trait2\": 100.05331698743, \"kmedoids4\": 0, \"dbscan0\": 1}, {\"Trait1\": 33, \"Trait2\": 104.900848080715, \"kmedoids4\": 0, \"dbscan0\": 1}, {\"Trait1\": 34, \"Trait2\": 107.502230666888, \"kmedoids4\": 0, \"dbscan0\": 1}, {\"Trait1\": 35, \"Trait2\": 103.464515873541, \"kmedoids4\": 0, \"dbscan0\": 1}, {\"Trait1\": 36, \"Trait2\": 108.187681577479, \"kmedoids4\": 0, \"dbscan0\": 1}, {\"Trait1\": 37, \"Trait2\": 107.590609099095, \"kmedoids4\": 0, \"dbscan0\": 1}, {\"Trait1\": 38, \"Trait2\": 107.438815834311, \"kmedoids4\": 0, \"dbscan0\": 1}, {\"Trait1\": 39, \"Trait2\": 115.991940177356, \"kmedoids4\": 0, \"dbscan0\": 1}, {\"Trait1\": 40, \"Trait2\": 108.471321066221, \"kmedoids4\": 0, \"dbscan0\": 1}, {\"Trait1\": 41, \"Trait2\": 109.240052352039, \"kmedoids4\": 0, \"dbscan0\": 1}, {\"Trait1\": 42, \"Trait2\": 109.098678067637, \"kmedoids4\": 0, \"dbscan0\": 1}, {\"Trait1\": 43, \"Trait2\": 112.215951413227, \"kmedoids4\": 0, \"dbscan0\": 1}, {\"Trait1\": 44, \"Trait2\": 114.539543902812, \"kmedoids4\": 0, \"dbscan0\": 1}, {\"Trait1\": 45, \"Trait2\": 121.153942605791, \"kmedoids4\": 0, \"dbscan0\": 1}, {\"Trait1\": 46, \"Trait2\": 115.55605448441, \"kmedoids4\": 0, \"dbscan0\": 1}, {\"Trait1\": 47, \"Trait2\": 132.280007465122, \"kmedoids4\": 0, \"dbscan0\": 1}, {\"Trait1\": 48, \"Trait2\": 125.48222802331, \"kmedoids4\": 0, \"dbscan0\": 1}, {\"Trait1\": 49, \"Trait2\": 140.900694779431, \"kmedoids4\": 0, \"dbscan0\": 1}, {\"Trait1\": 50, \"Trait2\": 135.795227632237, \"kmedoids4\": 0, \"dbscan0\": 1}, {\"Trait1\": 1, \"Trait2\": 58.5687330073366, \"kmedoids4\": 3, \"dbscan0\": -1}, {\"Trait1\": 2, \"Trait2\": 71.2882468343402, \"kmedoids4\": 0, \"dbscan0\": 1}, {\"Trait1\": 3, \"Trait2\": 58.0193851354221, \"kmedoids4\": 3, \"dbscan0\": -1}, {\"Trait1\": 4, \"Trait2\": 54.1702212809274, \"kmedoids4\": 3, \"dbscan0\": 3}, {\"Trait1\": 5, \"Trait2\": 63.501057747441, \"kmedoids4\": 3, \"dbscan0\": 3}, {\"Trait1\": 6, \"Trait2\": 49.2316507908205, \"kmedoids4\": 3, \"dbscan0\": 2}, {\"Trait1\": 7, \"Trait2\": 48.115705103303, \"kmedoids4\": 3, \"dbscan0\": 2}, {\"Trait1\": 8, \"Trait2\": 43.0213228032614, \"kmedoids4\": 3, \"dbscan0\": 2}, {\"Trait1\": 9, \"Trait2\": 44.3438759908701, \"kmedoids4\": 3, \"dbscan0\": 2}, {\"Trait1\": 10, \"Trait2\": 45.1340902193139, \"kmedoids4\": 3, \"dbscan0\": 2}, {\"Trait1\": 11, \"Trait2\": 53.2735859031478, \"kmedoids4\": 3, \"dbscan0\": 2}, {\"Trait1\": 12, \"Trait2\": 51.9400069216887, \"kmedoids4\": 3, \"dbscan0\": 2}, {\"Trait1\": 13, \"Trait2\": 45.2201200860242, \"kmedoids4\": 3, \"dbscan0\": 2}, {\"Trait1\": 14, \"Trait2\": 46.4983457277218, \"kmedoids4\": 3, \"dbscan0\": 2}, {\"Trait1\": 15, \"Trait2\": 44.9392916789899, \"kmedoids4\": 3, \"dbscan0\": 2}, {\"Trait1\": 16, \"Trait2\": 39.0538248221079, \"kmedoids4\": 3, \"dbscan0\": 2}, {\"Trait1\": 17, \"Trait2\": 36.178595452259, \"kmedoids4\": 3, \"dbscan0\": 2}, {\"Trait1\": 18, \"Trait2\": 38.1760719955588, \"kmedoids4\": 3, \"dbscan0\": 2}, {\"Trait1\": 19, \"Trait2\": 31.9231370647127, \"kmedoids4\": 3, \"dbscan0\": 2}, {\"Trait1\": 20, \"Trait2\": 31.6113108505184, \"kmedoids4\": 3, \"dbscan0\": 2}, {\"Trait1\": 21, \"Trait2\": 32.2833118761579, \"kmedoids4\": 3, \"dbscan0\": 2}, {\"Trait1\": 22, \"Trait2\": 17.993027102823, \"kmedoids4\": 3, \"dbscan0\": 2}, {\"Trait1\": 23, \"Trait2\": 26.1111162534604, \"kmedoids4\": 3, \"dbscan0\": 2}, {\"Trait1\": 24, \"Trait2\": 27.0061027814324, \"kmedoids4\": 3, \"dbscan0\": 2}, {\"Trait1\": 25, \"Trait2\": 18.4918723503748, \"kmedoids4\": 3, \"dbscan0\": 2}, {\"Trait1\": 26, \"Trait2\": 16.0722715069229, \"kmedoids4\": 3, \"dbscan0\": 2}, {\"Trait1\": 27, \"Trait2\": 20.6708652252952, \"kmedoids4\": 3, \"dbscan0\": 2}, {\"Trait1\": 28, \"Trait2\": 18.048445733885, \"kmedoids4\": 3, \"dbscan0\": 2}, {\"Trait1\": 29, \"Trait2\": 12.042719921718, \"kmedoids4\": 3, \"dbscan0\": 2}, {\"Trait1\": 30, \"Trait2\": 2.48097517217198, \"kmedoids4\": 3, \"dbscan0\": 2}, {\"Trait1\": 31, \"Trait2\": 6.26346292315671, \"kmedoids4\": 3, \"dbscan0\": 2}, {\"Trait1\": 32, \"Trait2\": 5.38665032076338, \"kmedoids4\": 3, \"dbscan0\": 2}, {\"Trait1\": 33, \"Trait2\": 6.23418141404787, \"kmedoids4\": 3, \"dbscan0\": 2}, {\"Trait1\": 34, \"Trait2\": 4.83556400022158, \"kmedoids4\": 3, \"dbscan0\": 2}, {\"Trait1\": 35, \"Trait2\": -3.20215079312524, \"kmedoids4\": 3, \"dbscan0\": 2}, {\"Trait1\": 36, \"Trait2\": -2.47898508918783, \"kmedoids4\": 3, \"dbscan0\": 2}, {\"Trait1\": 37, \"Trait2\": -7.07605756757161, \"kmedoids4\": 3, \"dbscan0\": 2}, {\"Trait1\": 38, \"Trait2\": -11.2278508323555, \"kmedoids4\": 3, \"dbscan0\": 2}, {\"Trait1\": 39, \"Trait2\": -6.67472648931047, \"kmedoids4\": 3, \"dbscan0\": 2}, {\"Trait1\": 40, \"Trait2\": -18.1953456004461, \"kmedoids4\": 3, \"dbscan0\": 2}, {\"Trait1\": 41, \"Trait2\": -21.4266143146282, \"kmedoids4\": 3, \"dbscan0\": 2}, {\"Trait1\": 42, \"Trait2\": -25.5679885990297, \"kmedoids4\": 3, \"dbscan0\": 2}, {\"Trait1\": 43, \"Trait2\": -26.4507152534401, \"kmedoids4\": 3, \"dbscan0\": 2}, {\"Trait1\": 44, \"Trait2\": -28.1271227638548, \"kmedoids4\": 3, \"dbscan0\": 2}, {\"Trait1\": 45, \"Trait2\": -25.5127240608757, \"kmedoids4\": 3, \"dbscan0\": 2}, {\"Trait1\": 46, \"Trait2\": -35.1106121822571, \"kmedoids4\": 3, \"dbscan0\": 2}, {\"Trait1\": 47, \"Trait2\": -22.386659201545, \"kmedoids4\": 3, \"dbscan0\": 2}, {\"Trait1\": 48, \"Trait2\": -33.1844386433562, \"kmedoids4\": 3, \"dbscan0\": 2}, {\"Trait1\": 49, \"Trait2\": -21.7659718872358, \"kmedoids4\": 3, \"dbscan0\": 2}, {\"Trait1\": 50, \"Trait2\": -30.8714390344297, \"kmedoids4\": 3, \"dbscan0\": 2}]}}, {\"mode\": \"vega-lite\"});\n",
       "</script>"
      ],
      "text/plain": [
       "alt.HConcatChart(...)"
      ]
     },
     "execution_count": 21,
     "metadata": {},
     "output_type": "execute_result"
    }
   ],
   "source": [
    "(dbscan_new | kmedoi_new)"
   ]
  },
  {
   "cell_type": "markdown",
   "id": "4ff6ad7d",
   "metadata": {},
   "source": [
    "# Compare to using a different metric. - Mahalanobis distance"
   ]
  },
  {
   "cell_type": "markdown",
   "id": "7684437c",
   "metadata": {},
   "source": [
    "Details on the Mahalanobis distance can be found here: https://www.statisticshowto.com/mahalanobis-distance/. The metric compares points in a multivariate space."
   ]
  },
  {
   "cell_type": "markdown",
   "id": "e1e94ea1",
   "metadata": {},
   "source": [
    "If the dataset has the covariance matrix $C$ then the distance between the points $x_A$ and $x_B$ using the mahalanobis distance is $$ d (x_B, x_A) = \\sqrt{(x_B – x_A)^T * C^{-1} * (x_B – x_A)}$$"
   ]
  },
  {
   "cell_type": "markdown",
   "id": "84798900",
   "metadata": {},
   "source": [
    "## Compute Mahalanobis distance"
   ]
  },
  {
   "cell_type": "code",
   "execution_count": 22,
   "id": "f52a795e",
   "metadata": {},
   "outputs": [],
   "source": [
    "def mahalanobis_matrix(x=None):\n",
    "    # Compute the inverse covariance matrix\n",
    "    cov_mat = np.linalg.inv(np.cov(x, rowvar=False))\n",
    "    # Create empty square array with dimension given by the number of rows in x\n",
    "    nr = len(x.index)\n",
    "    maha_arr = np.zeros((nr,nr))\n",
    "    # For each pair of rows compute the mahalonbis distance\n",
    "    for i, j in product(x.index, x.index):\n",
    "        u = x.loc[i]\n",
    "        v = x.loc[j]\n",
    "        maha = mahalanobis(u,v, cov_mat)\n",
    "        maha_arr[i-1,j-1] = maha\n",
    "    return maha_arr"
   ]
  },
  {
   "cell_type": "code",
   "execution_count": 23,
   "id": "8116f64a",
   "metadata": {},
   "outputs": [
    {
     "name": "stdout",
     "output_type": "stream",
     "text": [
      "pairwise dense output:\n",
      " [[0.         0.38806569 0.18379352 ... 3.30737716 3.33486682 3.43297146]\n",
      " [0.38806569 0.         0.26975322 ... 3.33371912 3.327163   3.4489545 ]\n",
      " [0.18379352 0.26975322 0.         ... 3.19756856 3.21235022 3.31937251]\n",
      " ...\n",
      " [3.30737716 3.33371912 3.19756856 ... 0.         0.29204939 0.15070936]\n",
      " [3.33486682 3.327163   3.21235022 ... 0.29204939 0.         0.23417183]\n",
      " [3.43297146 3.4489545  3.31937251 ... 0.15070936 0.23417183 0.        ]]\n",
      "\n"
     ]
    }
   ],
   "source": [
    "sim_maha = mahalanobis_matrix(beta_crop_new)\n",
    "print('pairwise dense output:\\n {}\\n'.format(sim_maha))\n",
    "results_new_maha = beta_crop_new.copy()"
   ]
  },
  {
   "cell_type": "markdown",
   "id": "81a5c220",
   "metadata": {},
   "source": [
    "## Cluster with K-medoids"
   ]
  },
  {
   "cell_type": "code",
   "execution_count": 24,
   "id": "69a1d4ea",
   "metadata": {},
   "outputs": [],
   "source": [
    "nclust = npaths\n",
    "kmedoids = KMedoids(n_clusters=nclust, metric = \"precomputed\", random_state = 0).fit(sim_maha)\n",
    "kmed_lab = 'kmedoids%d'%nclust\n",
    "results_new_maha[kmed_lab] = kmedoids.labels_"
   ]
  },
  {
   "cell_type": "markdown",
   "id": "dc51ce2f",
   "metadata": {},
   "source": [
    "## Cluster with DBSCAN"
   ]
  },
  {
   "cell_type": "code",
   "execution_count": 25,
   "id": "3c71bc59",
   "metadata": {},
   "outputs": [],
   "source": [
    "# DBSCAN\n",
    "eps = 0.001\n",
    "dbscan = DBSCAN(eps = eps, min_samples = 2, metric = \"precomputed\").fit(sim_maha)\n",
    "dblab = 'dbscan%d'%eps\n",
    "db_labs = dbscan.labels_\n",
    "results_new_maha[dblab] = db_labs"
   ]
  },
  {
   "cell_type": "markdown",
   "id": "227cc412",
   "metadata": {},
   "source": [
    "## Plot the clusters with the new distance metric"
   ]
  },
  {
   "cell_type": "code",
   "execution_count": 26,
   "id": "973e5c9e",
   "metadata": {},
   "outputs": [
    {
     "name": "stdout",
     "output_type": "stream",
     "text": [
      "['#1f77b4', '#ff7f0e', '#2ca02c', '#808080', '#9467bd']\n",
      "['#1f77b4', '#ff7f0e', '#2ca02c', '#808080', '#9467bd']\n"
     ]
    }
   ],
   "source": [
    "tooltip1 =[dblab, kmed_lab]\n",
    "# Create a palette to ensure the junk and noise clusters are grey.\n",
    "clust_groups = pd.unique(results[tooltip1].values.ravel('K'))\n",
    "ncolours = len(clust_groups)\n",
    "palette = sns.color_palette(None, ncolours).as_hex()\n",
    "junk_ind = np.where(clust_groups == -1)\n",
    "palette[junk_ind[0][0]] = '#808080'\n",
    "dbscan_maha = chartclusters(results_new_maha,\"DBSCAN maha\", dblab+\":N\", tooltip1, palette = palette, clustgroups= clust_groups)\n",
    "kmedoi_maha = chartclusters(results_new_maha,\"K-Medoids maha\",kmed_lab+\":N\",tooltip1, palette = palette, clustgroups= clust_groups)"
   ]
  },
  {
   "cell_type": "code",
   "execution_count": 27,
   "id": "fa1ff9f1",
   "metadata": {},
   "outputs": [
    {
     "data": {
      "text/html": [
       "\n",
       "<style>\n",
       "  #altair-viz-23eb29a02f31439aa18f1a1c04a467c3.vega-embed {\n",
       "    width: 100%;\n",
       "    display: flex;\n",
       "  }\n",
       "\n",
       "  #altair-viz-23eb29a02f31439aa18f1a1c04a467c3.vega-embed details,\n",
       "  #altair-viz-23eb29a02f31439aa18f1a1c04a467c3.vega-embed details summary {\n",
       "    position: relative;\n",
       "  }\n",
       "</style>\n",
       "<div id=\"altair-viz-23eb29a02f31439aa18f1a1c04a467c3\"></div>\n",
       "<script type=\"text/javascript\">\n",
       "  var VEGA_DEBUG = (typeof VEGA_DEBUG == \"undefined\") ? {} : VEGA_DEBUG;\n",
       "  (function(spec, embedOpt){\n",
       "    let outputDiv = document.currentScript.previousElementSibling;\n",
       "    if (outputDiv.id !== \"altair-viz-23eb29a02f31439aa18f1a1c04a467c3\") {\n",
       "      outputDiv = document.getElementById(\"altair-viz-23eb29a02f31439aa18f1a1c04a467c3\");\n",
       "    }\n",
       "    const paths = {\n",
       "      \"vega\": \"https://cdn.jsdelivr.net/npm/vega@5?noext\",\n",
       "      \"vega-lib\": \"https://cdn.jsdelivr.net/npm/vega-lib?noext\",\n",
       "      \"vega-lite\": \"https://cdn.jsdelivr.net/npm/vega-lite@5.16.3?noext\",\n",
       "      \"vega-embed\": \"https://cdn.jsdelivr.net/npm/vega-embed@6?noext\",\n",
       "    };\n",
       "\n",
       "    function maybeLoadScript(lib, version) {\n",
       "      var key = `${lib.replace(\"-\", \"\")}_version`;\n",
       "      return (VEGA_DEBUG[key] == version) ?\n",
       "        Promise.resolve(paths[lib]) :\n",
       "        new Promise(function(resolve, reject) {\n",
       "          var s = document.createElement('script');\n",
       "          document.getElementsByTagName(\"head\")[0].appendChild(s);\n",
       "          s.async = true;\n",
       "          s.onload = () => {\n",
       "            VEGA_DEBUG[key] = version;\n",
       "            return resolve(paths[lib]);\n",
       "          };\n",
       "          s.onerror = () => reject(`Error loading script: ${paths[lib]}`);\n",
       "          s.src = paths[lib];\n",
       "        });\n",
       "    }\n",
       "\n",
       "    function showError(err) {\n",
       "      outputDiv.innerHTML = `<div class=\"error\" style=\"color:red;\">${err}</div>`;\n",
       "      throw err;\n",
       "    }\n",
       "\n",
       "    function displayChart(vegaEmbed) {\n",
       "      vegaEmbed(outputDiv, spec, embedOpt)\n",
       "        .catch(err => showError(`Javascript Error: ${err.message}<br>This usually means there's a typo in your chart specification. See the javascript console for the full traceback.`));\n",
       "    }\n",
       "\n",
       "    if(typeof define === \"function\" && define.amd) {\n",
       "      requirejs.config({paths});\n",
       "      require([\"vega-embed\"], displayChart, err => showError(`Error loading script: ${err.message}`));\n",
       "    } else {\n",
       "      maybeLoadScript(\"vega\", \"5\")\n",
       "        .then(() => maybeLoadScript(\"vega-lite\", \"5.16.3\"))\n",
       "        .then(() => maybeLoadScript(\"vega-embed\", \"6\"))\n",
       "        .catch(showError)\n",
       "        .then(() => displayChart(vegaEmbed));\n",
       "    }\n",
       "  })({\"config\": {\"view\": {\"continuousWidth\": 300, \"continuousHeight\": 300}}, \"hconcat\": [{\"mark\": {\"type\": \"circle\", \"size\": 60}, \"encoding\": {\"color\": {\"field\": \"dbscan0\", \"scale\": {\"domain\": [0.0, 1.0, 2.0, -1.0, 3.0], \"range\": [\"#1f77b4\", \"#ff7f0e\", \"#2ca02c\", \"#808080\", \"#9467bd\"]}, \"type\": \"nominal\"}, \"tooltip\": [{\"field\": \"dbscan0\", \"type\": \"quantitative\"}, {\"field\": \"kmedoids4\", \"type\": \"quantitative\"}], \"x\": {\"field\": \"Trait1\", \"type\": \"quantitative\"}, \"y\": {\"field\": \"Trait2\", \"type\": \"quantitative\"}}, \"name\": \"view_9\", \"title\": \"DBSCAN maha\"}, {\"mark\": {\"type\": \"circle\", \"size\": 60}, \"encoding\": {\"color\": {\"field\": \"kmedoids4\", \"scale\": {\"domain\": [0.0, 1.0, 2.0, -1.0, 3.0], \"range\": [\"#1f77b4\", \"#ff7f0e\", \"#2ca02c\", \"#808080\", \"#9467bd\"]}, \"type\": \"nominal\"}, \"tooltip\": [{\"field\": \"dbscan0\", \"type\": \"quantitative\"}, {\"field\": \"kmedoids4\", \"type\": \"quantitative\"}], \"x\": {\"field\": \"Trait1\", \"type\": \"quantitative\"}, \"y\": {\"field\": \"Trait2\", \"type\": \"quantitative\"}}, \"name\": \"view_10\", \"title\": \"K-Medoids maha\"}], \"data\": {\"name\": \"data-9f79b323aadd3a33da20b858e01ae0fe\"}, \"params\": [{\"name\": \"param_9\", \"select\": {\"type\": \"interval\", \"encodings\": [\"x\", \"y\"]}, \"bind\": \"scales\", \"views\": [\"view_9\"]}, {\"name\": \"param_10\", \"select\": {\"type\": \"interval\", \"encodings\": [\"x\", \"y\"]}, \"bind\": \"scales\", \"views\": [\"view_10\"]}], \"$schema\": \"https://vega.github.io/schema/vega-lite/v5.16.3.json\", \"datasets\": {\"data-9f79b323aadd3a33da20b858e01ae0fe\": [{\"Trait1\": 1, \"Trait2\": -5.43126699266334, \"kmedoids4\": 3, \"dbscan0\": -1}, {\"Trait1\": 2, \"Trait2\": 9.95491350100686, \"kmedoids4\": 3, \"dbscan0\": -1}, {\"Trait1\": 3, \"Trait2\": -0.647281531244516, \"kmedoids4\": 3, \"dbscan0\": -1}, {\"Trait1\": 4, \"Trait2\": -1.82977871907254, \"kmedoids4\": 3, \"dbscan0\": -1}, {\"Trait1\": 5, \"Trait2\": 10.1677244141077, \"kmedoids4\": 3, \"dbscan0\": -1}, {\"Trait1\": 6, \"Trait2\": -1.43501587584615, \"kmedoids4\": 3, \"dbscan0\": -1}, {\"Trait1\": 7, \"Trait2\": 0.115705103302996, \"kmedoids4\": 3, \"dbscan0\": -1}, {\"Trait1\": 8, \"Trait2\": -2.31201053007195, \"kmedoids4\": 3, \"dbscan0\": -1}, {\"Trait1\": 9, \"Trait2\": 1.67720932420343, \"kmedoids4\": 3, \"dbscan0\": -1}, {\"Trait1\": 10, \"Trait2\": 5.1340902193139, \"kmedoids4\": 3, \"dbscan0\": -1}, {\"Trait1\": 11, \"Trait2\": 15.9402525698145, \"kmedoids4\": 3, \"dbscan0\": -1}, {\"Trait1\": 12, \"Trait2\": 17.273340255022, \"kmedoids4\": 3, \"dbscan0\": -1}, {\"Trait1\": 13, \"Trait2\": 13.2201200860242, \"kmedoids4\": 3, \"dbscan0\": -1}, {\"Trait1\": 14, \"Trait2\": 17.1650123943885, \"kmedoids4\": 3, \"dbscan0\": -1}, {\"Trait1\": 15, \"Trait2\": 18.2726250123233, \"kmedoids4\": 3, \"dbscan0\": -1}, {\"Trait1\": 16, \"Trait2\": 15.053824822108, \"kmedoids4\": 3, \"dbscan0\": -1}, {\"Trait1\": 17, \"Trait2\": 14.8452621189257, \"kmedoids4\": 3, \"dbscan0\": -1}, {\"Trait1\": 18, \"Trait2\": 19.5094053288922, \"kmedoids4\": 3, \"dbscan0\": -1}, {\"Trait1\": 19, \"Trait2\": 15.9231370647127, \"kmedoids4\": 3, \"dbscan0\": -1}, {\"Trait1\": 20, \"Trait2\": 18.2779775171851, \"kmedoids4\": 3, \"dbscan0\": -1}, {\"Trait1\": 21, \"Trait2\": 21.6166452094913, \"kmedoids4\": 3, \"dbscan0\": -1}, {\"Trait1\": 22, \"Trait2\": 9.99302710282306, \"kmedoids4\": 3, \"dbscan0\": -1}, {\"Trait1\": 23, \"Trait2\": 20.7777829201271, \"kmedoids4\": 3, \"dbscan0\": -1}, {\"Trait1\": 24, \"Trait2\": 24.3394361147657, \"kmedoids4\": 3, \"dbscan0\": -1}, {\"Trait1\": 25, \"Trait2\": 18.4918723503749, \"kmedoids4\": 3, \"dbscan0\": 0}, {\"Trait1\": 26, \"Trait2\": 18.7389381735896, \"kmedoids4\": 0, \"dbscan0\": -1}, {\"Trait1\": 27, \"Trait2\": 26.0041985586286, \"kmedoids4\": 0, \"dbscan0\": -1}, {\"Trait1\": 28, \"Trait2\": 26.048445733885, \"kmedoids4\": 0, \"dbscan0\": -1}, {\"Trait1\": 29, \"Trait2\": 22.7093865883847, \"kmedoids4\": 0, \"dbscan0\": -1}, {\"Trait1\": 30, \"Trait2\": 15.8143085055053, \"kmedoids4\": 0, \"dbscan0\": -1}, {\"Trait1\": 31, \"Trait2\": 22.2634629231567, \"kmedoids4\": 0, \"dbscan0\": -1}, {\"Trait1\": 32, \"Trait2\": 24.0533169874301, \"kmedoids4\": 0, \"dbscan0\": -1}, {\"Trait1\": 33, \"Trait2\": 27.5675147473812, \"kmedoids4\": 0, \"dbscan0\": -1}, {\"Trait1\": 34, \"Trait2\": 28.8355640002216, \"kmedoids4\": 0, \"dbscan0\": -1}, {\"Trait1\": 35, \"Trait2\": 23.4645158735414, \"kmedoids4\": 0, \"dbscan0\": -1}, {\"Trait1\": 36, \"Trait2\": 26.8543482441455, \"kmedoids4\": 0, \"dbscan0\": -1}, {\"Trait1\": 37, \"Trait2\": 24.9239424324284, \"kmedoids4\": 0, \"dbscan0\": -1}, {\"Trait1\": 38, \"Trait2\": 23.4388158343111, \"kmedoids4\": 0, \"dbscan0\": -1}, {\"Trait1\": 39, \"Trait2\": 30.6586068440229, \"kmedoids4\": 0, \"dbscan0\": -1}, {\"Trait1\": 40, \"Trait2\": 21.8046543995539, \"kmedoids4\": 0, \"dbscan0\": -1}, {\"Trait1\": 41, \"Trait2\": 21.2400523520385, \"kmedoids4\": 0, \"dbscan0\": -1}, {\"Trait1\": 42, \"Trait2\": 19.7653447343037, \"kmedoids4\": 0, \"dbscan0\": -1}, {\"Trait1\": 43, \"Trait2\": 21.54928474656, \"kmedoids4\": 0, \"dbscan0\": -1}, {\"Trait1\": 44, \"Trait2\": 22.5395439028119, \"kmedoids4\": 0, \"dbscan0\": -1}, {\"Trait1\": 45, \"Trait2\": 27.8206092724577, \"kmedoids4\": 0, \"dbscan0\": -1}, {\"Trait1\": 46, \"Trait2\": 20.8893878177429, \"kmedoids4\": 0, \"dbscan0\": -1}, {\"Trait1\": 47, \"Trait2\": 36.2800074651216, \"kmedoids4\": 0, \"dbscan0\": -1}, {\"Trait1\": 48, \"Trait2\": 28.1488946899772, \"kmedoids4\": 0, \"dbscan0\": -1}, {\"Trait1\": 49, \"Trait2\": 42.2340281127642, \"kmedoids4\": 0, \"dbscan0\": -1}, {\"Trait1\": 50, \"Trait2\": 35.795227632237, \"kmedoids4\": 0, \"dbscan0\": -1}, {\"Trait1\": 1, \"Trait2\": 93.2353996740033, \"kmedoids4\": 2, \"dbscan0\": -1}, {\"Trait1\": 2, \"Trait2\": 107.28824683434, \"kmedoids4\": 2, \"dbscan0\": -1}, {\"Trait1\": 3, \"Trait2\": 95.3527184687555, \"kmedoids4\": 2, \"dbscan0\": -1}, {\"Trait1\": 4, \"Trait2\": 92.8368879475941, \"kmedoids4\": 2, \"dbscan0\": -1}, {\"Trait1\": 5, \"Trait2\": 103.501057747441, \"kmedoids4\": 2, \"dbscan0\": -1}, {\"Trait1\": 6, \"Trait2\": 90.5649841241539, \"kmedoids4\": 2, \"dbscan0\": -1}, {\"Trait1\": 7, \"Trait2\": 90.7823717699697, \"kmedoids4\": 2, \"dbscan0\": -1}, {\"Trait1\": 8, \"Trait2\": 87.0213228032614, \"kmedoids4\": 2, \"dbscan0\": -1}, {\"Trait1\": 9, \"Trait2\": 89.6772093242034, \"kmedoids4\": 2, \"dbscan0\": -1}, {\"Trait1\": 10, \"Trait2\": 91.8007568859806, \"kmedoids4\": 2, \"dbscan0\": -1}, {\"Trait1\": 11, \"Trait2\": 101.273585903148, \"kmedoids4\": 2, \"dbscan0\": -1}, {\"Trait1\": 12, \"Trait2\": 101.273340255022, \"kmedoids4\": 2, \"dbscan0\": -1}, {\"Trait1\": 13, \"Trait2\": 95.8867867526909, \"kmedoids4\": 2, \"dbscan0\": -1}, {\"Trait1\": 14, \"Trait2\": 98.4983457277219, \"kmedoids4\": 2, \"dbscan0\": -1}, {\"Trait1\": 15, \"Trait2\": 98.2726250123233, \"kmedoids4\": 2, \"dbscan0\": -1}, {\"Trait1\": 16, \"Trait2\": 93.7204914887746, \"kmedoids4\": 2, \"dbscan0\": -1}, {\"Trait1\": 17, \"Trait2\": 92.178595452259, \"kmedoids4\": 2, \"dbscan0\": -1}, {\"Trait1\": 18, \"Trait2\": 95.5094053288922, \"kmedoids4\": 2, \"dbscan0\": -1}, {\"Trait1\": 19, \"Trait2\": 90.5898037313794, \"kmedoids4\": 2, \"dbscan0\": -1}, {\"Trait1\": 20, \"Trait2\": 91.6113108505184, \"kmedoids4\": 2, \"dbscan0\": -1}, {\"Trait1\": 21, \"Trait2\": 93.6166452094913, \"kmedoids4\": 2, \"dbscan0\": -1}, {\"Trait1\": 22, \"Trait2\": 80.6596937694897, \"kmedoids4\": 2, \"dbscan0\": -1}, {\"Trait1\": 23, \"Trait2\": 90.1111162534605, \"kmedoids4\": 1, \"dbscan0\": -1}, {\"Trait1\": 24, \"Trait2\": 92.3394361147657, \"kmedoids4\": 1, \"dbscan0\": -1}, {\"Trait1\": 25, \"Trait2\": 85.1585390170415, \"kmedoids4\": 1, \"dbscan0\": 1}, {\"Trait1\": 26, \"Trait2\": 84.0722715069229, \"kmedoids4\": 1, \"dbscan0\": -1}, {\"Trait1\": 27, \"Trait2\": 90.0041985586286, \"kmedoids4\": 1, \"dbscan0\": -1}, {\"Trait1\": 28, \"Trait2\": 88.7151124005516, \"kmedoids4\": 1, \"dbscan0\": -1}, {\"Trait1\": 29, \"Trait2\": 84.042719921718, \"kmedoids4\": 1, \"dbscan0\": -1}, {\"Trait1\": 30, \"Trait2\": 75.8143085055053, \"kmedoids4\": 1, \"dbscan0\": -1}, {\"Trait1\": 31, \"Trait2\": 80.9301295898234, \"kmedoids4\": 1, \"dbscan0\": -1}, {\"Trait1\": 32, \"Trait2\": 81.3866503207634, \"kmedoids4\": 1, \"dbscan0\": -1}, {\"Trait1\": 33, \"Trait2\": 83.5675147473812, \"kmedoids4\": 1, \"dbscan0\": -1}, {\"Trait1\": 34, \"Trait2\": 83.5022306668883, \"kmedoids4\": 1, \"dbscan0\": -1}, {\"Trait1\": 35, \"Trait2\": 76.7978492068748, \"kmedoids4\": 1, \"dbscan0\": -1}, {\"Trait1\": 36, \"Trait2\": 78.8543482441455, \"kmedoids4\": 1, \"dbscan0\": -1}, {\"Trait1\": 37, \"Trait2\": 75.5906090990951, \"kmedoids4\": 1, \"dbscan0\": -1}, {\"Trait1\": 38, \"Trait2\": 72.7721491676445, \"kmedoids4\": 1, \"dbscan0\": -1}, {\"Trait1\": 39, \"Trait2\": 78.6586068440229, \"kmedoids4\": 1, \"dbscan0\": -1}, {\"Trait1\": 40, \"Trait2\": 68.4713210662206, \"kmedoids4\": 1, \"dbscan0\": -1}, {\"Trait1\": 41, \"Trait2\": 66.5733856853719, \"kmedoids4\": 1, \"dbscan0\": -1}, {\"Trait1\": 42, \"Trait2\": 63.7653447343037, \"kmedoids4\": 1, \"dbscan0\": -1}, {\"Trait1\": 43, \"Trait2\": 64.2159514132266, \"kmedoids4\": 1, \"dbscan0\": -1}, {\"Trait1\": 44, \"Trait2\": 63.8728772361452, \"kmedoids4\": 1, \"dbscan0\": -1}, {\"Trait1\": 45, \"Trait2\": 67.8206092724577, \"kmedoids4\": 1, \"dbscan0\": -1}, {\"Trait1\": 46, \"Trait2\": 59.5560544844096, \"kmedoids4\": 1, \"dbscan0\": -1}, {\"Trait1\": 47, \"Trait2\": 73.613340798455, \"kmedoids4\": 1, \"dbscan0\": -1}, {\"Trait1\": 48, \"Trait2\": 64.1488946899772, \"kmedoids4\": 1, \"dbscan0\": -1}, {\"Trait1\": 49, \"Trait2\": 76.9006947794308, \"kmedoids4\": 1, \"dbscan0\": -1}, {\"Trait1\": 50, \"Trait2\": 69.1285609655703, \"kmedoids4\": 1, \"dbscan0\": -1}, {\"Trait1\": 1, \"Trait2\": 29.2353996740033, \"kmedoids4\": 3, \"dbscan0\": -1}, {\"Trait1\": 2, \"Trait2\": 45.9549135010069, \"kmedoids4\": 2, \"dbscan0\": -1}, {\"Trait1\": 3, \"Trait2\": 36.6860518020888, \"kmedoids4\": 3, \"dbscan0\": -1}, {\"Trait1\": 4, \"Trait2\": 36.8368879475941, \"kmedoids4\": 3, \"dbscan0\": -1}, {\"Trait1\": 5, \"Trait2\": 50.1677244141077, \"kmedoids4\": 2, \"dbscan0\": -1}, {\"Trait1\": 6, \"Trait2\": 39.8983174574872, \"kmedoids4\": 2, \"dbscan0\": -1}, {\"Trait1\": 7, \"Trait2\": 42.7823717699697, \"kmedoids4\": 2, \"dbscan0\": -1}, {\"Trait1\": 8, \"Trait2\": 41.687989469928, \"kmedoids4\": 2, \"dbscan0\": -1}, {\"Trait1\": 9, \"Trait2\": 47.0105426575368, \"kmedoids4\": 2, \"dbscan0\": -1}, {\"Trait1\": 10, \"Trait2\": 51.8007568859806, \"kmedoids4\": 2, \"dbscan0\": -1}, {\"Trait1\": 11, \"Trait2\": 63.9402525698145, \"kmedoids4\": 2, \"dbscan0\": -1}, {\"Trait1\": 12, \"Trait2\": 66.6066735883554, \"kmedoids4\": 2, \"dbscan0\": -1}, {\"Trait1\": 13, \"Trait2\": 63.8867867526909, \"kmedoids4\": 2, \"dbscan0\": -1}, {\"Trait1\": 14, \"Trait2\": 69.1650123943885, \"kmedoids4\": 2, \"dbscan0\": -1}, {\"Trait1\": 15, \"Trait2\": 71.6059583456566, \"kmedoids4\": 2, \"dbscan0\": -1}, {\"Trait1\": 16, \"Trait2\": 69.7204914887746, \"kmedoids4\": 2, \"dbscan0\": -1}, {\"Trait1\": 17, \"Trait2\": 70.8452621189256, \"kmedoids4\": 2, \"dbscan0\": -1}, {\"Trait1\": 18, \"Trait2\": 76.8427386622255, \"kmedoids4\": 2, \"dbscan0\": -1}, {\"Trait1\": 19, \"Trait2\": 74.5898037313794, \"kmedoids4\": 2, \"dbscan0\": -1}, {\"Trait1\": 20, \"Trait2\": 78.2779775171851, \"kmedoids4\": 2, \"dbscan0\": -1}, {\"Trait1\": 21, \"Trait2\": 82.9499785428246, \"kmedoids4\": 2, \"dbscan0\": -1}, {\"Trait1\": 22, \"Trait2\": 72.6596937694897, \"kmedoids4\": 2, \"dbscan0\": -1}, {\"Trait1\": 23, \"Trait2\": 84.7777829201271, \"kmedoids4\": 1, \"dbscan0\": -1}, {\"Trait1\": 24, \"Trait2\": 89.672769448099, \"kmedoids4\": 1, \"dbscan0\": -1}, {\"Trait1\": 25, \"Trait2\": 85.1585390170415, \"kmedoids4\": 1, \"dbscan0\": 1}, {\"Trait1\": 26, \"Trait2\": 86.7389381735896, \"kmedoids4\": 1, \"dbscan0\": -1}, {\"Trait1\": 27, \"Trait2\": 95.3375318919619, \"kmedoids4\": 1, \"dbscan0\": -1}, {\"Trait1\": 28, \"Trait2\": 96.7151124005516, \"kmedoids4\": 1, \"dbscan0\": -1}, {\"Trait1\": 29, \"Trait2\": 94.7093865883847, \"kmedoids4\": 1, \"dbscan0\": -1}, {\"Trait1\": 30, \"Trait2\": 89.1476418388387, \"kmedoids4\": 1, \"dbscan0\": -1}, {\"Trait1\": 31, \"Trait2\": 96.9301295898234, \"kmedoids4\": 1, \"dbscan0\": -1}, {\"Trait1\": 32, \"Trait2\": 100.05331698743, \"kmedoids4\": 1, \"dbscan0\": -1}, {\"Trait1\": 33, \"Trait2\": 104.900848080715, \"kmedoids4\": 1, \"dbscan0\": -1}, {\"Trait1\": 34, \"Trait2\": 107.502230666888, \"kmedoids4\": 1, \"dbscan0\": -1}, {\"Trait1\": 35, \"Trait2\": 103.464515873541, \"kmedoids4\": 1, \"dbscan0\": -1}, {\"Trait1\": 36, \"Trait2\": 108.187681577479, \"kmedoids4\": 1, \"dbscan0\": -1}, {\"Trait1\": 37, \"Trait2\": 107.590609099095, \"kmedoids4\": 1, \"dbscan0\": -1}, {\"Trait1\": 38, \"Trait2\": 107.438815834311, \"kmedoids4\": 1, \"dbscan0\": -1}, {\"Trait1\": 39, \"Trait2\": 115.991940177356, \"kmedoids4\": 1, \"dbscan0\": -1}, {\"Trait1\": 40, \"Trait2\": 108.471321066221, \"kmedoids4\": 1, \"dbscan0\": -1}, {\"Trait1\": 41, \"Trait2\": 109.240052352039, \"kmedoids4\": 1, \"dbscan0\": -1}, {\"Trait1\": 42, \"Trait2\": 109.098678067637, \"kmedoids4\": 1, \"dbscan0\": -1}, {\"Trait1\": 43, \"Trait2\": 112.215951413227, \"kmedoids4\": 1, \"dbscan0\": -1}, {\"Trait1\": 44, \"Trait2\": 114.539543902812, \"kmedoids4\": 1, \"dbscan0\": -1}, {\"Trait1\": 45, \"Trait2\": 121.153942605791, \"kmedoids4\": 1, \"dbscan0\": -1}, {\"Trait1\": 46, \"Trait2\": 115.55605448441, \"kmedoids4\": 1, \"dbscan0\": -1}, {\"Trait1\": 47, \"Trait2\": 132.280007465122, \"kmedoids4\": 1, \"dbscan0\": -1}, {\"Trait1\": 48, \"Trait2\": 125.48222802331, \"kmedoids4\": 1, \"dbscan0\": -1}, {\"Trait1\": 49, \"Trait2\": 140.900694779431, \"kmedoids4\": 1, \"dbscan0\": -1}, {\"Trait1\": 50, \"Trait2\": 135.795227632237, \"kmedoids4\": 1, \"dbscan0\": -1}, {\"Trait1\": 1, \"Trait2\": 58.5687330073366, \"kmedoids4\": 2, \"dbscan0\": -1}, {\"Trait1\": 2, \"Trait2\": 71.2882468343402, \"kmedoids4\": 2, \"dbscan0\": -1}, {\"Trait1\": 3, \"Trait2\": 58.0193851354221, \"kmedoids4\": 2, \"dbscan0\": -1}, {\"Trait1\": 4, \"Trait2\": 54.1702212809274, \"kmedoids4\": 2, \"dbscan0\": -1}, {\"Trait1\": 5, \"Trait2\": 63.501057747441, \"kmedoids4\": 2, \"dbscan0\": -1}, {\"Trait1\": 6, \"Trait2\": 49.2316507908205, \"kmedoids4\": 2, \"dbscan0\": -1}, {\"Trait1\": 7, \"Trait2\": 48.115705103303, \"kmedoids4\": 2, \"dbscan0\": -1}, {\"Trait1\": 8, \"Trait2\": 43.0213228032614, \"kmedoids4\": 2, \"dbscan0\": -1}, {\"Trait1\": 9, \"Trait2\": 44.3438759908701, \"kmedoids4\": 2, \"dbscan0\": -1}, {\"Trait1\": 10, \"Trait2\": 45.1340902193139, \"kmedoids4\": 2, \"dbscan0\": -1}, {\"Trait1\": 11, \"Trait2\": 53.2735859031478, \"kmedoids4\": 2, \"dbscan0\": -1}, {\"Trait1\": 12, \"Trait2\": 51.9400069216887, \"kmedoids4\": 2, \"dbscan0\": -1}, {\"Trait1\": 13, \"Trait2\": 45.2201200860242, \"kmedoids4\": 2, \"dbscan0\": -1}, {\"Trait1\": 14, \"Trait2\": 46.4983457277218, \"kmedoids4\": 2, \"dbscan0\": -1}, {\"Trait1\": 15, \"Trait2\": 44.9392916789899, \"kmedoids4\": 2, \"dbscan0\": -1}, {\"Trait1\": 16, \"Trait2\": 39.0538248221079, \"kmedoids4\": 3, \"dbscan0\": -1}, {\"Trait1\": 17, \"Trait2\": 36.178595452259, \"kmedoids4\": 3, \"dbscan0\": -1}, {\"Trait1\": 18, \"Trait2\": 38.1760719955588, \"kmedoids4\": 3, \"dbscan0\": -1}, {\"Trait1\": 19, \"Trait2\": 31.9231370647127, \"kmedoids4\": 3, \"dbscan0\": -1}, {\"Trait1\": 20, \"Trait2\": 31.6113108505184, \"kmedoids4\": 3, \"dbscan0\": -1}, {\"Trait1\": 21, \"Trait2\": 32.2833118761579, \"kmedoids4\": 3, \"dbscan0\": -1}, {\"Trait1\": 22, \"Trait2\": 17.993027102823, \"kmedoids4\": 3, \"dbscan0\": -1}, {\"Trait1\": 23, \"Trait2\": 26.1111162534604, \"kmedoids4\": 3, \"dbscan0\": -1}, {\"Trait1\": 24, \"Trait2\": 27.0061027814324, \"kmedoids4\": 3, \"dbscan0\": -1}, {\"Trait1\": 25, \"Trait2\": 18.4918723503748, \"kmedoids4\": 3, \"dbscan0\": 0}, {\"Trait1\": 26, \"Trait2\": 16.0722715069229, \"kmedoids4\": 0, \"dbscan0\": -1}, {\"Trait1\": 27, \"Trait2\": 20.6708652252952, \"kmedoids4\": 0, \"dbscan0\": -1}, {\"Trait1\": 28, \"Trait2\": 18.048445733885, \"kmedoids4\": 0, \"dbscan0\": -1}, {\"Trait1\": 29, \"Trait2\": 12.042719921718, \"kmedoids4\": 0, \"dbscan0\": -1}, {\"Trait1\": 30, \"Trait2\": 2.48097517217198, \"kmedoids4\": 0, \"dbscan0\": -1}, {\"Trait1\": 31, \"Trait2\": 6.26346292315671, \"kmedoids4\": 0, \"dbscan0\": -1}, {\"Trait1\": 32, \"Trait2\": 5.38665032076338, \"kmedoids4\": 0, \"dbscan0\": -1}, {\"Trait1\": 33, \"Trait2\": 6.23418141404787, \"kmedoids4\": 0, \"dbscan0\": -1}, {\"Trait1\": 34, \"Trait2\": 4.83556400022158, \"kmedoids4\": 0, \"dbscan0\": -1}, {\"Trait1\": 35, \"Trait2\": -3.20215079312524, \"kmedoids4\": 0, \"dbscan0\": -1}, {\"Trait1\": 36, \"Trait2\": -2.47898508918783, \"kmedoids4\": 0, \"dbscan0\": -1}, {\"Trait1\": 37, \"Trait2\": -7.07605756757161, \"kmedoids4\": 0, \"dbscan0\": -1}, {\"Trait1\": 38, \"Trait2\": -11.2278508323555, \"kmedoids4\": 0, \"dbscan0\": -1}, {\"Trait1\": 39, \"Trait2\": -6.67472648931047, \"kmedoids4\": 0, \"dbscan0\": -1}, {\"Trait1\": 40, \"Trait2\": -18.1953456004461, \"kmedoids4\": 0, \"dbscan0\": -1}, {\"Trait1\": 41, \"Trait2\": -21.4266143146282, \"kmedoids4\": 0, \"dbscan0\": -1}, {\"Trait1\": 42, \"Trait2\": -25.5679885990297, \"kmedoids4\": 0, \"dbscan0\": -1}, {\"Trait1\": 43, \"Trait2\": -26.4507152534401, \"kmedoids4\": 0, \"dbscan0\": -1}, {\"Trait1\": 44, \"Trait2\": -28.1271227638548, \"kmedoids4\": 0, \"dbscan0\": -1}, {\"Trait1\": 45, \"Trait2\": -25.5127240608757, \"kmedoids4\": 0, \"dbscan0\": -1}, {\"Trait1\": 46, \"Trait2\": -35.1106121822571, \"kmedoids4\": 0, \"dbscan0\": -1}, {\"Trait1\": 47, \"Trait2\": -22.386659201545, \"kmedoids4\": 0, \"dbscan0\": -1}, {\"Trait1\": 48, \"Trait2\": -33.1844386433562, \"kmedoids4\": 0, \"dbscan0\": -1}, {\"Trait1\": 49, \"Trait2\": -21.7659718872358, \"kmedoids4\": 0, \"dbscan0\": -1}, {\"Trait1\": 50, \"Trait2\": -30.8714390344297, \"kmedoids4\": 0, \"dbscan0\": -1}]}}, {\"mode\": \"vega-lite\"});\n",
       "</script>"
      ],
      "text/plain": [
       "alt.HConcatChart(...)"
      ]
     },
     "execution_count": 27,
     "metadata": {},
     "output_type": "execute_result"
    }
   ],
   "source": [
    "(dbscan_maha | kmedoi_maha)"
   ]
  },
  {
   "cell_type": "markdown",
   "id": "ba429cfe",
   "metadata": {},
   "source": [
    "## Plots the same clustering methods with different metrics"
   ]
  },
  {
   "cell_type": "code",
   "execution_count": 28,
   "id": "1e2e04bd",
   "metadata": {},
   "outputs": [
    {
     "data": {
      "text/html": [
       "\n",
       "<style>\n",
       "  #altair-viz-0ddc3f49f62249cc894da79ffc4c64a1.vega-embed {\n",
       "    width: 100%;\n",
       "    display: flex;\n",
       "  }\n",
       "\n",
       "  #altair-viz-0ddc3f49f62249cc894da79ffc4c64a1.vega-embed details,\n",
       "  #altair-viz-0ddc3f49f62249cc894da79ffc4c64a1.vega-embed details summary {\n",
       "    position: relative;\n",
       "  }\n",
       "</style>\n",
       "<div id=\"altair-viz-0ddc3f49f62249cc894da79ffc4c64a1\"></div>\n",
       "<script type=\"text/javascript\">\n",
       "  var VEGA_DEBUG = (typeof VEGA_DEBUG == \"undefined\") ? {} : VEGA_DEBUG;\n",
       "  (function(spec, embedOpt){\n",
       "    let outputDiv = document.currentScript.previousElementSibling;\n",
       "    if (outputDiv.id !== \"altair-viz-0ddc3f49f62249cc894da79ffc4c64a1\") {\n",
       "      outputDiv = document.getElementById(\"altair-viz-0ddc3f49f62249cc894da79ffc4c64a1\");\n",
       "    }\n",
       "    const paths = {\n",
       "      \"vega\": \"https://cdn.jsdelivr.net/npm/vega@5?noext\",\n",
       "      \"vega-lib\": \"https://cdn.jsdelivr.net/npm/vega-lib?noext\",\n",
       "      \"vega-lite\": \"https://cdn.jsdelivr.net/npm/vega-lite@5.16.3?noext\",\n",
       "      \"vega-embed\": \"https://cdn.jsdelivr.net/npm/vega-embed@6?noext\",\n",
       "    };\n",
       "\n",
       "    function maybeLoadScript(lib, version) {\n",
       "      var key = `${lib.replace(\"-\", \"\")}_version`;\n",
       "      return (VEGA_DEBUG[key] == version) ?\n",
       "        Promise.resolve(paths[lib]) :\n",
       "        new Promise(function(resolve, reject) {\n",
       "          var s = document.createElement('script');\n",
       "          document.getElementsByTagName(\"head\")[0].appendChild(s);\n",
       "          s.async = true;\n",
       "          s.onload = () => {\n",
       "            VEGA_DEBUG[key] = version;\n",
       "            return resolve(paths[lib]);\n",
       "          };\n",
       "          s.onerror = () => reject(`Error loading script: ${paths[lib]}`);\n",
       "          s.src = paths[lib];\n",
       "        });\n",
       "    }\n",
       "\n",
       "    function showError(err) {\n",
       "      outputDiv.innerHTML = `<div class=\"error\" style=\"color:red;\">${err}</div>`;\n",
       "      throw err;\n",
       "    }\n",
       "\n",
       "    function displayChart(vegaEmbed) {\n",
       "      vegaEmbed(outputDiv, spec, embedOpt)\n",
       "        .catch(err => showError(`Javascript Error: ${err.message}<br>This usually means there's a typo in your chart specification. See the javascript console for the full traceback.`));\n",
       "    }\n",
       "\n",
       "    if(typeof define === \"function\" && define.amd) {\n",
       "      requirejs.config({paths});\n",
       "      require([\"vega-embed\"], displayChart, err => showError(`Error loading script: ${err.message}`));\n",
       "    } else {\n",
       "      maybeLoadScript(\"vega\", \"5\")\n",
       "        .then(() => maybeLoadScript(\"vega-lite\", \"5.16.3\"))\n",
       "        .then(() => maybeLoadScript(\"vega-embed\", \"6\"))\n",
       "        .catch(showError)\n",
       "        .then(() => displayChart(vegaEmbed));\n",
       "    }\n",
       "  })({\"config\": {\"view\": {\"continuousWidth\": 300, \"continuousHeight\": 300}}, \"vconcat\": [{\"hconcat\": [{\"data\": {\"name\": \"data-9f79b323aadd3a33da20b858e01ae0fe\"}, \"mark\": {\"type\": \"circle\", \"size\": 60}, \"encoding\": {\"color\": {\"field\": \"kmedoids4\", \"scale\": {\"domain\": [0.0, 1.0, 2.0, -1.0, 3.0], \"range\": [\"#1f77b4\", \"#ff7f0e\", \"#2ca02c\", \"#808080\", \"#9467bd\"]}, \"type\": \"nominal\"}, \"tooltip\": [{\"field\": \"dbscan0\", \"type\": \"quantitative\"}, {\"field\": \"kmedoids4\", \"type\": \"quantitative\"}], \"x\": {\"field\": \"Trait1\", \"type\": \"quantitative\"}, \"y\": {\"field\": \"Trait2\", \"type\": \"quantitative\"}}, \"name\": \"view_11\", \"title\": \"K-Medoids maha\"}, {\"data\": {\"name\": \"data-ed1dd5743515ee8f1723a130cf66edf4\"}, \"mark\": {\"type\": \"circle\", \"size\": 60}, \"encoding\": {\"color\": {\"field\": \"kmedoids4\", \"scale\": {\"domain\": [0.0, 1.0, 2.0, -1.0, 3.0], \"range\": [\"#1f77b4\", \"#ff7f0e\", \"#2ca02c\", \"#808080\", \"#9467bd\"]}, \"type\": \"nominal\"}, \"tooltip\": [{\"field\": \"dbscan0\", \"type\": \"quantitative\"}, {\"field\": \"kmedoids4\", \"type\": \"quantitative\"}], \"x\": {\"field\": \"Trait1\", \"type\": \"quantitative\"}, \"y\": {\"field\": \"Trait2\", \"type\": \"quantitative\"}}, \"name\": \"view_12\", \"title\": \"K-Medoids\"}]}, {\"hconcat\": [{\"data\": {\"name\": \"data-9f79b323aadd3a33da20b858e01ae0fe\"}, \"mark\": {\"type\": \"circle\", \"size\": 60}, \"encoding\": {\"color\": {\"field\": \"dbscan0\", \"scale\": {\"domain\": [0.0, 1.0, 2.0, -1.0, 3.0], \"range\": [\"#1f77b4\", \"#ff7f0e\", \"#2ca02c\", \"#808080\", \"#9467bd\"]}, \"type\": \"nominal\"}, \"tooltip\": [{\"field\": \"dbscan0\", \"type\": \"quantitative\"}, {\"field\": \"kmedoids4\", \"type\": \"quantitative\"}], \"x\": {\"field\": \"Trait1\", \"type\": \"quantitative\"}, \"y\": {\"field\": \"Trait2\", \"type\": \"quantitative\"}}, \"name\": \"view_13\", \"title\": \"DBSCAN maha\"}, {\"data\": {\"name\": \"data-ed1dd5743515ee8f1723a130cf66edf4\"}, \"mark\": {\"type\": \"circle\", \"size\": 60}, \"encoding\": {\"color\": {\"field\": \"dbscan0\", \"scale\": {\"domain\": [0.0, 1.0, 2.0, -1.0, 3.0], \"range\": [\"#1f77b4\", \"#ff7f0e\", \"#2ca02c\", \"#808080\", \"#9467bd\"]}, \"type\": \"nominal\"}, \"tooltip\": [{\"field\": \"dbscan0\", \"type\": \"quantitative\"}, {\"field\": \"kmedoids4\", \"type\": \"quantitative\"}], \"x\": {\"field\": \"Trait1\", \"type\": \"quantitative\"}, \"y\": {\"field\": \"Trait2\", \"type\": \"quantitative\"}}, \"name\": \"view_14\", \"title\": \"DBSCAN\"}]}], \"params\": [{\"name\": \"param_10\", \"select\": {\"type\": \"interval\", \"encodings\": [\"x\", \"y\"]}, \"bind\": \"scales\", \"views\": [\"view_11\"]}, {\"name\": \"param_8\", \"select\": {\"type\": \"interval\", \"encodings\": [\"x\", \"y\"]}, \"bind\": \"scales\", \"views\": [\"view_12\"]}, {\"name\": \"param_9\", \"select\": {\"type\": \"interval\", \"encodings\": [\"x\", \"y\"]}, \"bind\": \"scales\", \"views\": [\"view_13\"]}, {\"name\": \"param_7\", \"select\": {\"type\": \"interval\", \"encodings\": [\"x\", \"y\"]}, \"bind\": \"scales\", \"views\": [\"view_14\"]}], \"$schema\": \"https://vega.github.io/schema/vega-lite/v5.16.3.json\", \"datasets\": {\"data-9f79b323aadd3a33da20b858e01ae0fe\": [{\"Trait1\": 1, \"Trait2\": -5.43126699266334, \"kmedoids4\": 3, \"dbscan0\": -1}, {\"Trait1\": 2, \"Trait2\": 9.95491350100686, \"kmedoids4\": 3, \"dbscan0\": -1}, {\"Trait1\": 3, \"Trait2\": -0.647281531244516, \"kmedoids4\": 3, \"dbscan0\": -1}, {\"Trait1\": 4, \"Trait2\": -1.82977871907254, \"kmedoids4\": 3, \"dbscan0\": -1}, {\"Trait1\": 5, \"Trait2\": 10.1677244141077, \"kmedoids4\": 3, \"dbscan0\": -1}, {\"Trait1\": 6, \"Trait2\": -1.43501587584615, \"kmedoids4\": 3, \"dbscan0\": -1}, {\"Trait1\": 7, \"Trait2\": 0.115705103302996, \"kmedoids4\": 3, \"dbscan0\": -1}, {\"Trait1\": 8, \"Trait2\": -2.31201053007195, \"kmedoids4\": 3, \"dbscan0\": -1}, {\"Trait1\": 9, \"Trait2\": 1.67720932420343, \"kmedoids4\": 3, \"dbscan0\": -1}, {\"Trait1\": 10, \"Trait2\": 5.1340902193139, \"kmedoids4\": 3, \"dbscan0\": -1}, {\"Trait1\": 11, \"Trait2\": 15.9402525698145, \"kmedoids4\": 3, \"dbscan0\": -1}, {\"Trait1\": 12, \"Trait2\": 17.273340255022, \"kmedoids4\": 3, \"dbscan0\": -1}, {\"Trait1\": 13, \"Trait2\": 13.2201200860242, \"kmedoids4\": 3, \"dbscan0\": -1}, {\"Trait1\": 14, \"Trait2\": 17.1650123943885, \"kmedoids4\": 3, \"dbscan0\": -1}, {\"Trait1\": 15, \"Trait2\": 18.2726250123233, \"kmedoids4\": 3, \"dbscan0\": -1}, {\"Trait1\": 16, \"Trait2\": 15.053824822108, \"kmedoids4\": 3, \"dbscan0\": -1}, {\"Trait1\": 17, \"Trait2\": 14.8452621189257, \"kmedoids4\": 3, \"dbscan0\": -1}, {\"Trait1\": 18, \"Trait2\": 19.5094053288922, \"kmedoids4\": 3, \"dbscan0\": -1}, {\"Trait1\": 19, \"Trait2\": 15.9231370647127, \"kmedoids4\": 3, \"dbscan0\": -1}, {\"Trait1\": 20, \"Trait2\": 18.2779775171851, \"kmedoids4\": 3, \"dbscan0\": -1}, {\"Trait1\": 21, \"Trait2\": 21.6166452094913, \"kmedoids4\": 3, \"dbscan0\": -1}, {\"Trait1\": 22, \"Trait2\": 9.99302710282306, \"kmedoids4\": 3, \"dbscan0\": -1}, {\"Trait1\": 23, \"Trait2\": 20.7777829201271, \"kmedoids4\": 3, \"dbscan0\": -1}, {\"Trait1\": 24, \"Trait2\": 24.3394361147657, \"kmedoids4\": 3, \"dbscan0\": -1}, {\"Trait1\": 25, \"Trait2\": 18.4918723503749, \"kmedoids4\": 3, \"dbscan0\": 0}, {\"Trait1\": 26, \"Trait2\": 18.7389381735896, \"kmedoids4\": 0, \"dbscan0\": -1}, {\"Trait1\": 27, \"Trait2\": 26.0041985586286, \"kmedoids4\": 0, \"dbscan0\": -1}, {\"Trait1\": 28, \"Trait2\": 26.048445733885, \"kmedoids4\": 0, \"dbscan0\": -1}, {\"Trait1\": 29, \"Trait2\": 22.7093865883847, \"kmedoids4\": 0, \"dbscan0\": -1}, {\"Trait1\": 30, \"Trait2\": 15.8143085055053, \"kmedoids4\": 0, \"dbscan0\": -1}, {\"Trait1\": 31, \"Trait2\": 22.2634629231567, \"kmedoids4\": 0, \"dbscan0\": -1}, {\"Trait1\": 32, \"Trait2\": 24.0533169874301, \"kmedoids4\": 0, \"dbscan0\": -1}, {\"Trait1\": 33, \"Trait2\": 27.5675147473812, \"kmedoids4\": 0, \"dbscan0\": -1}, {\"Trait1\": 34, \"Trait2\": 28.8355640002216, \"kmedoids4\": 0, \"dbscan0\": -1}, {\"Trait1\": 35, \"Trait2\": 23.4645158735414, \"kmedoids4\": 0, \"dbscan0\": -1}, {\"Trait1\": 36, \"Trait2\": 26.8543482441455, \"kmedoids4\": 0, \"dbscan0\": -1}, {\"Trait1\": 37, \"Trait2\": 24.9239424324284, \"kmedoids4\": 0, \"dbscan0\": -1}, {\"Trait1\": 38, \"Trait2\": 23.4388158343111, \"kmedoids4\": 0, \"dbscan0\": -1}, {\"Trait1\": 39, \"Trait2\": 30.6586068440229, \"kmedoids4\": 0, \"dbscan0\": -1}, {\"Trait1\": 40, \"Trait2\": 21.8046543995539, \"kmedoids4\": 0, \"dbscan0\": -1}, {\"Trait1\": 41, \"Trait2\": 21.2400523520385, \"kmedoids4\": 0, \"dbscan0\": -1}, {\"Trait1\": 42, \"Trait2\": 19.7653447343037, \"kmedoids4\": 0, \"dbscan0\": -1}, {\"Trait1\": 43, \"Trait2\": 21.54928474656, \"kmedoids4\": 0, \"dbscan0\": -1}, {\"Trait1\": 44, \"Trait2\": 22.5395439028119, \"kmedoids4\": 0, \"dbscan0\": -1}, {\"Trait1\": 45, \"Trait2\": 27.8206092724577, \"kmedoids4\": 0, \"dbscan0\": -1}, {\"Trait1\": 46, \"Trait2\": 20.8893878177429, \"kmedoids4\": 0, \"dbscan0\": -1}, {\"Trait1\": 47, \"Trait2\": 36.2800074651216, \"kmedoids4\": 0, \"dbscan0\": -1}, {\"Trait1\": 48, \"Trait2\": 28.1488946899772, \"kmedoids4\": 0, \"dbscan0\": -1}, {\"Trait1\": 49, \"Trait2\": 42.2340281127642, \"kmedoids4\": 0, \"dbscan0\": -1}, {\"Trait1\": 50, \"Trait2\": 35.795227632237, \"kmedoids4\": 0, \"dbscan0\": -1}, {\"Trait1\": 1, \"Trait2\": 93.2353996740033, \"kmedoids4\": 2, \"dbscan0\": -1}, {\"Trait1\": 2, \"Trait2\": 107.28824683434, \"kmedoids4\": 2, \"dbscan0\": -1}, {\"Trait1\": 3, \"Trait2\": 95.3527184687555, \"kmedoids4\": 2, \"dbscan0\": -1}, {\"Trait1\": 4, \"Trait2\": 92.8368879475941, \"kmedoids4\": 2, \"dbscan0\": -1}, {\"Trait1\": 5, \"Trait2\": 103.501057747441, \"kmedoids4\": 2, \"dbscan0\": -1}, {\"Trait1\": 6, \"Trait2\": 90.5649841241539, \"kmedoids4\": 2, \"dbscan0\": -1}, {\"Trait1\": 7, \"Trait2\": 90.7823717699697, \"kmedoids4\": 2, \"dbscan0\": -1}, {\"Trait1\": 8, \"Trait2\": 87.0213228032614, \"kmedoids4\": 2, \"dbscan0\": -1}, {\"Trait1\": 9, \"Trait2\": 89.6772093242034, \"kmedoids4\": 2, \"dbscan0\": -1}, {\"Trait1\": 10, \"Trait2\": 91.8007568859806, \"kmedoids4\": 2, \"dbscan0\": -1}, {\"Trait1\": 11, \"Trait2\": 101.273585903148, \"kmedoids4\": 2, \"dbscan0\": -1}, {\"Trait1\": 12, \"Trait2\": 101.273340255022, \"kmedoids4\": 2, \"dbscan0\": -1}, {\"Trait1\": 13, \"Trait2\": 95.8867867526909, \"kmedoids4\": 2, \"dbscan0\": -1}, {\"Trait1\": 14, \"Trait2\": 98.4983457277219, \"kmedoids4\": 2, \"dbscan0\": -1}, {\"Trait1\": 15, \"Trait2\": 98.2726250123233, \"kmedoids4\": 2, \"dbscan0\": -1}, {\"Trait1\": 16, \"Trait2\": 93.7204914887746, \"kmedoids4\": 2, \"dbscan0\": -1}, {\"Trait1\": 17, \"Trait2\": 92.178595452259, \"kmedoids4\": 2, \"dbscan0\": -1}, {\"Trait1\": 18, \"Trait2\": 95.5094053288922, \"kmedoids4\": 2, \"dbscan0\": -1}, {\"Trait1\": 19, \"Trait2\": 90.5898037313794, \"kmedoids4\": 2, \"dbscan0\": -1}, {\"Trait1\": 20, \"Trait2\": 91.6113108505184, \"kmedoids4\": 2, \"dbscan0\": -1}, {\"Trait1\": 21, \"Trait2\": 93.6166452094913, \"kmedoids4\": 2, \"dbscan0\": -1}, {\"Trait1\": 22, \"Trait2\": 80.6596937694897, \"kmedoids4\": 2, \"dbscan0\": -1}, {\"Trait1\": 23, \"Trait2\": 90.1111162534605, \"kmedoids4\": 1, \"dbscan0\": -1}, {\"Trait1\": 24, \"Trait2\": 92.3394361147657, \"kmedoids4\": 1, \"dbscan0\": -1}, {\"Trait1\": 25, \"Trait2\": 85.1585390170415, \"kmedoids4\": 1, \"dbscan0\": 1}, {\"Trait1\": 26, \"Trait2\": 84.0722715069229, \"kmedoids4\": 1, \"dbscan0\": -1}, {\"Trait1\": 27, \"Trait2\": 90.0041985586286, \"kmedoids4\": 1, \"dbscan0\": -1}, {\"Trait1\": 28, \"Trait2\": 88.7151124005516, \"kmedoids4\": 1, \"dbscan0\": -1}, {\"Trait1\": 29, \"Trait2\": 84.042719921718, \"kmedoids4\": 1, \"dbscan0\": -1}, {\"Trait1\": 30, \"Trait2\": 75.8143085055053, \"kmedoids4\": 1, \"dbscan0\": -1}, {\"Trait1\": 31, \"Trait2\": 80.9301295898234, \"kmedoids4\": 1, \"dbscan0\": -1}, {\"Trait1\": 32, \"Trait2\": 81.3866503207634, \"kmedoids4\": 1, \"dbscan0\": -1}, {\"Trait1\": 33, \"Trait2\": 83.5675147473812, \"kmedoids4\": 1, \"dbscan0\": -1}, {\"Trait1\": 34, \"Trait2\": 83.5022306668883, \"kmedoids4\": 1, \"dbscan0\": -1}, {\"Trait1\": 35, \"Trait2\": 76.7978492068748, \"kmedoids4\": 1, \"dbscan0\": -1}, {\"Trait1\": 36, \"Trait2\": 78.8543482441455, \"kmedoids4\": 1, \"dbscan0\": -1}, {\"Trait1\": 37, \"Trait2\": 75.5906090990951, \"kmedoids4\": 1, \"dbscan0\": -1}, {\"Trait1\": 38, \"Trait2\": 72.7721491676445, \"kmedoids4\": 1, \"dbscan0\": -1}, {\"Trait1\": 39, \"Trait2\": 78.6586068440229, \"kmedoids4\": 1, \"dbscan0\": -1}, {\"Trait1\": 40, \"Trait2\": 68.4713210662206, \"kmedoids4\": 1, \"dbscan0\": -1}, {\"Trait1\": 41, \"Trait2\": 66.5733856853719, \"kmedoids4\": 1, \"dbscan0\": -1}, {\"Trait1\": 42, \"Trait2\": 63.7653447343037, \"kmedoids4\": 1, \"dbscan0\": -1}, {\"Trait1\": 43, \"Trait2\": 64.2159514132266, \"kmedoids4\": 1, \"dbscan0\": -1}, {\"Trait1\": 44, \"Trait2\": 63.8728772361452, \"kmedoids4\": 1, \"dbscan0\": -1}, {\"Trait1\": 45, \"Trait2\": 67.8206092724577, \"kmedoids4\": 1, \"dbscan0\": -1}, {\"Trait1\": 46, \"Trait2\": 59.5560544844096, \"kmedoids4\": 1, \"dbscan0\": -1}, {\"Trait1\": 47, \"Trait2\": 73.613340798455, \"kmedoids4\": 1, \"dbscan0\": -1}, {\"Trait1\": 48, \"Trait2\": 64.1488946899772, \"kmedoids4\": 1, \"dbscan0\": -1}, {\"Trait1\": 49, \"Trait2\": 76.9006947794308, \"kmedoids4\": 1, \"dbscan0\": -1}, {\"Trait1\": 50, \"Trait2\": 69.1285609655703, \"kmedoids4\": 1, \"dbscan0\": -1}, {\"Trait1\": 1, \"Trait2\": 29.2353996740033, \"kmedoids4\": 3, \"dbscan0\": -1}, {\"Trait1\": 2, \"Trait2\": 45.9549135010069, \"kmedoids4\": 2, \"dbscan0\": -1}, {\"Trait1\": 3, \"Trait2\": 36.6860518020888, \"kmedoids4\": 3, \"dbscan0\": -1}, {\"Trait1\": 4, \"Trait2\": 36.8368879475941, \"kmedoids4\": 3, \"dbscan0\": -1}, {\"Trait1\": 5, \"Trait2\": 50.1677244141077, \"kmedoids4\": 2, \"dbscan0\": -1}, {\"Trait1\": 6, \"Trait2\": 39.8983174574872, \"kmedoids4\": 2, \"dbscan0\": -1}, {\"Trait1\": 7, \"Trait2\": 42.7823717699697, \"kmedoids4\": 2, \"dbscan0\": -1}, {\"Trait1\": 8, \"Trait2\": 41.687989469928, \"kmedoids4\": 2, \"dbscan0\": -1}, {\"Trait1\": 9, \"Trait2\": 47.0105426575368, \"kmedoids4\": 2, \"dbscan0\": -1}, {\"Trait1\": 10, \"Trait2\": 51.8007568859806, \"kmedoids4\": 2, \"dbscan0\": -1}, {\"Trait1\": 11, \"Trait2\": 63.9402525698145, \"kmedoids4\": 2, \"dbscan0\": -1}, {\"Trait1\": 12, \"Trait2\": 66.6066735883554, \"kmedoids4\": 2, \"dbscan0\": -1}, {\"Trait1\": 13, \"Trait2\": 63.8867867526909, \"kmedoids4\": 2, \"dbscan0\": -1}, {\"Trait1\": 14, \"Trait2\": 69.1650123943885, \"kmedoids4\": 2, \"dbscan0\": -1}, {\"Trait1\": 15, \"Trait2\": 71.6059583456566, \"kmedoids4\": 2, \"dbscan0\": -1}, {\"Trait1\": 16, \"Trait2\": 69.7204914887746, \"kmedoids4\": 2, \"dbscan0\": -1}, {\"Trait1\": 17, \"Trait2\": 70.8452621189256, \"kmedoids4\": 2, \"dbscan0\": -1}, {\"Trait1\": 18, \"Trait2\": 76.8427386622255, \"kmedoids4\": 2, \"dbscan0\": -1}, {\"Trait1\": 19, \"Trait2\": 74.5898037313794, \"kmedoids4\": 2, \"dbscan0\": -1}, {\"Trait1\": 20, \"Trait2\": 78.2779775171851, \"kmedoids4\": 2, \"dbscan0\": -1}, {\"Trait1\": 21, \"Trait2\": 82.9499785428246, \"kmedoids4\": 2, \"dbscan0\": -1}, {\"Trait1\": 22, \"Trait2\": 72.6596937694897, \"kmedoids4\": 2, \"dbscan0\": -1}, {\"Trait1\": 23, \"Trait2\": 84.7777829201271, \"kmedoids4\": 1, \"dbscan0\": -1}, {\"Trait1\": 24, \"Trait2\": 89.672769448099, \"kmedoids4\": 1, \"dbscan0\": -1}, {\"Trait1\": 25, \"Trait2\": 85.1585390170415, \"kmedoids4\": 1, \"dbscan0\": 1}, {\"Trait1\": 26, \"Trait2\": 86.7389381735896, \"kmedoids4\": 1, \"dbscan0\": -1}, {\"Trait1\": 27, \"Trait2\": 95.3375318919619, \"kmedoids4\": 1, \"dbscan0\": -1}, {\"Trait1\": 28, \"Trait2\": 96.7151124005516, \"kmedoids4\": 1, \"dbscan0\": -1}, {\"Trait1\": 29, \"Trait2\": 94.7093865883847, \"kmedoids4\": 1, \"dbscan0\": -1}, {\"Trait1\": 30, \"Trait2\": 89.1476418388387, \"kmedoids4\": 1, \"dbscan0\": -1}, {\"Trait1\": 31, \"Trait2\": 96.9301295898234, \"kmedoids4\": 1, \"dbscan0\": -1}, {\"Trait1\": 32, \"Trait2\": 100.05331698743, \"kmedoids4\": 1, \"dbscan0\": -1}, {\"Trait1\": 33, \"Trait2\": 104.900848080715, \"kmedoids4\": 1, \"dbscan0\": -1}, {\"Trait1\": 34, \"Trait2\": 107.502230666888, \"kmedoids4\": 1, \"dbscan0\": -1}, {\"Trait1\": 35, \"Trait2\": 103.464515873541, \"kmedoids4\": 1, \"dbscan0\": -1}, {\"Trait1\": 36, \"Trait2\": 108.187681577479, \"kmedoids4\": 1, \"dbscan0\": -1}, {\"Trait1\": 37, \"Trait2\": 107.590609099095, \"kmedoids4\": 1, \"dbscan0\": -1}, {\"Trait1\": 38, \"Trait2\": 107.438815834311, \"kmedoids4\": 1, \"dbscan0\": -1}, {\"Trait1\": 39, \"Trait2\": 115.991940177356, \"kmedoids4\": 1, \"dbscan0\": -1}, {\"Trait1\": 40, \"Trait2\": 108.471321066221, \"kmedoids4\": 1, \"dbscan0\": -1}, {\"Trait1\": 41, \"Trait2\": 109.240052352039, \"kmedoids4\": 1, \"dbscan0\": -1}, {\"Trait1\": 42, \"Trait2\": 109.098678067637, \"kmedoids4\": 1, \"dbscan0\": -1}, {\"Trait1\": 43, \"Trait2\": 112.215951413227, \"kmedoids4\": 1, \"dbscan0\": -1}, {\"Trait1\": 44, \"Trait2\": 114.539543902812, \"kmedoids4\": 1, \"dbscan0\": -1}, {\"Trait1\": 45, \"Trait2\": 121.153942605791, \"kmedoids4\": 1, \"dbscan0\": -1}, {\"Trait1\": 46, \"Trait2\": 115.55605448441, \"kmedoids4\": 1, \"dbscan0\": -1}, {\"Trait1\": 47, \"Trait2\": 132.280007465122, \"kmedoids4\": 1, \"dbscan0\": -1}, {\"Trait1\": 48, \"Trait2\": 125.48222802331, \"kmedoids4\": 1, \"dbscan0\": -1}, {\"Trait1\": 49, \"Trait2\": 140.900694779431, \"kmedoids4\": 1, \"dbscan0\": -1}, {\"Trait1\": 50, \"Trait2\": 135.795227632237, \"kmedoids4\": 1, \"dbscan0\": -1}, {\"Trait1\": 1, \"Trait2\": 58.5687330073366, \"kmedoids4\": 2, \"dbscan0\": -1}, {\"Trait1\": 2, \"Trait2\": 71.2882468343402, \"kmedoids4\": 2, \"dbscan0\": -1}, {\"Trait1\": 3, \"Trait2\": 58.0193851354221, \"kmedoids4\": 2, \"dbscan0\": -1}, {\"Trait1\": 4, \"Trait2\": 54.1702212809274, \"kmedoids4\": 2, \"dbscan0\": -1}, {\"Trait1\": 5, \"Trait2\": 63.501057747441, \"kmedoids4\": 2, \"dbscan0\": -1}, {\"Trait1\": 6, \"Trait2\": 49.2316507908205, \"kmedoids4\": 2, \"dbscan0\": -1}, {\"Trait1\": 7, \"Trait2\": 48.115705103303, \"kmedoids4\": 2, \"dbscan0\": -1}, {\"Trait1\": 8, \"Trait2\": 43.0213228032614, \"kmedoids4\": 2, \"dbscan0\": -1}, {\"Trait1\": 9, \"Trait2\": 44.3438759908701, \"kmedoids4\": 2, \"dbscan0\": -1}, {\"Trait1\": 10, \"Trait2\": 45.1340902193139, \"kmedoids4\": 2, \"dbscan0\": -1}, {\"Trait1\": 11, \"Trait2\": 53.2735859031478, \"kmedoids4\": 2, \"dbscan0\": -1}, {\"Trait1\": 12, \"Trait2\": 51.9400069216887, \"kmedoids4\": 2, \"dbscan0\": -1}, {\"Trait1\": 13, \"Trait2\": 45.2201200860242, \"kmedoids4\": 2, \"dbscan0\": -1}, {\"Trait1\": 14, \"Trait2\": 46.4983457277218, \"kmedoids4\": 2, \"dbscan0\": -1}, {\"Trait1\": 15, \"Trait2\": 44.9392916789899, \"kmedoids4\": 2, \"dbscan0\": -1}, {\"Trait1\": 16, \"Trait2\": 39.0538248221079, \"kmedoids4\": 3, \"dbscan0\": -1}, {\"Trait1\": 17, \"Trait2\": 36.178595452259, \"kmedoids4\": 3, \"dbscan0\": -1}, {\"Trait1\": 18, \"Trait2\": 38.1760719955588, \"kmedoids4\": 3, \"dbscan0\": -1}, {\"Trait1\": 19, \"Trait2\": 31.9231370647127, \"kmedoids4\": 3, \"dbscan0\": -1}, {\"Trait1\": 20, \"Trait2\": 31.6113108505184, \"kmedoids4\": 3, \"dbscan0\": -1}, {\"Trait1\": 21, \"Trait2\": 32.2833118761579, \"kmedoids4\": 3, \"dbscan0\": -1}, {\"Trait1\": 22, \"Trait2\": 17.993027102823, \"kmedoids4\": 3, \"dbscan0\": -1}, {\"Trait1\": 23, \"Trait2\": 26.1111162534604, \"kmedoids4\": 3, \"dbscan0\": -1}, {\"Trait1\": 24, \"Trait2\": 27.0061027814324, \"kmedoids4\": 3, \"dbscan0\": -1}, {\"Trait1\": 25, \"Trait2\": 18.4918723503748, \"kmedoids4\": 3, \"dbscan0\": 0}, {\"Trait1\": 26, \"Trait2\": 16.0722715069229, \"kmedoids4\": 0, \"dbscan0\": -1}, {\"Trait1\": 27, \"Trait2\": 20.6708652252952, \"kmedoids4\": 0, \"dbscan0\": -1}, {\"Trait1\": 28, \"Trait2\": 18.048445733885, \"kmedoids4\": 0, \"dbscan0\": -1}, {\"Trait1\": 29, \"Trait2\": 12.042719921718, \"kmedoids4\": 0, \"dbscan0\": -1}, {\"Trait1\": 30, \"Trait2\": 2.48097517217198, \"kmedoids4\": 0, \"dbscan0\": -1}, {\"Trait1\": 31, \"Trait2\": 6.26346292315671, \"kmedoids4\": 0, \"dbscan0\": -1}, {\"Trait1\": 32, \"Trait2\": 5.38665032076338, \"kmedoids4\": 0, \"dbscan0\": -1}, {\"Trait1\": 33, \"Trait2\": 6.23418141404787, \"kmedoids4\": 0, \"dbscan0\": -1}, {\"Trait1\": 34, \"Trait2\": 4.83556400022158, \"kmedoids4\": 0, \"dbscan0\": -1}, {\"Trait1\": 35, \"Trait2\": -3.20215079312524, \"kmedoids4\": 0, \"dbscan0\": -1}, {\"Trait1\": 36, \"Trait2\": -2.47898508918783, \"kmedoids4\": 0, \"dbscan0\": -1}, {\"Trait1\": 37, \"Trait2\": -7.07605756757161, \"kmedoids4\": 0, \"dbscan0\": -1}, {\"Trait1\": 38, \"Trait2\": -11.2278508323555, \"kmedoids4\": 0, \"dbscan0\": -1}, {\"Trait1\": 39, \"Trait2\": -6.67472648931047, \"kmedoids4\": 0, \"dbscan0\": -1}, {\"Trait1\": 40, \"Trait2\": -18.1953456004461, \"kmedoids4\": 0, \"dbscan0\": -1}, {\"Trait1\": 41, \"Trait2\": -21.4266143146282, \"kmedoids4\": 0, \"dbscan0\": -1}, {\"Trait1\": 42, \"Trait2\": -25.5679885990297, \"kmedoids4\": 0, \"dbscan0\": -1}, {\"Trait1\": 43, \"Trait2\": -26.4507152534401, \"kmedoids4\": 0, \"dbscan0\": -1}, {\"Trait1\": 44, \"Trait2\": -28.1271227638548, \"kmedoids4\": 0, \"dbscan0\": -1}, {\"Trait1\": 45, \"Trait2\": -25.5127240608757, \"kmedoids4\": 0, \"dbscan0\": -1}, {\"Trait1\": 46, \"Trait2\": -35.1106121822571, \"kmedoids4\": 0, \"dbscan0\": -1}, {\"Trait1\": 47, \"Trait2\": -22.386659201545, \"kmedoids4\": 0, \"dbscan0\": -1}, {\"Trait1\": 48, \"Trait2\": -33.1844386433562, \"kmedoids4\": 0, \"dbscan0\": -1}, {\"Trait1\": 49, \"Trait2\": -21.7659718872358, \"kmedoids4\": 0, \"dbscan0\": -1}, {\"Trait1\": 50, \"Trait2\": -30.8714390344297, \"kmedoids4\": 0, \"dbscan0\": -1}], \"data-ed1dd5743515ee8f1723a130cf66edf4\": [{\"Trait1\": 1, \"Trait2\": -5.43126699266334, \"kmedoids4\": 2, \"dbscan0\": 0}, {\"Trait1\": 2, \"Trait2\": 9.95491350100686, \"kmedoids4\": 1, \"dbscan0\": 0}, {\"Trait1\": 3, \"Trait2\": -0.647281531244516, \"kmedoids4\": 2, \"dbscan0\": 0}, {\"Trait1\": 4, \"Trait2\": -1.82977871907254, \"kmedoids4\": 1, \"dbscan0\": 0}, {\"Trait1\": 5, \"Trait2\": 10.1677244141077, \"kmedoids4\": 1, \"dbscan0\": 0}, {\"Trait1\": 6, \"Trait2\": -1.43501587584615, \"kmedoids4\": 1, \"dbscan0\": 0}, {\"Trait1\": 7, \"Trait2\": 0.115705103302996, \"kmedoids4\": 1, \"dbscan0\": 0}, {\"Trait1\": 8, \"Trait2\": -2.31201053007195, \"kmedoids4\": 1, \"dbscan0\": 0}, {\"Trait1\": 9, \"Trait2\": 1.67720932420343, \"kmedoids4\": 1, \"dbscan0\": 0}, {\"Trait1\": 10, \"Trait2\": 5.1340902193139, \"kmedoids4\": 1, \"dbscan0\": 0}, {\"Trait1\": 11, \"Trait2\": 15.9402525698145, \"kmedoids4\": 1, \"dbscan0\": 0}, {\"Trait1\": 12, \"Trait2\": 17.273340255022, \"kmedoids4\": 1, \"dbscan0\": 0}, {\"Trait1\": 13, \"Trait2\": 13.2201200860242, \"kmedoids4\": 1, \"dbscan0\": 0}, {\"Trait1\": 14, \"Trait2\": 17.1650123943885, \"kmedoids4\": 1, \"dbscan0\": 0}, {\"Trait1\": 15, \"Trait2\": 18.2726250123233, \"kmedoids4\": 1, \"dbscan0\": 0}, {\"Trait1\": 16, \"Trait2\": 15.053824822108, \"kmedoids4\": 1, \"dbscan0\": 0}, {\"Trait1\": 17, \"Trait2\": 14.8452621189257, \"kmedoids4\": 1, \"dbscan0\": 0}, {\"Trait1\": 18, \"Trait2\": 19.5094053288922, \"kmedoids4\": 1, \"dbscan0\": 0}, {\"Trait1\": 19, \"Trait2\": 15.9231370647127, \"kmedoids4\": 1, \"dbscan0\": 0}, {\"Trait1\": 20, \"Trait2\": 18.2779775171851, \"kmedoids4\": 1, \"dbscan0\": 0}, {\"Trait1\": 21, \"Trait2\": 21.6166452094913, \"kmedoids4\": 1, \"dbscan0\": 0}, {\"Trait1\": 22, \"Trait2\": 9.99302710282306, \"kmedoids4\": 1, \"dbscan0\": 0}, {\"Trait1\": 23, \"Trait2\": 20.7777829201271, \"kmedoids4\": 1, \"dbscan0\": 0}, {\"Trait1\": 24, \"Trait2\": 24.3394361147657, \"kmedoids4\": 1, \"dbscan0\": 0}, {\"Trait1\": 25, \"Trait2\": 18.4918723503749, \"kmedoids4\": 1, \"dbscan0\": 0}, {\"Trait1\": 26, \"Trait2\": 18.7389381735896, \"kmedoids4\": 1, \"dbscan0\": 0}, {\"Trait1\": 27, \"Trait2\": 26.0041985586286, \"kmedoids4\": 1, \"dbscan0\": 0}, {\"Trait1\": 28, \"Trait2\": 26.048445733885, \"kmedoids4\": 1, \"dbscan0\": 0}, {\"Trait1\": 29, \"Trait2\": 22.7093865883847, \"kmedoids4\": 1, \"dbscan0\": 0}, {\"Trait1\": 30, \"Trait2\": 15.8143085055053, \"kmedoids4\": 1, \"dbscan0\": 0}, {\"Trait1\": 31, \"Trait2\": 22.2634629231567, \"kmedoids4\": 1, \"dbscan0\": 0}, {\"Trait1\": 32, \"Trait2\": 24.0533169874301, \"kmedoids4\": 1, \"dbscan0\": 0}, {\"Trait1\": 33, \"Trait2\": 27.5675147473812, \"kmedoids4\": 1, \"dbscan0\": 0}, {\"Trait1\": 34, \"Trait2\": 28.8355640002216, \"kmedoids4\": 1, \"dbscan0\": 0}, {\"Trait1\": 35, \"Trait2\": 23.4645158735414, \"kmedoids4\": 1, \"dbscan0\": 0}, {\"Trait1\": 36, \"Trait2\": 26.8543482441455, \"kmedoids4\": 1, \"dbscan0\": 0}, {\"Trait1\": 37, \"Trait2\": 24.9239424324284, \"kmedoids4\": 1, \"dbscan0\": 0}, {\"Trait1\": 38, \"Trait2\": 23.4388158343111, \"kmedoids4\": 1, \"dbscan0\": 0}, {\"Trait1\": 39, \"Trait2\": 30.6586068440229, \"kmedoids4\": 1, \"dbscan0\": 0}, {\"Trait1\": 40, \"Trait2\": 21.8046543995539, \"kmedoids4\": 1, \"dbscan0\": 0}, {\"Trait1\": 41, \"Trait2\": 21.2400523520385, \"kmedoids4\": 1, \"dbscan0\": 0}, {\"Trait1\": 42, \"Trait2\": 19.7653447343037, \"kmedoids4\": 1, \"dbscan0\": 0}, {\"Trait1\": 43, \"Trait2\": 21.54928474656, \"kmedoids4\": 1, \"dbscan0\": 0}, {\"Trait1\": 44, \"Trait2\": 22.5395439028119, \"kmedoids4\": 1, \"dbscan0\": 0}, {\"Trait1\": 45, \"Trait2\": 27.8206092724577, \"kmedoids4\": 1, \"dbscan0\": 0}, {\"Trait1\": 46, \"Trait2\": 20.8893878177429, \"kmedoids4\": 1, \"dbscan0\": 0}, {\"Trait1\": 47, \"Trait2\": 36.2800074651216, \"kmedoids4\": 1, \"dbscan0\": 0}, {\"Trait1\": 48, \"Trait2\": 28.1488946899772, \"kmedoids4\": 1, \"dbscan0\": 0}, {\"Trait1\": 49, \"Trait2\": 42.2340281127642, \"kmedoids4\": 1, \"dbscan0\": 0}, {\"Trait1\": 50, \"Trait2\": 35.795227632237, \"kmedoids4\": 1, \"dbscan0\": 0}, {\"Trait1\": 1, \"Trait2\": 93.2353996740033, \"kmedoids4\": 0, \"dbscan0\": 1}, {\"Trait1\": 2, \"Trait2\": 107.28824683434, \"kmedoids4\": 1, \"dbscan0\": 0}, {\"Trait1\": 3, \"Trait2\": 95.3527184687555, \"kmedoids4\": 2, \"dbscan0\": 0}, {\"Trait1\": 4, \"Trait2\": 92.8368879475941, \"kmedoids4\": 2, \"dbscan0\": 0}, {\"Trait1\": 5, \"Trait2\": 103.501057747441, \"kmedoids4\": 2, \"dbscan0\": 0}, {\"Trait1\": 6, \"Trait2\": 90.5649841241539, \"kmedoids4\": 2, \"dbscan0\": 0}, {\"Trait1\": 7, \"Trait2\": 90.7823717699697, \"kmedoids4\": 2, \"dbscan0\": 0}, {\"Trait1\": 8, \"Trait2\": 87.0213228032614, \"kmedoids4\": 2, \"dbscan0\": 0}, {\"Trait1\": 9, \"Trait2\": 89.6772093242034, \"kmedoids4\": 2, \"dbscan0\": 0}, {\"Trait1\": 10, \"Trait2\": 91.8007568859806, \"kmedoids4\": 2, \"dbscan0\": 0}, {\"Trait1\": 11, \"Trait2\": 101.273585903148, \"kmedoids4\": 2, \"dbscan0\": 0}, {\"Trait1\": 12, \"Trait2\": 101.273340255022, \"kmedoids4\": 2, \"dbscan0\": 0}, {\"Trait1\": 13, \"Trait2\": 95.8867867526909, \"kmedoids4\": 2, \"dbscan0\": 0}, {\"Trait1\": 14, \"Trait2\": 98.4983457277219, \"kmedoids4\": 2, \"dbscan0\": 0}, {\"Trait1\": 15, \"Trait2\": 98.2726250123233, \"kmedoids4\": 2, \"dbscan0\": 0}, {\"Trait1\": 16, \"Trait2\": 93.7204914887746, \"kmedoids4\": 2, \"dbscan0\": 0}, {\"Trait1\": 17, \"Trait2\": 92.178595452259, \"kmedoids4\": 2, \"dbscan0\": 0}, {\"Trait1\": 18, \"Trait2\": 95.5094053288922, \"kmedoids4\": 2, \"dbscan0\": 0}, {\"Trait1\": 19, \"Trait2\": 90.5898037313794, \"kmedoids4\": 2, \"dbscan0\": 0}, {\"Trait1\": 20, \"Trait2\": 91.6113108505184, \"kmedoids4\": 2, \"dbscan0\": 0}, {\"Trait1\": 21, \"Trait2\": 93.6166452094913, \"kmedoids4\": 2, \"dbscan0\": 0}, {\"Trait1\": 22, \"Trait2\": 80.6596937694897, \"kmedoids4\": 2, \"dbscan0\": 0}, {\"Trait1\": 23, \"Trait2\": 90.1111162534605, \"kmedoids4\": 2, \"dbscan0\": 0}, {\"Trait1\": 24, \"Trait2\": 92.3394361147657, \"kmedoids4\": 2, \"dbscan0\": 0}, {\"Trait1\": 25, \"Trait2\": 85.1585390170415, \"kmedoids4\": 2, \"dbscan0\": 0}, {\"Trait1\": 26, \"Trait2\": 84.0722715069229, \"kmedoids4\": 2, \"dbscan0\": 0}, {\"Trait1\": 27, \"Trait2\": 90.0041985586286, \"kmedoids4\": 2, \"dbscan0\": 0}, {\"Trait1\": 28, \"Trait2\": 88.7151124005516, \"kmedoids4\": 2, \"dbscan0\": 0}, {\"Trait1\": 29, \"Trait2\": 84.042719921718, \"kmedoids4\": 2, \"dbscan0\": 0}, {\"Trait1\": 30, \"Trait2\": 75.8143085055053, \"kmedoids4\": 2, \"dbscan0\": 0}, {\"Trait1\": 31, \"Trait2\": 80.9301295898234, \"kmedoids4\": 2, \"dbscan0\": 0}, {\"Trait1\": 32, \"Trait2\": 81.3866503207634, \"kmedoids4\": 2, \"dbscan0\": 0}, {\"Trait1\": 33, \"Trait2\": 83.5675147473812, \"kmedoids4\": 2, \"dbscan0\": 0}, {\"Trait1\": 34, \"Trait2\": 83.5022306668883, \"kmedoids4\": 2, \"dbscan0\": 0}, {\"Trait1\": 35, \"Trait2\": 76.7978492068748, \"kmedoids4\": 2, \"dbscan0\": 0}, {\"Trait1\": 36, \"Trait2\": 78.8543482441455, \"kmedoids4\": 2, \"dbscan0\": 0}, {\"Trait1\": 37, \"Trait2\": 75.5906090990951, \"kmedoids4\": 2, \"dbscan0\": 0}, {\"Trait1\": 38, \"Trait2\": 72.7721491676445, \"kmedoids4\": 2, \"dbscan0\": 0}, {\"Trait1\": 39, \"Trait2\": 78.6586068440229, \"kmedoids4\": 2, \"dbscan0\": 0}, {\"Trait1\": 40, \"Trait2\": 68.4713210662206, \"kmedoids4\": 2, \"dbscan0\": 0}, {\"Trait1\": 41, \"Trait2\": 66.5733856853719, \"kmedoids4\": 2, \"dbscan0\": 0}, {\"Trait1\": 42, \"Trait2\": 63.7653447343037, \"kmedoids4\": 2, \"dbscan0\": 0}, {\"Trait1\": 43, \"Trait2\": 64.2159514132266, \"kmedoids4\": 2, \"dbscan0\": 0}, {\"Trait1\": 44, \"Trait2\": 63.8728772361452, \"kmedoids4\": 2, \"dbscan0\": 0}, {\"Trait1\": 45, \"Trait2\": 67.8206092724577, \"kmedoids4\": 2, \"dbscan0\": 0}, {\"Trait1\": 46, \"Trait2\": 59.5560544844096, \"kmedoids4\": 2, \"dbscan0\": 0}, {\"Trait1\": 47, \"Trait2\": 73.613340798455, \"kmedoids4\": 2, \"dbscan0\": 0}, {\"Trait1\": 48, \"Trait2\": 64.1488946899772, \"kmedoids4\": 2, \"dbscan0\": 0}, {\"Trait1\": 49, \"Trait2\": 76.9006947794308, \"kmedoids4\": 2, \"dbscan0\": 0}, {\"Trait1\": 50, \"Trait2\": 69.1285609655703, \"kmedoids4\": 2, \"dbscan0\": 0}, {\"Trait1\": 1, \"Trait2\": 29.2353996740033, \"kmedoids4\": 3, \"dbscan0\": 2}, {\"Trait1\": 2, \"Trait2\": 45.9549135010069, \"kmedoids4\": 2, \"dbscan0\": 0}, {\"Trait1\": 3, \"Trait2\": 36.6860518020888, \"kmedoids4\": 0, \"dbscan0\": -1}, {\"Trait1\": 4, \"Trait2\": 36.8368879475941, \"kmedoids4\": 0, \"dbscan0\": 1}, {\"Trait1\": 5, \"Trait2\": 50.1677244141077, \"kmedoids4\": 0, \"dbscan0\": 1}, {\"Trait1\": 6, \"Trait2\": 39.8983174574872, \"kmedoids4\": 0, \"dbscan0\": 1}, {\"Trait1\": 7, \"Trait2\": 42.7823717699697, \"kmedoids4\": 0, \"dbscan0\": 1}, {\"Trait1\": 8, \"Trait2\": 41.687989469928, \"kmedoids4\": 0, \"dbscan0\": 1}, {\"Trait1\": 9, \"Trait2\": 47.0105426575368, \"kmedoids4\": 0, \"dbscan0\": 1}, {\"Trait1\": 10, \"Trait2\": 51.8007568859806, \"kmedoids4\": 0, \"dbscan0\": 1}, {\"Trait1\": 11, \"Trait2\": 63.9402525698145, \"kmedoids4\": 0, \"dbscan0\": 1}, {\"Trait1\": 12, \"Trait2\": 66.6066735883554, \"kmedoids4\": 0, \"dbscan0\": 1}, {\"Trait1\": 13, \"Trait2\": 63.8867867526909, \"kmedoids4\": 0, \"dbscan0\": 1}, {\"Trait1\": 14, \"Trait2\": 69.1650123943885, \"kmedoids4\": 0, \"dbscan0\": 1}, {\"Trait1\": 15, \"Trait2\": 71.6059583456566, \"kmedoids4\": 0, \"dbscan0\": 1}, {\"Trait1\": 16, \"Trait2\": 69.7204914887746, \"kmedoids4\": 0, \"dbscan0\": 1}, {\"Trait1\": 17, \"Trait2\": 70.8452621189256, \"kmedoids4\": 0, \"dbscan0\": 1}, {\"Trait1\": 18, \"Trait2\": 76.8427386622255, \"kmedoids4\": 0, \"dbscan0\": 1}, {\"Trait1\": 19, \"Trait2\": 74.5898037313794, \"kmedoids4\": 0, \"dbscan0\": 1}, {\"Trait1\": 20, \"Trait2\": 78.2779775171851, \"kmedoids4\": 0, \"dbscan0\": 1}, {\"Trait1\": 21, \"Trait2\": 82.9499785428246, \"kmedoids4\": 0, \"dbscan0\": 1}, {\"Trait1\": 22, \"Trait2\": 72.6596937694897, \"kmedoids4\": 0, \"dbscan0\": 1}, {\"Trait1\": 23, \"Trait2\": 84.7777829201271, \"kmedoids4\": 0, \"dbscan0\": 1}, {\"Trait1\": 24, \"Trait2\": 89.672769448099, \"kmedoids4\": 0, \"dbscan0\": 1}, {\"Trait1\": 25, \"Trait2\": 85.1585390170415, \"kmedoids4\": 0, \"dbscan0\": 1}, {\"Trait1\": 26, \"Trait2\": 86.7389381735896, \"kmedoids4\": 0, \"dbscan0\": 1}, {\"Trait1\": 27, \"Trait2\": 95.3375318919619, \"kmedoids4\": 0, \"dbscan0\": 1}, {\"Trait1\": 28, \"Trait2\": 96.7151124005516, \"kmedoids4\": 0, \"dbscan0\": 1}, {\"Trait1\": 29, \"Trait2\": 94.7093865883847, \"kmedoids4\": 0, \"dbscan0\": 1}, {\"Trait1\": 30, \"Trait2\": 89.1476418388387, \"kmedoids4\": 0, \"dbscan0\": 1}, {\"Trait1\": 31, \"Trait2\": 96.9301295898234, \"kmedoids4\": 0, \"dbscan0\": 1}, {\"Trait1\": 32, \"Trait2\": 100.05331698743, \"kmedoids4\": 0, \"dbscan0\": 1}, {\"Trait1\": 33, \"Trait2\": 104.900848080715, \"kmedoids4\": 0, \"dbscan0\": 1}, {\"Trait1\": 34, \"Trait2\": 107.502230666888, \"kmedoids4\": 0, \"dbscan0\": 1}, {\"Trait1\": 35, \"Trait2\": 103.464515873541, \"kmedoids4\": 0, \"dbscan0\": 1}, {\"Trait1\": 36, \"Trait2\": 108.187681577479, \"kmedoids4\": 0, \"dbscan0\": 1}, {\"Trait1\": 37, \"Trait2\": 107.590609099095, \"kmedoids4\": 0, \"dbscan0\": 1}, {\"Trait1\": 38, \"Trait2\": 107.438815834311, \"kmedoids4\": 0, \"dbscan0\": 1}, {\"Trait1\": 39, \"Trait2\": 115.991940177356, \"kmedoids4\": 0, \"dbscan0\": 1}, {\"Trait1\": 40, \"Trait2\": 108.471321066221, \"kmedoids4\": 0, \"dbscan0\": 1}, {\"Trait1\": 41, \"Trait2\": 109.240052352039, \"kmedoids4\": 0, \"dbscan0\": 1}, {\"Trait1\": 42, \"Trait2\": 109.098678067637, \"kmedoids4\": 0, \"dbscan0\": 1}, {\"Trait1\": 43, \"Trait2\": 112.215951413227, \"kmedoids4\": 0, \"dbscan0\": 1}, {\"Trait1\": 44, \"Trait2\": 114.539543902812, \"kmedoids4\": 0, \"dbscan0\": 1}, {\"Trait1\": 45, \"Trait2\": 121.153942605791, \"kmedoids4\": 0, \"dbscan0\": 1}, {\"Trait1\": 46, \"Trait2\": 115.55605448441, \"kmedoids4\": 0, \"dbscan0\": 1}, {\"Trait1\": 47, \"Trait2\": 132.280007465122, \"kmedoids4\": 0, \"dbscan0\": 1}, {\"Trait1\": 48, \"Trait2\": 125.48222802331, \"kmedoids4\": 0, \"dbscan0\": 1}, {\"Trait1\": 49, \"Trait2\": 140.900694779431, \"kmedoids4\": 0, \"dbscan0\": 1}, {\"Trait1\": 50, \"Trait2\": 135.795227632237, \"kmedoids4\": 0, \"dbscan0\": 1}, {\"Trait1\": 1, \"Trait2\": 58.5687330073366, \"kmedoids4\": 3, \"dbscan0\": -1}, {\"Trait1\": 2, \"Trait2\": 71.2882468343402, \"kmedoids4\": 0, \"dbscan0\": 1}, {\"Trait1\": 3, \"Trait2\": 58.0193851354221, \"kmedoids4\": 3, \"dbscan0\": -1}, {\"Trait1\": 4, \"Trait2\": 54.1702212809274, \"kmedoids4\": 3, \"dbscan0\": 3}, {\"Trait1\": 5, \"Trait2\": 63.501057747441, \"kmedoids4\": 3, \"dbscan0\": 3}, {\"Trait1\": 6, \"Trait2\": 49.2316507908205, \"kmedoids4\": 3, \"dbscan0\": 2}, {\"Trait1\": 7, \"Trait2\": 48.115705103303, \"kmedoids4\": 3, \"dbscan0\": 2}, {\"Trait1\": 8, \"Trait2\": 43.0213228032614, \"kmedoids4\": 3, \"dbscan0\": 2}, {\"Trait1\": 9, \"Trait2\": 44.3438759908701, \"kmedoids4\": 3, \"dbscan0\": 2}, {\"Trait1\": 10, \"Trait2\": 45.1340902193139, \"kmedoids4\": 3, \"dbscan0\": 2}, {\"Trait1\": 11, \"Trait2\": 53.2735859031478, \"kmedoids4\": 3, \"dbscan0\": 2}, {\"Trait1\": 12, \"Trait2\": 51.9400069216887, \"kmedoids4\": 3, \"dbscan0\": 2}, {\"Trait1\": 13, \"Trait2\": 45.2201200860242, \"kmedoids4\": 3, \"dbscan0\": 2}, {\"Trait1\": 14, \"Trait2\": 46.4983457277218, \"kmedoids4\": 3, \"dbscan0\": 2}, {\"Trait1\": 15, \"Trait2\": 44.9392916789899, \"kmedoids4\": 3, \"dbscan0\": 2}, {\"Trait1\": 16, \"Trait2\": 39.0538248221079, \"kmedoids4\": 3, \"dbscan0\": 2}, {\"Trait1\": 17, \"Trait2\": 36.178595452259, \"kmedoids4\": 3, \"dbscan0\": 2}, {\"Trait1\": 18, \"Trait2\": 38.1760719955588, \"kmedoids4\": 3, \"dbscan0\": 2}, {\"Trait1\": 19, \"Trait2\": 31.9231370647127, \"kmedoids4\": 3, \"dbscan0\": 2}, {\"Trait1\": 20, \"Trait2\": 31.6113108505184, \"kmedoids4\": 3, \"dbscan0\": 2}, {\"Trait1\": 21, \"Trait2\": 32.2833118761579, \"kmedoids4\": 3, \"dbscan0\": 2}, {\"Trait1\": 22, \"Trait2\": 17.993027102823, \"kmedoids4\": 3, \"dbscan0\": 2}, {\"Trait1\": 23, \"Trait2\": 26.1111162534604, \"kmedoids4\": 3, \"dbscan0\": 2}, {\"Trait1\": 24, \"Trait2\": 27.0061027814324, \"kmedoids4\": 3, \"dbscan0\": 2}, {\"Trait1\": 25, \"Trait2\": 18.4918723503748, \"kmedoids4\": 3, \"dbscan0\": 2}, {\"Trait1\": 26, \"Trait2\": 16.0722715069229, \"kmedoids4\": 3, \"dbscan0\": 2}, {\"Trait1\": 27, \"Trait2\": 20.6708652252952, \"kmedoids4\": 3, \"dbscan0\": 2}, {\"Trait1\": 28, \"Trait2\": 18.048445733885, \"kmedoids4\": 3, \"dbscan0\": 2}, {\"Trait1\": 29, \"Trait2\": 12.042719921718, \"kmedoids4\": 3, \"dbscan0\": 2}, {\"Trait1\": 30, \"Trait2\": 2.48097517217198, \"kmedoids4\": 3, \"dbscan0\": 2}, {\"Trait1\": 31, \"Trait2\": 6.26346292315671, \"kmedoids4\": 3, \"dbscan0\": 2}, {\"Trait1\": 32, \"Trait2\": 5.38665032076338, \"kmedoids4\": 3, \"dbscan0\": 2}, {\"Trait1\": 33, \"Trait2\": 6.23418141404787, \"kmedoids4\": 3, \"dbscan0\": 2}, {\"Trait1\": 34, \"Trait2\": 4.83556400022158, \"kmedoids4\": 3, \"dbscan0\": 2}, {\"Trait1\": 35, \"Trait2\": -3.20215079312524, \"kmedoids4\": 3, \"dbscan0\": 2}, {\"Trait1\": 36, \"Trait2\": -2.47898508918783, \"kmedoids4\": 3, \"dbscan0\": 2}, {\"Trait1\": 37, \"Trait2\": -7.07605756757161, \"kmedoids4\": 3, \"dbscan0\": 2}, {\"Trait1\": 38, \"Trait2\": -11.2278508323555, \"kmedoids4\": 3, \"dbscan0\": 2}, {\"Trait1\": 39, \"Trait2\": -6.67472648931047, \"kmedoids4\": 3, \"dbscan0\": 2}, {\"Trait1\": 40, \"Trait2\": -18.1953456004461, \"kmedoids4\": 3, \"dbscan0\": 2}, {\"Trait1\": 41, \"Trait2\": -21.4266143146282, \"kmedoids4\": 3, \"dbscan0\": 2}, {\"Trait1\": 42, \"Trait2\": -25.5679885990297, \"kmedoids4\": 3, \"dbscan0\": 2}, {\"Trait1\": 43, \"Trait2\": -26.4507152534401, \"kmedoids4\": 3, \"dbscan0\": 2}, {\"Trait1\": 44, \"Trait2\": -28.1271227638548, \"kmedoids4\": 3, \"dbscan0\": 2}, {\"Trait1\": 45, \"Trait2\": -25.5127240608757, \"kmedoids4\": 3, \"dbscan0\": 2}, {\"Trait1\": 46, \"Trait2\": -35.1106121822571, \"kmedoids4\": 3, \"dbscan0\": 2}, {\"Trait1\": 47, \"Trait2\": -22.386659201545, \"kmedoids4\": 3, \"dbscan0\": 2}, {\"Trait1\": 48, \"Trait2\": -33.1844386433562, \"kmedoids4\": 3, \"dbscan0\": 2}, {\"Trait1\": 49, \"Trait2\": -21.7659718872358, \"kmedoids4\": 3, \"dbscan0\": 2}, {\"Trait1\": 50, \"Trait2\": -30.8714390344297, \"kmedoids4\": 3, \"dbscan0\": 2}]}}, {\"mode\": \"vega-lite\"});\n",
       "</script>"
      ],
      "text/plain": [
       "alt.VConcatChart(...)"
      ]
     },
     "execution_count": 28,
     "metadata": {},
     "output_type": "execute_result"
    }
   ],
   "source": [
    "(kmedoi_maha | kmedoi_new) & (dbscan_maha | dbscan_new)"
   ]
  },
  {
   "cell_type": "markdown",
   "id": "b69d772b",
   "metadata": {},
   "source": [
    "# Methods which don't take in precomputed metric."
   ]
  },
  {
   "cell_type": "markdown",
   "id": "e8002834",
   "metadata": {},
   "source": [
    "## Cluster with Birch"
   ]
  },
  {
   "cell_type": "code",
   "execution_count": 29,
   "id": "9fd908c7",
   "metadata": {},
   "outputs": [],
   "source": [
    "# Birch\n",
    "#beta_crop = beta_df.loc[:,[col1,col2]]\n",
    "brc = Birch(n_clusters=None, threshold=0.01, branching_factor=50).fit(beta_crop)\n",
    "b_lab = 'birch'\n",
    "results[b_lab] = brc.predict(beta_crop)"
   ]
  },
  {
   "cell_type": "markdown",
   "id": "e5b57a16",
   "metadata": {},
   "source": [
    "## Cluster with k-means"
   ]
  },
  {
   "cell_type": "code",
   "execution_count": 30,
   "id": "958f8731",
   "metadata": {},
   "outputs": [],
   "source": [
    "# K-Means\n",
    "nclust = npaths\n",
    "#beta_crop = beta_df.loc[:,[col1,col2]]\n",
    "kmeans = KMeans(n_clusters= nclust, random_state=0, n_init=\"auto\").fit(beta_crop)\n",
    "k_lab = 'kmeans%d'%nclust\n",
    "results[k_lab] = kmeans.labels_"
   ]
  },
  {
   "cell_type": "markdown",
   "id": "b99a094d",
   "metadata": {},
   "source": [
    "## Cluster with mini-Batch K-means"
   ]
  },
  {
   "cell_type": "code",
   "execution_count": 31,
   "id": "3bcd97fd",
   "metadata": {},
   "outputs": [],
   "source": [
    "kmeans_batch = MiniBatchKMeans(n_clusters=nclust,\n",
    "                               random_state=0,\n",
    "                               batch_size=6,\n",
    "                               max_iter=10,\n",
    "                               n_init=\"auto\").fit(beta_crop)\n",
    "km_lab = 'kmeans_minibatch%d'%nclust\n",
    "results[km_lab] = kmeans_batch.labels_"
   ]
  },
  {
   "cell_type": "markdown",
   "id": "01da76af",
   "metadata": {},
   "source": [
    "## Cluster with Mean-Shift"
   ]
  },
  {
   "cell_type": "code",
   "execution_count": 32,
   "id": "bcbddcd0",
   "metadata": {},
   "outputs": [],
   "source": [
    "bandwidth = estimate_bandwidth(beta_crop, quantile=0.2, n_samples=500)\n",
    "ms = MeanShift(bandwidth=bandwidth, bin_seeding=True).fit(beta_crop)\n",
    "ms_lab = \"Mean-Shift\"\n",
    "results[ms_lab] = ms.labels_"
   ]
  },
  {
   "cell_type": "markdown",
   "id": "e65eab61",
   "metadata": {},
   "source": [
    "## Cluster with Gaussian mixture"
   ]
  },
  {
   "cell_type": "code",
   "execution_count": 33,
   "id": "cac981fa",
   "metadata": {},
   "outputs": [],
   "source": [
    "gmm = GaussianMixture(n_components=5, covariance_type=\"diag\", random_state=0, init_params = \"random_from_data\").fit(beta_crop)\n",
    "gm_lab = \"mixture\"\n",
    "results[gm_lab] = gmm.predict(beta_crop)"
   ]
  },
  {
   "cell_type": "markdown",
   "id": "75c80e0c",
   "metadata": {},
   "source": [
    "### Plot the clustering methods without predefined distances."
   ]
  },
  {
   "cell_type": "code",
   "execution_count": 34,
   "id": "90cd07dc",
   "metadata": {},
   "outputs": [],
   "source": [
    "tooltip =[b_lab, k_lab, km_lab, ms_lab, ]\n",
    "birch = chartclusters(results,\"Birch\", b_lab+\":N\", tooltip)\n",
    "kmean = chartclusters(results, \"K-means\", k_lab+\":N\", tooltip)\n",
    "kminb = chartclusters(results,\"K-means mini-batch\",km_lab+\":N\",tooltip)\n",
    "means = chartclusters(results,\"Mean-shift\",ms_lab+\":N\",tooltip)\n",
    "gauss = chartclusters(results,\"Gaussian Mixture Model\",gm_lab+\":N\",tooltip)"
   ]
  },
  {
   "cell_type": "code",
   "execution_count": 35,
   "id": "d14722cc",
   "metadata": {},
   "outputs": [
    {
     "data": {
      "text/html": [
       "\n",
       "<style>\n",
       "  #altair-viz-d51758a802074c4589afb61614e7429b.vega-embed {\n",
       "    width: 100%;\n",
       "    display: flex;\n",
       "  }\n",
       "\n",
       "  #altair-viz-d51758a802074c4589afb61614e7429b.vega-embed details,\n",
       "  #altair-viz-d51758a802074c4589afb61614e7429b.vega-embed details summary {\n",
       "    position: relative;\n",
       "  }\n",
       "</style>\n",
       "<div id=\"altair-viz-d51758a802074c4589afb61614e7429b\"></div>\n",
       "<script type=\"text/javascript\">\n",
       "  var VEGA_DEBUG = (typeof VEGA_DEBUG == \"undefined\") ? {} : VEGA_DEBUG;\n",
       "  (function(spec, embedOpt){\n",
       "    let outputDiv = document.currentScript.previousElementSibling;\n",
       "    if (outputDiv.id !== \"altair-viz-d51758a802074c4589afb61614e7429b\") {\n",
       "      outputDiv = document.getElementById(\"altair-viz-d51758a802074c4589afb61614e7429b\");\n",
       "    }\n",
       "    const paths = {\n",
       "      \"vega\": \"https://cdn.jsdelivr.net/npm/vega@5?noext\",\n",
       "      \"vega-lib\": \"https://cdn.jsdelivr.net/npm/vega-lib?noext\",\n",
       "      \"vega-lite\": \"https://cdn.jsdelivr.net/npm/vega-lite@5.16.3?noext\",\n",
       "      \"vega-embed\": \"https://cdn.jsdelivr.net/npm/vega-embed@6?noext\",\n",
       "    };\n",
       "\n",
       "    function maybeLoadScript(lib, version) {\n",
       "      var key = `${lib.replace(\"-\", \"\")}_version`;\n",
       "      return (VEGA_DEBUG[key] == version) ?\n",
       "        Promise.resolve(paths[lib]) :\n",
       "        new Promise(function(resolve, reject) {\n",
       "          var s = document.createElement('script');\n",
       "          document.getElementsByTagName(\"head\")[0].appendChild(s);\n",
       "          s.async = true;\n",
       "          s.onload = () => {\n",
       "            VEGA_DEBUG[key] = version;\n",
       "            return resolve(paths[lib]);\n",
       "          };\n",
       "          s.onerror = () => reject(`Error loading script: ${paths[lib]}`);\n",
       "          s.src = paths[lib];\n",
       "        });\n",
       "    }\n",
       "\n",
       "    function showError(err) {\n",
       "      outputDiv.innerHTML = `<div class=\"error\" style=\"color:red;\">${err}</div>`;\n",
       "      throw err;\n",
       "    }\n",
       "\n",
       "    function displayChart(vegaEmbed) {\n",
       "      vegaEmbed(outputDiv, spec, embedOpt)\n",
       "        .catch(err => showError(`Javascript Error: ${err.message}<br>This usually means there's a typo in your chart specification. See the javascript console for the full traceback.`));\n",
       "    }\n",
       "\n",
       "    if(typeof define === \"function\" && define.amd) {\n",
       "      requirejs.config({paths});\n",
       "      require([\"vega-embed\"], displayChart, err => showError(`Error loading script: ${err.message}`));\n",
       "    } else {\n",
       "      maybeLoadScript(\"vega\", \"5\")\n",
       "        .then(() => maybeLoadScript(\"vega-lite\", \"5.16.3\"))\n",
       "        .then(() => maybeLoadScript(\"vega-embed\", \"6\"))\n",
       "        .catch(showError)\n",
       "        .then(() => displayChart(vegaEmbed));\n",
       "    }\n",
       "  })({\"config\": {\"view\": {\"continuousWidth\": 300, \"continuousHeight\": 300}}, \"vconcat\": [{\"hconcat\": [{\"mark\": {\"type\": \"circle\", \"size\": 60}, \"encoding\": {\"color\": {\"field\": \"mixture\", \"type\": \"nominal\"}, \"tooltip\": [{\"field\": \"birch\", \"type\": \"quantitative\"}, {\"field\": \"kmeans4\", \"type\": \"quantitative\"}, {\"field\": \"kmeans_minibatch4\", \"type\": \"quantitative\"}, {\"field\": \"Mean-Shift\", \"type\": \"quantitative\"}], \"x\": {\"field\": \"Trait1\", \"type\": \"quantitative\"}, \"y\": {\"field\": \"Trait2\", \"type\": \"quantitative\"}}, \"name\": \"view_15\", \"title\": \"Gaussian Mixture Model\"}, {\"mark\": {\"type\": \"circle\", \"size\": 60}, \"encoding\": {\"color\": {\"field\": \"kmeans4\", \"type\": \"nominal\"}, \"tooltip\": [{\"field\": \"birch\", \"type\": \"quantitative\"}, {\"field\": \"kmeans4\", \"type\": \"quantitative\"}, {\"field\": \"kmeans_minibatch4\", \"type\": \"quantitative\"}, {\"field\": \"Mean-Shift\", \"type\": \"quantitative\"}], \"x\": {\"field\": \"Trait1\", \"type\": \"quantitative\"}, \"y\": {\"field\": \"Trait2\", \"type\": \"quantitative\"}}, \"name\": \"view_16\", \"title\": \"K-means\"}]}, {\"hconcat\": [{\"mark\": {\"type\": \"circle\", \"size\": 60}, \"encoding\": {\"color\": {\"field\": \"kmeans_minibatch4\", \"type\": \"nominal\"}, \"tooltip\": [{\"field\": \"birch\", \"type\": \"quantitative\"}, {\"field\": \"kmeans4\", \"type\": \"quantitative\"}, {\"field\": \"kmeans_minibatch4\", \"type\": \"quantitative\"}, {\"field\": \"Mean-Shift\", \"type\": \"quantitative\"}], \"x\": {\"field\": \"Trait1\", \"type\": \"quantitative\"}, \"y\": {\"field\": \"Trait2\", \"type\": \"quantitative\"}}, \"name\": \"view_17\", \"title\": \"K-means mini-batch\"}, {\"mark\": {\"type\": \"circle\", \"size\": 60}, \"encoding\": {\"color\": {\"field\": \"Mean-Shift\", \"type\": \"nominal\"}, \"tooltip\": [{\"field\": \"birch\", \"type\": \"quantitative\"}, {\"field\": \"kmeans4\", \"type\": \"quantitative\"}, {\"field\": \"kmeans_minibatch4\", \"type\": \"quantitative\"}, {\"field\": \"Mean-Shift\", \"type\": \"quantitative\"}], \"x\": {\"field\": \"Trait1\", \"type\": \"quantitative\"}, \"y\": {\"field\": \"Trait2\", \"type\": \"quantitative\"}}, \"name\": \"view_18\", \"title\": \"Mean-shift\"}]}], \"data\": {\"name\": \"data-b87d18eac2c8cc2e1535df206b6696e1\"}, \"params\": [{\"name\": \"param_15\", \"select\": {\"type\": \"interval\", \"encodings\": [\"x\", \"y\"]}, \"bind\": \"scales\", \"views\": [\"view_15\"]}, {\"name\": \"param_12\", \"select\": {\"type\": \"interval\", \"encodings\": [\"x\", \"y\"]}, \"bind\": \"scales\", \"views\": [\"view_16\"]}, {\"name\": \"param_13\", \"select\": {\"type\": \"interval\", \"encodings\": [\"x\", \"y\"]}, \"bind\": \"scales\", \"views\": [\"view_17\"]}, {\"name\": \"param_14\", \"select\": {\"type\": \"interval\", \"encodings\": [\"x\", \"y\"]}, \"bind\": \"scales\", \"views\": [\"view_18\"]}], \"$schema\": \"https://vega.github.io/schema/vega-lite/v5.16.3.json\", \"datasets\": {\"data-b87d18eac2c8cc2e1535df206b6696e1\": [{\"Trait1\": 1, \"Trait2\": 2.08672583149746, \"affinity\": 1, \"Agglomerative\": 1, \"dbscan0\": 0, \"kmedoids4\": 2, \"spectral\": 0, \"optics\": 0, \"birch\": 164, \"kmeans4\": 0, \"kmeans_minibatch4\": 1, \"Mean-Shift\": 0, \"mixture\": 2}, {\"Trait1\": 2, \"Trait2\": 6.12056976510212, \"affinity\": 0, \"Agglomerative\": 1, \"dbscan0\": 0, \"kmedoids4\": 1, \"spectral\": 1, \"optics\": -1, \"birch\": 165, \"kmeans4\": 0, \"kmeans_minibatch4\": 1, \"Mean-Shift\": 0, \"mixture\": 2}, {\"Trait1\": 3, \"Trait2\": 6.88646334968507, \"affinity\": 1, \"Agglomerative\": 1, \"dbscan0\": 0, \"kmedoids4\": 2, \"spectral\": 0, \"optics\": 15, \"birch\": 166, \"kmeans4\": 0, \"kmeans_minibatch4\": 1, \"Mean-Shift\": 0, \"mixture\": 2}, {\"Trait1\": 4, \"Trait2\": 9.75480582658201, \"affinity\": 1, \"Agglomerative\": 1, \"dbscan0\": 0, \"kmedoids4\": 1, \"spectral\": 1, \"optics\": 16, \"birch\": 167, \"kmeans4\": 0, \"kmeans_minibatch4\": 1, \"Mean-Shift\": 0, \"mixture\": 2}, {\"Trait1\": 5, \"Trait2\": 12.2775113433599, \"affinity\": 1, \"Agglomerative\": 1, \"dbscan0\": 0, \"kmedoids4\": 1, \"spectral\": 0, \"optics\": 16, \"birch\": 168, \"kmeans4\": 0, \"kmeans_minibatch4\": 1, \"Mean-Shift\": 0, \"mixture\": 2}, {\"Trait1\": 6, \"Trait2\": 15.8932964396663, \"affinity\": 1, \"Agglomerative\": 1, \"dbscan0\": 0, \"kmedoids4\": 1, \"spectral\": 3, \"optics\": 30, \"birch\": 169, \"kmeans4\": 0, \"kmeans_minibatch4\": 1, \"Mean-Shift\": 0, \"mixture\": 1}, {\"Trait1\": 7, \"Trait2\": 18.8529003257863, \"affinity\": 1, \"Agglomerative\": 1, \"dbscan0\": 0, \"kmedoids4\": 1, \"spectral\": 0, \"optics\": -1, \"birch\": 124, \"kmeans4\": 0, \"kmeans_minibatch4\": 1, \"Mean-Shift\": 0, \"mixture\": 1}, {\"Trait1\": 8, \"Trait2\": 20.5595253310166, \"affinity\": 1, \"Agglomerative\": 1, \"dbscan0\": 0, \"kmedoids4\": 1, \"spectral\": 1, \"optics\": 19, \"birch\": 125, \"kmeans4\": 0, \"kmeans_minibatch4\": 1, \"Mean-Shift\": 0, \"mixture\": 1}, {\"Trait1\": 9, \"Trait2\": 22.7926128595136, \"affinity\": 1, \"Agglomerative\": 1, \"dbscan0\": 0, \"kmedoids4\": 1, \"spectral\": 0, \"optics\": 17, \"birch\": 126, \"kmeans4\": 0, \"kmeans_minibatch4\": 1, \"Mean-Shift\": 0, \"mixture\": 1}, {\"Trait1\": 10, \"Trait2\": 25.9601091174409, \"affinity\": 1, \"Agglomerative\": 1, \"dbscan0\": 0, \"kmedoids4\": 1, \"spectral\": 4, \"optics\": -1, \"birch\": 127, \"kmeans4\": 0, \"kmeans_minibatch4\": 1, \"Mean-Shift\": 0, \"mixture\": 1}, {\"Trait1\": 11, \"Trait2\": 28.4423665408976, \"affinity\": 1, \"Agglomerative\": 1, \"dbscan0\": 0, \"kmedoids4\": 1, \"spectral\": 1, \"optics\": 21, \"birch\": 128, \"kmeans4\": 0, \"kmeans_minibatch4\": 3, \"Mean-Shift\": 0, \"mixture\": 1}, {\"Trait1\": 12, \"Trait2\": 30.4279850772582, \"affinity\": 1, \"Agglomerative\": 1, \"dbscan0\": 0, \"kmedoids4\": 1, \"spectral\": 1, \"optics\": 17, \"birch\": 129, \"kmeans4\": 0, \"kmeans_minibatch4\": 3, \"Mean-Shift\": 0, \"mixture\": 1}, {\"Trait1\": 13, \"Trait2\": 34.7622417500243, \"affinity\": 1, \"Agglomerative\": 1, \"dbscan0\": 0, \"kmedoids4\": 1, \"spectral\": 3, \"optics\": 30, \"birch\": 41, \"kmeans4\": 2, \"kmeans_minibatch4\": 3, \"Mean-Shift\": 0, \"mixture\": 4}, {\"Trait1\": 14, \"Trait2\": 36.8630374767818, \"affinity\": 1, \"Agglomerative\": 1, \"dbscan0\": 0, \"kmedoids4\": 1, \"spectral\": 1, \"optics\": 29, \"birch\": 42, \"kmeans4\": 2, \"kmeans_minibatch4\": 3, \"Mean-Shift\": 0, \"mixture\": 4}, {\"Trait1\": 15, \"Trait2\": 39.9526380966417, \"affinity\": 1, \"Agglomerative\": 1, \"dbscan0\": 0, \"kmedoids4\": 1, \"spectral\": 0, \"optics\": 30, \"birch\": 43, \"kmeans4\": 2, \"kmeans_minibatch4\": 3, \"Mean-Shift\": 0, \"mixture\": 4}, {\"Trait1\": 16, \"Trait2\": 41.2725350596011, \"affinity\": 1, \"Agglomerative\": 1, \"dbscan0\": 0, \"kmedoids4\": 1, \"spectral\": 0, \"optics\": 20, \"birch\": 44, \"kmeans4\": 2, \"kmeans_minibatch4\": 3, \"Mean-Shift\": 1, \"mixture\": 4}, {\"Trait1\": 17, \"Trait2\": 44.1556880534627, \"affinity\": 1, \"Agglomerative\": 1, \"dbscan0\": 0, \"kmedoids4\": 1, \"spectral\": 1, \"optics\": 23, \"birch\": 45, \"kmeans4\": 2, \"kmeans_minibatch4\": 3, \"Mean-Shift\": 1, \"mixture\": 4}, {\"Trait1\": 18, \"Trait2\": 47.0347104500979, \"affinity\": 1, \"Agglomerative\": 1, \"dbscan0\": 0, \"kmedoids4\": 1, \"spectral\": 4, \"optics\": 26, \"birch\": 46, \"kmeans4\": 2, \"kmeans_minibatch4\": 3, \"Mean-Shift\": 1, \"mixture\": 4}, {\"Trait1\": 19, \"Trait2\": 48.4447864824906, \"affinity\": 1, \"Agglomerative\": 1, \"dbscan0\": 0, \"kmedoids4\": 1, \"spectral\": 0, \"optics\": 18, \"birch\": 47, \"kmeans4\": 2, \"kmeans_minibatch4\": 2, \"Mean-Shift\": 1, \"mixture\": 4}, {\"Trait1\": 20, \"Trait2\": 51.1183907180093, \"affinity\": 1, \"Agglomerative\": 1, \"dbscan0\": 0, \"kmedoids4\": 1, \"spectral\": 0, \"optics\": 18, \"birch\": 48, \"kmeans4\": 2, \"kmeans_minibatch4\": 2, \"Mean-Shift\": 1, \"mixture\": 4}, {\"Trait1\": 21, \"Trait2\": 55.139974263031, \"affinity\": 1, \"Agglomerative\": 1, \"dbscan0\": 0, \"kmedoids4\": 1, \"spectral\": 0, \"optics\": 28, \"birch\": 49, \"kmeans4\": 2, \"kmeans_minibatch4\": 2, \"Mean-Shift\": 1, \"mixture\": 4}, {\"Trait1\": 22, \"Trait2\": 57.1342522017658, \"affinity\": 1, \"Agglomerative\": 1, \"dbscan0\": 0, \"kmedoids4\": 1, \"spectral\": 0, \"optics\": 23, \"birch\": 90, \"kmeans4\": 2, \"kmeans_minibatch4\": 2, \"Mean-Shift\": 1, \"mixture\": 0}, {\"Trait1\": 23, \"Trait2\": 60.6843547066674, \"affinity\": 1, \"Agglomerative\": 1, \"dbscan0\": 0, \"kmedoids4\": 1, \"spectral\": 1, \"optics\": 29, \"birch\": 91, \"kmeans4\": 1, \"kmeans_minibatch4\": 2, \"Mean-Shift\": 1, \"mixture\": 0}, {\"Trait1\": 24, \"Trait2\": 62.3248899606988, \"affinity\": 1, \"Agglomerative\": 1, \"dbscan0\": 0, \"kmedoids4\": 1, \"spectral\": 3, \"optics\": 23, \"birch\": 92, \"kmeans4\": 1, \"kmeans_minibatch4\": 2, \"Mean-Shift\": 1, \"mixture\": 0}, {\"Trait1\": 25, \"Trait2\": 65.8702826779336, \"affinity\": 1, \"Agglomerative\": 1, \"dbscan0\": 0, \"kmedoids4\": 1, \"spectral\": 3, \"optics\": 29, \"birch\": 93, \"kmeans4\": 1, \"kmeans_minibatch4\": 2, \"Mean-Shift\": 1, \"mixture\": 0}, {\"Trait1\": 26, \"Trait2\": 68.280506873969, \"affinity\": 1, \"Agglomerative\": 1, \"dbscan0\": 0, \"kmedoids4\": 1, \"spectral\": 0, \"optics\": 28, \"birch\": 0, \"kmeans4\": 1, \"kmeans_minibatch4\": 2, \"Mean-Shift\": 1, \"mixture\": 0}, {\"Trait1\": 27, \"Trait2\": 70.0133757363074, \"affinity\": 1, \"Agglomerative\": 1, \"dbscan0\": 0, \"kmedoids4\": 1, \"spectral\": 3, \"optics\": -1, \"birch\": 1, \"kmeans4\": 1, \"kmeans_minibatch4\": 2, \"Mean-Shift\": 1, \"mixture\": 0}, {\"Trait1\": 28, \"Trait2\": 73.2828058721498, \"affinity\": 1, \"Agglomerative\": 1, \"dbscan0\": 0, \"kmedoids4\": 1, \"spectral\": 1, \"optics\": 27, \"birch\": 2, \"kmeans4\": 1, \"kmeans_minibatch4\": 2, \"Mean-Shift\": 1, \"mixture\": 0}, {\"Trait1\": 29, \"Trait2\": 75.5280309938826, \"affinity\": 1, \"Agglomerative\": 1, \"dbscan0\": 0, \"kmedoids4\": 1, \"spectral\": 0, \"optics\": 25, \"birch\": 3, \"kmeans4\": 1, \"kmeans_minibatch4\": 2, \"Mean-Shift\": 1, \"mixture\": 0}, {\"Trait1\": 30, \"Trait2\": 78.8810441796668, \"affinity\": 1, \"Agglomerative\": 1, \"dbscan0\": 0, \"kmedoids4\": 1, \"spectral\": 1, \"optics\": 28, \"birch\": 4, \"kmeans4\": 1, \"kmeans_minibatch4\": 0, \"Mean-Shift\": 2, \"mixture\": 0}, {\"Trait1\": 31, \"Trait2\": 81.1028690589592, \"affinity\": 1, \"Agglomerative\": 1, \"dbscan0\": 0, \"kmedoids4\": 1, \"spectral\": 1, \"optics\": 27, \"birch\": 5, \"kmeans4\": 1, \"kmeans_minibatch4\": 0, \"Mean-Shift\": 2, \"mixture\": 0}, {\"Trait1\": 32, \"Trait2\": 82.3963380032219, \"affinity\": 1, \"Agglomerative\": 1, \"dbscan0\": 0, \"kmedoids4\": 1, \"spectral\": 0, \"optics\": 20, \"birch\": 6, \"kmeans4\": 1, \"kmeans_minibatch4\": 0, \"Mean-Shift\": 2, \"mixture\": 0}, {\"Trait1\": 33, \"Trait2\": 85.355167186819, \"affinity\": 1, \"Agglomerative\": 1, \"dbscan0\": 0, \"kmedoids4\": 1, \"spectral\": 0, \"optics\": 21, \"birch\": 7, \"kmeans4\": 1, \"kmeans_minibatch4\": 0, \"Mean-Shift\": 2, \"mixture\": 0}, {\"Trait1\": 34, \"Trait2\": 87.3751316801645, \"affinity\": 1, \"Agglomerative\": 1, \"dbscan0\": 0, \"kmedoids4\": 1, \"spectral\": 0, \"optics\": 19, \"birch\": 8, \"kmeans4\": 1, \"kmeans_minibatch4\": 0, \"Mean-Shift\": 2, \"mixture\": 0}, {\"Trait1\": 35, \"Trait2\": 91.6318751717918, \"affinity\": 1, \"Agglomerative\": 1, \"dbscan0\": 0, \"kmedoids4\": 1, \"spectral\": 1, \"optics\": 27, \"birch\": 9, \"kmeans4\": 3, \"kmeans_minibatch4\": 0, \"Mean-Shift\": 2, \"mixture\": 0}, {\"Trait1\": 36, \"Trait2\": 92.8615541914478, \"affinity\": 1, \"Agglomerative\": 1, \"dbscan0\": 0, \"kmedoids4\": 1, \"spectral\": 1, \"optics\": 20, \"birch\": 10, \"kmeans4\": 3, \"kmeans_minibatch4\": 0, \"Mean-Shift\": 2, \"mixture\": 3}, {\"Trait1\": 37, \"Trait2\": 97.0472668344155, \"affinity\": 1, \"Agglomerative\": 1, \"dbscan0\": 0, \"kmedoids4\": 1, \"spectral\": 1, \"optics\": 28, \"birch\": 11, \"kmeans4\": 3, \"kmeans_minibatch4\": 0, \"Mean-Shift\": 2, \"mixture\": 3}, {\"Trait1\": 38, \"Trait2\": 99.1087709246203, \"affinity\": 1, \"Agglomerative\": 1, \"dbscan0\": 0, \"kmedoids4\": 1, \"spectral\": 1, \"optics\": -1, \"birch\": 12, \"kmeans4\": 3, \"kmeans_minibatch4\": 0, \"Mean-Shift\": 2, \"mixture\": 3}, {\"Trait1\": 39, \"Trait2\": 101.467102435417, \"affinity\": 1, \"Agglomerative\": 1, \"dbscan0\": 0, \"kmedoids4\": 1, \"spectral\": 4, \"optics\": 24, \"birch\": 13, \"kmeans4\": 3, \"kmeans_minibatch4\": 0, \"Mean-Shift\": 2, \"mixture\": 3}, {\"Trait1\": 40, \"Trait2\": 104.085351397283, \"affinity\": 1, \"Agglomerative\": 1, \"dbscan0\": 0, \"kmedoids4\": 1, \"spectral\": 2, \"optics\": 24, \"birch\": 14, \"kmeans4\": 3, \"kmeans_minibatch4\": 0, \"Mean-Shift\": 2, \"mixture\": 3}, {\"Trait1\": 41, \"Trait2\": 106.774421071168, \"affinity\": 1, \"Agglomerative\": 1, \"dbscan0\": 0, \"kmedoids4\": 1, \"spectral\": 1, \"optics\": 25, \"birch\": 15, \"kmeans4\": 3, \"kmeans_minibatch4\": 0, \"Mean-Shift\": 2, \"mixture\": 3}, {\"Trait1\": 42, \"Trait2\": 109.222858909983, \"affinity\": 1, \"Agglomerative\": 1, \"dbscan0\": 0, \"kmedoids4\": 1, \"spectral\": 1, \"optics\": 24, \"birch\": 16, \"kmeans4\": 3, \"kmeans_minibatch4\": 0, \"Mean-Shift\": 2, \"mixture\": 3}, {\"Trait1\": 43, \"Trait2\": 111.589046704583, \"affinity\": 1, \"Agglomerative\": 1, \"dbscan0\": 0, \"kmedoids4\": 1, \"spectral\": 1, \"optics\": 22, \"birch\": 17, \"kmeans4\": 3, \"kmeans_minibatch4\": 0, \"Mean-Shift\": 2, \"mixture\": 3}, {\"Trait1\": 44, \"Trait2\": 114.548203396145, \"affinity\": 1, \"Agglomerative\": 1, \"dbscan0\": 0, \"kmedoids4\": 1, \"spectral\": 1, \"optics\": 25, \"birch\": 18, \"kmeans4\": 3, \"kmeans_minibatch4\": 0, \"Mean-Shift\": 2, \"mixture\": 3}, {\"Trait1\": 45, \"Trait2\": 116.375648713205, \"affinity\": 1, \"Agglomerative\": 1, \"dbscan0\": 0, \"kmedoids4\": 1, \"spectral\": 3, \"optics\": 21, \"birch\": 19, \"kmeans4\": 3, \"kmeans_minibatch4\": 0, \"Mean-Shift\": 2, \"mixture\": 3}, {\"Trait1\": 46, \"Trait2\": 119.380490974523, \"affinity\": 1, \"Agglomerative\": 1, \"dbscan0\": 0, \"kmedoids4\": 1, \"spectral\": 0, \"optics\": 22, \"birch\": 20, \"kmeans4\": 3, \"kmeans_minibatch4\": 0, \"Mean-Shift\": 2, \"mixture\": 3}, {\"Trait1\": 47, \"Trait2\": 122.050112180412, \"affinity\": 1, \"Agglomerative\": 1, \"dbscan0\": 0, \"kmedoids4\": 1, \"spectral\": 0, \"optics\": 23, \"birch\": 21, \"kmeans4\": 3, \"kmeans_minibatch4\": 0, \"Mean-Shift\": 2, \"mixture\": 3}, {\"Trait1\": 48, \"Trait2\": 123.804526870139, \"affinity\": 1, \"Agglomerative\": 1, \"dbscan0\": 0, \"kmedoids4\": 1, \"spectral\": 1, \"optics\": 20, \"birch\": 22, \"kmeans4\": 3, \"kmeans_minibatch4\": 0, \"Mean-Shift\": 2, \"mixture\": 3}, {\"Trait1\": 49, \"Trait2\": 127.978164030705, \"affinity\": 1, \"Agglomerative\": 1, \"dbscan0\": 0, \"kmedoids4\": 1, \"spectral\": 0, \"optics\": 26, \"birch\": 23, \"kmeans4\": 3, \"kmeans_minibatch4\": 0, \"Mean-Shift\": 2, \"mixture\": 3}, {\"Trait1\": 50, \"Trait2\": 129.925273145083, \"affinity\": 1, \"Agglomerative\": 1, \"dbscan0\": 0, \"kmedoids4\": 1, \"spectral\": 0, \"optics\": -1, \"birch\": 24, \"kmeans4\": 3, \"kmeans_minibatch4\": 0, \"Mean-Shift\": 2, \"mixture\": 3}, {\"Trait1\": 1, \"Trait2\": 1.6837007580325, \"affinity\": 1, \"Agglomerative\": 1, \"dbscan0\": 1, \"kmedoids4\": 0, \"spectral\": 3, \"optics\": -1, \"birch\": 170, \"kmeans4\": 0, \"kmeans_minibatch4\": 1, \"Mean-Shift\": 0, \"mixture\": 2}, {\"Trait1\": 2, \"Trait2\": 5.3145196181722, \"affinity\": 1, \"Agglomerative\": 1, \"dbscan0\": 0, \"kmedoids4\": 1, \"spectral\": 4, \"optics\": 30, \"birch\": 171, \"kmeans4\": 0, \"kmeans_minibatch4\": 1, \"Mean-Shift\": 0, \"mixture\": 2}, {\"Trait1\": 3, \"Trait2\": 5.67738812929019, \"affinity\": 1, \"Agglomerative\": 1, \"dbscan0\": 0, \"kmedoids4\": 2, \"spectral\": 1, \"optics\": -1, \"birch\": 172, \"kmeans4\": 0, \"kmeans_minibatch4\": 1, \"Mean-Shift\": 0, \"mixture\": 2}, {\"Trait1\": 4, \"Trait2\": 8.14270553272218, \"affinity\": 1, \"Agglomerative\": 1, \"dbscan0\": 0, \"kmedoids4\": 2, \"spectral\": 0, \"optics\": 0, \"birch\": 173, \"kmeans4\": 0, \"kmeans_minibatch4\": 1, \"Mean-Shift\": 0, \"mixture\": 2}, {\"Trait1\": 5, \"Trait2\": 10.2623859760351, \"affinity\": 1, \"Agglomerative\": 1, \"dbscan0\": 0, \"kmedoids4\": 2, \"spectral\": 4, \"optics\": 0, \"birch\": 174, \"kmeans4\": 0, \"kmeans_minibatch4\": 1, \"Mean-Shift\": 0, \"mixture\": 2}, {\"Trait1\": 6, \"Trait2\": 13.4751459988765, \"affinity\": 1, \"Agglomerative\": 1, \"dbscan0\": 0, \"kmedoids4\": 2, \"spectral\": 3, \"optics\": -1, \"birch\": 175, \"kmeans4\": 0, \"kmeans_minibatch4\": 1, \"Mean-Shift\": 0, \"mixture\": 1}, {\"Trait1\": 7, \"Trait2\": 16.0317248115316, \"affinity\": 1, \"Agglomerative\": 1, \"dbscan0\": 0, \"kmedoids4\": 2, \"spectral\": 0, \"optics\": 15, \"birch\": 176, \"kmeans4\": 0, \"kmeans_minibatch4\": 1, \"Mean-Shift\": 0, \"mixture\": 1}, {\"Trait1\": 8, \"Trait2\": 17.335324743297, \"affinity\": 1, \"Agglomerative\": 1, \"dbscan0\": 0, \"kmedoids4\": 2, \"spectral\": 3, \"optics\": 3, \"birch\": 130, \"kmeans4\": 0, \"kmeans_minibatch4\": 1, \"Mean-Shift\": 0, \"mixture\": 1}, {\"Trait1\": 9, \"Trait2\": 19.165387198329, \"affinity\": 1, \"Agglomerative\": 1, \"dbscan0\": 0, \"kmedoids4\": 2, \"spectral\": 0, \"optics\": 1, \"birch\": 131, \"kmeans4\": 0, \"kmeans_minibatch4\": 1, \"Mean-Shift\": 0, \"mixture\": 1}, {\"Trait1\": 10, \"Trait2\": 21.9298583827913, \"affinity\": 1, \"Agglomerative\": 1, \"dbscan0\": 0, \"kmedoids4\": 2, \"spectral\": 3, \"optics\": -1, \"birch\": 132, \"kmeans4\": 0, \"kmeans_minibatch4\": 1, \"Mean-Shift\": 0, \"mixture\": 1}, {\"Trait1\": 11, \"Trait2\": 24.0090907327831, \"affinity\": 1, \"Agglomerative\": 1, \"dbscan0\": 0, \"kmedoids4\": 2, \"spectral\": 0, \"optics\": 5, \"birch\": 133, \"kmeans4\": 0, \"kmeans_minibatch4\": 1, \"Mean-Shift\": 0, \"mixture\": 1}, {\"Trait1\": 12, \"Trait2\": 25.5916841956787, \"affinity\": 1, \"Agglomerative\": 1, \"dbscan0\": 0, \"kmedoids4\": 2, \"spectral\": 1, \"optics\": 1, \"birch\": 134, \"kmeans4\": 0, \"kmeans_minibatch4\": 3, \"Mean-Shift\": 0, \"mixture\": 1}, {\"Trait1\": 13, \"Trait2\": 29.5229157949798, \"affinity\": 1, \"Agglomerative\": 1, \"dbscan0\": 0, \"kmedoids4\": 2, \"spectral\": 0, \"optics\": 14, \"birch\": 135, \"kmeans4\": 0, \"kmeans_minibatch4\": 3, \"Mean-Shift\": 0, \"mixture\": 1}, {\"Trait1\": 14, \"Trait2\": 31.2206864482723, \"affinity\": 1, \"Agglomerative\": 1, \"dbscan0\": 0, \"kmedoids4\": 2, \"spectral\": 3, \"optics\": 13, \"birch\": 136, \"kmeans4\": 2, \"kmeans_minibatch4\": 3, \"Mean-Shift\": 0, \"mixture\": 1}, {\"Trait1\": 15, \"Trait2\": 33.9072619946674, \"affinity\": 1, \"Agglomerative\": 1, \"dbscan0\": 0, \"kmedoids4\": 2, \"spectral\": 0, \"optics\": 14, \"birch\": 50, \"kmeans4\": 2, \"kmeans_minibatch4\": 3, \"Mean-Shift\": 0, \"mixture\": 4}, {\"Trait1\": 16, \"Trait2\": 34.8241338841617, \"affinity\": 1, \"Agglomerative\": 1, \"dbscan0\": 0, \"kmedoids4\": 2, \"spectral\": 3, \"optics\": 4, \"birch\": 51, \"kmeans4\": 2, \"kmeans_minibatch4\": 3, \"Mean-Shift\": 0, \"mixture\": 4}, {\"Trait1\": 17, \"Trait2\": 37.3042618045583, \"affinity\": 1, \"Agglomerative\": 1, \"dbscan0\": 0, \"kmedoids4\": 2, \"spectral\": 1, \"optics\": 7, \"birch\": 52, \"kmeans4\": 2, \"kmeans_minibatch4\": 3, \"Mean-Shift\": 0, \"mixture\": 4}, {\"Trait1\": 18, \"Trait2\": 39.7802591277286, \"affinity\": 1, \"Agglomerative\": 1, \"dbscan0\": 0, \"kmedoids4\": 2, \"spectral\": 0, \"optics\": 10, \"birch\": 53, \"kmeans4\": 2, \"kmeans_minibatch4\": 3, \"Mean-Shift\": 1, \"mixture\": 4}, {\"Trait1\": 19, \"Trait2\": 40.7873100866564, \"affinity\": 1, \"Agglomerative\": 1, \"dbscan0\": 0, \"kmedoids4\": 2, \"spectral\": 1, \"optics\": 2, \"birch\": 54, \"kmeans4\": 2, \"kmeans_minibatch4\": 3, \"Mean-Shift\": 1, \"mixture\": 4}, {\"Trait1\": 20, \"Trait2\": 43.0578892487101, \"affinity\": 1, \"Agglomerative\": 1, \"dbscan0\": 0, \"kmedoids4\": 2, \"spectral\": 1, \"optics\": 2, \"birch\": 55, \"kmeans4\": 2, \"kmeans_minibatch4\": 3, \"Mean-Shift\": 1, \"mixture\": 4}, {\"Trait1\": 21, \"Trait2\": 46.6764477202669, \"affinity\": 1, \"Agglomerative\": 1, \"dbscan0\": 0, \"kmedoids4\": 2, \"spectral\": 1, \"optics\": 12, \"birch\": 56, \"kmeans4\": 2, \"kmeans_minibatch4\": 3, \"Mean-Shift\": 1, \"mixture\": 4}, {\"Trait1\": 22, \"Trait2\": 48.2677005855367, \"affinity\": 1, \"Agglomerative\": 1, \"dbscan0\": 0, \"kmedoids4\": 2, \"spectral\": 1, \"optics\": 7, \"birch\": 57, \"kmeans4\": 2, \"kmeans_minibatch4\": 2, \"Mean-Shift\": 1, \"mixture\": 4}, {\"Trait1\": 23, \"Trait2\": 51.4147780169733, \"affinity\": 1, \"Agglomerative\": 1, \"dbscan0\": 0, \"kmedoids4\": 2, \"spectral\": 1, \"optics\": 13, \"birch\": 58, \"kmeans4\": 2, \"kmeans_minibatch4\": 2, \"Mean-Shift\": 1, \"mixture\": 4}, {\"Trait1\": 24, \"Trait2\": 52.6522881975397, \"affinity\": 1, \"Agglomerative\": 1, \"dbscan0\": 0, \"kmedoids4\": 2, \"spectral\": 0, \"optics\": 7, \"birch\": 59, \"kmeans4\": 2, \"kmeans_minibatch4\": 2, \"Mean-Shift\": 1, \"mixture\": 4}, {\"Trait1\": 25, \"Trait2\": 55.7946558413096, \"affinity\": 1, \"Agglomerative\": 1, \"dbscan0\": 0, \"kmedoids4\": 2, \"spectral\": 2, \"optics\": 13, \"birch\": 94, \"kmeans4\": 2, \"kmeans_minibatch4\": 2, \"Mean-Shift\": 1, \"mixture\": 0}, {\"Trait1\": 26, \"Trait2\": 57.80185496388, \"affinity\": 1, \"Agglomerative\": 1, \"dbscan0\": 0, \"kmedoids4\": 2, \"spectral\": 1, \"optics\": 12, \"birch\": 95, \"kmeans4\": 1, \"kmeans_minibatch4\": 2, \"Mean-Shift\": 1, \"mixture\": 0}, {\"Trait1\": 27, \"Trait2\": 59.1316987527534, \"affinity\": 1, \"Agglomerative\": 1, \"dbscan0\": 0, \"kmedoids4\": 2, \"spectral\": 1, \"optics\": -1, \"birch\": 96, \"kmeans4\": 1, \"kmeans_minibatch4\": 2, \"Mean-Shift\": 1, \"mixture\": 0}, {\"Trait1\": 28, \"Trait2\": 61.9981038151309, \"affinity\": 1, \"Agglomerative\": 1, \"dbscan0\": 0, \"kmedoids4\": 2, \"spectral\": 0, \"optics\": 11, \"birch\": 97, \"kmeans4\": 1, \"kmeans_minibatch4\": 2, \"Mean-Shift\": 1, \"mixture\": 0}, {\"Trait1\": 29, \"Trait2\": 63.8403038633987, \"affinity\": 1, \"Agglomerative\": 1, \"dbscan0\": 0, \"kmedoids4\": 2, \"spectral\": 1, \"optics\": 9, \"birch\": 98, \"kmeans4\": 1, \"kmeans_minibatch4\": 2, \"Mean-Shift\": 1, \"mixture\": 0}, {\"Trait1\": 30, \"Trait2\": 66.790291975718, \"affinity\": 1, \"Agglomerative\": 1, \"dbscan0\": 0, \"kmedoids4\": 2, \"spectral\": 1, \"optics\": 12, \"birch\": 99, \"kmeans4\": 1, \"kmeans_minibatch4\": 2, \"Mean-Shift\": 1, \"mixture\": 0}, {\"Trait1\": 31, \"Trait2\": 68.6090917815454, \"affinity\": 1, \"Agglomerative\": 1, \"dbscan0\": 0, \"kmedoids4\": 2, \"spectral\": 0, \"optics\": 11, \"birch\": 100, \"kmeans4\": 1, \"kmeans_minibatch4\": 2, \"Mean-Shift\": 1, \"mixture\": 0}, {\"Trait1\": 32, \"Trait2\": 69.4995356523432, \"affinity\": 1, \"Agglomerative\": 1, \"dbscan0\": 0, \"kmedoids4\": 2, \"spectral\": 1, \"optics\": 4, \"birch\": 101, \"kmeans4\": 1, \"kmeans_minibatch4\": 2, \"Mean-Shift\": 1, \"mixture\": 0}, {\"Trait1\": 33, \"Trait2\": 72.0553397624753, \"affinity\": 1, \"Agglomerative\": 1, \"dbscan0\": 0, \"kmedoids4\": 2, \"spectral\": 0, \"optics\": 5, \"birch\": 102, \"kmeans4\": 1, \"kmeans_minibatch4\": 2, \"Mean-Shift\": 1, \"mixture\": 0}, {\"Trait1\": 34, \"Trait2\": 73.6722791823559, \"affinity\": 1, \"Agglomerative\": 1, \"dbscan0\": 0, \"kmedoids4\": 2, \"spectral\": 1, \"optics\": 3, \"birch\": 103, \"kmeans4\": 1, \"kmeans_minibatch4\": 2, \"Mean-Shift\": 1, \"mixture\": 0}, {\"Trait1\": 35, \"Trait2\": 77.5259976005182, \"affinity\": 1, \"Agglomerative\": 1, \"dbscan0\": 0, \"kmedoids4\": 2, \"spectral\": 0, \"optics\": 11, \"birch\": 25, \"kmeans4\": 1, \"kmeans_minibatch4\": 0, \"Mean-Shift\": 2, \"mixture\": 0}, {\"Trait1\": 36, \"Trait2\": 78.3526515467092, \"affinity\": 1, \"Agglomerative\": 1, \"dbscan0\": 0, \"kmedoids4\": 2, \"spectral\": 1, \"optics\": 4, \"birch\": 26, \"kmeans4\": 1, \"kmeans_minibatch4\": 0, \"Mean-Shift\": 2, \"mixture\": 0}, {\"Trait1\": 37, \"Trait2\": 82.135339116212, \"affinity\": 1, \"Agglomerative\": 1, \"dbscan0\": 0, \"kmedoids4\": 2, \"spectral\": 0, \"optics\": 12, \"birch\": 27, \"kmeans4\": 1, \"kmeans_minibatch4\": 0, \"Mean-Shift\": 2, \"mixture\": 0}, {\"Trait1\": 38, \"Trait2\": 83.7938181329519, \"affinity\": 1, \"Agglomerative\": 1, \"dbscan0\": 0, \"kmedoids4\": 2, \"spectral\": 4, \"optics\": -1, \"birch\": 28, \"kmeans4\": 1, \"kmeans_minibatch4\": 0, \"Mean-Shift\": 2, \"mixture\": 3}, {\"Trait1\": 39, \"Trait2\": 85.749124570284, \"affinity\": 1, \"Agglomerative\": 1, \"dbscan0\": 0, \"kmedoids4\": 2, \"spectral\": 1, \"optics\": 8, \"birch\": 29, \"kmeans4\": 1, \"kmeans_minibatch4\": 0, \"Mean-Shift\": 2, \"mixture\": 3}, {\"Trait1\": 40, \"Trait2\": 87.964348458685, \"affinity\": 1, \"Agglomerative\": 1, \"dbscan0\": 0, \"kmedoids4\": 2, \"spectral\": 4, \"optics\": 8, \"birch\": 30, \"kmeans4\": 1, \"kmeans_minibatch4\": 0, \"Mean-Shift\": 2, \"mixture\": 3}, {\"Trait1\": 41, \"Trait2\": 90.2503930591047, \"affinity\": 1, \"Agglomerative\": 1, \"dbscan0\": 0, \"kmedoids4\": 2, \"spectral\": 3, \"optics\": 9, \"birch\": 31, \"kmeans4\": 3, \"kmeans_minibatch4\": 0, \"Mean-Shift\": 2, \"mixture\": 3}, {\"Trait1\": 42, \"Trait2\": 92.2958058244549, \"affinity\": 1, \"Agglomerative\": 1, \"dbscan0\": 0, \"kmedoids4\": 2, \"spectral\": 1, \"optics\": 8, \"birch\": 32, \"kmeans4\": 3, \"kmeans_minibatch4\": 0, \"Mean-Shift\": 2, \"mixture\": 3}, {\"Trait1\": 43, \"Trait2\": 94.2589685455896, \"affinity\": 1, \"Agglomerative\": 1, \"dbscan0\": 0, \"kmedoids4\": 2, \"spectral\": 1, \"optics\": 6, \"birch\": 33, \"kmeans4\": 3, \"kmeans_minibatch4\": 0, \"Mean-Shift\": 2, \"mixture\": 3}, {\"Trait1\": 44, \"Trait2\": 96.815100163687, \"affinity\": 1, \"Agglomerative\": 1, \"dbscan0\": 0, \"kmedoids4\": 2, \"spectral\": 4, \"optics\": 9, \"birch\": 34, \"kmeans4\": 3, \"kmeans_minibatch4\": 0, \"Mean-Shift\": 2, \"mixture\": 3}, {\"Trait1\": 45, \"Trait2\": 98.2395204072818, \"affinity\": 1, \"Agglomerative\": 1, \"dbscan0\": 0, \"kmedoids4\": 2, \"spectral\": 0, \"optics\": 5, \"birch\": 35, \"kmeans4\": 3, \"kmeans_minibatch4\": 0, \"Mean-Shift\": 2, \"mixture\": 3}, {\"Trait1\": 46, \"Trait2\": 100.841337595135, \"affinity\": 1, \"Agglomerative\": 1, \"dbscan0\": 0, \"kmedoids4\": 2, \"spectral\": 1, \"optics\": 6, \"birch\": 36, \"kmeans4\": 3, \"kmeans_minibatch4\": 0, \"Mean-Shift\": 2, \"mixture\": 3}, {\"Trait1\": 47, \"Trait2\": 103.107933727559, \"affinity\": 1, \"Agglomerative\": 1, \"dbscan0\": 0, \"kmedoids4\": 2, \"spectral\": 2, \"optics\": 7, \"birch\": 37, \"kmeans4\": 3, \"kmeans_minibatch4\": 0, \"Mean-Shift\": 2, \"mixture\": 3}, {\"Trait1\": 48, \"Trait2\": 104.459323343821, \"affinity\": 1, \"Agglomerative\": 1, \"dbscan0\": 0, \"kmedoids4\": 2, \"spectral\": 1, \"optics\": 4, \"birch\": 38, \"kmeans4\": 3, \"kmeans_minibatch4\": 0, \"Mean-Shift\": 2, \"mixture\": 3}, {\"Trait1\": 49, \"Trait2\": 108.229935430922, \"affinity\": 1, \"Agglomerative\": 1, \"dbscan0\": 0, \"kmedoids4\": 2, \"spectral\": 0, \"optics\": 10, \"birch\": 39, \"kmeans4\": 3, \"kmeans_minibatch4\": 0, \"Mean-Shift\": 2, \"mixture\": 3}, {\"Trait1\": 50, \"Trait2\": 109.774019471835, \"affinity\": 1, \"Agglomerative\": 1, \"dbscan0\": 0, \"kmedoids4\": 2, \"spectral\": 0, \"optics\": -1, \"birch\": 40, \"kmeans4\": 3, \"kmeans_minibatch4\": 0, \"Mean-Shift\": 2, \"mixture\": 3}, {\"Trait1\": 1, \"Trait2\": 1.00918779033236, \"affinity\": 0, \"Agglomerative\": 0, \"dbscan0\": 2, \"kmedoids4\": 3, \"spectral\": 1, \"optics\": 46, \"birch\": 177, \"kmeans4\": 0, \"kmeans_minibatch4\": 1, \"Mean-Shift\": 0, \"mixture\": 2}, {\"Trait1\": 2, \"Trait2\": 3.96549368277192, \"affinity\": 1, \"Agglomerative\": 1, \"dbscan0\": 0, \"kmedoids4\": 2, \"spectral\": 3, \"optics\": -1, \"birch\": 178, \"kmeans4\": 0, \"kmeans_minibatch4\": 1, \"Mean-Shift\": 0, \"mixture\": 2}, {\"Trait1\": 3, \"Trait2\": 3.65384922618978, \"affinity\": 1, \"Agglomerative\": 1, \"dbscan0\": -1, \"kmedoids4\": 0, \"spectral\": 4, \"optics\": -1, \"birch\": 179, \"kmeans4\": 0, \"kmeans_minibatch4\": 1, \"Mean-Shift\": 0, \"mixture\": 2}, {\"Trait1\": 4, \"Trait2\": 5.44465366192162, \"affinity\": 1, \"Agglomerative\": 1, \"dbscan0\": 1, \"kmedoids4\": 0, \"spectral\": 1, \"optics\": 45, \"birch\": 180, \"kmeans4\": 0, \"kmeans_minibatch4\": 1, \"Mean-Shift\": 0, \"mixture\": 2}, {\"Trait1\": 5, \"Trait2\": 6.88982113753445, \"affinity\": 1, \"Agglomerative\": 1, \"dbscan0\": 1, \"kmedoids4\": 0, \"spectral\": 0, \"optics\": 45, \"birch\": 181, \"kmeans4\": 0, \"kmeans_minibatch4\": 1, \"Mean-Shift\": 0, \"mixture\": 2}, {\"Trait1\": 6, \"Trait2\": 9.42806819267571, \"affinity\": 1, \"Agglomerative\": 1, \"dbscan0\": 1, \"kmedoids4\": 0, \"spectral\": 0, \"optics\": -1, \"birch\": 182, \"kmeans4\": 0, \"kmeans_minibatch4\": 1, \"Mean-Shift\": 0, \"mixture\": 2}, {\"Trait1\": 7, \"Trait2\": 11.3101340376306, \"affinity\": 1, \"Agglomerative\": 1, \"dbscan0\": 1, \"kmedoids4\": 0, \"spectral\": 0, \"optics\": -1, \"birch\": 183, \"kmeans4\": 0, \"kmeans_minibatch4\": 1, \"Mean-Shift\": 0, \"mixture\": 2}, {\"Trait1\": 8, \"Trait2\": 11.9392210016958, \"affinity\": 1, \"Agglomerative\": 1, \"dbscan0\": 1, \"kmedoids4\": 0, \"spectral\": 1, \"optics\": 42, \"birch\": 184, \"kmeans4\": 0, \"kmeans_minibatch4\": 1, \"Mean-Shift\": 0, \"mixture\": 1}, {\"Trait1\": 9, \"Trait2\": 13.0947704890277, \"affinity\": 1, \"Agglomerative\": 1, \"dbscan0\": 1, \"kmedoids4\": 0, \"spectral\": 1, \"optics\": 44, \"birch\": 185, \"kmeans4\": 0, \"kmeans_minibatch4\": 1, \"Mean-Shift\": 0, \"mixture\": 1}, {\"Trait1\": 10, \"Trait2\": 15.1847287057899, \"affinity\": 1, \"Agglomerative\": 1, \"dbscan0\": 1, \"kmedoids4\": 0, \"spectral\": 1, \"optics\": -1, \"birch\": 186, \"kmeans4\": 0, \"kmeans_minibatch4\": 1, \"Mean-Shift\": 0, \"mixture\": 1}, {\"Trait1\": 11, \"Trait2\": 16.5894480880816, \"affinity\": 1, \"Agglomerative\": 1, \"dbscan0\": 1, \"kmedoids4\": 0, \"spectral\": 1, \"optics\": 40, \"birch\": 137, \"kmeans4\": 0, \"kmeans_minibatch4\": 1, \"Mean-Shift\": 0, \"mixture\": 1}, {\"Trait1\": 12, \"Trait2\": 17.497528583277, \"affinity\": 1, \"Agglomerative\": 1, \"dbscan0\": 1, \"kmedoids4\": 0, \"spectral\": 0, \"optics\": 44, \"birch\": 138, \"kmeans4\": 0, \"kmeans_minibatch4\": 1, \"Mean-Shift\": 0, \"mixture\": 1}, {\"Trait1\": 13, \"Trait2\": 20.754247214878, \"affinity\": 1, \"Agglomerative\": 1, \"dbscan0\": 1, \"kmedoids4\": 0, \"spectral\": 3, \"optics\": 31, \"birch\": 139, \"kmeans4\": 0, \"kmeans_minibatch4\": 1, \"Mean-Shift\": 0, \"mixture\": 1}, {\"Trait1\": 14, \"Trait2\": 21.7775049004704, \"affinity\": 1, \"Agglomerative\": 1, \"dbscan0\": 1, \"kmedoids4\": 0, \"spectral\": 0, \"optics\": 32, \"birch\": 140, \"kmeans4\": 0, \"kmeans_minibatch4\": 1, \"Mean-Shift\": 0, \"mixture\": 1}, {\"Trait1\": 15, \"Trait2\": 23.7895674791653, \"affinity\": 1, \"Agglomerative\": 1, \"dbscan0\": 1, \"kmedoids4\": 0, \"spectral\": 0, \"optics\": 31, \"birch\": 141, \"kmeans4\": 0, \"kmeans_minibatch4\": 3, \"Mean-Shift\": 0, \"mixture\": 1}, {\"Trait1\": 16, \"Trait2\": 24.0319264009595, \"affinity\": 1, \"Agglomerative\": 1, \"dbscan0\": 1, \"kmedoids4\": 0, \"spectral\": 0, \"optics\": 41, \"birch\": 142, \"kmeans4\": 0, \"kmeans_minibatch4\": 3, \"Mean-Shift\": 0, \"mixture\": 1}, {\"Trait1\": 17, \"Trait2\": 25.837541353656, \"affinity\": 1, \"Agglomerative\": 1, \"dbscan0\": 1, \"kmedoids4\": 0, \"spectral\": 3, \"optics\": 38, \"birch\": 143, \"kmeans4\": 0, \"kmeans_minibatch4\": 3, \"Mean-Shift\": 0, \"mixture\": 1}, {\"Trait1\": 18, \"Trait2\": 27.6390257091261, \"affinity\": 1, \"Agglomerative\": 1, \"dbscan0\": 1, \"kmedoids4\": 0, \"spectral\": 1, \"optics\": 35, \"birch\": 144, \"kmeans4\": 0, \"kmeans_minibatch4\": 3, \"Mean-Shift\": 0, \"mixture\": 1}, {\"Trait1\": 19, \"Trait2\": 27.9715637003537, \"affinity\": 1, \"Agglomerative\": 1, \"dbscan0\": 1, \"kmedoids4\": 0, \"spectral\": 1, \"optics\": 43, \"birch\": 145, \"kmeans4\": 2, \"kmeans_minibatch4\": 3, \"Mean-Shift\": 0, \"mixture\": 1}, {\"Trait1\": 20, \"Trait2\": 29.5676298947074, \"affinity\": 1, \"Agglomerative\": 1, \"dbscan0\": 1, \"kmedoids4\": 0, \"spectral\": 0, \"optics\": 43, \"birch\": 146, \"kmeans4\": 2, \"kmeans_minibatch4\": 3, \"Mean-Shift\": 0, \"mixture\": 4}, {\"Trait1\": 21, \"Trait2\": 32.511675398564, \"affinity\": 1, \"Agglomerative\": 1, \"dbscan0\": 1, \"kmedoids4\": 0, \"spectral\": 3, \"optics\": 33, \"birch\": 60, \"kmeans4\": 2, \"kmeans_minibatch4\": 3, \"Mean-Shift\": 0, \"mixture\": 4}, {\"Trait1\": 22, \"Trait2\": 33.4284152961336, \"affinity\": 1, \"Agglomerative\": 1, \"dbscan0\": 1, \"kmedoids4\": 0, \"spectral\": 0, \"optics\": 38, \"birch\": 61, \"kmeans4\": 2, \"kmeans_minibatch4\": 3, \"Mean-Shift\": 0, \"mixture\": 4}, {\"Trait1\": 23, \"Trait2\": 35.9009797598701, \"affinity\": 1, \"Agglomerative\": 1, \"dbscan0\": 1, \"kmedoids4\": 0, \"spectral\": 1, \"optics\": 32, \"birch\": 62, \"kmeans4\": 2, \"kmeans_minibatch4\": 3, \"Mean-Shift\": 0, \"mixture\": 4}, {\"Trait1\": 24, \"Trait2\": 36.4639769727364, \"affinity\": 1, \"Agglomerative\": 1, \"dbscan0\": 1, \"kmedoids4\": 0, \"spectral\": 4, \"optics\": 38, \"birch\": 63, \"kmeans4\": 2, \"kmeans_minibatch4\": 3, \"Mean-Shift\": 0, \"mixture\": 4}, {\"Trait1\": 25, \"Trait2\": 38.9318316488061, \"affinity\": 1, \"Agglomerative\": 1, \"dbscan0\": 1, \"kmedoids4\": 0, \"spectral\": 3, \"optics\": 32, \"birch\": 64, \"kmeans4\": 2, \"kmeans_minibatch4\": 3, \"Mean-Shift\": 1, \"mixture\": 4}, {\"Trait1\": 26, \"Trait2\": 40.2645178036764, \"affinity\": 1, \"Agglomerative\": 1, \"dbscan0\": 1, \"kmedoids4\": 0, \"spectral\": 1, \"optics\": 33, \"birch\": 65, \"kmeans4\": 2, \"kmeans_minibatch4\": 3, \"Mean-Shift\": 1, \"mixture\": 4}, {\"Trait1\": 27, \"Trait2\": 40.9198486248497, \"affinity\": 1, \"Agglomerative\": 1, \"dbscan0\": 1, \"kmedoids4\": 0, \"spectral\": 1, \"optics\": -1, \"birch\": 66, \"kmeans4\": 2, \"kmeans_minibatch4\": 3, \"Mean-Shift\": 1, \"mixture\": 4}, {\"Trait1\": 28, \"Trait2\": 43.111740719527, \"affinity\": 1, \"Agglomerative\": 1, \"dbscan0\": 1, \"kmedoids4\": 0, \"spectral\": 1, \"optics\": 34, \"birch\": 67, \"kmeans4\": 2, \"kmeans_minibatch4\": 2, \"Mean-Shift\": 1, \"mixture\": 4}, {\"Trait1\": 29, \"Trait2\": 44.2794278000947, \"affinity\": 1, \"Agglomerative\": 1, \"dbscan0\": 1, \"kmedoids4\": 0, \"spectral\": 1, \"optics\": 36, \"birch\": 68, \"kmeans4\": 2, \"kmeans_minibatch4\": 2, \"Mean-Shift\": 1, \"mixture\": 4}, {\"Trait1\": 30, \"Trait2\": 46.5549029447138, \"affinity\": 1, \"Agglomerative\": 1, \"dbscan0\": 1, \"kmedoids4\": 0, \"spectral\": 0, \"optics\": 33, \"birch\": 69, \"kmeans4\": 2, \"kmeans_minibatch4\": 2, \"Mean-Shift\": 1, \"mixture\": 4}, {\"Trait1\": 31, \"Trait2\": 47.6991897828411, \"affinity\": 1, \"Agglomerative\": 1, \"dbscan0\": 1, \"kmedoids4\": 0, \"spectral\": 0, \"optics\": 34, \"birch\": 70, \"kmeans4\": 2, \"kmeans_minibatch4\": 2, \"Mean-Shift\": 1, \"mixture\": 4}, {\"Trait1\": 32, \"Trait2\": 47.9151206859387, \"affinity\": 1, \"Agglomerative\": 1, \"dbscan0\": 1, \"kmedoids4\": 0, \"spectral\": 0, \"optics\": 41, \"birch\": 71, \"kmeans4\": 2, \"kmeans_minibatch4\": 2, \"Mean-Shift\": 1, \"mixture\": 4}, {\"Trait1\": 33, \"Trait2\": 49.7964118283708, \"affinity\": 1, \"Agglomerative\": 1, \"dbscan0\": 1, \"kmedoids4\": 0, \"spectral\": 1, \"optics\": 40, \"birch\": 104, \"kmeans4\": 2, \"kmeans_minibatch4\": 2, \"Mean-Shift\": 1, \"mixture\": 4}, {\"Trait1\": 34, \"Trait2\": 50.7388382805511, \"affinity\": 1, \"Agglomerative\": 1, \"dbscan0\": 1, \"kmedoids4\": 0, \"spectral\": 1, \"optics\": 42, \"birch\": 105, \"kmeans4\": 2, \"kmeans_minibatch4\": 2, \"Mean-Shift\": 1, \"mixture\": 0}, {\"Trait1\": 35, \"Trait2\": 53.9180437310133, \"affinity\": 1, \"Agglomerative\": 1, \"dbscan0\": 1, \"kmedoids4\": 0, \"spectral\": 1, \"optics\": 34, \"birch\": 106, \"kmeans4\": 2, \"kmeans_minibatch4\": 2, \"Mean-Shift\": 1, \"mixture\": 0}, {\"Trait1\": 36, \"Trait2\": 54.0701847095042, \"affinity\": 1, \"Agglomerative\": 1, \"dbscan0\": 1, \"kmedoids4\": 0, \"spectral\": 1, \"optics\": 41, \"birch\": 107, \"kmeans4\": 2, \"kmeans_minibatch4\": 2, \"Mean-Shift\": 1, \"mixture\": 0}, {\"Trait1\": 37, \"Trait2\": 57.1783593113068, \"affinity\": 1, \"Agglomerative\": 1, \"dbscan0\": 1, \"kmedoids4\": 0, \"spectral\": 4, \"optics\": 33, \"birch\": 108, \"kmeans4\": 1, \"kmeans_minibatch4\": 2, \"Mean-Shift\": 1, \"mixture\": 0}, {\"Trait1\": 38, \"Trait2\": 58.1623253603466, \"affinity\": 1, \"Agglomerative\": 1, \"dbscan0\": 1, \"kmedoids4\": 0, \"spectral\": 0, \"optics\": -1, \"birch\": 109, \"kmeans4\": 1, \"kmeans_minibatch4\": 2, \"Mean-Shift\": 1, \"mixture\": 0}, {\"Trait1\": 39, \"Trait2\": 59.4431188299786, \"affinity\": 1, \"Agglomerative\": 1, \"dbscan0\": 1, \"kmedoids4\": 0, \"spectral\": 0, \"optics\": 37, \"birch\": 110, \"kmeans4\": 1, \"kmeans_minibatch4\": 2, \"Mean-Shift\": 1, \"mixture\": 0}, {\"Trait1\": 40, \"Trait2\": 60.9838297506794, \"affinity\": 1, \"Agglomerative\": 1, \"dbscan0\": 1, \"kmedoids4\": 0, \"spectral\": 4, \"optics\": 37, \"birch\": 111, \"kmeans4\": 1, \"kmeans_minibatch4\": 2, \"Mean-Shift\": 1, \"mixture\": 0}, {\"Trait1\": 41, \"Trait2\": 62.595361383399, \"affinity\": 1, \"Agglomerative\": 1, \"dbscan0\": 1, \"kmedoids4\": 0, \"spectral\": 1, \"optics\": 36, \"birch\": 112, \"kmeans4\": 1, \"kmeans_minibatch4\": 2, \"Mean-Shift\": 1, \"mixture\": 0}, {\"Trait1\": 42, \"Trait2\": 63.966261181049, \"affinity\": 1, \"Agglomerative\": 1, \"dbscan0\": 1, \"kmedoids4\": 0, \"spectral\": 1, \"optics\": 37, \"birch\": 113, \"kmeans4\": 1, \"kmeans_minibatch4\": 2, \"Mean-Shift\": 1, \"mixture\": 0}, {\"Trait1\": 43, \"Trait2\": 65.2549109344836, \"affinity\": 1, \"Agglomerative\": 1, \"dbscan0\": 1, \"kmedoids4\": 0, \"spectral\": 3, \"optics\": 39, \"birch\": 114, \"kmeans4\": 1, \"kmeans_minibatch4\": 2, \"Mean-Shift\": 1, \"mixture\": 3}, {\"Trait1\": 44, \"Trait2\": 67.1365295848809, \"affinity\": 1, \"Agglomerative\": 1, \"dbscan0\": 1, \"kmedoids4\": 0, \"spectral\": 1, \"optics\": 36, \"birch\": 115, \"kmeans4\": 1, \"kmeans_minibatch4\": 2, \"Mean-Shift\": 1, \"mixture\": 3}, {\"Trait1\": 45, \"Trait2\": 67.8864368607756, \"affinity\": 1, \"Agglomerative\": 1, \"dbscan0\": 1, \"kmedoids4\": 0, \"spectral\": 3, \"optics\": 40, \"birch\": 116, \"kmeans4\": 1, \"kmeans_minibatch4\": 2, \"Mean-Shift\": 1, \"mixture\": 3}, {\"Trait1\": 46, \"Trait2\": 69.8137410809286, \"affinity\": 1, \"Agglomerative\": 1, \"dbscan0\": 1, \"kmedoids4\": 0, \"spectral\": 0, \"optics\": 39, \"birch\": 117, \"kmeans4\": 1, \"kmeans_minibatch4\": 2, \"Mean-Shift\": 1, \"mixture\": 3}, {\"Trait1\": 47, \"Trait2\": 71.4058242456522, \"affinity\": 1, \"Agglomerative\": 1, \"dbscan0\": 1, \"kmedoids4\": 0, \"spectral\": 1, \"optics\": 38, \"birch\": 118, \"kmeans4\": 1, \"kmeans_minibatch4\": 2, \"Mean-Shift\": 1, \"mixture\": 3}, {\"Trait1\": 48, \"Trait2\": 72.0827008942142, \"affinity\": 1, \"Agglomerative\": 1, \"dbscan0\": 1, \"kmedoids4\": 0, \"spectral\": 1, \"optics\": 41, \"birch\": 119, \"kmeans4\": 1, \"kmeans_minibatch4\": 2, \"Mean-Shift\": 1, \"mixture\": 3}, {\"Trait1\": 49, \"Trait2\": 75.1788000136148, \"affinity\": 1, \"Agglomerative\": 1, \"dbscan0\": 1, \"kmedoids4\": 0, \"spectral\": 2, \"optics\": 35, \"birch\": 120, \"kmeans4\": 1, \"kmeans_minibatch4\": 0, \"Mean-Shift\": 2, \"mixture\": 3}, {\"Trait1\": 50, \"Trait2\": 76.0483710868284, \"affinity\": 1, \"Agglomerative\": 1, \"dbscan0\": 1, \"kmedoids4\": 0, \"spectral\": 0, \"optics\": -1, \"birch\": 121, \"kmeans4\": 1, \"kmeans_minibatch4\": 0, \"Mean-Shift\": 2, \"mixture\": 3}, {\"Trait1\": 1, \"Trait2\": 0.430051394505426, \"affinity\": 1, \"Agglomerative\": 0, \"dbscan0\": -1, \"kmedoids4\": 3, \"spectral\": 0, \"optics\": -1, \"birch\": 187, \"kmeans4\": 0, \"kmeans_minibatch4\": 1, \"Mean-Shift\": 0, \"mixture\": 2}, {\"Trait1\": 2, \"Trait2\": 2.80722089111805, \"affinity\": 1, \"Agglomerative\": 1, \"dbscan0\": 1, \"kmedoids4\": 0, \"spectral\": 1, \"optics\": 45, \"birch\": 188, \"kmeans4\": 0, \"kmeans_minibatch4\": 1, \"Mean-Shift\": 0, \"mixture\": 2}, {\"Trait1\": 3, \"Trait2\": 1.91644003870897, \"affinity\": 0, \"Agglomerative\": 0, \"dbscan0\": -1, \"kmedoids4\": 3, \"spectral\": 2, \"optics\": -1, \"birch\": 189, \"kmeans4\": 0, \"kmeans_minibatch4\": 1, \"Mean-Shift\": 0, \"mixture\": 2}, {\"Trait1\": 4, \"Trait2\": 3.12810807861388, \"affinity\": 0, \"Agglomerative\": 0, \"dbscan0\": 3, \"kmedoids4\": 3, \"spectral\": 0, \"optics\": 60, \"birch\": 190, \"kmeans4\": 0, \"kmeans_minibatch4\": 1, \"Mean-Shift\": 0, \"mixture\": 2}, {\"Trait1\": 5, \"Trait2\": 3.99413915839978, \"affinity\": 0, \"Agglomerative\": 0, \"dbscan0\": 3, \"kmedoids4\": 3, \"spectral\": 3, \"optics\": 60, \"birch\": 191, \"kmeans4\": 0, \"kmeans_minibatch4\": 1, \"Mean-Shift\": 0, \"mixture\": 2}, {\"Trait1\": 6, \"Trait2\": 5.9532498177141, \"affinity\": 0, \"Agglomerative\": 0, \"dbscan0\": 2, \"kmedoids4\": 3, \"spectral\": 2, \"optics\": -1, \"birch\": 192, \"kmeans4\": 0, \"kmeans_minibatch4\": 1, \"Mean-Shift\": 0, \"mixture\": 2}, {\"Trait1\": 7, \"Trait2\": 7.25617926684208, \"affinity\": 0, \"Agglomerative\": 0, \"dbscan0\": 2, \"kmedoids4\": 3, \"spectral\": 1, \"optics\": -1, \"birch\": 193, \"kmeans4\": 0, \"kmeans_minibatch4\": 1, \"Mean-Shift\": 0, \"mixture\": 2}, {\"Trait1\": 8, \"Trait2\": 7.30612983508036, \"affinity\": 0, \"Agglomerative\": 0, \"dbscan0\": 2, \"kmedoids4\": 3, \"spectral\": 0, \"optics\": 57, \"birch\": 194, \"kmeans4\": 0, \"kmeans_minibatch4\": 1, \"Mean-Shift\": 0, \"mixture\": 2}, {\"Trait1\": 9, \"Trait2\": 7.8825429265853, \"affinity\": 0, \"Agglomerative\": 0, \"dbscan0\": 2, \"kmedoids4\": 3, \"spectral\": 3, \"optics\": 59, \"birch\": 195, \"kmeans4\": 0, \"kmeans_minibatch4\": 1, \"Mean-Shift\": 0, \"mixture\": 1}, {\"Trait1\": 10, \"Trait2\": 9.39336474752054, \"affinity\": 0, \"Agglomerative\": 0, \"dbscan0\": 2, \"kmedoids4\": 3, \"spectral\": 0, \"optics\": -1, \"birch\": 196, \"kmeans4\": 0, \"kmeans_minibatch4\": 1, \"Mean-Shift\": 0, \"mixture\": 1}, {\"Trait1\": 11, \"Trait2\": 10.2189477339853, \"affinity\": 0, \"Agglomerative\": 0, \"dbscan0\": 2, \"kmedoids4\": 3, \"spectral\": 0, \"optics\": 55, \"birch\": 197, \"kmeans4\": 0, \"kmeans_minibatch4\": 1, \"Mean-Shift\": 0, \"mixture\": 1}, {\"Trait1\": 12, \"Trait2\": 10.5478918333538, \"affinity\": 0, \"Agglomerative\": 0, \"dbscan0\": 2, \"kmedoids4\": 3, \"spectral\": 0, \"optics\": 59, \"birch\": 198, \"kmeans4\": 0, \"kmeans_minibatch4\": 1, \"Mean-Shift\": 0, \"mixture\": 1}, {\"Trait1\": 13, \"Trait2\": 13.2254740691278, \"affinity\": 0, \"Agglomerative\": 0, \"dbscan0\": 2, \"kmedoids4\": 3, \"spectral\": 1, \"optics\": 46, \"birch\": 199, \"kmeans4\": 0, \"kmeans_minibatch4\": 1, \"Mean-Shift\": 0, \"mixture\": 1}, {\"Trait1\": 14, \"Trait2\": 13.6695953588933, \"affinity\": 0, \"Agglomerative\": 0, \"dbscan0\": 2, \"kmedoids4\": 3, \"spectral\": 0, \"optics\": 47, \"birch\": 147, \"kmeans4\": 0, \"kmeans_minibatch4\": 1, \"Mean-Shift\": 0, \"mixture\": 1}, {\"Trait1\": 15, \"Trait2\": 15.1025215417612, \"affinity\": 0, \"Agglomerative\": 0, \"dbscan0\": 2, \"kmedoids4\": 3, \"spectral\": 1, \"optics\": 46, \"birch\": 148, \"kmeans4\": 0, \"kmeans_minibatch4\": 1, \"Mean-Shift\": 0, \"mixture\": 1}, {\"Trait1\": 16, \"Trait2\": 14.7657440677285, \"affinity\": 0, \"Agglomerative\": 0, \"dbscan0\": 2, \"kmedoids4\": 3, \"spectral\": 0, \"optics\": 56, \"birch\": 149, \"kmeans4\": 0, \"kmeans_minibatch4\": 1, \"Mean-Shift\": 0, \"mixture\": 1}, {\"Trait1\": 17, \"Trait2\": 15.9922226245981, \"affinity\": 0, \"Agglomerative\": 0, \"dbscan0\": 2, \"kmedoids4\": 3, \"spectral\": 1, \"optics\": 53, \"birch\": 150, \"kmeans4\": 0, \"kmeans_minibatch4\": 1, \"Mean-Shift\": 0, \"mixture\": 1}, {\"Trait1\": 18, \"Trait2\": 17.2145705842413, \"affinity\": 0, \"Agglomerative\": 0, \"dbscan0\": 2, \"kmedoids4\": 3, \"spectral\": 4, \"optics\": 50, \"birch\": 151, \"kmeans4\": 0, \"kmeans_minibatch4\": 1, \"Mean-Shift\": 0, \"mixture\": 1}, {\"Trait1\": 19, \"Trait2\": 16.9679721796419, \"affinity\": 0, \"Agglomerative\": 0, \"dbscan0\": 2, \"kmedoids4\": 3, \"spectral\": 1, \"optics\": 58, \"birch\": 152, \"kmeans4\": 0, \"kmeans_minibatch4\": 1, \"Mean-Shift\": 0, \"mixture\": 1}, {\"Trait1\": 20, \"Trait2\": 17.9849019781686, \"affinity\": 0, \"Agglomerative\": 0, \"dbscan0\": 2, \"kmedoids4\": 3, \"spectral\": 1, \"optics\": 58, \"birch\": 153, \"kmeans4\": 0, \"kmeans_minibatch4\": 1, \"Mean-Shift\": 0, \"mixture\": 1}, {\"Trait1\": 21, \"Trait2\": 20.3498110861983, \"affinity\": 0, \"Agglomerative\": 0, \"dbscan0\": 2, \"kmedoids4\": 3, \"spectral\": 1, \"optics\": 48, \"birch\": 154, \"kmeans4\": 0, \"kmeans_minibatch4\": 3, \"Mean-Shift\": 0, \"mixture\": 1}, {\"Trait1\": 22, \"Trait2\": 20.687414587941, \"affinity\": 0, \"Agglomerative\": 0, \"dbscan0\": 2, \"kmedoids4\": 3, \"spectral\": 1, \"optics\": 53, \"birch\": 155, \"kmeans4\": 0, \"kmeans_minibatch4\": 3, \"Mean-Shift\": 0, \"mixture\": 1}, {\"Trait1\": 23, \"Trait2\": 22.5808426558506, \"affinity\": 0, \"Agglomerative\": 0, \"dbscan0\": 2, \"kmedoids4\": 3, \"spectral\": 3, \"optics\": 47, \"birch\": 156, \"kmeans4\": 0, \"kmeans_minibatch4\": 3, \"Mean-Shift\": 0, \"mixture\": 1}, {\"Trait1\": 24, \"Trait2\": 22.56470347289, \"affinity\": 0, \"Agglomerative\": 0, \"dbscan0\": 2, \"kmedoids4\": 3, \"spectral\": 0, \"optics\": 53, \"birch\": 157, \"kmeans4\": 0, \"kmeans_minibatch4\": 3, \"Mean-Shift\": 0, \"mixture\": 4}, {\"Trait1\": 25, \"Trait2\": 24.4534217531327, \"affinity\": 0, \"Agglomerative\": 0, \"dbscan0\": 2, \"kmedoids4\": 3, \"spectral\": 3, \"optics\": 47, \"birch\": 158, \"kmeans4\": 2, \"kmeans_minibatch4\": 3, \"Mean-Shift\": 0, \"mixture\": 4}, {\"Trait1\": 26, \"Trait2\": 25.2069715121761, \"affinity\": 0, \"Agglomerative\": 0, \"dbscan0\": 2, \"kmedoids4\": 3, \"spectral\": 1, \"optics\": 48, \"birch\": 159, \"kmeans4\": 2, \"kmeans_minibatch4\": 3, \"Mean-Shift\": 0, \"mixture\": 4}, {\"Trait1\": 27, \"Trait2\": 25.2831659375224, \"affinity\": 0, \"Agglomerative\": 0, \"dbscan0\": 2, \"kmedoids4\": 3, \"spectral\": 0, \"optics\": -1, \"birch\": 160, \"kmeans4\": 2, \"kmeans_minibatch4\": 3, \"Mean-Shift\": 0, \"mixture\": 4}, {\"Trait1\": 28, \"Trait2\": 26.8959216363728, \"affinity\": 0, \"Agglomerative\": 0, \"dbscan0\": 2, \"kmedoids4\": 3, \"spectral\": 0, \"optics\": 49, \"birch\": 161, \"kmeans4\": 2, \"kmeans_minibatch4\": 3, \"Mean-Shift\": 0, \"mixture\": 4}, {\"Trait1\": 29, \"Trait2\": 27.4844723211136, \"affinity\": 0, \"Agglomerative\": 0, \"dbscan0\": 2, \"kmedoids4\": 3, \"spectral\": 1, \"optics\": 51, \"birch\": 162, \"kmeans4\": 2, \"kmeans_minibatch4\": 3, \"Mean-Shift\": 0, \"mixture\": 4}, {\"Trait1\": 30, \"Trait2\": 29.1808110699058, \"affinity\": 0, \"Agglomerative\": 0, \"dbscan0\": 2, \"kmedoids4\": 3, \"spectral\": 0, \"optics\": 48, \"birch\": 163, \"kmeans4\": 2, \"kmeans_minibatch4\": 3, \"Mean-Shift\": 0, \"mixture\": 4}, {\"Trait1\": 31, \"Trait2\": 29.7459615122061, \"affinity\": 0, \"Agglomerative\": 0, \"dbscan0\": 2, \"kmedoids4\": 3, \"spectral\": 0, \"optics\": 49, \"birch\": 72, \"kmeans4\": 2, \"kmeans_minibatch4\": 3, \"Mean-Shift\": 0, \"mixture\": 4}, {\"Trait1\": 32, \"Trait2\": 29.3827560194768, \"affinity\": 0, \"Agglomerative\": 0, \"dbscan0\": 2, \"kmedoids4\": 3, \"spectral\": 1, \"optics\": 56, \"birch\": 73, \"kmeans4\": 2, \"kmeans_minibatch4\": 3, \"Mean-Shift\": 0, \"mixture\": 4}, {\"Trait1\": 33, \"Trait2\": 30.6849107660819, \"affinity\": 0, \"Agglomerative\": 0, \"dbscan0\": 2, \"kmedoids4\": 3, \"spectral\": 1, \"optics\": 55, \"birch\": 74, \"kmeans4\": 2, \"kmeans_minibatch4\": 3, \"Mean-Shift\": 0, \"mixture\": 4}, {\"Trait1\": 34, \"Trait2\": 31.0482008224353, \"affinity\": 0, \"Agglomerative\": 0, \"dbscan0\": 2, \"kmedoids4\": 3, \"spectral\": 1, \"optics\": 57, \"birch\": 75, \"kmeans4\": 2, \"kmeans_minibatch4\": 3, \"Mean-Shift\": 0, \"mixture\": 4}, {\"Trait1\": 35, \"Trait2\": 33.6482698770706, \"affinity\": 0, \"Agglomerative\": 0, \"dbscan0\": 2, \"kmedoids4\": 3, \"spectral\": 1, \"optics\": 49, \"birch\": 76, \"kmeans4\": 2, \"kmeans_minibatch4\": 3, \"Mean-Shift\": 1, \"mixture\": 4}, {\"Trait1\": 36, \"Trait2\": 33.2212744597346, \"affinity\": 0, \"Agglomerative\": 0, \"dbscan0\": 2, \"kmedoids4\": 3, \"spectral\": 0, \"optics\": 56, \"birch\": 77, \"kmeans4\": 2, \"kmeans_minibatch4\": 3, \"Mean-Shift\": 1, \"mixture\": 4}, {\"Trait1\": 37, \"Trait2\": 35.7503126657102, \"affinity\": 0, \"Agglomerative\": 0, \"dbscan0\": 2, \"kmedoids4\": 3, \"spectral\": 1, \"optics\": 48, \"birch\": 78, \"kmeans4\": 2, \"kmeans_minibatch4\": 3, \"Mean-Shift\": 1, \"mixture\": 4}, {\"Trait1\": 38, \"Trait2\": 36.155142318923, \"affinity\": 0, \"Agglomerative\": 0, \"dbscan0\": 2, \"kmedoids4\": 3, \"spectral\": 1, \"optics\": -1, \"birch\": 79, \"kmeans4\": 2, \"kmeans_minibatch4\": 3, \"Mean-Shift\": 1, \"mixture\": 4}, {\"Trait1\": 39, \"Trait2\": 36.8567993927281, \"affinity\": 0, \"Agglomerative\": 0, \"dbscan0\": 2, \"kmedoids4\": 3, \"spectral\": 0, \"optics\": 52, \"birch\": 80, \"kmeans4\": 2, \"kmeans_minibatch4\": 2, \"Mean-Shift\": 1, \"mixture\": 4}, {\"Trait1\": 40, \"Trait2\": 37.818373917602, \"affinity\": 0, \"Agglomerative\": 0, \"dbscan0\": 2, \"kmedoids4\": 3, \"spectral\": 3, \"optics\": 52, \"birch\": 81, \"kmeans4\": 2, \"kmeans_minibatch4\": 2, \"Mean-Shift\": 1, \"mixture\": 4}, {\"Trait1\": 41, \"Trait2\": 38.8507691544946, \"affinity\": 0, \"Agglomerative\": 0, \"dbscan0\": 2, \"kmedoids4\": 3, \"spectral\": 0, \"optics\": 51, \"birch\": 82, \"kmeans4\": 2, \"kmeans_minibatch4\": 2, \"Mean-Shift\": 1, \"mixture\": 4}, {\"Trait1\": 42, \"Trait2\": 39.6425325563177, \"affinity\": 0, \"Agglomerative\": 0, \"dbscan0\": 2, \"kmedoids4\": 3, \"spectral\": 1, \"optics\": 52, \"birch\": 83, \"kmeans4\": 2, \"kmeans_minibatch4\": 2, \"Mean-Shift\": 1, \"mixture\": 4}, {\"Trait1\": 43, \"Trait2\": 40.3520459139254, \"affinity\": 0, \"Agglomerative\": 0, \"dbscan0\": 2, \"kmedoids4\": 3, \"spectral\": 1, \"optics\": 54, \"birch\": 84, \"kmeans4\": 2, \"kmeans_minibatch4\": 2, \"Mean-Shift\": 1, \"mixture\": 4}, {\"Trait1\": 44, \"Trait2\": 41.6545281684957, \"affinity\": 0, \"Agglomerative\": 0, \"dbscan0\": 2, \"kmedoids4\": 3, \"spectral\": 0, \"optics\": 51, \"birch\": 85, \"kmeans4\": 2, \"kmeans_minibatch4\": 2, \"Mean-Shift\": 1, \"mixture\": 4}, {\"Trait1\": 45, \"Trait2\": 41.8252990485635, \"affinity\": 0, \"Agglomerative\": 0, \"dbscan0\": 2, \"kmedoids4\": 3, \"spectral\": 1, \"optics\": 55, \"birch\": 86, \"kmeans4\": 2, \"kmeans_minibatch4\": 2, \"Mean-Shift\": 1, \"mixture\": 4}, {\"Trait1\": 46, \"Trait2\": 43.1734668728895, \"affinity\": 0, \"Agglomerative\": 0, \"dbscan0\": 2, \"kmedoids4\": 3, \"spectral\": 0, \"optics\": 54, \"birch\": 87, \"kmeans4\": 2, \"kmeans_minibatch4\": 2, \"Mean-Shift\": 1, \"mixture\": 4}, {\"Trait1\": 47, \"Trait2\": 44.1864136417862, \"affinity\": 0, \"Agglomerative\": 0, \"dbscan0\": 2, \"kmedoids4\": 3, \"spectral\": 1, \"optics\": 53, \"birch\": 88, \"kmeans4\": 2, \"kmeans_minibatch4\": 2, \"Mean-Shift\": 1, \"mixture\": 4}, {\"Trait1\": 48, \"Trait2\": 44.2841538945213, \"affinity\": 0, \"Agglomerative\": 0, \"dbscan0\": 2, \"kmedoids4\": 3, \"spectral\": 1, \"optics\": 56, \"birch\": 89, \"kmeans4\": 2, \"kmeans_minibatch4\": 2, \"Mean-Shift\": 1, \"mixture\": 4}, {\"Trait1\": 49, \"Trait2\": 46.801116618095, \"affinity\": 0, \"Agglomerative\": 0, \"dbscan0\": 2, \"kmedoids4\": 3, \"spectral\": 0, \"optics\": 50, \"birch\": 122, \"kmeans4\": 2, \"kmeans_minibatch4\": 2, \"Mean-Shift\": 1, \"mixture\": 4}, {\"Trait1\": 50, \"Trait2\": 47.0915512954816, \"affinity\": 0, \"Agglomerative\": 0, \"dbscan0\": 2, \"kmedoids4\": 3, \"spectral\": 0, \"optics\": -1, \"birch\": 123, \"kmeans4\": 2, \"kmeans_minibatch4\": 2, \"Mean-Shift\": 1, \"mixture\": 4}]}}, {\"mode\": \"vega-lite\"});\n",
       "</script>"
      ],
      "text/plain": [
       "alt.VConcatChart(...)"
      ]
     },
     "execution_count": 35,
     "metadata": {},
     "output_type": "execute_result"
    }
   ],
   "source": [
    "(gauss | kmean) & (kminb | means)"
   ]
  },
  {
   "cell_type": "code",
   "execution_count": 36,
   "id": "7c6e917e",
   "metadata": {},
   "outputs": [
    {
     "data": {
      "text/html": [
       "\n",
       "<style>\n",
       "  #altair-viz-cbf679c7c7484fbf8d6eec340f0a1bc7.vega-embed {\n",
       "    width: 100%;\n",
       "    display: flex;\n",
       "  }\n",
       "\n",
       "  #altair-viz-cbf679c7c7484fbf8d6eec340f0a1bc7.vega-embed details,\n",
       "  #altair-viz-cbf679c7c7484fbf8d6eec340f0a1bc7.vega-embed details summary {\n",
       "    position: relative;\n",
       "  }\n",
       "</style>\n",
       "<div id=\"altair-viz-cbf679c7c7484fbf8d6eec340f0a1bc7\"></div>\n",
       "<script type=\"text/javascript\">\n",
       "  var VEGA_DEBUG = (typeof VEGA_DEBUG == \"undefined\") ? {} : VEGA_DEBUG;\n",
       "  (function(spec, embedOpt){\n",
       "    let outputDiv = document.currentScript.previousElementSibling;\n",
       "    if (outputDiv.id !== \"altair-viz-cbf679c7c7484fbf8d6eec340f0a1bc7\") {\n",
       "      outputDiv = document.getElementById(\"altair-viz-cbf679c7c7484fbf8d6eec340f0a1bc7\");\n",
       "    }\n",
       "    const paths = {\n",
       "      \"vega\": \"https://cdn.jsdelivr.net/npm/vega@5?noext\",\n",
       "      \"vega-lib\": \"https://cdn.jsdelivr.net/npm/vega-lib?noext\",\n",
       "      \"vega-lite\": \"https://cdn.jsdelivr.net/npm/vega-lite@5.16.3?noext\",\n",
       "      \"vega-embed\": \"https://cdn.jsdelivr.net/npm/vega-embed@6?noext\",\n",
       "    };\n",
       "\n",
       "    function maybeLoadScript(lib, version) {\n",
       "      var key = `${lib.replace(\"-\", \"\")}_version`;\n",
       "      return (VEGA_DEBUG[key] == version) ?\n",
       "        Promise.resolve(paths[lib]) :\n",
       "        new Promise(function(resolve, reject) {\n",
       "          var s = document.createElement('script');\n",
       "          document.getElementsByTagName(\"head\")[0].appendChild(s);\n",
       "          s.async = true;\n",
       "          s.onload = () => {\n",
       "            VEGA_DEBUG[key] = version;\n",
       "            return resolve(paths[lib]);\n",
       "          };\n",
       "          s.onerror = () => reject(`Error loading script: ${paths[lib]}`);\n",
       "          s.src = paths[lib];\n",
       "        });\n",
       "    }\n",
       "\n",
       "    function showError(err) {\n",
       "      outputDiv.innerHTML = `<div class=\"error\" style=\"color:red;\">${err}</div>`;\n",
       "      throw err;\n",
       "    }\n",
       "\n",
       "    function displayChart(vegaEmbed) {\n",
       "      vegaEmbed(outputDiv, spec, embedOpt)\n",
       "        .catch(err => showError(`Javascript Error: ${err.message}<br>This usually means there's a typo in your chart specification. See the javascript console for the full traceback.`));\n",
       "    }\n",
       "\n",
       "    if(typeof define === \"function\" && define.amd) {\n",
       "      requirejs.config({paths});\n",
       "      require([\"vega-embed\"], displayChart, err => showError(`Error loading script: ${err.message}`));\n",
       "    } else {\n",
       "      maybeLoadScript(\"vega\", \"5\")\n",
       "        .then(() => maybeLoadScript(\"vega-lite\", \"5.16.3\"))\n",
       "        .then(() => maybeLoadScript(\"vega-embed\", \"6\"))\n",
       "        .catch(showError)\n",
       "        .then(() => displayChart(vegaEmbed));\n",
       "    }\n",
       "  })({\"config\": {\"view\": {\"continuousWidth\": 300, \"continuousHeight\": 300}}, \"data\": {\"name\": \"data-b87d18eac2c8cc2e1535df206b6696e1\"}, \"mark\": {\"type\": \"circle\", \"size\": 60}, \"encoding\": {\"color\": {\"field\": \"birch\", \"type\": \"nominal\"}, \"tooltip\": [{\"field\": \"birch\", \"type\": \"quantitative\"}, {\"field\": \"kmeans4\", \"type\": \"quantitative\"}, {\"field\": \"kmeans_minibatch4\", \"type\": \"quantitative\"}, {\"field\": \"Mean-Shift\", \"type\": \"quantitative\"}], \"x\": {\"field\": \"Trait1\", \"type\": \"quantitative\"}, \"y\": {\"field\": \"Trait2\", \"type\": \"quantitative\"}}, \"params\": [{\"name\": \"param_11\", \"select\": {\"type\": \"interval\", \"encodings\": [\"x\", \"y\"]}, \"bind\": \"scales\"}], \"title\": \"Birch\", \"$schema\": \"https://vega.github.io/schema/vega-lite/v5.16.3.json\", \"datasets\": {\"data-b87d18eac2c8cc2e1535df206b6696e1\": [{\"Trait1\": 1, \"Trait2\": 2.08672583149746, \"affinity\": 1, \"Agglomerative\": 1, \"dbscan0\": 0, \"kmedoids4\": 2, \"spectral\": 0, \"optics\": 0, \"birch\": 164, \"kmeans4\": 0, \"kmeans_minibatch4\": 1, \"Mean-Shift\": 0, \"mixture\": 2}, {\"Trait1\": 2, \"Trait2\": 6.12056976510212, \"affinity\": 0, \"Agglomerative\": 1, \"dbscan0\": 0, \"kmedoids4\": 1, \"spectral\": 1, \"optics\": -1, \"birch\": 165, \"kmeans4\": 0, \"kmeans_minibatch4\": 1, \"Mean-Shift\": 0, \"mixture\": 2}, {\"Trait1\": 3, \"Trait2\": 6.88646334968507, \"affinity\": 1, \"Agglomerative\": 1, \"dbscan0\": 0, \"kmedoids4\": 2, \"spectral\": 0, \"optics\": 15, \"birch\": 166, \"kmeans4\": 0, \"kmeans_minibatch4\": 1, \"Mean-Shift\": 0, \"mixture\": 2}, {\"Trait1\": 4, \"Trait2\": 9.75480582658201, \"affinity\": 1, \"Agglomerative\": 1, \"dbscan0\": 0, \"kmedoids4\": 1, \"spectral\": 1, \"optics\": 16, \"birch\": 167, \"kmeans4\": 0, \"kmeans_minibatch4\": 1, \"Mean-Shift\": 0, \"mixture\": 2}, {\"Trait1\": 5, \"Trait2\": 12.2775113433599, \"affinity\": 1, \"Agglomerative\": 1, \"dbscan0\": 0, \"kmedoids4\": 1, \"spectral\": 0, \"optics\": 16, \"birch\": 168, \"kmeans4\": 0, \"kmeans_minibatch4\": 1, \"Mean-Shift\": 0, \"mixture\": 2}, {\"Trait1\": 6, \"Trait2\": 15.8932964396663, \"affinity\": 1, \"Agglomerative\": 1, \"dbscan0\": 0, \"kmedoids4\": 1, \"spectral\": 3, \"optics\": 30, \"birch\": 169, \"kmeans4\": 0, \"kmeans_minibatch4\": 1, \"Mean-Shift\": 0, \"mixture\": 1}, {\"Trait1\": 7, \"Trait2\": 18.8529003257863, \"affinity\": 1, \"Agglomerative\": 1, \"dbscan0\": 0, \"kmedoids4\": 1, \"spectral\": 0, \"optics\": -1, \"birch\": 124, \"kmeans4\": 0, \"kmeans_minibatch4\": 1, \"Mean-Shift\": 0, \"mixture\": 1}, {\"Trait1\": 8, \"Trait2\": 20.5595253310166, \"affinity\": 1, \"Agglomerative\": 1, \"dbscan0\": 0, \"kmedoids4\": 1, \"spectral\": 1, \"optics\": 19, \"birch\": 125, \"kmeans4\": 0, \"kmeans_minibatch4\": 1, \"Mean-Shift\": 0, \"mixture\": 1}, {\"Trait1\": 9, \"Trait2\": 22.7926128595136, \"affinity\": 1, \"Agglomerative\": 1, \"dbscan0\": 0, \"kmedoids4\": 1, \"spectral\": 0, \"optics\": 17, \"birch\": 126, \"kmeans4\": 0, \"kmeans_minibatch4\": 1, \"Mean-Shift\": 0, \"mixture\": 1}, {\"Trait1\": 10, \"Trait2\": 25.9601091174409, \"affinity\": 1, \"Agglomerative\": 1, \"dbscan0\": 0, \"kmedoids4\": 1, \"spectral\": 4, \"optics\": -1, \"birch\": 127, \"kmeans4\": 0, \"kmeans_minibatch4\": 1, \"Mean-Shift\": 0, \"mixture\": 1}, {\"Trait1\": 11, \"Trait2\": 28.4423665408976, \"affinity\": 1, \"Agglomerative\": 1, \"dbscan0\": 0, \"kmedoids4\": 1, \"spectral\": 1, \"optics\": 21, \"birch\": 128, \"kmeans4\": 0, \"kmeans_minibatch4\": 3, \"Mean-Shift\": 0, \"mixture\": 1}, {\"Trait1\": 12, \"Trait2\": 30.4279850772582, \"affinity\": 1, \"Agglomerative\": 1, \"dbscan0\": 0, \"kmedoids4\": 1, \"spectral\": 1, \"optics\": 17, \"birch\": 129, \"kmeans4\": 0, \"kmeans_minibatch4\": 3, \"Mean-Shift\": 0, \"mixture\": 1}, {\"Trait1\": 13, \"Trait2\": 34.7622417500243, \"affinity\": 1, \"Agglomerative\": 1, \"dbscan0\": 0, \"kmedoids4\": 1, \"spectral\": 3, \"optics\": 30, \"birch\": 41, \"kmeans4\": 2, \"kmeans_minibatch4\": 3, \"Mean-Shift\": 0, \"mixture\": 4}, {\"Trait1\": 14, \"Trait2\": 36.8630374767818, \"affinity\": 1, \"Agglomerative\": 1, \"dbscan0\": 0, \"kmedoids4\": 1, \"spectral\": 1, \"optics\": 29, \"birch\": 42, \"kmeans4\": 2, \"kmeans_minibatch4\": 3, \"Mean-Shift\": 0, \"mixture\": 4}, {\"Trait1\": 15, \"Trait2\": 39.9526380966417, \"affinity\": 1, \"Agglomerative\": 1, \"dbscan0\": 0, \"kmedoids4\": 1, \"spectral\": 0, \"optics\": 30, \"birch\": 43, \"kmeans4\": 2, \"kmeans_minibatch4\": 3, \"Mean-Shift\": 0, \"mixture\": 4}, {\"Trait1\": 16, \"Trait2\": 41.2725350596011, \"affinity\": 1, \"Agglomerative\": 1, \"dbscan0\": 0, \"kmedoids4\": 1, \"spectral\": 0, \"optics\": 20, \"birch\": 44, \"kmeans4\": 2, \"kmeans_minibatch4\": 3, \"Mean-Shift\": 1, \"mixture\": 4}, {\"Trait1\": 17, \"Trait2\": 44.1556880534627, \"affinity\": 1, \"Agglomerative\": 1, \"dbscan0\": 0, \"kmedoids4\": 1, \"spectral\": 1, \"optics\": 23, \"birch\": 45, \"kmeans4\": 2, \"kmeans_minibatch4\": 3, \"Mean-Shift\": 1, \"mixture\": 4}, {\"Trait1\": 18, \"Trait2\": 47.0347104500979, \"affinity\": 1, \"Agglomerative\": 1, \"dbscan0\": 0, \"kmedoids4\": 1, \"spectral\": 4, \"optics\": 26, \"birch\": 46, \"kmeans4\": 2, \"kmeans_minibatch4\": 3, \"Mean-Shift\": 1, \"mixture\": 4}, {\"Trait1\": 19, \"Trait2\": 48.4447864824906, \"affinity\": 1, \"Agglomerative\": 1, \"dbscan0\": 0, \"kmedoids4\": 1, \"spectral\": 0, \"optics\": 18, \"birch\": 47, \"kmeans4\": 2, \"kmeans_minibatch4\": 2, \"Mean-Shift\": 1, \"mixture\": 4}, {\"Trait1\": 20, \"Trait2\": 51.1183907180093, \"affinity\": 1, \"Agglomerative\": 1, \"dbscan0\": 0, \"kmedoids4\": 1, \"spectral\": 0, \"optics\": 18, \"birch\": 48, \"kmeans4\": 2, \"kmeans_minibatch4\": 2, \"Mean-Shift\": 1, \"mixture\": 4}, {\"Trait1\": 21, \"Trait2\": 55.139974263031, \"affinity\": 1, \"Agglomerative\": 1, \"dbscan0\": 0, \"kmedoids4\": 1, \"spectral\": 0, \"optics\": 28, \"birch\": 49, \"kmeans4\": 2, \"kmeans_minibatch4\": 2, \"Mean-Shift\": 1, \"mixture\": 4}, {\"Trait1\": 22, \"Trait2\": 57.1342522017658, \"affinity\": 1, \"Agglomerative\": 1, \"dbscan0\": 0, \"kmedoids4\": 1, \"spectral\": 0, \"optics\": 23, \"birch\": 90, \"kmeans4\": 2, \"kmeans_minibatch4\": 2, \"Mean-Shift\": 1, \"mixture\": 0}, {\"Trait1\": 23, \"Trait2\": 60.6843547066674, \"affinity\": 1, \"Agglomerative\": 1, \"dbscan0\": 0, \"kmedoids4\": 1, \"spectral\": 1, \"optics\": 29, \"birch\": 91, \"kmeans4\": 1, \"kmeans_minibatch4\": 2, \"Mean-Shift\": 1, \"mixture\": 0}, {\"Trait1\": 24, \"Trait2\": 62.3248899606988, \"affinity\": 1, \"Agglomerative\": 1, \"dbscan0\": 0, \"kmedoids4\": 1, \"spectral\": 3, \"optics\": 23, \"birch\": 92, \"kmeans4\": 1, \"kmeans_minibatch4\": 2, \"Mean-Shift\": 1, \"mixture\": 0}, {\"Trait1\": 25, \"Trait2\": 65.8702826779336, \"affinity\": 1, \"Agglomerative\": 1, \"dbscan0\": 0, \"kmedoids4\": 1, \"spectral\": 3, \"optics\": 29, \"birch\": 93, \"kmeans4\": 1, \"kmeans_minibatch4\": 2, \"Mean-Shift\": 1, \"mixture\": 0}, {\"Trait1\": 26, \"Trait2\": 68.280506873969, \"affinity\": 1, \"Agglomerative\": 1, \"dbscan0\": 0, \"kmedoids4\": 1, \"spectral\": 0, \"optics\": 28, \"birch\": 0, \"kmeans4\": 1, \"kmeans_minibatch4\": 2, \"Mean-Shift\": 1, \"mixture\": 0}, {\"Trait1\": 27, \"Trait2\": 70.0133757363074, \"affinity\": 1, \"Agglomerative\": 1, \"dbscan0\": 0, \"kmedoids4\": 1, \"spectral\": 3, \"optics\": -1, \"birch\": 1, \"kmeans4\": 1, \"kmeans_minibatch4\": 2, \"Mean-Shift\": 1, \"mixture\": 0}, {\"Trait1\": 28, \"Trait2\": 73.2828058721498, \"affinity\": 1, \"Agglomerative\": 1, \"dbscan0\": 0, \"kmedoids4\": 1, \"spectral\": 1, \"optics\": 27, \"birch\": 2, \"kmeans4\": 1, \"kmeans_minibatch4\": 2, \"Mean-Shift\": 1, \"mixture\": 0}, {\"Trait1\": 29, \"Trait2\": 75.5280309938826, \"affinity\": 1, \"Agglomerative\": 1, \"dbscan0\": 0, \"kmedoids4\": 1, \"spectral\": 0, \"optics\": 25, \"birch\": 3, \"kmeans4\": 1, \"kmeans_minibatch4\": 2, \"Mean-Shift\": 1, \"mixture\": 0}, {\"Trait1\": 30, \"Trait2\": 78.8810441796668, \"affinity\": 1, \"Agglomerative\": 1, \"dbscan0\": 0, \"kmedoids4\": 1, \"spectral\": 1, \"optics\": 28, \"birch\": 4, \"kmeans4\": 1, \"kmeans_minibatch4\": 0, \"Mean-Shift\": 2, \"mixture\": 0}, {\"Trait1\": 31, \"Trait2\": 81.1028690589592, \"affinity\": 1, \"Agglomerative\": 1, \"dbscan0\": 0, \"kmedoids4\": 1, \"spectral\": 1, \"optics\": 27, \"birch\": 5, \"kmeans4\": 1, \"kmeans_minibatch4\": 0, \"Mean-Shift\": 2, \"mixture\": 0}, {\"Trait1\": 32, \"Trait2\": 82.3963380032219, \"affinity\": 1, \"Agglomerative\": 1, \"dbscan0\": 0, \"kmedoids4\": 1, \"spectral\": 0, \"optics\": 20, \"birch\": 6, \"kmeans4\": 1, \"kmeans_minibatch4\": 0, \"Mean-Shift\": 2, \"mixture\": 0}, {\"Trait1\": 33, \"Trait2\": 85.355167186819, \"affinity\": 1, \"Agglomerative\": 1, \"dbscan0\": 0, \"kmedoids4\": 1, \"spectral\": 0, \"optics\": 21, \"birch\": 7, \"kmeans4\": 1, \"kmeans_minibatch4\": 0, \"Mean-Shift\": 2, \"mixture\": 0}, {\"Trait1\": 34, \"Trait2\": 87.3751316801645, \"affinity\": 1, \"Agglomerative\": 1, \"dbscan0\": 0, \"kmedoids4\": 1, \"spectral\": 0, \"optics\": 19, \"birch\": 8, \"kmeans4\": 1, \"kmeans_minibatch4\": 0, \"Mean-Shift\": 2, \"mixture\": 0}, {\"Trait1\": 35, \"Trait2\": 91.6318751717918, \"affinity\": 1, \"Agglomerative\": 1, \"dbscan0\": 0, \"kmedoids4\": 1, \"spectral\": 1, \"optics\": 27, \"birch\": 9, \"kmeans4\": 3, \"kmeans_minibatch4\": 0, \"Mean-Shift\": 2, \"mixture\": 0}, {\"Trait1\": 36, \"Trait2\": 92.8615541914478, \"affinity\": 1, \"Agglomerative\": 1, \"dbscan0\": 0, \"kmedoids4\": 1, \"spectral\": 1, \"optics\": 20, \"birch\": 10, \"kmeans4\": 3, \"kmeans_minibatch4\": 0, \"Mean-Shift\": 2, \"mixture\": 3}, {\"Trait1\": 37, \"Trait2\": 97.0472668344155, \"affinity\": 1, \"Agglomerative\": 1, \"dbscan0\": 0, \"kmedoids4\": 1, \"spectral\": 1, \"optics\": 28, \"birch\": 11, \"kmeans4\": 3, \"kmeans_minibatch4\": 0, \"Mean-Shift\": 2, \"mixture\": 3}, {\"Trait1\": 38, \"Trait2\": 99.1087709246203, \"affinity\": 1, \"Agglomerative\": 1, \"dbscan0\": 0, \"kmedoids4\": 1, \"spectral\": 1, \"optics\": -1, \"birch\": 12, \"kmeans4\": 3, \"kmeans_minibatch4\": 0, \"Mean-Shift\": 2, \"mixture\": 3}, {\"Trait1\": 39, \"Trait2\": 101.467102435417, \"affinity\": 1, \"Agglomerative\": 1, \"dbscan0\": 0, \"kmedoids4\": 1, \"spectral\": 4, \"optics\": 24, \"birch\": 13, \"kmeans4\": 3, \"kmeans_minibatch4\": 0, \"Mean-Shift\": 2, \"mixture\": 3}, {\"Trait1\": 40, \"Trait2\": 104.085351397283, \"affinity\": 1, \"Agglomerative\": 1, \"dbscan0\": 0, \"kmedoids4\": 1, \"spectral\": 2, \"optics\": 24, \"birch\": 14, \"kmeans4\": 3, \"kmeans_minibatch4\": 0, \"Mean-Shift\": 2, \"mixture\": 3}, {\"Trait1\": 41, \"Trait2\": 106.774421071168, \"affinity\": 1, \"Agglomerative\": 1, \"dbscan0\": 0, \"kmedoids4\": 1, \"spectral\": 1, \"optics\": 25, \"birch\": 15, \"kmeans4\": 3, \"kmeans_minibatch4\": 0, \"Mean-Shift\": 2, \"mixture\": 3}, {\"Trait1\": 42, \"Trait2\": 109.222858909983, \"affinity\": 1, \"Agglomerative\": 1, \"dbscan0\": 0, \"kmedoids4\": 1, \"spectral\": 1, \"optics\": 24, \"birch\": 16, \"kmeans4\": 3, \"kmeans_minibatch4\": 0, \"Mean-Shift\": 2, \"mixture\": 3}, {\"Trait1\": 43, \"Trait2\": 111.589046704583, \"affinity\": 1, \"Agglomerative\": 1, \"dbscan0\": 0, \"kmedoids4\": 1, \"spectral\": 1, \"optics\": 22, \"birch\": 17, \"kmeans4\": 3, \"kmeans_minibatch4\": 0, \"Mean-Shift\": 2, \"mixture\": 3}, {\"Trait1\": 44, \"Trait2\": 114.548203396145, \"affinity\": 1, \"Agglomerative\": 1, \"dbscan0\": 0, \"kmedoids4\": 1, \"spectral\": 1, \"optics\": 25, \"birch\": 18, \"kmeans4\": 3, \"kmeans_minibatch4\": 0, \"Mean-Shift\": 2, \"mixture\": 3}, {\"Trait1\": 45, \"Trait2\": 116.375648713205, \"affinity\": 1, \"Agglomerative\": 1, \"dbscan0\": 0, \"kmedoids4\": 1, \"spectral\": 3, \"optics\": 21, \"birch\": 19, \"kmeans4\": 3, \"kmeans_minibatch4\": 0, \"Mean-Shift\": 2, \"mixture\": 3}, {\"Trait1\": 46, \"Trait2\": 119.380490974523, \"affinity\": 1, \"Agglomerative\": 1, \"dbscan0\": 0, \"kmedoids4\": 1, \"spectral\": 0, \"optics\": 22, \"birch\": 20, \"kmeans4\": 3, \"kmeans_minibatch4\": 0, \"Mean-Shift\": 2, \"mixture\": 3}, {\"Trait1\": 47, \"Trait2\": 122.050112180412, \"affinity\": 1, \"Agglomerative\": 1, \"dbscan0\": 0, \"kmedoids4\": 1, \"spectral\": 0, \"optics\": 23, \"birch\": 21, \"kmeans4\": 3, \"kmeans_minibatch4\": 0, \"Mean-Shift\": 2, \"mixture\": 3}, {\"Trait1\": 48, \"Trait2\": 123.804526870139, \"affinity\": 1, \"Agglomerative\": 1, \"dbscan0\": 0, \"kmedoids4\": 1, \"spectral\": 1, \"optics\": 20, \"birch\": 22, \"kmeans4\": 3, \"kmeans_minibatch4\": 0, \"Mean-Shift\": 2, \"mixture\": 3}, {\"Trait1\": 49, \"Trait2\": 127.978164030705, \"affinity\": 1, \"Agglomerative\": 1, \"dbscan0\": 0, \"kmedoids4\": 1, \"spectral\": 0, \"optics\": 26, \"birch\": 23, \"kmeans4\": 3, \"kmeans_minibatch4\": 0, \"Mean-Shift\": 2, \"mixture\": 3}, {\"Trait1\": 50, \"Trait2\": 129.925273145083, \"affinity\": 1, \"Agglomerative\": 1, \"dbscan0\": 0, \"kmedoids4\": 1, \"spectral\": 0, \"optics\": -1, \"birch\": 24, \"kmeans4\": 3, \"kmeans_minibatch4\": 0, \"Mean-Shift\": 2, \"mixture\": 3}, {\"Trait1\": 1, \"Trait2\": 1.6837007580325, \"affinity\": 1, \"Agglomerative\": 1, \"dbscan0\": 1, \"kmedoids4\": 0, \"spectral\": 3, \"optics\": -1, \"birch\": 170, \"kmeans4\": 0, \"kmeans_minibatch4\": 1, \"Mean-Shift\": 0, \"mixture\": 2}, {\"Trait1\": 2, \"Trait2\": 5.3145196181722, \"affinity\": 1, \"Agglomerative\": 1, \"dbscan0\": 0, \"kmedoids4\": 1, \"spectral\": 4, \"optics\": 30, \"birch\": 171, \"kmeans4\": 0, \"kmeans_minibatch4\": 1, \"Mean-Shift\": 0, \"mixture\": 2}, {\"Trait1\": 3, \"Trait2\": 5.67738812929019, \"affinity\": 1, \"Agglomerative\": 1, \"dbscan0\": 0, \"kmedoids4\": 2, \"spectral\": 1, \"optics\": -1, \"birch\": 172, \"kmeans4\": 0, \"kmeans_minibatch4\": 1, \"Mean-Shift\": 0, \"mixture\": 2}, {\"Trait1\": 4, \"Trait2\": 8.14270553272218, \"affinity\": 1, \"Agglomerative\": 1, \"dbscan0\": 0, \"kmedoids4\": 2, \"spectral\": 0, \"optics\": 0, \"birch\": 173, \"kmeans4\": 0, \"kmeans_minibatch4\": 1, \"Mean-Shift\": 0, \"mixture\": 2}, {\"Trait1\": 5, \"Trait2\": 10.2623859760351, \"affinity\": 1, \"Agglomerative\": 1, \"dbscan0\": 0, \"kmedoids4\": 2, \"spectral\": 4, \"optics\": 0, \"birch\": 174, \"kmeans4\": 0, \"kmeans_minibatch4\": 1, \"Mean-Shift\": 0, \"mixture\": 2}, {\"Trait1\": 6, \"Trait2\": 13.4751459988765, \"affinity\": 1, \"Agglomerative\": 1, \"dbscan0\": 0, \"kmedoids4\": 2, \"spectral\": 3, \"optics\": -1, \"birch\": 175, \"kmeans4\": 0, \"kmeans_minibatch4\": 1, \"Mean-Shift\": 0, \"mixture\": 1}, {\"Trait1\": 7, \"Trait2\": 16.0317248115316, \"affinity\": 1, \"Agglomerative\": 1, \"dbscan0\": 0, \"kmedoids4\": 2, \"spectral\": 0, \"optics\": 15, \"birch\": 176, \"kmeans4\": 0, \"kmeans_minibatch4\": 1, \"Mean-Shift\": 0, \"mixture\": 1}, {\"Trait1\": 8, \"Trait2\": 17.335324743297, \"affinity\": 1, \"Agglomerative\": 1, \"dbscan0\": 0, \"kmedoids4\": 2, \"spectral\": 3, \"optics\": 3, \"birch\": 130, \"kmeans4\": 0, \"kmeans_minibatch4\": 1, \"Mean-Shift\": 0, \"mixture\": 1}, {\"Trait1\": 9, \"Trait2\": 19.165387198329, \"affinity\": 1, \"Agglomerative\": 1, \"dbscan0\": 0, \"kmedoids4\": 2, \"spectral\": 0, \"optics\": 1, \"birch\": 131, \"kmeans4\": 0, \"kmeans_minibatch4\": 1, \"Mean-Shift\": 0, \"mixture\": 1}, {\"Trait1\": 10, \"Trait2\": 21.9298583827913, \"affinity\": 1, \"Agglomerative\": 1, \"dbscan0\": 0, \"kmedoids4\": 2, \"spectral\": 3, \"optics\": -1, \"birch\": 132, \"kmeans4\": 0, \"kmeans_minibatch4\": 1, \"Mean-Shift\": 0, \"mixture\": 1}, {\"Trait1\": 11, \"Trait2\": 24.0090907327831, \"affinity\": 1, \"Agglomerative\": 1, \"dbscan0\": 0, \"kmedoids4\": 2, \"spectral\": 0, \"optics\": 5, \"birch\": 133, \"kmeans4\": 0, \"kmeans_minibatch4\": 1, \"Mean-Shift\": 0, \"mixture\": 1}, {\"Trait1\": 12, \"Trait2\": 25.5916841956787, \"affinity\": 1, \"Agglomerative\": 1, \"dbscan0\": 0, \"kmedoids4\": 2, \"spectral\": 1, \"optics\": 1, \"birch\": 134, \"kmeans4\": 0, \"kmeans_minibatch4\": 3, \"Mean-Shift\": 0, \"mixture\": 1}, {\"Trait1\": 13, \"Trait2\": 29.5229157949798, \"affinity\": 1, \"Agglomerative\": 1, \"dbscan0\": 0, \"kmedoids4\": 2, \"spectral\": 0, \"optics\": 14, \"birch\": 135, \"kmeans4\": 0, \"kmeans_minibatch4\": 3, \"Mean-Shift\": 0, \"mixture\": 1}, {\"Trait1\": 14, \"Trait2\": 31.2206864482723, \"affinity\": 1, \"Agglomerative\": 1, \"dbscan0\": 0, \"kmedoids4\": 2, \"spectral\": 3, \"optics\": 13, \"birch\": 136, \"kmeans4\": 2, \"kmeans_minibatch4\": 3, \"Mean-Shift\": 0, \"mixture\": 1}, {\"Trait1\": 15, \"Trait2\": 33.9072619946674, \"affinity\": 1, \"Agglomerative\": 1, \"dbscan0\": 0, \"kmedoids4\": 2, \"spectral\": 0, \"optics\": 14, \"birch\": 50, \"kmeans4\": 2, \"kmeans_minibatch4\": 3, \"Mean-Shift\": 0, \"mixture\": 4}, {\"Trait1\": 16, \"Trait2\": 34.8241338841617, \"affinity\": 1, \"Agglomerative\": 1, \"dbscan0\": 0, \"kmedoids4\": 2, \"spectral\": 3, \"optics\": 4, \"birch\": 51, \"kmeans4\": 2, \"kmeans_minibatch4\": 3, \"Mean-Shift\": 0, \"mixture\": 4}, {\"Trait1\": 17, \"Trait2\": 37.3042618045583, \"affinity\": 1, \"Agglomerative\": 1, \"dbscan0\": 0, \"kmedoids4\": 2, \"spectral\": 1, \"optics\": 7, \"birch\": 52, \"kmeans4\": 2, \"kmeans_minibatch4\": 3, \"Mean-Shift\": 0, \"mixture\": 4}, {\"Trait1\": 18, \"Trait2\": 39.7802591277286, \"affinity\": 1, \"Agglomerative\": 1, \"dbscan0\": 0, \"kmedoids4\": 2, \"spectral\": 0, \"optics\": 10, \"birch\": 53, \"kmeans4\": 2, \"kmeans_minibatch4\": 3, \"Mean-Shift\": 1, \"mixture\": 4}, {\"Trait1\": 19, \"Trait2\": 40.7873100866564, \"affinity\": 1, \"Agglomerative\": 1, \"dbscan0\": 0, \"kmedoids4\": 2, \"spectral\": 1, \"optics\": 2, \"birch\": 54, \"kmeans4\": 2, \"kmeans_minibatch4\": 3, \"Mean-Shift\": 1, \"mixture\": 4}, {\"Trait1\": 20, \"Trait2\": 43.0578892487101, \"affinity\": 1, \"Agglomerative\": 1, \"dbscan0\": 0, \"kmedoids4\": 2, \"spectral\": 1, \"optics\": 2, \"birch\": 55, \"kmeans4\": 2, \"kmeans_minibatch4\": 3, \"Mean-Shift\": 1, \"mixture\": 4}, {\"Trait1\": 21, \"Trait2\": 46.6764477202669, \"affinity\": 1, \"Agglomerative\": 1, \"dbscan0\": 0, \"kmedoids4\": 2, \"spectral\": 1, \"optics\": 12, \"birch\": 56, \"kmeans4\": 2, \"kmeans_minibatch4\": 3, \"Mean-Shift\": 1, \"mixture\": 4}, {\"Trait1\": 22, \"Trait2\": 48.2677005855367, \"affinity\": 1, \"Agglomerative\": 1, \"dbscan0\": 0, \"kmedoids4\": 2, \"spectral\": 1, \"optics\": 7, \"birch\": 57, \"kmeans4\": 2, \"kmeans_minibatch4\": 2, \"Mean-Shift\": 1, \"mixture\": 4}, {\"Trait1\": 23, \"Trait2\": 51.4147780169733, \"affinity\": 1, \"Agglomerative\": 1, \"dbscan0\": 0, \"kmedoids4\": 2, \"spectral\": 1, \"optics\": 13, \"birch\": 58, \"kmeans4\": 2, \"kmeans_minibatch4\": 2, \"Mean-Shift\": 1, \"mixture\": 4}, {\"Trait1\": 24, \"Trait2\": 52.6522881975397, \"affinity\": 1, \"Agglomerative\": 1, \"dbscan0\": 0, \"kmedoids4\": 2, \"spectral\": 0, \"optics\": 7, \"birch\": 59, \"kmeans4\": 2, \"kmeans_minibatch4\": 2, \"Mean-Shift\": 1, \"mixture\": 4}, {\"Trait1\": 25, \"Trait2\": 55.7946558413096, \"affinity\": 1, \"Agglomerative\": 1, \"dbscan0\": 0, \"kmedoids4\": 2, \"spectral\": 2, \"optics\": 13, \"birch\": 94, \"kmeans4\": 2, \"kmeans_minibatch4\": 2, \"Mean-Shift\": 1, \"mixture\": 0}, {\"Trait1\": 26, \"Trait2\": 57.80185496388, \"affinity\": 1, \"Agglomerative\": 1, \"dbscan0\": 0, \"kmedoids4\": 2, \"spectral\": 1, \"optics\": 12, \"birch\": 95, \"kmeans4\": 1, \"kmeans_minibatch4\": 2, \"Mean-Shift\": 1, \"mixture\": 0}, {\"Trait1\": 27, \"Trait2\": 59.1316987527534, \"affinity\": 1, \"Agglomerative\": 1, \"dbscan0\": 0, \"kmedoids4\": 2, \"spectral\": 1, \"optics\": -1, \"birch\": 96, \"kmeans4\": 1, \"kmeans_minibatch4\": 2, \"Mean-Shift\": 1, \"mixture\": 0}, {\"Trait1\": 28, \"Trait2\": 61.9981038151309, \"affinity\": 1, \"Agglomerative\": 1, \"dbscan0\": 0, \"kmedoids4\": 2, \"spectral\": 0, \"optics\": 11, \"birch\": 97, \"kmeans4\": 1, \"kmeans_minibatch4\": 2, \"Mean-Shift\": 1, \"mixture\": 0}, {\"Trait1\": 29, \"Trait2\": 63.8403038633987, \"affinity\": 1, \"Agglomerative\": 1, \"dbscan0\": 0, \"kmedoids4\": 2, \"spectral\": 1, \"optics\": 9, \"birch\": 98, \"kmeans4\": 1, \"kmeans_minibatch4\": 2, \"Mean-Shift\": 1, \"mixture\": 0}, {\"Trait1\": 30, \"Trait2\": 66.790291975718, \"affinity\": 1, \"Agglomerative\": 1, \"dbscan0\": 0, \"kmedoids4\": 2, \"spectral\": 1, \"optics\": 12, \"birch\": 99, \"kmeans4\": 1, \"kmeans_minibatch4\": 2, \"Mean-Shift\": 1, \"mixture\": 0}, {\"Trait1\": 31, \"Trait2\": 68.6090917815454, \"affinity\": 1, \"Agglomerative\": 1, \"dbscan0\": 0, \"kmedoids4\": 2, \"spectral\": 0, \"optics\": 11, \"birch\": 100, \"kmeans4\": 1, \"kmeans_minibatch4\": 2, \"Mean-Shift\": 1, \"mixture\": 0}, {\"Trait1\": 32, \"Trait2\": 69.4995356523432, \"affinity\": 1, \"Agglomerative\": 1, \"dbscan0\": 0, \"kmedoids4\": 2, \"spectral\": 1, \"optics\": 4, \"birch\": 101, \"kmeans4\": 1, \"kmeans_minibatch4\": 2, \"Mean-Shift\": 1, \"mixture\": 0}, {\"Trait1\": 33, \"Trait2\": 72.0553397624753, \"affinity\": 1, \"Agglomerative\": 1, \"dbscan0\": 0, \"kmedoids4\": 2, \"spectral\": 0, \"optics\": 5, \"birch\": 102, \"kmeans4\": 1, \"kmeans_minibatch4\": 2, \"Mean-Shift\": 1, \"mixture\": 0}, {\"Trait1\": 34, \"Trait2\": 73.6722791823559, \"affinity\": 1, \"Agglomerative\": 1, \"dbscan0\": 0, \"kmedoids4\": 2, \"spectral\": 1, \"optics\": 3, \"birch\": 103, \"kmeans4\": 1, \"kmeans_minibatch4\": 2, \"Mean-Shift\": 1, \"mixture\": 0}, {\"Trait1\": 35, \"Trait2\": 77.5259976005182, \"affinity\": 1, \"Agglomerative\": 1, \"dbscan0\": 0, \"kmedoids4\": 2, \"spectral\": 0, \"optics\": 11, \"birch\": 25, \"kmeans4\": 1, \"kmeans_minibatch4\": 0, \"Mean-Shift\": 2, \"mixture\": 0}, {\"Trait1\": 36, \"Trait2\": 78.3526515467092, \"affinity\": 1, \"Agglomerative\": 1, \"dbscan0\": 0, \"kmedoids4\": 2, \"spectral\": 1, \"optics\": 4, \"birch\": 26, \"kmeans4\": 1, \"kmeans_minibatch4\": 0, \"Mean-Shift\": 2, \"mixture\": 0}, {\"Trait1\": 37, \"Trait2\": 82.135339116212, \"affinity\": 1, \"Agglomerative\": 1, \"dbscan0\": 0, \"kmedoids4\": 2, \"spectral\": 0, \"optics\": 12, \"birch\": 27, \"kmeans4\": 1, \"kmeans_minibatch4\": 0, \"Mean-Shift\": 2, \"mixture\": 0}, {\"Trait1\": 38, \"Trait2\": 83.7938181329519, \"affinity\": 1, \"Agglomerative\": 1, \"dbscan0\": 0, \"kmedoids4\": 2, \"spectral\": 4, \"optics\": -1, \"birch\": 28, \"kmeans4\": 1, \"kmeans_minibatch4\": 0, \"Mean-Shift\": 2, \"mixture\": 3}, {\"Trait1\": 39, \"Trait2\": 85.749124570284, \"affinity\": 1, \"Agglomerative\": 1, \"dbscan0\": 0, \"kmedoids4\": 2, \"spectral\": 1, \"optics\": 8, \"birch\": 29, \"kmeans4\": 1, \"kmeans_minibatch4\": 0, \"Mean-Shift\": 2, \"mixture\": 3}, {\"Trait1\": 40, \"Trait2\": 87.964348458685, \"affinity\": 1, \"Agglomerative\": 1, \"dbscan0\": 0, \"kmedoids4\": 2, \"spectral\": 4, \"optics\": 8, \"birch\": 30, \"kmeans4\": 1, \"kmeans_minibatch4\": 0, \"Mean-Shift\": 2, \"mixture\": 3}, {\"Trait1\": 41, \"Trait2\": 90.2503930591047, \"affinity\": 1, \"Agglomerative\": 1, \"dbscan0\": 0, \"kmedoids4\": 2, \"spectral\": 3, \"optics\": 9, \"birch\": 31, \"kmeans4\": 3, \"kmeans_minibatch4\": 0, \"Mean-Shift\": 2, \"mixture\": 3}, {\"Trait1\": 42, \"Trait2\": 92.2958058244549, \"affinity\": 1, \"Agglomerative\": 1, \"dbscan0\": 0, \"kmedoids4\": 2, \"spectral\": 1, \"optics\": 8, \"birch\": 32, \"kmeans4\": 3, \"kmeans_minibatch4\": 0, \"Mean-Shift\": 2, \"mixture\": 3}, {\"Trait1\": 43, \"Trait2\": 94.2589685455896, \"affinity\": 1, \"Agglomerative\": 1, \"dbscan0\": 0, \"kmedoids4\": 2, \"spectral\": 1, \"optics\": 6, \"birch\": 33, \"kmeans4\": 3, \"kmeans_minibatch4\": 0, \"Mean-Shift\": 2, \"mixture\": 3}, {\"Trait1\": 44, \"Trait2\": 96.815100163687, \"affinity\": 1, \"Agglomerative\": 1, \"dbscan0\": 0, \"kmedoids4\": 2, \"spectral\": 4, \"optics\": 9, \"birch\": 34, \"kmeans4\": 3, \"kmeans_minibatch4\": 0, \"Mean-Shift\": 2, \"mixture\": 3}, {\"Trait1\": 45, \"Trait2\": 98.2395204072818, \"affinity\": 1, \"Agglomerative\": 1, \"dbscan0\": 0, \"kmedoids4\": 2, \"spectral\": 0, \"optics\": 5, \"birch\": 35, \"kmeans4\": 3, \"kmeans_minibatch4\": 0, \"Mean-Shift\": 2, \"mixture\": 3}, {\"Trait1\": 46, \"Trait2\": 100.841337595135, \"affinity\": 1, \"Agglomerative\": 1, \"dbscan0\": 0, \"kmedoids4\": 2, \"spectral\": 1, \"optics\": 6, \"birch\": 36, \"kmeans4\": 3, \"kmeans_minibatch4\": 0, \"Mean-Shift\": 2, \"mixture\": 3}, {\"Trait1\": 47, \"Trait2\": 103.107933727559, \"affinity\": 1, \"Agglomerative\": 1, \"dbscan0\": 0, \"kmedoids4\": 2, \"spectral\": 2, \"optics\": 7, \"birch\": 37, \"kmeans4\": 3, \"kmeans_minibatch4\": 0, \"Mean-Shift\": 2, \"mixture\": 3}, {\"Trait1\": 48, \"Trait2\": 104.459323343821, \"affinity\": 1, \"Agglomerative\": 1, \"dbscan0\": 0, \"kmedoids4\": 2, \"spectral\": 1, \"optics\": 4, \"birch\": 38, \"kmeans4\": 3, \"kmeans_minibatch4\": 0, \"Mean-Shift\": 2, \"mixture\": 3}, {\"Trait1\": 49, \"Trait2\": 108.229935430922, \"affinity\": 1, \"Agglomerative\": 1, \"dbscan0\": 0, \"kmedoids4\": 2, \"spectral\": 0, \"optics\": 10, \"birch\": 39, \"kmeans4\": 3, \"kmeans_minibatch4\": 0, \"Mean-Shift\": 2, \"mixture\": 3}, {\"Trait1\": 50, \"Trait2\": 109.774019471835, \"affinity\": 1, \"Agglomerative\": 1, \"dbscan0\": 0, \"kmedoids4\": 2, \"spectral\": 0, \"optics\": -1, \"birch\": 40, \"kmeans4\": 3, \"kmeans_minibatch4\": 0, \"Mean-Shift\": 2, \"mixture\": 3}, {\"Trait1\": 1, \"Trait2\": 1.00918779033236, \"affinity\": 0, \"Agglomerative\": 0, \"dbscan0\": 2, \"kmedoids4\": 3, \"spectral\": 1, \"optics\": 46, \"birch\": 177, \"kmeans4\": 0, \"kmeans_minibatch4\": 1, \"Mean-Shift\": 0, \"mixture\": 2}, {\"Trait1\": 2, \"Trait2\": 3.96549368277192, \"affinity\": 1, \"Agglomerative\": 1, \"dbscan0\": 0, \"kmedoids4\": 2, \"spectral\": 3, \"optics\": -1, \"birch\": 178, \"kmeans4\": 0, \"kmeans_minibatch4\": 1, \"Mean-Shift\": 0, \"mixture\": 2}, {\"Trait1\": 3, \"Trait2\": 3.65384922618978, \"affinity\": 1, \"Agglomerative\": 1, \"dbscan0\": -1, \"kmedoids4\": 0, \"spectral\": 4, \"optics\": -1, \"birch\": 179, \"kmeans4\": 0, \"kmeans_minibatch4\": 1, \"Mean-Shift\": 0, \"mixture\": 2}, {\"Trait1\": 4, \"Trait2\": 5.44465366192162, \"affinity\": 1, \"Agglomerative\": 1, \"dbscan0\": 1, \"kmedoids4\": 0, \"spectral\": 1, \"optics\": 45, \"birch\": 180, \"kmeans4\": 0, \"kmeans_minibatch4\": 1, \"Mean-Shift\": 0, \"mixture\": 2}, {\"Trait1\": 5, \"Trait2\": 6.88982113753445, \"affinity\": 1, \"Agglomerative\": 1, \"dbscan0\": 1, \"kmedoids4\": 0, \"spectral\": 0, \"optics\": 45, \"birch\": 181, \"kmeans4\": 0, \"kmeans_minibatch4\": 1, \"Mean-Shift\": 0, \"mixture\": 2}, {\"Trait1\": 6, \"Trait2\": 9.42806819267571, \"affinity\": 1, \"Agglomerative\": 1, \"dbscan0\": 1, \"kmedoids4\": 0, \"spectral\": 0, \"optics\": -1, \"birch\": 182, \"kmeans4\": 0, \"kmeans_minibatch4\": 1, \"Mean-Shift\": 0, \"mixture\": 2}, {\"Trait1\": 7, \"Trait2\": 11.3101340376306, \"affinity\": 1, \"Agglomerative\": 1, \"dbscan0\": 1, \"kmedoids4\": 0, \"spectral\": 0, \"optics\": -1, \"birch\": 183, \"kmeans4\": 0, \"kmeans_minibatch4\": 1, \"Mean-Shift\": 0, \"mixture\": 2}, {\"Trait1\": 8, \"Trait2\": 11.9392210016958, \"affinity\": 1, \"Agglomerative\": 1, \"dbscan0\": 1, \"kmedoids4\": 0, \"spectral\": 1, \"optics\": 42, \"birch\": 184, \"kmeans4\": 0, \"kmeans_minibatch4\": 1, \"Mean-Shift\": 0, \"mixture\": 1}, {\"Trait1\": 9, \"Trait2\": 13.0947704890277, \"affinity\": 1, \"Agglomerative\": 1, \"dbscan0\": 1, \"kmedoids4\": 0, \"spectral\": 1, \"optics\": 44, \"birch\": 185, \"kmeans4\": 0, \"kmeans_minibatch4\": 1, \"Mean-Shift\": 0, \"mixture\": 1}, {\"Trait1\": 10, \"Trait2\": 15.1847287057899, \"affinity\": 1, \"Agglomerative\": 1, \"dbscan0\": 1, \"kmedoids4\": 0, \"spectral\": 1, \"optics\": -1, \"birch\": 186, \"kmeans4\": 0, \"kmeans_minibatch4\": 1, \"Mean-Shift\": 0, \"mixture\": 1}, {\"Trait1\": 11, \"Trait2\": 16.5894480880816, \"affinity\": 1, \"Agglomerative\": 1, \"dbscan0\": 1, \"kmedoids4\": 0, \"spectral\": 1, \"optics\": 40, \"birch\": 137, \"kmeans4\": 0, \"kmeans_minibatch4\": 1, \"Mean-Shift\": 0, \"mixture\": 1}, {\"Trait1\": 12, \"Trait2\": 17.497528583277, \"affinity\": 1, \"Agglomerative\": 1, \"dbscan0\": 1, \"kmedoids4\": 0, \"spectral\": 0, \"optics\": 44, \"birch\": 138, \"kmeans4\": 0, \"kmeans_minibatch4\": 1, \"Mean-Shift\": 0, \"mixture\": 1}, {\"Trait1\": 13, \"Trait2\": 20.754247214878, \"affinity\": 1, \"Agglomerative\": 1, \"dbscan0\": 1, \"kmedoids4\": 0, \"spectral\": 3, \"optics\": 31, \"birch\": 139, \"kmeans4\": 0, \"kmeans_minibatch4\": 1, \"Mean-Shift\": 0, \"mixture\": 1}, {\"Trait1\": 14, \"Trait2\": 21.7775049004704, \"affinity\": 1, \"Agglomerative\": 1, \"dbscan0\": 1, \"kmedoids4\": 0, \"spectral\": 0, \"optics\": 32, \"birch\": 140, \"kmeans4\": 0, \"kmeans_minibatch4\": 1, \"Mean-Shift\": 0, \"mixture\": 1}, {\"Trait1\": 15, \"Trait2\": 23.7895674791653, \"affinity\": 1, \"Agglomerative\": 1, \"dbscan0\": 1, \"kmedoids4\": 0, \"spectral\": 0, \"optics\": 31, \"birch\": 141, \"kmeans4\": 0, \"kmeans_minibatch4\": 3, \"Mean-Shift\": 0, \"mixture\": 1}, {\"Trait1\": 16, \"Trait2\": 24.0319264009595, \"affinity\": 1, \"Agglomerative\": 1, \"dbscan0\": 1, \"kmedoids4\": 0, \"spectral\": 0, \"optics\": 41, \"birch\": 142, \"kmeans4\": 0, \"kmeans_minibatch4\": 3, \"Mean-Shift\": 0, \"mixture\": 1}, {\"Trait1\": 17, \"Trait2\": 25.837541353656, \"affinity\": 1, \"Agglomerative\": 1, \"dbscan0\": 1, \"kmedoids4\": 0, \"spectral\": 3, \"optics\": 38, \"birch\": 143, \"kmeans4\": 0, \"kmeans_minibatch4\": 3, \"Mean-Shift\": 0, \"mixture\": 1}, {\"Trait1\": 18, \"Trait2\": 27.6390257091261, \"affinity\": 1, \"Agglomerative\": 1, \"dbscan0\": 1, \"kmedoids4\": 0, \"spectral\": 1, \"optics\": 35, \"birch\": 144, \"kmeans4\": 0, \"kmeans_minibatch4\": 3, \"Mean-Shift\": 0, \"mixture\": 1}, {\"Trait1\": 19, \"Trait2\": 27.9715637003537, \"affinity\": 1, \"Agglomerative\": 1, \"dbscan0\": 1, \"kmedoids4\": 0, \"spectral\": 1, \"optics\": 43, \"birch\": 145, \"kmeans4\": 2, \"kmeans_minibatch4\": 3, \"Mean-Shift\": 0, \"mixture\": 1}, {\"Trait1\": 20, \"Trait2\": 29.5676298947074, \"affinity\": 1, \"Agglomerative\": 1, \"dbscan0\": 1, \"kmedoids4\": 0, \"spectral\": 0, \"optics\": 43, \"birch\": 146, \"kmeans4\": 2, \"kmeans_minibatch4\": 3, \"Mean-Shift\": 0, \"mixture\": 4}, {\"Trait1\": 21, \"Trait2\": 32.511675398564, \"affinity\": 1, \"Agglomerative\": 1, \"dbscan0\": 1, \"kmedoids4\": 0, \"spectral\": 3, \"optics\": 33, \"birch\": 60, \"kmeans4\": 2, \"kmeans_minibatch4\": 3, \"Mean-Shift\": 0, \"mixture\": 4}, {\"Trait1\": 22, \"Trait2\": 33.4284152961336, \"affinity\": 1, \"Agglomerative\": 1, \"dbscan0\": 1, \"kmedoids4\": 0, \"spectral\": 0, \"optics\": 38, \"birch\": 61, \"kmeans4\": 2, \"kmeans_minibatch4\": 3, \"Mean-Shift\": 0, \"mixture\": 4}, {\"Trait1\": 23, \"Trait2\": 35.9009797598701, \"affinity\": 1, \"Agglomerative\": 1, \"dbscan0\": 1, \"kmedoids4\": 0, \"spectral\": 1, \"optics\": 32, \"birch\": 62, \"kmeans4\": 2, \"kmeans_minibatch4\": 3, \"Mean-Shift\": 0, \"mixture\": 4}, {\"Trait1\": 24, \"Trait2\": 36.4639769727364, \"affinity\": 1, \"Agglomerative\": 1, \"dbscan0\": 1, \"kmedoids4\": 0, \"spectral\": 4, \"optics\": 38, \"birch\": 63, \"kmeans4\": 2, \"kmeans_minibatch4\": 3, \"Mean-Shift\": 0, \"mixture\": 4}, {\"Trait1\": 25, \"Trait2\": 38.9318316488061, \"affinity\": 1, \"Agglomerative\": 1, \"dbscan0\": 1, \"kmedoids4\": 0, \"spectral\": 3, \"optics\": 32, \"birch\": 64, \"kmeans4\": 2, \"kmeans_minibatch4\": 3, \"Mean-Shift\": 1, \"mixture\": 4}, {\"Trait1\": 26, \"Trait2\": 40.2645178036764, \"affinity\": 1, \"Agglomerative\": 1, \"dbscan0\": 1, \"kmedoids4\": 0, \"spectral\": 1, \"optics\": 33, \"birch\": 65, \"kmeans4\": 2, \"kmeans_minibatch4\": 3, \"Mean-Shift\": 1, \"mixture\": 4}, {\"Trait1\": 27, \"Trait2\": 40.9198486248497, \"affinity\": 1, \"Agglomerative\": 1, \"dbscan0\": 1, \"kmedoids4\": 0, \"spectral\": 1, \"optics\": -1, \"birch\": 66, \"kmeans4\": 2, \"kmeans_minibatch4\": 3, \"Mean-Shift\": 1, \"mixture\": 4}, {\"Trait1\": 28, \"Trait2\": 43.111740719527, \"affinity\": 1, \"Agglomerative\": 1, \"dbscan0\": 1, \"kmedoids4\": 0, \"spectral\": 1, \"optics\": 34, \"birch\": 67, \"kmeans4\": 2, \"kmeans_minibatch4\": 2, \"Mean-Shift\": 1, \"mixture\": 4}, {\"Trait1\": 29, \"Trait2\": 44.2794278000947, \"affinity\": 1, \"Agglomerative\": 1, \"dbscan0\": 1, \"kmedoids4\": 0, \"spectral\": 1, \"optics\": 36, \"birch\": 68, \"kmeans4\": 2, \"kmeans_minibatch4\": 2, \"Mean-Shift\": 1, \"mixture\": 4}, {\"Trait1\": 30, \"Trait2\": 46.5549029447138, \"affinity\": 1, \"Agglomerative\": 1, \"dbscan0\": 1, \"kmedoids4\": 0, \"spectral\": 0, \"optics\": 33, \"birch\": 69, \"kmeans4\": 2, \"kmeans_minibatch4\": 2, \"Mean-Shift\": 1, \"mixture\": 4}, {\"Trait1\": 31, \"Trait2\": 47.6991897828411, \"affinity\": 1, \"Agglomerative\": 1, \"dbscan0\": 1, \"kmedoids4\": 0, \"spectral\": 0, \"optics\": 34, \"birch\": 70, \"kmeans4\": 2, \"kmeans_minibatch4\": 2, \"Mean-Shift\": 1, \"mixture\": 4}, {\"Trait1\": 32, \"Trait2\": 47.9151206859387, \"affinity\": 1, \"Agglomerative\": 1, \"dbscan0\": 1, \"kmedoids4\": 0, \"spectral\": 0, \"optics\": 41, \"birch\": 71, \"kmeans4\": 2, \"kmeans_minibatch4\": 2, \"Mean-Shift\": 1, \"mixture\": 4}, {\"Trait1\": 33, \"Trait2\": 49.7964118283708, \"affinity\": 1, \"Agglomerative\": 1, \"dbscan0\": 1, \"kmedoids4\": 0, \"spectral\": 1, \"optics\": 40, \"birch\": 104, \"kmeans4\": 2, \"kmeans_minibatch4\": 2, \"Mean-Shift\": 1, \"mixture\": 4}, {\"Trait1\": 34, \"Trait2\": 50.7388382805511, \"affinity\": 1, \"Agglomerative\": 1, \"dbscan0\": 1, \"kmedoids4\": 0, \"spectral\": 1, \"optics\": 42, \"birch\": 105, \"kmeans4\": 2, \"kmeans_minibatch4\": 2, \"Mean-Shift\": 1, \"mixture\": 0}, {\"Trait1\": 35, \"Trait2\": 53.9180437310133, \"affinity\": 1, \"Agglomerative\": 1, \"dbscan0\": 1, \"kmedoids4\": 0, \"spectral\": 1, \"optics\": 34, \"birch\": 106, \"kmeans4\": 2, \"kmeans_minibatch4\": 2, \"Mean-Shift\": 1, \"mixture\": 0}, {\"Trait1\": 36, \"Trait2\": 54.0701847095042, \"affinity\": 1, \"Agglomerative\": 1, \"dbscan0\": 1, \"kmedoids4\": 0, \"spectral\": 1, \"optics\": 41, \"birch\": 107, \"kmeans4\": 2, \"kmeans_minibatch4\": 2, \"Mean-Shift\": 1, \"mixture\": 0}, {\"Trait1\": 37, \"Trait2\": 57.1783593113068, \"affinity\": 1, \"Agglomerative\": 1, \"dbscan0\": 1, \"kmedoids4\": 0, \"spectral\": 4, \"optics\": 33, \"birch\": 108, \"kmeans4\": 1, \"kmeans_minibatch4\": 2, \"Mean-Shift\": 1, \"mixture\": 0}, {\"Trait1\": 38, \"Trait2\": 58.1623253603466, \"affinity\": 1, \"Agglomerative\": 1, \"dbscan0\": 1, \"kmedoids4\": 0, \"spectral\": 0, \"optics\": -1, \"birch\": 109, \"kmeans4\": 1, \"kmeans_minibatch4\": 2, \"Mean-Shift\": 1, \"mixture\": 0}, {\"Trait1\": 39, \"Trait2\": 59.4431188299786, \"affinity\": 1, \"Agglomerative\": 1, \"dbscan0\": 1, \"kmedoids4\": 0, \"spectral\": 0, \"optics\": 37, \"birch\": 110, \"kmeans4\": 1, \"kmeans_minibatch4\": 2, \"Mean-Shift\": 1, \"mixture\": 0}, {\"Trait1\": 40, \"Trait2\": 60.9838297506794, \"affinity\": 1, \"Agglomerative\": 1, \"dbscan0\": 1, \"kmedoids4\": 0, \"spectral\": 4, \"optics\": 37, \"birch\": 111, \"kmeans4\": 1, \"kmeans_minibatch4\": 2, \"Mean-Shift\": 1, \"mixture\": 0}, {\"Trait1\": 41, \"Trait2\": 62.595361383399, \"affinity\": 1, \"Agglomerative\": 1, \"dbscan0\": 1, \"kmedoids4\": 0, \"spectral\": 1, \"optics\": 36, \"birch\": 112, \"kmeans4\": 1, \"kmeans_minibatch4\": 2, \"Mean-Shift\": 1, \"mixture\": 0}, {\"Trait1\": 42, \"Trait2\": 63.966261181049, \"affinity\": 1, \"Agglomerative\": 1, \"dbscan0\": 1, \"kmedoids4\": 0, \"spectral\": 1, \"optics\": 37, \"birch\": 113, \"kmeans4\": 1, \"kmeans_minibatch4\": 2, \"Mean-Shift\": 1, \"mixture\": 0}, {\"Trait1\": 43, \"Trait2\": 65.2549109344836, \"affinity\": 1, \"Agglomerative\": 1, \"dbscan0\": 1, \"kmedoids4\": 0, \"spectral\": 3, \"optics\": 39, \"birch\": 114, \"kmeans4\": 1, \"kmeans_minibatch4\": 2, \"Mean-Shift\": 1, \"mixture\": 3}, {\"Trait1\": 44, \"Trait2\": 67.1365295848809, \"affinity\": 1, \"Agglomerative\": 1, \"dbscan0\": 1, \"kmedoids4\": 0, \"spectral\": 1, \"optics\": 36, \"birch\": 115, \"kmeans4\": 1, \"kmeans_minibatch4\": 2, \"Mean-Shift\": 1, \"mixture\": 3}, {\"Trait1\": 45, \"Trait2\": 67.8864368607756, \"affinity\": 1, \"Agglomerative\": 1, \"dbscan0\": 1, \"kmedoids4\": 0, \"spectral\": 3, \"optics\": 40, \"birch\": 116, \"kmeans4\": 1, \"kmeans_minibatch4\": 2, \"Mean-Shift\": 1, \"mixture\": 3}, {\"Trait1\": 46, \"Trait2\": 69.8137410809286, \"affinity\": 1, \"Agglomerative\": 1, \"dbscan0\": 1, \"kmedoids4\": 0, \"spectral\": 0, \"optics\": 39, \"birch\": 117, \"kmeans4\": 1, \"kmeans_minibatch4\": 2, \"Mean-Shift\": 1, \"mixture\": 3}, {\"Trait1\": 47, \"Trait2\": 71.4058242456522, \"affinity\": 1, \"Agglomerative\": 1, \"dbscan0\": 1, \"kmedoids4\": 0, \"spectral\": 1, \"optics\": 38, \"birch\": 118, \"kmeans4\": 1, \"kmeans_minibatch4\": 2, \"Mean-Shift\": 1, \"mixture\": 3}, {\"Trait1\": 48, \"Trait2\": 72.0827008942142, \"affinity\": 1, \"Agglomerative\": 1, \"dbscan0\": 1, \"kmedoids4\": 0, \"spectral\": 1, \"optics\": 41, \"birch\": 119, \"kmeans4\": 1, \"kmeans_minibatch4\": 2, \"Mean-Shift\": 1, \"mixture\": 3}, {\"Trait1\": 49, \"Trait2\": 75.1788000136148, \"affinity\": 1, \"Agglomerative\": 1, \"dbscan0\": 1, \"kmedoids4\": 0, \"spectral\": 2, \"optics\": 35, \"birch\": 120, \"kmeans4\": 1, \"kmeans_minibatch4\": 0, \"Mean-Shift\": 2, \"mixture\": 3}, {\"Trait1\": 50, \"Trait2\": 76.0483710868284, \"affinity\": 1, \"Agglomerative\": 1, \"dbscan0\": 1, \"kmedoids4\": 0, \"spectral\": 0, \"optics\": -1, \"birch\": 121, \"kmeans4\": 1, \"kmeans_minibatch4\": 0, \"Mean-Shift\": 2, \"mixture\": 3}, {\"Trait1\": 1, \"Trait2\": 0.430051394505426, \"affinity\": 1, \"Agglomerative\": 0, \"dbscan0\": -1, \"kmedoids4\": 3, \"spectral\": 0, \"optics\": -1, \"birch\": 187, \"kmeans4\": 0, \"kmeans_minibatch4\": 1, \"Mean-Shift\": 0, \"mixture\": 2}, {\"Trait1\": 2, \"Trait2\": 2.80722089111805, \"affinity\": 1, \"Agglomerative\": 1, \"dbscan0\": 1, \"kmedoids4\": 0, \"spectral\": 1, \"optics\": 45, \"birch\": 188, \"kmeans4\": 0, \"kmeans_minibatch4\": 1, \"Mean-Shift\": 0, \"mixture\": 2}, {\"Trait1\": 3, \"Trait2\": 1.91644003870897, \"affinity\": 0, \"Agglomerative\": 0, \"dbscan0\": -1, \"kmedoids4\": 3, \"spectral\": 2, \"optics\": -1, \"birch\": 189, \"kmeans4\": 0, \"kmeans_minibatch4\": 1, \"Mean-Shift\": 0, \"mixture\": 2}, {\"Trait1\": 4, \"Trait2\": 3.12810807861388, \"affinity\": 0, \"Agglomerative\": 0, \"dbscan0\": 3, \"kmedoids4\": 3, \"spectral\": 0, \"optics\": 60, \"birch\": 190, \"kmeans4\": 0, \"kmeans_minibatch4\": 1, \"Mean-Shift\": 0, \"mixture\": 2}, {\"Trait1\": 5, \"Trait2\": 3.99413915839978, \"affinity\": 0, \"Agglomerative\": 0, \"dbscan0\": 3, \"kmedoids4\": 3, \"spectral\": 3, \"optics\": 60, \"birch\": 191, \"kmeans4\": 0, \"kmeans_minibatch4\": 1, \"Mean-Shift\": 0, \"mixture\": 2}, {\"Trait1\": 6, \"Trait2\": 5.9532498177141, \"affinity\": 0, \"Agglomerative\": 0, \"dbscan0\": 2, \"kmedoids4\": 3, \"spectral\": 2, \"optics\": -1, \"birch\": 192, \"kmeans4\": 0, \"kmeans_minibatch4\": 1, \"Mean-Shift\": 0, \"mixture\": 2}, {\"Trait1\": 7, \"Trait2\": 7.25617926684208, \"affinity\": 0, \"Agglomerative\": 0, \"dbscan0\": 2, \"kmedoids4\": 3, \"spectral\": 1, \"optics\": -1, \"birch\": 193, \"kmeans4\": 0, \"kmeans_minibatch4\": 1, \"Mean-Shift\": 0, \"mixture\": 2}, {\"Trait1\": 8, \"Trait2\": 7.30612983508036, \"affinity\": 0, \"Agglomerative\": 0, \"dbscan0\": 2, \"kmedoids4\": 3, \"spectral\": 0, \"optics\": 57, \"birch\": 194, \"kmeans4\": 0, \"kmeans_minibatch4\": 1, \"Mean-Shift\": 0, \"mixture\": 2}, {\"Trait1\": 9, \"Trait2\": 7.8825429265853, \"affinity\": 0, \"Agglomerative\": 0, \"dbscan0\": 2, \"kmedoids4\": 3, \"spectral\": 3, \"optics\": 59, \"birch\": 195, \"kmeans4\": 0, \"kmeans_minibatch4\": 1, \"Mean-Shift\": 0, \"mixture\": 1}, {\"Trait1\": 10, \"Trait2\": 9.39336474752054, \"affinity\": 0, \"Agglomerative\": 0, \"dbscan0\": 2, \"kmedoids4\": 3, \"spectral\": 0, \"optics\": -1, \"birch\": 196, \"kmeans4\": 0, \"kmeans_minibatch4\": 1, \"Mean-Shift\": 0, \"mixture\": 1}, {\"Trait1\": 11, \"Trait2\": 10.2189477339853, \"affinity\": 0, \"Agglomerative\": 0, \"dbscan0\": 2, \"kmedoids4\": 3, \"spectral\": 0, \"optics\": 55, \"birch\": 197, \"kmeans4\": 0, \"kmeans_minibatch4\": 1, \"Mean-Shift\": 0, \"mixture\": 1}, {\"Trait1\": 12, \"Trait2\": 10.5478918333538, \"affinity\": 0, \"Agglomerative\": 0, \"dbscan0\": 2, \"kmedoids4\": 3, \"spectral\": 0, \"optics\": 59, \"birch\": 198, \"kmeans4\": 0, \"kmeans_minibatch4\": 1, \"Mean-Shift\": 0, \"mixture\": 1}, {\"Trait1\": 13, \"Trait2\": 13.2254740691278, \"affinity\": 0, \"Agglomerative\": 0, \"dbscan0\": 2, \"kmedoids4\": 3, \"spectral\": 1, \"optics\": 46, \"birch\": 199, \"kmeans4\": 0, \"kmeans_minibatch4\": 1, \"Mean-Shift\": 0, \"mixture\": 1}, {\"Trait1\": 14, \"Trait2\": 13.6695953588933, \"affinity\": 0, \"Agglomerative\": 0, \"dbscan0\": 2, \"kmedoids4\": 3, \"spectral\": 0, \"optics\": 47, \"birch\": 147, \"kmeans4\": 0, \"kmeans_minibatch4\": 1, \"Mean-Shift\": 0, \"mixture\": 1}, {\"Trait1\": 15, \"Trait2\": 15.1025215417612, \"affinity\": 0, \"Agglomerative\": 0, \"dbscan0\": 2, \"kmedoids4\": 3, \"spectral\": 1, \"optics\": 46, \"birch\": 148, \"kmeans4\": 0, \"kmeans_minibatch4\": 1, \"Mean-Shift\": 0, \"mixture\": 1}, {\"Trait1\": 16, \"Trait2\": 14.7657440677285, \"affinity\": 0, \"Agglomerative\": 0, \"dbscan0\": 2, \"kmedoids4\": 3, \"spectral\": 0, \"optics\": 56, \"birch\": 149, \"kmeans4\": 0, \"kmeans_minibatch4\": 1, \"Mean-Shift\": 0, \"mixture\": 1}, {\"Trait1\": 17, \"Trait2\": 15.9922226245981, \"affinity\": 0, \"Agglomerative\": 0, \"dbscan0\": 2, \"kmedoids4\": 3, \"spectral\": 1, \"optics\": 53, \"birch\": 150, \"kmeans4\": 0, \"kmeans_minibatch4\": 1, \"Mean-Shift\": 0, \"mixture\": 1}, {\"Trait1\": 18, \"Trait2\": 17.2145705842413, \"affinity\": 0, \"Agglomerative\": 0, \"dbscan0\": 2, \"kmedoids4\": 3, \"spectral\": 4, \"optics\": 50, \"birch\": 151, \"kmeans4\": 0, \"kmeans_minibatch4\": 1, \"Mean-Shift\": 0, \"mixture\": 1}, {\"Trait1\": 19, \"Trait2\": 16.9679721796419, \"affinity\": 0, \"Agglomerative\": 0, \"dbscan0\": 2, \"kmedoids4\": 3, \"spectral\": 1, \"optics\": 58, \"birch\": 152, \"kmeans4\": 0, \"kmeans_minibatch4\": 1, \"Mean-Shift\": 0, \"mixture\": 1}, {\"Trait1\": 20, \"Trait2\": 17.9849019781686, \"affinity\": 0, \"Agglomerative\": 0, \"dbscan0\": 2, \"kmedoids4\": 3, \"spectral\": 1, \"optics\": 58, \"birch\": 153, \"kmeans4\": 0, \"kmeans_minibatch4\": 1, \"Mean-Shift\": 0, \"mixture\": 1}, {\"Trait1\": 21, \"Trait2\": 20.3498110861983, \"affinity\": 0, \"Agglomerative\": 0, \"dbscan0\": 2, \"kmedoids4\": 3, \"spectral\": 1, \"optics\": 48, \"birch\": 154, \"kmeans4\": 0, \"kmeans_minibatch4\": 3, \"Mean-Shift\": 0, \"mixture\": 1}, {\"Trait1\": 22, \"Trait2\": 20.687414587941, \"affinity\": 0, \"Agglomerative\": 0, \"dbscan0\": 2, \"kmedoids4\": 3, \"spectral\": 1, \"optics\": 53, \"birch\": 155, \"kmeans4\": 0, \"kmeans_minibatch4\": 3, \"Mean-Shift\": 0, \"mixture\": 1}, {\"Trait1\": 23, \"Trait2\": 22.5808426558506, \"affinity\": 0, \"Agglomerative\": 0, \"dbscan0\": 2, \"kmedoids4\": 3, \"spectral\": 3, \"optics\": 47, \"birch\": 156, \"kmeans4\": 0, \"kmeans_minibatch4\": 3, \"Mean-Shift\": 0, \"mixture\": 1}, {\"Trait1\": 24, \"Trait2\": 22.56470347289, \"affinity\": 0, \"Agglomerative\": 0, \"dbscan0\": 2, \"kmedoids4\": 3, \"spectral\": 0, \"optics\": 53, \"birch\": 157, \"kmeans4\": 0, \"kmeans_minibatch4\": 3, \"Mean-Shift\": 0, \"mixture\": 4}, {\"Trait1\": 25, \"Trait2\": 24.4534217531327, \"affinity\": 0, \"Agglomerative\": 0, \"dbscan0\": 2, \"kmedoids4\": 3, \"spectral\": 3, \"optics\": 47, \"birch\": 158, \"kmeans4\": 2, \"kmeans_minibatch4\": 3, \"Mean-Shift\": 0, \"mixture\": 4}, {\"Trait1\": 26, \"Trait2\": 25.2069715121761, \"affinity\": 0, \"Agglomerative\": 0, \"dbscan0\": 2, \"kmedoids4\": 3, \"spectral\": 1, \"optics\": 48, \"birch\": 159, \"kmeans4\": 2, \"kmeans_minibatch4\": 3, \"Mean-Shift\": 0, \"mixture\": 4}, {\"Trait1\": 27, \"Trait2\": 25.2831659375224, \"affinity\": 0, \"Agglomerative\": 0, \"dbscan0\": 2, \"kmedoids4\": 3, \"spectral\": 0, \"optics\": -1, \"birch\": 160, \"kmeans4\": 2, \"kmeans_minibatch4\": 3, \"Mean-Shift\": 0, \"mixture\": 4}, {\"Trait1\": 28, \"Trait2\": 26.8959216363728, \"affinity\": 0, \"Agglomerative\": 0, \"dbscan0\": 2, \"kmedoids4\": 3, \"spectral\": 0, \"optics\": 49, \"birch\": 161, \"kmeans4\": 2, \"kmeans_minibatch4\": 3, \"Mean-Shift\": 0, \"mixture\": 4}, {\"Trait1\": 29, \"Trait2\": 27.4844723211136, \"affinity\": 0, \"Agglomerative\": 0, \"dbscan0\": 2, \"kmedoids4\": 3, \"spectral\": 1, \"optics\": 51, \"birch\": 162, \"kmeans4\": 2, \"kmeans_minibatch4\": 3, \"Mean-Shift\": 0, \"mixture\": 4}, {\"Trait1\": 30, \"Trait2\": 29.1808110699058, \"affinity\": 0, \"Agglomerative\": 0, \"dbscan0\": 2, \"kmedoids4\": 3, \"spectral\": 0, \"optics\": 48, \"birch\": 163, \"kmeans4\": 2, \"kmeans_minibatch4\": 3, \"Mean-Shift\": 0, \"mixture\": 4}, {\"Trait1\": 31, \"Trait2\": 29.7459615122061, \"affinity\": 0, \"Agglomerative\": 0, \"dbscan0\": 2, \"kmedoids4\": 3, \"spectral\": 0, \"optics\": 49, \"birch\": 72, \"kmeans4\": 2, \"kmeans_minibatch4\": 3, \"Mean-Shift\": 0, \"mixture\": 4}, {\"Trait1\": 32, \"Trait2\": 29.3827560194768, \"affinity\": 0, \"Agglomerative\": 0, \"dbscan0\": 2, \"kmedoids4\": 3, \"spectral\": 1, \"optics\": 56, \"birch\": 73, \"kmeans4\": 2, \"kmeans_minibatch4\": 3, \"Mean-Shift\": 0, \"mixture\": 4}, {\"Trait1\": 33, \"Trait2\": 30.6849107660819, \"affinity\": 0, \"Agglomerative\": 0, \"dbscan0\": 2, \"kmedoids4\": 3, \"spectral\": 1, \"optics\": 55, \"birch\": 74, \"kmeans4\": 2, \"kmeans_minibatch4\": 3, \"Mean-Shift\": 0, \"mixture\": 4}, {\"Trait1\": 34, \"Trait2\": 31.0482008224353, \"affinity\": 0, \"Agglomerative\": 0, \"dbscan0\": 2, \"kmedoids4\": 3, \"spectral\": 1, \"optics\": 57, \"birch\": 75, \"kmeans4\": 2, \"kmeans_minibatch4\": 3, \"Mean-Shift\": 0, \"mixture\": 4}, {\"Trait1\": 35, \"Trait2\": 33.6482698770706, \"affinity\": 0, \"Agglomerative\": 0, \"dbscan0\": 2, \"kmedoids4\": 3, \"spectral\": 1, \"optics\": 49, \"birch\": 76, \"kmeans4\": 2, \"kmeans_minibatch4\": 3, \"Mean-Shift\": 1, \"mixture\": 4}, {\"Trait1\": 36, \"Trait2\": 33.2212744597346, \"affinity\": 0, \"Agglomerative\": 0, \"dbscan0\": 2, \"kmedoids4\": 3, \"spectral\": 0, \"optics\": 56, \"birch\": 77, \"kmeans4\": 2, \"kmeans_minibatch4\": 3, \"Mean-Shift\": 1, \"mixture\": 4}, {\"Trait1\": 37, \"Trait2\": 35.7503126657102, \"affinity\": 0, \"Agglomerative\": 0, \"dbscan0\": 2, \"kmedoids4\": 3, \"spectral\": 1, \"optics\": 48, \"birch\": 78, \"kmeans4\": 2, \"kmeans_minibatch4\": 3, \"Mean-Shift\": 1, \"mixture\": 4}, {\"Trait1\": 38, \"Trait2\": 36.155142318923, \"affinity\": 0, \"Agglomerative\": 0, \"dbscan0\": 2, \"kmedoids4\": 3, \"spectral\": 1, \"optics\": -1, \"birch\": 79, \"kmeans4\": 2, \"kmeans_minibatch4\": 3, \"Mean-Shift\": 1, \"mixture\": 4}, {\"Trait1\": 39, \"Trait2\": 36.8567993927281, \"affinity\": 0, \"Agglomerative\": 0, \"dbscan0\": 2, \"kmedoids4\": 3, \"spectral\": 0, \"optics\": 52, \"birch\": 80, \"kmeans4\": 2, \"kmeans_minibatch4\": 2, \"Mean-Shift\": 1, \"mixture\": 4}, {\"Trait1\": 40, \"Trait2\": 37.818373917602, \"affinity\": 0, \"Agglomerative\": 0, \"dbscan0\": 2, \"kmedoids4\": 3, \"spectral\": 3, \"optics\": 52, \"birch\": 81, \"kmeans4\": 2, \"kmeans_minibatch4\": 2, \"Mean-Shift\": 1, \"mixture\": 4}, {\"Trait1\": 41, \"Trait2\": 38.8507691544946, \"affinity\": 0, \"Agglomerative\": 0, \"dbscan0\": 2, \"kmedoids4\": 3, \"spectral\": 0, \"optics\": 51, \"birch\": 82, \"kmeans4\": 2, \"kmeans_minibatch4\": 2, \"Mean-Shift\": 1, \"mixture\": 4}, {\"Trait1\": 42, \"Trait2\": 39.6425325563177, \"affinity\": 0, \"Agglomerative\": 0, \"dbscan0\": 2, \"kmedoids4\": 3, \"spectral\": 1, \"optics\": 52, \"birch\": 83, \"kmeans4\": 2, \"kmeans_minibatch4\": 2, \"Mean-Shift\": 1, \"mixture\": 4}, {\"Trait1\": 43, \"Trait2\": 40.3520459139254, \"affinity\": 0, \"Agglomerative\": 0, \"dbscan0\": 2, \"kmedoids4\": 3, \"spectral\": 1, \"optics\": 54, \"birch\": 84, \"kmeans4\": 2, \"kmeans_minibatch4\": 2, \"Mean-Shift\": 1, \"mixture\": 4}, {\"Trait1\": 44, \"Trait2\": 41.6545281684957, \"affinity\": 0, \"Agglomerative\": 0, \"dbscan0\": 2, \"kmedoids4\": 3, \"spectral\": 0, \"optics\": 51, \"birch\": 85, \"kmeans4\": 2, \"kmeans_minibatch4\": 2, \"Mean-Shift\": 1, \"mixture\": 4}, {\"Trait1\": 45, \"Trait2\": 41.8252990485635, \"affinity\": 0, \"Agglomerative\": 0, \"dbscan0\": 2, \"kmedoids4\": 3, \"spectral\": 1, \"optics\": 55, \"birch\": 86, \"kmeans4\": 2, \"kmeans_minibatch4\": 2, \"Mean-Shift\": 1, \"mixture\": 4}, {\"Trait1\": 46, \"Trait2\": 43.1734668728895, \"affinity\": 0, \"Agglomerative\": 0, \"dbscan0\": 2, \"kmedoids4\": 3, \"spectral\": 0, \"optics\": 54, \"birch\": 87, \"kmeans4\": 2, \"kmeans_minibatch4\": 2, \"Mean-Shift\": 1, \"mixture\": 4}, {\"Trait1\": 47, \"Trait2\": 44.1864136417862, \"affinity\": 0, \"Agglomerative\": 0, \"dbscan0\": 2, \"kmedoids4\": 3, \"spectral\": 1, \"optics\": 53, \"birch\": 88, \"kmeans4\": 2, \"kmeans_minibatch4\": 2, \"Mean-Shift\": 1, \"mixture\": 4}, {\"Trait1\": 48, \"Trait2\": 44.2841538945213, \"affinity\": 0, \"Agglomerative\": 0, \"dbscan0\": 2, \"kmedoids4\": 3, \"spectral\": 1, \"optics\": 56, \"birch\": 89, \"kmeans4\": 2, \"kmeans_minibatch4\": 2, \"Mean-Shift\": 1, \"mixture\": 4}, {\"Trait1\": 49, \"Trait2\": 46.801116618095, \"affinity\": 0, \"Agglomerative\": 0, \"dbscan0\": 2, \"kmedoids4\": 3, \"spectral\": 0, \"optics\": 50, \"birch\": 122, \"kmeans4\": 2, \"kmeans_minibatch4\": 2, \"Mean-Shift\": 1, \"mixture\": 4}, {\"Trait1\": 50, \"Trait2\": 47.0915512954816, \"affinity\": 0, \"Agglomerative\": 0, \"dbscan0\": 2, \"kmedoids4\": 3, \"spectral\": 0, \"optics\": -1, \"birch\": 123, \"kmeans4\": 2, \"kmeans_minibatch4\": 2, \"Mean-Shift\": 1, \"mixture\": 4}]}}, {\"mode\": \"vega-lite\"});\n",
       "</script>"
      ],
      "text/plain": [
       "alt.Chart(...)"
      ]
     },
     "execution_count": 36,
     "metadata": {},
     "output_type": "execute_result"
    }
   ],
   "source": [
    "birch"
   ]
  }
 ],
 "metadata": {
  "kernelspec": {
   "display_name": "Python 3 (ipykernel)",
   "language": "python",
   "name": "python3"
  },
  "language_info": {
   "codemirror_mode": {
    "name": "ipython",
    "version": 3
   },
   "file_extension": ".py",
   "mimetype": "text/x-python",
   "name": "python",
   "nbconvert_exporter": "python",
   "pygments_lexer": "ipython3",
   "version": "3.11.7"
  }
 },
 "nbformat": 4,
 "nbformat_minor": 5
}
